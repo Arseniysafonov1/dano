{
 "cells": [
  {
   "cell_type": "code",
   "execution_count": 1,
   "id": "b846fd3d",
   "metadata": {
    "ExecuteTime": {
     "end_time": "2023-12-12T19:24:12.594957Z",
     "start_time": "2023-12-12T19:24:04.670738Z"
    }
   },
   "outputs": [],
   "source": [
    "import pandas as pd\n",
    "import numpy as np\n",
    "df = pd.read_csv('hh_ru_dataset.csv')"
   ]
  },
  {
   "cell_type": "markdown",
   "id": "86ceb33d",
   "metadata": {},
   "source": [
    "# Обработка пустых значений"
   ]
  },
  {
   "cell_type": "code",
   "execution_count": 2,
   "id": "8676e3db",
   "metadata": {
    "ExecuteTime": {
     "end_time": "2023-12-12T19:24:12.981675Z",
     "start_time": "2023-12-12T19:24:12.596959Z"
    }
   },
   "outputs": [
    {
     "name": "stdout",
     "output_type": "stream",
     "text": [
      "<class 'pandas.core.frame.DataFrame'>\n",
      "RangeIndex: 500000 entries, 0 to 499999\n",
      "Data columns (total 26 columns):\n",
      " #   Column                   Non-Null Count   Dtype  \n",
      "---  ------                   --------------   -----  \n",
      " 0   topic_id                 500000 non-null  object \n",
      " 1   topic_creation_date      500000 non-null  object \n",
      " 2   initial_state            499166 non-null  object \n",
      " 3   final_state              499166 non-null  object \n",
      " 4   resume_id                500000 non-null  object \n",
      " 5   resume_creation_date     500000 non-null  object \n",
      " 6   profession               500000 non-null  object \n",
      " 7   gender                   500000 non-null  object \n",
      " 8   year_of_birth            500000 non-null  int64  \n",
      " 9   resume_region            500000 non-null  object \n",
      " 10  education_level          499898 non-null  object \n",
      " 11  expected_salary          489214 non-null  float64\n",
      " 12  relocation_status        500000 non-null  object \n",
      " 13  business_trip_readiness  500000 non-null  object \n",
      " 14  work_schedule            493089 non-null  object \n",
      " 15  resume_employment_type   500000 non-null  object \n",
      " 16  work_experience_months   500000 non-null  int64  \n",
      " 17  resume_skills_list       462552 non-null  object \n",
      " 18  vacancy_id               500000 non-null  object \n",
      " 19  vacancy_creation_date    500000 non-null  object \n",
      " 20  vacancy_region           500000 non-null  object \n",
      " 21  work_schedule.1          500000 non-null  object \n",
      " 22  vacancy_employment_type  500000 non-null  object \n",
      " 23  compensation_from        470618 non-null  float64\n",
      " 24  compensation_to          361775 non-null  float64\n",
      " 25  vacancy_skills_list      500000 non-null  object \n",
      "dtypes: float64(3), int64(2), object(21)\n",
      "memory usage: 99.2+ MB\n"
     ]
    }
   ],
   "source": [
    "df.info()"
   ]
  },
  {
   "cell_type": "markdown",
   "id": "46628e06",
   "metadata": {},
   "source": [
    "Смело удалаяем строки с пустыми initial_state, final_state, education_level. По поводу остальных вопрос. Nan в resume_skills_list - это просто пустой список как я понял; предлагаемая зарплата вакансии отсутствует где-то, но это норм по идее."
   ]
  },
  {
   "cell_type": "code",
   "execution_count": 3,
   "id": "3fda694b",
   "metadata": {
    "ExecuteTime": {
     "end_time": "2023-12-12T19:24:46.589852Z",
     "start_time": "2023-12-12T19:24:12.981675Z"
    }
   },
   "outputs": [],
   "source": [
    "\"\"\"Остались Nan'ы в столбцах ожидаемой зарплаты, графика, границ предлагаемой зп вакансии. В случае \n",
    "гипотезы по этим параметрам не забыть удалить их.\n",
    "\"\"\"\n",
    "df = df[(~df.initial_state.isna()) & (~df.final_state.isna()) & (~df.education_level.isna())]\n",
    "# expected_salary пока нет смысла убирать Nan'ы\n",
    "df['work_schedule'] = df['work_schedule'].fillna('no data')\n",
    "df.resume_skills_list = df.resume_skills_list.map(lambda x: eval(x) if (x and type(x)) != float else [])\n",
    "df.vacancy_skills_list = df.vacancy_skills_list.map(lambda x: eval(x) if (x and type(x)) != float else [])\n",
    "df.topic_creation_date = pd.to_datetime(df.topic_creation_date)\n",
    "df.resume_creation_date = pd.to_datetime(df.resume_creation_date)\n",
    "df.vacancy_creation_date = pd.to_datetime(df.vacancy_creation_date)\n",
    "# как я понял, случай response-response - это когда отклик остался неотвеченным, случай invitation-\n",
    "# discard непонятный + таких мало, поэтому я убрал его\n",
    "df = df[(df.initial_state != 'invitation') | (df.final_state != 'discard')]\n",
    "df['final'] = df['final_state'].map(lambda x: 1 if x == 'invitation' else 0)"
   ]
  },
  {
   "cell_type": "code",
   "execution_count": 4,
   "id": "a05e5e0b",
   "metadata": {
    "ExecuteTime": {
     "end_time": "2023-12-12T19:24:46.910131Z",
     "start_time": "2023-12-12T19:24:46.589852Z"
    }
   },
   "outputs": [
    {
     "name": "stdout",
     "output_type": "stream",
     "text": [
      "<class 'pandas.core.frame.DataFrame'>\n",
      "Index: 498218 entries, 0 to 499999\n",
      "Data columns (total 27 columns):\n",
      " #   Column                   Non-Null Count   Dtype         \n",
      "---  ------                   --------------   -----         \n",
      " 0   topic_id                 498218 non-null  object        \n",
      " 1   topic_creation_date      498218 non-null  datetime64[ns]\n",
      " 2   initial_state            498218 non-null  object        \n",
      " 3   final_state              498218 non-null  object        \n",
      " 4   resume_id                498218 non-null  object        \n",
      " 5   resume_creation_date     498218 non-null  datetime64[ns]\n",
      " 6   profession               498218 non-null  object        \n",
      " 7   gender                   498218 non-null  object        \n",
      " 8   year_of_birth            498218 non-null  int64         \n",
      " 9   resume_region            498218 non-null  object        \n",
      " 10  education_level          498218 non-null  object        \n",
      " 11  expected_salary          487488 non-null  float64       \n",
      " 12  relocation_status        498218 non-null  object        \n",
      " 13  business_trip_readiness  498218 non-null  object        \n",
      " 14  work_schedule            498218 non-null  object        \n",
      " 15  resume_employment_type   498218 non-null  object        \n",
      " 16  work_experience_months   498218 non-null  int64         \n",
      " 17  resume_skills_list       498218 non-null  object        \n",
      " 18  vacancy_id               498218 non-null  object        \n",
      " 19  vacancy_creation_date    498218 non-null  datetime64[ns]\n",
      " 20  vacancy_region           498218 non-null  object        \n",
      " 21  work_schedule.1          498218 non-null  object        \n",
      " 22  vacancy_employment_type  498218 non-null  object        \n",
      " 23  compensation_from        468909 non-null  float64       \n",
      " 24  compensation_to          360600 non-null  float64       \n",
      " 25  vacancy_skills_list      498218 non-null  object        \n",
      " 26  final                    498218 non-null  int64         \n",
      "dtypes: datetime64[ns](3), float64(3), int64(3), object(18)\n",
      "memory usage: 106.4+ MB\n"
     ]
    }
   ],
   "source": [
    "df.info()"
   ]
  },
  {
   "cell_type": "markdown",
   "id": "24598386",
   "metadata": {},
   "source": [
    "# Выбросы и дубликаты"
   ]
  },
  {
   "cell_type": "markdown",
   "id": "7c13eaed",
   "metadata": {},
   "source": [
    "Есть ~2000 наблюдей с повторяющимся id, но думаю не страшно, мб просто наложилось и т.д.\n",
    "Не совсем понятно, как работают статусы взаимодействия"
   ]
  },
  {
   "cell_type": "code",
   "execution_count": 5,
   "id": "d89c5333",
   "metadata": {
    "ExecuteTime": {
     "end_time": "2023-12-12T19:24:46.986501Z",
     "start_time": "2023-12-12T19:24:46.910131Z"
    }
   },
   "outputs": [
    {
     "data": {
      "text/plain": [
       "array(['Менеджер по продажам, менеджер по работе с клиентами',\n",
       "       'Дизайнер, художник', 'Программист, разработчик', 'Бухгалтер',\n",
       "       'Менеджер по маркетингу, интернет-маркетолог',\n",
       "       'Официант, бармен, бариста', 'Менеджер по персоналу',\n",
       "       'Менеджер по логистике, менеджер по ВЭД',\n",
       "       'Оператор ПК, оператор базы данных',\n",
       "       'Специалист по подбору персонала', 'Менеджер по закупкам',\n",
       "       'Директор магазина, директор сети магазинов',\n",
       "       'Делопроизводитель, архивариус', 'Юрисконсульт',\n",
       "       'Инженер-энергетик, инженер-электрик',\n",
       "       'Руководитель отдела продаж', 'Специалист технической поддержки',\n",
       "       'Водитель', 'Учитель, преподаватель, педагог', 'Офис-менеджер',\n",
       "       'Охранник', 'Воспитатель, няня', 'Сварщик', 'Экономист',\n",
       "       'Психолог', 'Системный администратор', 'Курьер',\n",
       "       'Секретарь, помощник руководителя, ассистент',\n",
       "       'SMM-менеджер, контент-менеджер', 'Тестировщик',\n",
       "       'Руководитель проектов',\n",
       "       'Инженер-конструктор, инженер-проектировщик', 'Супервайзер',\n",
       "       'Финансовый менеджер', 'Кассир-операционист', 'Слесарь, сантехник',\n",
       "       'Диспетчер', 'Торговый представитель', 'Упаковщик, комплектовщик',\n",
       "       'Врач', 'Повар, пекарь, кондитер', 'Администратор', 'Мерчандайзер',\n",
       "       'Аналитик', 'Кладовщик', 'Начальник производства', 'Юрист',\n",
       "       'Начальник смены, мастер участка',\n",
       "       'Продавец-консультант, продавец-кассир',\n",
       "       'Генеральный директор, исполнительный директор (CEO)',\n",
       "       'Менеджер по туризму', 'Координатор отдела продаж',\n",
       "       'Оператор производственной линии', 'Технолог', 'Машинист',\n",
       "       'Менеджер ресторана', 'Начальник склада',\n",
       "       'Фитнес-тренер, инструктор тренажерного зала', 'Товаровед',\n",
       "       'Оператор call-центра, специалист контактного центра', 'Механик',\n",
       "       'Сервисный инженер, инженер-механик', 'Уборщица, уборщик',\n",
       "       'Разнорабочий', 'Кредитный специалист',\n",
       "       'Инженер по охране труда и технике безопасности, инженер-эколог',\n",
       "       'Специалист по кадрам', 'Менеджер/руководитель АХО'], dtype=object)"
      ]
     },
     "execution_count": 5,
     "metadata": {},
     "output_type": "execute_result"
    }
   ],
   "source": [
    "df.profession.unique()"
   ]
  },
  {
   "cell_type": "markdown",
   "id": "f17fe593",
   "metadata": {},
   "source": [
    "Можно увидеть, что некотороые указывают в анкете несколько специализаций, можно посмотреть как кол-во специализаций влияет на успех в поиске работы. Также думаю, что можно разделить профессии по сферам деятельности.\n",
    "По поводу возраста, я думаю если его изучать, то лучше отсечь всех пенсионеров(есть выброс по типу год рождения 1900, тут конечно можно любой порог установить, но мне кажется что пенсионный возраст здесь подойдет)\n",
    "В графе \"ожидаемая зарплата\" есть выбросы, если ее смотреть то убирать. Есть и в большую сторону(1000000 и больше), и в меньшую(меньше МРОТ, но надо смотреть чтобы это была работа в полный день, иначе это оправдано)\n",
    "В желаемом графике нет некоторых данных.\n",
    "В месяцах опыта есть выбросы, по типу 30, 50, 70 лет опыта.\n",
    "Предлагаемая информация не везде указана.\n"
   ]
  },
  {
   "cell_type": "code",
   "execution_count": 6,
   "id": "a7614c7b",
   "metadata": {
    "ExecuteTime": {
     "end_time": "2023-12-12T19:24:46.998619Z",
     "start_time": "2023-12-12T19:24:46.989497Z"
    }
   },
   "outputs": [
    {
     "data": {
      "text/plain": [
       "52902"
      ]
     },
     "execution_count": 6,
     "metadata": {},
     "output_type": "execute_result"
    }
   ],
   "source": [
    "\"\"\"можно попытаться проследить насколько успешна будет заявка, исходя из времени существования резюме; \n",
    "кол-ва отправленных заявок и успешных заявок.\n",
    "Успех заявки можно отслеживать по тому, насколько соискатель соответствовал требованиям вакансии\n",
    "В профессию в анкете иногда добавляют несколько, можно рассмотреть успех сосискателя по кол-ву \n",
    "специализаций в анкете.\n",
    "\"\"\"\n",
    "(df.resume_creation_date < '2015').sum() # самое первое резюме - в 2002, более 50к пятилетних резюме;"
   ]
  },
  {
   "cell_type": "code",
   "execution_count": 7,
   "id": "1859df12",
   "metadata": {
    "ExecuteTime": {
     "end_time": "2023-12-12T19:24:47.044988Z",
     "start_time": "2023-12-12T19:24:46.998619Z"
    }
   },
   "outputs": [
    {
     "data": {
      "text/plain": [
       "4368"
      ]
     },
     "execution_count": 7,
     "metadata": {},
     "output_type": "execute_result"
    }
   ],
   "source": [
    "((df.expected_salary < 11000) & (df.vacancy_employment_type == 'full')).sum() # 4371 с зп меньше прожиточного"
   ]
  },
  {
   "cell_type": "markdown",
   "id": "1111f4bd",
   "metadata": {},
   "source": [
    "# Смотрим гипотезу о дате регистрации и кол-ве заявок"
   ]
  },
  {
   "cell_type": "markdown",
   "id": "4441fbaa",
   "metadata": {},
   "source": [
    "Нулевая гипотеза состоит в том, что средний процент успеха не отличается в группах с теми, кто подается первую-третью заявку, и с теми, кто подал уже больше трех заявок.\n",
    "Альтернативная гипотеза состоит в том, что средний процент успеха в этих группах отличается."
   ]
  },
  {
   "cell_type": "code",
   "execution_count": 8,
   "id": "e295b314",
   "metadata": {
    "ExecuteTime": {
     "end_time": "2023-12-12T19:24:47.278408Z",
     "start_time": "2023-12-12T19:24:47.044988Z"
    }
   },
   "outputs": [],
   "source": [
    "users = df.copy()"
   ]
  },
  {
   "cell_type": "code",
   "execution_count": 9,
   "id": "8c4e30c9",
   "metadata": {
    "ExecuteTime": {
     "end_time": "2023-12-12T19:24:48.464256Z",
     "start_time": "2023-12-12T19:24:47.278408Z"
    }
   },
   "outputs": [],
   "source": [
    "users['days']=(users.topic_creation_date-users.resume_creation_date).map(lambda x: x.days)"
   ]
  },
  {
   "cell_type": "code",
   "execution_count": 10,
   "id": "863c7aa7",
   "metadata": {
    "ExecuteTime": {
     "end_time": "2023-12-12T19:26:18.465621Z",
     "start_time": "2023-12-12T19:24:48.464256Z"
    }
   },
   "outputs": [],
   "source": [
    "d = dict()\n",
    "for i in users.index:\n",
    "    note = users.loc[i]\n",
    "    d[note['resume_id']] = d.get(note['resume_id'], []) + [note['topic_creation_date']]"
   ]
  },
  {
   "cell_type": "code",
   "execution_count": 11,
   "id": "6bac6b51",
   "metadata": {
    "ExecuteTime": {
     "end_time": "2023-12-12T19:26:19.837092Z",
     "start_time": "2023-12-12T19:26:18.465621Z"
    }
   },
   "outputs": [],
   "source": [
    "for i, j in d.items():\n",
    "    d[i]=np.array(j)\n",
    "def f(resume_id, dt):\n",
    "    if resume_id not in d.keys():\n",
    "        return 0\n",
    "    return sum(d[resume_id] < dt)"
   ]
  },
  {
   "cell_type": "code",
   "execution_count": 12,
   "id": "61b06d28",
   "metadata": {
    "ExecuteTime": {
     "end_time": "2023-12-12T19:26:49.420122Z",
     "start_time": "2023-12-12T19:26:19.837092Z"
    }
   },
   "outputs": [],
   "source": [
    "users['exp'] = users.apply(lambda x: f(x.resume_id, x.topic_creation_date), 1)"
   ]
  },
  {
   "cell_type": "markdown",
   "id": "1e23f978",
   "metadata": {},
   "source": [
    "Назовем пользователя опытным, если он сделал уже три заявки. Разделим наблюдения на группы."
   ]
  },
  {
   "cell_type": "code",
   "execution_count": 13,
   "id": "acf1f194",
   "metadata": {
    "ExecuteTime": {
     "end_time": "2023-12-12T19:26:49.591751Z",
     "start_time": "2023-12-12T19:26:49.420122Z"
    }
   },
   "outputs": [],
   "source": [
    "old = users[users.exp >= 4].final\n",
    "new = users[users.exp < 4].final"
   ]
  },
  {
   "cell_type": "code",
   "execution_count": 14,
   "id": "43acbc43",
   "metadata": {
    "ExecuteTime": {
     "end_time": "2023-12-12T19:26:49.825860Z",
     "start_time": "2023-12-12T19:26:49.593157Z"
    }
   },
   "outputs": [
    {
     "data": {
      "text/plain": [
       "(0.4045983827053374,\n",
       " 0.26577925509508527,\n",
       " 0.49081481910831337,\n",
       " 0.44174895272191095)"
      ]
     },
     "execution_count": 14,
     "metadata": {},
     "output_type": "execute_result"
    }
   ],
   "source": [
    "mean_a = new.mean()\n",
    "mean_b = old.mean()\n",
    "sd_a = (new.map(lambda x: (x - mean_a) ** 2).sum() / (len(new) - 1)) ** 0.5\n",
    "sd_b = (old.map(lambda x: (x - mean_b) ** 2).sum() / (len(old) - 1)) ** 0.5\n",
    "mean_a, mean_b, sd_a, sd_b"
   ]
  },
  {
   "cell_type": "code",
   "execution_count": 15,
   "id": "8bf43fb7",
   "metadata": {
    "ExecuteTime": {
     "end_time": "2023-12-12T19:26:49.834162Z",
     "start_time": "2023-12-12T19:26:49.827377Z"
    }
   },
   "outputs": [
    {
     "data": {
      "text/plain": [
       "0.0014662242262843891"
      ]
     },
     "execution_count": 15,
     "metadata": {},
     "output_type": "execute_result"
    }
   ],
   "source": [
    "se = (sd_a ** 2 / len(new) + sd_b ** 2 / len(old)) ** 0.5\n",
    "se"
   ]
  },
  {
   "cell_type": "code",
   "execution_count": 16,
   "id": "c02ec88c",
   "metadata": {
    "ExecuteTime": {
     "end_time": "2023-12-12T19:26:49.841919Z",
     "start_time": "2023-12-12T19:26:49.834162Z"
    }
   },
   "outputs": [
    {
     "data": {
      "text/plain": [
       "(94.67796611302666, 498216)"
      ]
     },
     "execution_count": 16,
     "metadata": {},
     "output_type": "execute_result"
    }
   ],
   "source": [
    "t_cr = (mean_a - mean_b) / se\n",
    "deg_f = len(old) + len(new) - 2\n",
    "t_cr, deg_f"
   ]
  },
  {
   "cell_type": "markdown",
   "id": "d6022423",
   "metadata": {},
   "source": [
    "При данном значении t, p-уровень значимости меньше 0,01. т.е. различия можно назвать статистически значимыми, но тут можно заметить, что процент успеха больше у неопытных пользователей, из этого легко сделать вывод о том, что скорее всего востребованный соискатель найдет работу за один-два отклика, в то время как его коллеги, которые менее квалифицированы или чересчур требоовательны, вынуждены подавать большое количество заявок. Однако такая гипотеза и такой вывод будут слишком тривиальными на мой взгляд."
   ]
  },
  {
   "cell_type": "markdown",
   "id": "1cf9bead",
   "metadata": {
    "ExecuteTime": {
     "end_time": "2023-12-03T10:59:16.101507Z",
     "start_time": "2023-12-03T10:59:16.098133Z"
    }
   },
   "source": [
    "# Гипотеза о знании англ языка"
   ]
  },
  {
   "cell_type": "markdown",
   "id": "a06492b5",
   "metadata": {},
   "source": [
    "Допустим, что знание аглийского языка в некоторых сферах более востребовано чем в других."
   ]
  },
  {
   "cell_type": "code",
   "execution_count": 17,
   "id": "a829b4e9",
   "metadata": {
    "ExecuteTime": {
     "end_time": "2023-12-12T19:26:50.297810Z",
     "start_time": "2023-12-12T19:26:49.843921Z"
    }
   },
   "outputs": [
    {
     "data": {
      "text/plain": [
       "array(['Менеджер по продажам, менеджер по работе с клиентами',\n",
       "       'Дизайнер, художник', 'Программист, разработчик', 'Бухгалтер',\n",
       "       'Менеджер по маркетингу, интернет-маркетолог',\n",
       "       'Официант, бармен, бариста', 'Менеджер по персоналу',\n",
       "       'Менеджер по логистике, менеджер по ВЭД',\n",
       "       'Оператор ПК, оператор базы данных',\n",
       "       'Специалист по подбору персонала', 'Менеджер по закупкам',\n",
       "       'Директор магазина, директор сети магазинов',\n",
       "       'Делопроизводитель, архивариус', 'Юрисконсульт',\n",
       "       'Инженер-энергетик, инженер-электрик',\n",
       "       'Руководитель отдела продаж', 'Специалист технической поддержки',\n",
       "       'Водитель', 'Учитель, преподаватель, педагог', 'Офис-менеджер',\n",
       "       'Охранник', 'Воспитатель, няня', 'Сварщик', 'Экономист',\n",
       "       'Психолог', 'Системный администратор', 'Курьер',\n",
       "       'Секретарь, помощник руководителя, ассистент',\n",
       "       'SMM-менеджер, контент-менеджер', 'Тестировщик',\n",
       "       'Руководитель проектов',\n",
       "       'Инженер-конструктор, инженер-проектировщик', 'Супервайзер',\n",
       "       'Финансовый менеджер', 'Кассир-операционист', 'Слесарь, сантехник',\n",
       "       'Диспетчер', 'Торговый представитель', 'Упаковщик, комплектовщик',\n",
       "       'Врач', 'Повар, пекарь, кондитер', 'Администратор', 'Мерчандайзер',\n",
       "       'Аналитик', 'Кладовщик', 'Начальник производства', 'Юрист',\n",
       "       'Начальник смены, мастер участка',\n",
       "       'Продавец-консультант, продавец-кассир',\n",
       "       'Генеральный директор, исполнительный директор (CEO)',\n",
       "       'Менеджер по туризму', 'Координатор отдела продаж',\n",
       "       'Оператор производственной линии', 'Технолог', 'Машинист',\n",
       "       'Менеджер ресторана', 'Начальник склада',\n",
       "       'Фитнес-тренер, инструктор тренажерного зала', 'Товаровед',\n",
       "       'Оператор call-центра, специалист контактного центра', 'Механик',\n",
       "       'Сервисный инженер, инженер-механик', 'Уборщица, уборщик',\n",
       "       'Разнорабочий', 'Кредитный специалист',\n",
       "       'Инженер по охране труда и технике безопасности, инженер-эколог',\n",
       "       'Специалист по кадрам', 'Менеджер/руководитель АХО'], dtype=object)"
      ]
     },
     "execution_count": 17,
     "metadata": {},
     "output_type": "execute_result"
    }
   ],
   "source": [
    "# проведем анализ профессий и сгруппируем по сфере деятельности\n",
    "# сразу уберем не интересующие на наблюдения по типу подработок\n",
    "eng = df.copy()\n",
    "eng = eng[eng.vacancy_employment_type == 'full']\n",
    "eng.profession.unique()"
   ]
  },
  {
   "cell_type": "markdown",
   "id": "b2f5c935",
   "metadata": {},
   "source": [
    "Разделим профессии на следующие категории: менеджмент, дизайн, IT, сфера услуг, правовое поле, инженерия, образование, медицина."
   ]
  },
  {
   "cell_type": "code",
   "execution_count": 18,
   "id": "42919769",
   "metadata": {
    "ExecuteTime": {
     "end_time": "2023-12-12T19:26:50.307507Z",
     "start_time": "2023-12-12T19:26:50.297810Z"
    }
   },
   "outputs": [],
   "source": [
    "management = ['Менеджер по продажам, менеджер по работе с клиентами', 'Бухгалтер', 'Менеджер по маркетингу, интернет-маркетолог',\n",
    "             'Менеджер по персоналу', 'Менеджер по логистике, менеджер по ВЭД', 'Специалист по подбору персонала',\n",
    "             'Менеджер по закупкам', 'Директор магазина, директор сети магазинов', 'Руководитель отдела продаж',\n",
    "             'Офис-менеджер', 'Секретарь, помощник руководителя, ассистент', 'Руководитель проектов',\n",
    "             'Финансовый менеджер', 'Администратор', 'Продавец-консультант, продавец-кассир', \n",
    "             'Менеджер по туризму', 'Координатор отдела продаж', 'Менеджер ресторана', 'Специалист по кадрам',\n",
    "             'Менеджер/руководитель АХО']\n",
    "design = ['Дизайнер, художник', 'Мерчандайзер']\n",
    "it = ['Программист, разработчик', 'Оператор ПК, оператор базы данных', 'Системный администратор',\n",
    "     'SMM-менеджер, контент-менеджер', 'Тестировщик', 'Аналитик']\n",
    "service = ['Официант, бармен, бариста', 'Специалист технической поддержки', 'Водитель', 'Охранник',\n",
    "          'Курьер', 'Супервайзер', 'Кассир-операционист', 'Диспетчер', 'Торговый представитель', \n",
    "          'Упаковщик, комплектовщик', 'Повар, пекарь, кондитер', 'Кладовщик', \n",
    "          'Продавец-консультант, продавец-кассир', 'Начальник склада', 'Фитнес-тренер, инструктор тренажерного зала',\n",
    "          'Товаровед', 'Оператор call-центра, специалист контактного центра', 'Уборщица, уборщик',\n",
    "          'Разнорабочий']\n",
    "law = ['Делопроизводитель, архивариус', 'Юрисконсульт', 'Экономист', 'Юрист', 'Кредитный специалист']\n",
    "engineering = ['Инженер-энергетик, инженер-электрик', 'Сварщик', 'Инженер-конструктор, инженер-проектировщик',\n",
    "              'Слесарь, сантехник', 'Начальник производства', 'Начальник смены, мастер участка', \n",
    "              'Оператор производственной линии', 'Технолог', 'Машинист', 'Механик', 'Сервисный инженер, инженер-механик',\n",
    "              'Инженер по охране труда и технике безопасности, инженер-эколог']\n",
    "teacher = ['Учитель, преподаватель, педагог', 'Воспитатель, няня']\n",
    "med = ['Психолог', 'Врач']"
   ]
  },
  {
   "cell_type": "code",
   "execution_count": 19,
   "id": "a3c50ec9",
   "metadata": {
    "ExecuteTime": {
     "end_time": "2023-12-12T19:26:50.747331Z",
     "start_time": "2023-12-12T19:26:50.310448Z"
    }
   },
   "outputs": [],
   "source": [
    "def f(x):\n",
    "    if x in management:\n",
    "        return \"Менеджмент\"\n",
    "    if x in design:\n",
    "        return \"Дизайн\"\n",
    "    if x in it:\n",
    "        return \"IT\"\n",
    "    if x in service:\n",
    "        return \"Сфера услуг\"\n",
    "    if x in law:\n",
    "        return \"Право/Экономика\"\n",
    "    if x in engineering:\n",
    "        return \"Инженерия/Промышленность\"\n",
    "    if x in teacher:\n",
    "        return \"Образование\"\n",
    "    return \"Медицина\"\n",
    "eng = eng[~eng.profession.isna()]\n",
    "eng['occupation'] = eng.profession.map(f)"
   ]
  },
  {
   "cell_type": "code",
   "execution_count": 20,
   "id": "a840664a",
   "metadata": {
    "ExecuteTime": {
     "end_time": "2023-12-12T19:26:50.773434Z",
     "start_time": "2023-12-12T19:26:50.747331Z"
    }
   },
   "outputs": [
    {
     "data": {
      "text/plain": [
       "occupation\n",
       "Менеджмент                  139396\n",
       "Сфера услуг                 125066\n",
       "Инженерия/Промышленность     61646\n",
       "IT                           49000\n",
       "Право/Экономика              43444\n",
       "Медицина                      6289\n",
       "Дизайн                        5283\n",
       "Образование                   2995\n",
       "Name: count, dtype: int64"
      ]
     },
     "execution_count": 20,
     "metadata": {},
     "output_type": "execute_result"
    }
   ],
   "source": [
    "eng.occupation.value_counts()"
   ]
  },
  {
   "cell_type": "code",
   "execution_count": 21,
   "id": "bf89d306",
   "metadata": {
    "ExecuteTime": {
     "end_time": "2023-12-12T19:26:51.899153Z",
     "start_time": "2023-12-12T19:26:50.773434Z"
    }
   },
   "outputs": [],
   "source": [
    "def is_en(skills):\n",
    "    for i in skills:\n",
    "        if i and (\"английск\" in i or \"english\" in i):\n",
    "            return True\n",
    "    return False\n",
    "eng['en'] = eng.resume_skills_list.map(is_en)\n",
    "eng['need_en'] = eng.vacancy_skills_list.map(is_en)"
   ]
  },
  {
   "cell_type": "code",
   "execution_count": 22,
   "id": "45b96892",
   "metadata": {
    "ExecuteTime": {
     "end_time": "2023-12-12T19:26:51.907333Z",
     "start_time": "2023-12-12T19:26:51.899153Z"
    }
   },
   "outputs": [
    {
     "data": {
      "text/plain": [
       "(0.055301198977648174, 0.015429939577806561)"
      ]
     },
     "execution_count": 22,
     "metadata": {},
     "output_type": "execute_result"
    }
   ],
   "source": [
    "eng['en'].mean(), eng['need_en'].mean()"
   ]
  },
  {
   "cell_type": "markdown",
   "id": "6db1458a",
   "metadata": {},
   "source": [
    "В 5,5% случаев соискатель говорит на английском языке, в 1,5% случаев он требуется."
   ]
  },
  {
   "cell_type": "code",
   "execution_count": 23,
   "id": "11483899",
   "metadata": {
    "ExecuteTime": {
     "end_time": "2023-12-12T19:26:53.046579Z",
     "start_time": "2023-12-12T19:26:51.907333Z"
    }
   },
   "outputs": [
    {
     "data": {
      "text/plain": [
       "<Axes: xlabel='occupation'>"
      ]
     },
     "execution_count": 23,
     "metadata": {},
     "output_type": "execute_result"
    },
    {
     "data": {
      "image/png": "[encoded data removed]",
      "text/plain": [
       "<Figure size 640x480 with 1 Axes>"
      ]
     },
     "metadata": {},
     "output_type": "display_data"
    }
   ],
   "source": [
    "vacancy_inf = eng[['vacancy_id', 'occupation', 'need_en']].drop_duplicates()\n",
    "(vacancy_inf[['occupation', 'need_en']].groupby('occupation').mean() * 100).plot.bar()"
   ]
  },
  {
   "cell_type": "code",
   "execution_count": 24,
   "id": "e185dff9",
   "metadata": {
    "ExecuteTime": {
     "end_time": "2023-12-12T19:26:53.435262Z",
     "start_time": "2023-12-12T19:26:53.049306Z"
    }
   },
   "outputs": [
    {
     "data": {
      "text/plain": [
       "<Axes: xlabel='occupation'>"
      ]
     },
     "execution_count": 24,
     "metadata": {},
     "output_type": "execute_result"
    },
    {
     "data": {
      "image/png": "[encoded data removed]",
      "text/plain": [
       "<Figure size 640x480 with 1 Axes>"
      ]
     },
     "metadata": {},
     "output_type": "display_data"
    }
   ],
   "source": [
    "user_inf = eng[['resume_id', 'occupation', 'en']].drop_duplicates()\n",
    "(user_inf[['occupation', 'en']].groupby('occupation').mean() * 100).plot.bar()"
   ]
  },
  {
   "cell_type": "markdown",
   "id": "4b55178c",
   "metadata": {},
   "source": [
    "Теперь рассмотрим четыре сценария(NN - соискатель не знает англ и он не требуется, NY - соиск не знает, англ требуется, YN - соиск знает, не требуется, YY - соиск знает и требуется) в срезе каждой из сфер деятельности"
   ]
  },
  {
   "cell_type": "code",
   "execution_count": 25,
   "id": "2027c1dc",
   "metadata": {
    "ExecuteTime": {
     "end_time": "2023-12-12T19:27:01.007143Z",
     "start_time": "2023-12-12T19:26:53.435262Z"
    }
   },
   "outputs": [],
   "source": [
    "eng['scenary'] = eng.apply((lambda x: ('Y' if x['en'] else 'N') + ('Y' if x['need_en'] else 'N')), 1)"
   ]
  },
  {
   "cell_type": "code",
   "execution_count": 26,
   "id": "065baebd",
   "metadata": {
    "ExecuteTime": {
     "end_time": "2023-12-12T19:27:01.119990Z",
     "start_time": "2023-12-12T19:27:01.007143Z"
    }
   },
   "outputs": [
    {
     "data": {
      "text/html": [
       "<div>\n",
       "<style scoped>\n",
       "    .dataframe tbody tr th:only-of-type {\n",
       "        vertical-align: middle;\n",
       "    }\n",
       "\n",
       "    .dataframe tbody tr th {\n",
       "        vertical-align: top;\n",
       "    }\n",
       "\n",
       "    .dataframe thead th {\n",
       "        text-align: right;\n",
       "    }\n",
       "</style>\n",
       "<table border=\"1\" class=\"dataframe\">\n",
       "  <thead>\n",
       "    <tr style=\"text-align: right;\">\n",
       "      <th></th>\n",
       "      <th></th>\n",
       "      <th>final</th>\n",
       "    </tr>\n",
       "    <tr>\n",
       "      <th>occupation</th>\n",
       "      <th>scenary</th>\n",
       "      <th></th>\n",
       "    </tr>\n",
       "  </thead>\n",
       "  <tbody>\n",
       "    <tr>\n",
       "      <th rowspan=\"4\" valign=\"top\">IT</th>\n",
       "      <th>NN</th>\n",
       "      <td>0.285837</td>\n",
       "    </tr>\n",
       "    <tr>\n",
       "      <th>NY</th>\n",
       "      <td>0.188235</td>\n",
       "    </tr>\n",
       "    <tr>\n",
       "      <th>YN</th>\n",
       "      <td>0.231912</td>\n",
       "    </tr>\n",
       "    <tr>\n",
       "      <th>YY</th>\n",
       "      <td>0.215434</td>\n",
       "    </tr>\n",
       "    <tr>\n",
       "      <th rowspan=\"4\" valign=\"top\">Дизайн</th>\n",
       "      <th>NN</th>\n",
       "      <td>0.354223</td>\n",
       "    </tr>\n",
       "    <tr>\n",
       "      <th>NY</th>\n",
       "      <td>0.228070</td>\n",
       "    </tr>\n",
       "    <tr>\n",
       "      <th>YN</th>\n",
       "      <td>0.240000</td>\n",
       "    </tr>\n",
       "    <tr>\n",
       "      <th>YY</th>\n",
       "      <td>0.000000</td>\n",
       "    </tr>\n",
       "    <tr>\n",
       "      <th rowspan=\"4\" valign=\"top\">Инженерия/Промышленность</th>\n",
       "      <th>NN</th>\n",
       "      <td>0.329338</td>\n",
       "    </tr>\n",
       "    <tr>\n",
       "      <th>NY</th>\n",
       "      <td>0.184783</td>\n",
       "    </tr>\n",
       "    <tr>\n",
       "      <th>YN</th>\n",
       "      <td>0.299376</td>\n",
       "    </tr>\n",
       "    <tr>\n",
       "      <th>YY</th>\n",
       "      <td>0.268293</td>\n",
       "    </tr>\n",
       "    <tr>\n",
       "      <th rowspan=\"4\" valign=\"top\">Медицина</th>\n",
       "      <th>NN</th>\n",
       "      <td>0.211054</td>\n",
       "    </tr>\n",
       "    <tr>\n",
       "      <th>NY</th>\n",
       "      <td>0.067568</td>\n",
       "    </tr>\n",
       "    <tr>\n",
       "      <th>YN</th>\n",
       "      <td>0.182390</td>\n",
       "    </tr>\n",
       "    <tr>\n",
       "      <th>YY</th>\n",
       "      <td>0.058824</td>\n",
       "    </tr>\n",
       "    <tr>\n",
       "      <th rowspan=\"4\" valign=\"top\">Менеджмент</th>\n",
       "      <th>NN</th>\n",
       "      <td>0.339456</td>\n",
       "    </tr>\n",
       "    <tr>\n",
       "      <th>NY</th>\n",
       "      <td>0.227461</td>\n",
       "    </tr>\n",
       "    <tr>\n",
       "      <th>YN</th>\n",
       "      <td>0.336574</td>\n",
       "    </tr>\n",
       "    <tr>\n",
       "      <th>YY</th>\n",
       "      <td>0.278116</td>\n",
       "    </tr>\n",
       "    <tr>\n",
       "      <th rowspan=\"4\" valign=\"top\">Образование</th>\n",
       "      <th>NN</th>\n",
       "      <td>0.289383</td>\n",
       "    </tr>\n",
       "    <tr>\n",
       "      <th>NY</th>\n",
       "      <td>0.202020</td>\n",
       "    </tr>\n",
       "    <tr>\n",
       "      <th>YN</th>\n",
       "      <td>0.317972</td>\n",
       "    </tr>\n",
       "    <tr>\n",
       "      <th>YY</th>\n",
       "      <td>0.228571</td>\n",
       "    </tr>\n",
       "    <tr>\n",
       "      <th rowspan=\"4\" valign=\"top\">Право/Экономика</th>\n",
       "      <th>NN</th>\n",
       "      <td>0.208756</td>\n",
       "    </tr>\n",
       "    <tr>\n",
       "      <th>NY</th>\n",
       "      <td>0.133333</td>\n",
       "    </tr>\n",
       "    <tr>\n",
       "      <th>YN</th>\n",
       "      <td>0.199642</td>\n",
       "    </tr>\n",
       "    <tr>\n",
       "      <th>YY</th>\n",
       "      <td>0.150000</td>\n",
       "    </tr>\n",
       "    <tr>\n",
       "      <th rowspan=\"4\" valign=\"top\">Сфера услуг</th>\n",
       "      <th>NN</th>\n",
       "      <td>0.422249</td>\n",
       "    </tr>\n",
       "    <tr>\n",
       "      <th>NY</th>\n",
       "      <td>0.345280</td>\n",
       "    </tr>\n",
       "    <tr>\n",
       "      <th>YN</th>\n",
       "      <td>0.374792</td>\n",
       "    </tr>\n",
       "    <tr>\n",
       "      <th>YY</th>\n",
       "      <td>0.293651</td>\n",
       "    </tr>\n",
       "  </tbody>\n",
       "</table>\n",
       "</div>"
      ],
      "text/plain": [
       "                                     final\n",
       "occupation               scenary          \n",
       "IT                       NN       0.285837\n",
       "                         NY       0.188235\n",
       "                         YN       0.231912\n",
       "                         YY       0.215434\n",
       "Дизайн                   NN       0.354223\n",
       "                         NY       0.228070\n",
       "                         YN       0.240000\n",
       "                         YY       0.000000\n",
       "Инженерия/Промышленность NN       0.329338\n",
       "                         NY       0.184783\n",
       "                         YN       0.299376\n",
       "                         YY       0.268293\n",
       "Медицина                 NN       0.211054\n",
       "                         NY       0.067568\n",
       "                         YN       0.182390\n",
       "                         YY       0.058824\n",
       "Менеджмент               NN       0.339456\n",
       "                         NY       0.227461\n",
       "                         YN       0.336574\n",
       "                         YY       0.278116\n",
       "Образование              NN       0.289383\n",
       "                         NY       0.202020\n",
       "                         YN       0.317972\n",
       "                         YY       0.228571\n",
       "Право/Экономика          NN       0.208756\n",
       "                         NY       0.133333\n",
       "                         YN       0.199642\n",
       "                         YY       0.150000\n",
       "Сфера услуг              NN       0.422249\n",
       "                         NY       0.345280\n",
       "                         YN       0.374792\n",
       "                         YY       0.293651"
      ]
     },
     "execution_count": 26,
     "metadata": {},
     "output_type": "execute_result"
    }
   ],
   "source": [
    "gb = eng[['occupation', 'scenary', 'final']].groupby(['occupation', 'scenary']).mean()\n",
    "gb"
   ]
  },
  {
   "cell_type": "code",
   "execution_count": 27,
   "id": "106e2017",
   "metadata": {
    "ExecuteTime": {
     "end_time": "2023-12-12T19:27:08.763020Z",
     "start_time": "2023-12-12T19:27:01.121992Z"
    }
   },
   "outputs": [
    {
     "data": {
      "text/plain": [
       "<Axes: xlabel='final', ylabel='occupation'>"
      ]
     },
     "execution_count": 27,
     "metadata": {},
     "output_type": "execute_result"
    },
    {
     "data": {
      "image/png": "[encoded data removed]",
      "text/plain": [
       "<Figure size 640x480 with 1 Axes>"
      ]
     },
     "metadata": {},
     "output_type": "display_data"
    }
   ],
   "source": [
    "import seaborn as sns\n",
    "sns.barplot(x='final', y='occupation', hue='scenary', data=eng, orient='h')"
   ]
  },
  {
   "cell_type": "markdown",
   "id": "af71bcaa",
   "metadata": {},
   "source": [
    "Заметим, что в сценариях NN, YN наибольший показатель приема в каждой из сфер. Незначительная разница между YY и NY во многих сферах может быть обусловлена тем, что у соискателя недостаточно высокий уровень английского языка, а также тем, что соискатель может не указывать английский в своих скиллах, но при подаче заявления а вакансию по умолчанию подразумевать то, что английский он знает."
   ]
  },
  {
   "cell_type": "markdown",
   "id": "4a617afb",
   "metadata": {},
   "source": [
    "В целом можно сделать предположение о том, что английский язык наиболее востребован в сферах образования, IT и менеджмента, что вполне ожидаемо, так как к последних двух сферах часто приходится работать с иностранцами, а в образовании очень популярна профессия именно учителя английского языка. Также можно предположить, что скорее всего на вакансию, где требуется английский будет сложнее устроиться, даже если вы его знаете. "
   ]
  },
  {
   "cell_type": "markdown",
   "id": "95cceae1",
   "metadata": {},
   "source": [
    "# Посмотрим на скиллы чуть подробнее"
   ]
  },
  {
   "cell_type": "code",
   "execution_count": 28,
   "id": "892985a0",
   "metadata": {
    "ExecuteTime": {
     "end_time": "2023-12-12T19:27:11.659474Z",
     "start_time": "2023-12-12T19:27:08.763020Z"
    }
   },
   "outputs": [
    {
     "data": {
      "text/plain": [
       "['ответственность',\n",
       " 'пользователь пк',\n",
       " 'работа в команде',\n",
       " 'организаторские навыки',\n",
       " 'грамотная речь',\n",
       " 'деловая переписка',\n",
       " 'работа с большим объемом информации',\n",
       " 'деловое общение',\n",
       " 'обучаемость',\n",
       " 'исполнительность',\n",
       " 'работоспособность',\n",
       " 'ведение переговоров',\n",
       " 'телефонные переговоры',\n",
       " 'управление персоналом',\n",
       " 'коммуникабельность',\n",
       " 'обучение персонала',\n",
       " 'заключение договоров',\n",
       " 'ms excel',\n",
       " 'стрессоустойчивость',\n",
       " 'умение работать в команде',\n",
       " 'деловая коммуникация',\n",
       " 'обучение и развитие',\n",
       " 'ms word',\n",
       " 'активные продажи',\n",
       " 'английский язык',\n",
       " '1с: предприятие 8',\n",
       " 'ms outlook',\n",
       " 'навыки продаж',\n",
       " 'руководство коллективом',\n",
       " 'ms powerpoint',\n",
       " 'водительское удостоверение категории b',\n",
       " 'работа с оргтехникой',\n",
       " 'поиск информации в интернет',\n",
       " 'поиск и привлечение клиентов',\n",
       " 'пунктуальность',\n",
       " 'подбор персонала',\n",
       " 'adobe photoshop',\n",
       " 'управление продажами',\n",
       " 'делопроизводство',\n",
       " 'документооборот',\n",
       " 'прямые продажи',\n",
       " 'мотивация персонала',\n",
       " 'документальное сопровождение',\n",
       " 'управление проектами',\n",
       " 'грамотность',\n",
       " 'internet',\n",
       " 'ms office',\n",
       " 'проведение презентаций',\n",
       " 'ориентация на результат',\n",
       " 'развитие продаж',\n",
       " 'работа с базами данных',\n",
       " 'электронная почта',\n",
       " 'навыки межличностного общения',\n",
       " 'проведение инвентаризаций',\n",
       " 'креативность',\n",
       " 'smm',\n",
       " 'управленческие навыки',\n",
       " 'клиентоориентированность',\n",
       " 'умение работать в коллективе',\n",
       " 'sql',\n",
       " 'инвентаризация',\n",
       " 'аналитическое мышление',\n",
       " 'управление командой',\n",
       " 'уверенный пользователь пк',\n",
       " '1с: документооборот',\n",
       " 'консультант плюс',\n",
       " 'организация мероприятий',\n",
       " 'точность и внимательность к деталям',\n",
       " 'crm',\n",
       " 'договорная работа',\n",
       " 'autocad',\n",
       " 'составление договоров',\n",
       " 'ведение отчетности',\n",
       " 'целеустремленность',\n",
       " 'внимательность',\n",
       " 'копирайтинг',\n",
       " 'планирование продаж',\n",
       " 'ведение групп в социальных сетях',\n",
       " 'работа с документами',\n",
       " 'многозадачность',\n",
       " 'холодные продажи',\n",
       " 'b2b продажи',\n",
       " '1с: торговля и склад',\n",
       " 'postman',\n",
       " 'первичная бухгалтерская документация',\n",
       " 'работа с возражениями',\n",
       " 'консультирование',\n",
       " 'html',\n",
       " 'git',\n",
       " 'кассовые операции',\n",
       " 'функциональное тестирование',\n",
       " 'наполнение контентом',\n",
       " 'написание текстов',\n",
       " 'консультирование клиентов',\n",
       " 'контроль качества',\n",
       " 'работа с кассой',\n",
       " 'работа с поставщиками',\n",
       " 'умение планировать',\n",
       " 'atlassian jira',\n",
       " 'общественное питание',\n",
       " 'претензионная работа',\n",
       " 'навыки переговоров',\n",
       " 'офисная техника',\n",
       " 'обслуживание покупателей',\n",
       " 'электронный документооборот',\n",
       " 'тестирование',\n",
       " 'закупка товаров и услуг',\n",
       " 'социальные сети',\n",
       " '1с: торговля',\n",
       " '1с: бухгалтерия',\n",
       " 'test case',\n",
       " 'первичная документация',\n",
       " 'работа с жалобами клиентов',\n",
       " 'навыки презентации',\n",
       " '1с-битрикс',\n",
       " 'api',\n",
       " 'способность обучать других',\n",
       " 'транспортная логистика',\n",
       " 'аналитика продаж',\n",
       " 'работа с дебиторской задолженностью',\n",
       " 'оформление заказов',\n",
       " 'работа с тмц',\n",
       " 'контроль сроков годности',\n",
       " 'закупки',\n",
       " 'консультирование клиентов по телефону',\n",
       " 'работа с текущей базой клиентов',\n",
       " 'управление производственным персоналом',\n",
       " 'складской учет',\n",
       " 'доброжелательность',\n",
       " 'работа с клиентами',\n",
       " 'ведение переписки',\n",
       " 'планирование',\n",
       " 'урегулирование конфликтов',\n",
       " 'тестирование пользовательского интерфейса',\n",
       " 'быстрая обучаемость',\n",
       " 'гражданское право',\n",
       " 'оформление документации',\n",
       " 'суды общей юрисдикции',\n",
       " 'арбитражные суды',\n",
       " 'python',\n",
       " 'продвижение в социальных группах',\n",
       " 'настройка пк',\n",
       " 'составление исков',\n",
       " 'бумажный документооборот',\n",
       " 'css',\n",
       " 'складская логистика',\n",
       " 'ручное тестирование']"
      ]
     },
     "execution_count": 28,
     "metadata": {},
     "output_type": "execute_result"
    }
   ],
   "source": [
    "skills = []\n",
    "for i in df.resume_skills_list:\n",
    "    for j in i:\n",
    "        if j:\n",
    "            skills.append(j.lower())\n",
    "skills = pd.Series(skills).value_counts()\n",
    "list(skills[skills>5000].index)"
   ]
  },
  {
   "cell_type": "code",
   "execution_count": 29,
   "id": "8d684815",
   "metadata": {
    "ExecuteTime": {
     "end_time": "2023-12-12T19:27:11.668990Z",
     "start_time": "2023-12-12T19:27:11.659474Z"
    }
   },
   "outputs": [],
   "source": [
    "soft_skills = ['ответственность', 'работа в команде', 'организаторские навыки', 'грамотная речь',\n",
    " 'деловая переписка', 'работа с большим объемом информации', 'деловое общение', 'обучаемость',\n",
    " 'исполнительность', 'работоспособность', 'ведение переговоров', 'телефонные переговоры',\n",
    " 'управление персоналом', 'коммуникабельность', 'стрессоустойчивость', 'умение работать в команде',\n",
    " 'деловая коммуникация', 'обучение и развитие', 'активные продажи', 'руководство коллективом',\n",
    " 'пунктуальность', 'управление проектами', 'грамотность', 'навыки межличностного общения',\n",
    " 'креативность', 'управленческие навыки', 'клиентоориентированность', 'умение работать в коллективе',\n",
    " 'аналитическое мышление', 'управление командой', 'точность и внимательность к деталям',\n",
    " 'целеустремленность', 'внимательность', 'копирайтинг', 'многозадачность', 'работа с возражениями',\n",
    " 'навыки переговоров', 'навыки презентации', 'способность обучать других',\n",
    " 'управление производственным персоналом', 'доброжелательность', 'урегулирование конфликтов',\n",
    " 'планирование', 'быстрая обучаемость']\n",
    "extra_skills=['пользователь пк', 'заключение договоров', 'ms excel', 'ms word', 'английский язык',\n",
    " 'ms outlook', 'ms powerpoint', 'водительское удостоверение категории b', 'работа с оргтехникой',\n",
    " 'проведение инвентаризаций', 'уверенный пользователь пк', 'договорная работа', 'составление договоров',\n",
    " 'ведение отчетности', 'ведение групп в социальных сетях', 'работа с документами', 'работа с возражениями',\n",
    " 'претензионная работа', 'навыки переговоров', 'офисная техника', 'обслуживание покупателей',\n",
    " 'электронный документооборот', 'социальные сети', 'первичная документация', 'работа с жалобами клиентов',\n",
    " 'навыки презентации', 'транспортная логистика', 'управление производственным персоналом',\n",
    " 'оформление документации', 'продвижение в социальных группах', 'бумажный документооборот',]\n",
    "# доп. скиллы - нельзя отнести ни к soft, ни к hard, но могут дать плюс в целом"
   ]
  },
  {
   "cell_type": "code",
   "execution_count": 30,
   "id": "752377ea",
   "metadata": {
    "ExecuteTime": {
     "end_time": "2023-12-12T19:27:12.075846Z",
     "start_time": "2023-12-12T19:27:11.670995Z"
    }
   },
   "outputs": [],
   "source": [
    "def soft_count(l):\n",
    "    res=0\n",
    "    for i in l:\n",
    "        if i and i in soft_skills:\n",
    "            res+=1\n",
    "    return res\n",
    "skills_df = df.copy()\n",
    "skills_df = skills_df[skills_df.vacancy_employment_type == 'full']"
   ]
  },
  {
   "cell_type": "code",
   "execution_count": 31,
   "id": "74e033a1",
   "metadata": {
    "ExecuteTime": {
     "end_time": "2023-12-12T19:27:15.078121Z",
     "start_time": "2023-12-12T19:27:12.075846Z"
    }
   },
   "outputs": [],
   "source": [
    "skills_df['soft_count'] = skills_df.resume_skills_list.map(soft_count)\n",
    "skills_df = skills_df[skills_df.soft_count <= 10]"
   ]
  },
  {
   "cell_type": "code",
   "execution_count": 32,
   "id": "f37eaa03",
   "metadata": {
    "ExecuteTime": {
     "end_time": "2023-12-12T19:27:15.344169Z",
     "start_time": "2023-12-12T19:27:15.078121Z"
    }
   },
   "outputs": [
    {
     "data": {
      "text/plain": [
       "<Axes: xlabel='soft_count'>"
      ]
     },
     "execution_count": 32,
     "metadata": {},
     "output_type": "execute_result"
    },
    {
     "data": {
      "image/png": "[encoded data removed]",
      "text/plain": [
       "<Figure size 640x480 with 1 Axes>"
      ]
     },
     "metadata": {},
     "output_type": "display_data"
    }
   ],
   "source": [
    "skills_df[['soft_count', 'final']].groupby('soft_count').mean().plot.bar()"
   ]
  },
  {
   "cell_type": "code",
   "execution_count": 33,
   "id": "0b2cba4d",
   "metadata": {
    "ExecuteTime": {
     "end_time": "2023-12-12T19:27:15.612710Z",
     "start_time": "2023-12-12T19:27:15.344169Z"
    }
   },
   "outputs": [],
   "source": [
    "# доля софтскиллов от всех\n",
    "skills_df['soft_part'] = skills_df.soft_count / skills_df.resume_skills_list.map(lambda x: max(1, len(x)))"
   ]
  },
  {
   "cell_type": "code",
   "execution_count": 34,
   "id": "2545c4cf",
   "metadata": {
    "ExecuteTime": {
     "end_time": "2023-12-12T19:27:15.773254Z",
     "start_time": "2023-12-12T19:27:15.612710Z"
    }
   },
   "outputs": [],
   "source": [
    "skills_df['soft_part'] = skills_df.soft_part.map(lambda x: round(x * 50) / 50)"
   ]
  },
  {
   "cell_type": "code",
   "execution_count": 35,
   "id": "44409c14",
   "metadata": {
    "ExecuteTime": {
     "end_time": "2023-12-12T19:27:16.298242Z",
     "start_time": "2023-12-12T19:27:15.776060Z"
    }
   },
   "outputs": [
    {
     "data": {
      "text/plain": [
       "<Axes: xlabel='soft_part'>"
      ]
     },
     "execution_count": 35,
     "metadata": {},
     "output_type": "execute_result"
    },
    {
     "data": {
      "image/png": "[encoded data removed]",
      "text/plain": [
       "<Figure size 640x480 with 1 Axes>"
      ]
     },
     "metadata": {},
     "output_type": "display_data"
    }
   ],
   "source": [
    "skills_df[['soft_part', 'final']].groupby('soft_part').mean().plot.bar()"
   ]
  },
  {
   "cell_type": "markdown",
   "id": "d472824c",
   "metadata": {},
   "source": [
    "# Посмотрим на гипотезу о наилучшем возрасте вхождения"
   ]
  },
  {
   "cell_type": "code",
   "execution_count": 36,
   "id": "585db0ff",
   "metadata": {
    "ExecuteTime": {
     "end_time": "2023-12-12T19:27:16.718990Z",
     "start_time": "2023-12-12T19:27:16.298242Z"
    }
   },
   "outputs": [],
   "source": [
    "ages = df.copy()\n",
    "ages['age'] = ages.year_of_birth.apply(lambda x: 2023 - x)"
   ]
  },
  {
   "cell_type": "code",
   "execution_count": 37,
   "id": "9bf990ac",
   "metadata": {
    "ExecuteTime": {
     "end_time": "2023-12-12T19:27:16.732444Z",
     "start_time": "2023-12-12T19:27:16.718990Z"
    }
   },
   "outputs": [
    {
     "data": {
      "text/plain": [
       "age\n",
       "25     18460\n",
       "23     17000\n",
       "26     16799\n",
       "36     16788\n",
       "24     16742\n",
       "       ...  \n",
       "106        2\n",
       "85         1\n",
       "93         1\n",
       "121        1\n",
       "103        1\n",
       "Name: count, Length: 75, dtype: int64"
      ]
     },
     "execution_count": 37,
     "metadata": {},
     "output_type": "execute_result"
    }
   ],
   "source": [
    "ages.age.value_counts()"
   ]
  },
  {
   "cell_type": "code",
   "execution_count": 38,
   "id": "77e7d258",
   "metadata": {
    "ExecuteTime": {
     "end_time": "2023-12-12T19:27:16.954927Z",
     "start_time": "2023-12-12T19:27:16.732444Z"
    }
   },
   "outputs": [],
   "source": [
    "ages = ages[((ages.age <= 58) & (ages.gender == 'female')) \n",
    "            | ((ages.age <= 63) & (ages.gender == 'male'))]"
   ]
  },
  {
   "cell_type": "code",
   "execution_count": 39,
   "id": "719f614e",
   "metadata": {
    "ExecuteTime": {
     "end_time": "2023-12-12T19:27:17.453137Z",
     "start_time": "2023-12-12T19:27:16.954927Z"
    }
   },
   "outputs": [],
   "source": [
    "ages = ages[~ages.profession.isna()]\n",
    "ages['occupation'] = ages.profession.map(f)"
   ]
  },
  {
   "cell_type": "code",
   "execution_count": 40,
   "id": "711b1802",
   "metadata": {
    "ExecuteTime": {
     "end_time": "2023-12-12T19:27:17.611568Z",
     "start_time": "2023-12-12T19:27:17.453137Z"
    }
   },
   "outputs": [
    {
     "data": {
      "text/plain": [
       "ages_group\n",
       "36-45    125876\n",
       "29-35    111761\n",
       "23-28    101768\n",
       "46-55     66174\n",
       "18-22     59141\n",
       "56-63     15982\n",
       "14-17     10158\n",
       "Name: count, dtype: int64"
      ]
     },
     "execution_count": 40,
     "metadata": {},
     "output_type": "execute_result"
    }
   ],
   "source": [
    "def f_age(age):\n",
    "    if age >= 14 and age < 18:\n",
    "        return \"14-17\"\n",
    "    if age >= 18 and age < 23:\n",
    "        return \"18-22\"\n",
    "    if age >= 23 and age < 29:\n",
    "        return \"23-28\"\n",
    "    if age >= 29 and age < 36:\n",
    "        return \"29-35\"\n",
    "    if age >= 36 and age < 46:\n",
    "        return \"36-45\"\n",
    "    if age >= 46 and age < 56:\n",
    "        return \"46-55\"\n",
    "    return \"56-63\"\n",
    "ag = ['14-17', '18-22', '23-28', '29-35', '36-45', '46-55', '56-63']\n",
    "ages['ages_group'] = ages.age.map(f_age)\n",
    "ages.ages_group.value_counts()"
   ]
  },
  {
   "cell_type": "code",
   "execution_count": 41,
   "id": "3918db40",
   "metadata": {
    "ExecuteTime": {
     "end_time": "2023-12-12T19:27:17.616846Z",
     "start_time": "2023-12-12T19:27:17.613177Z"
    }
   },
   "outputs": [],
   "source": [
    "import matplotlib.pyplot as plt"
   ]
  },
  {
   "cell_type": "code",
   "execution_count": 42,
   "id": "40185be8",
   "metadata": {
    "ExecuteTime": {
     "end_time": "2023-12-12T19:27:17.629243Z",
     "start_time": "2023-12-12T19:27:17.616846Z"
    }
   },
   "outputs": [],
   "source": [
    "def plot(cat, min_age=14, max_age=63):\n",
    "    print(\"Успешность при попытке попасть на собеседование.\")\n",
    "    print(f\"Сфера: {cat}\")\n",
    "    curr = ages[(ages.occupation == cat) & (ages.age >= min_age) & (ages.age <= max_age)]\n",
    "    gb = curr[['age', 'final']].groupby('age').mean()\n",
    "    # gb.plot.bar()\n",
    "    sns.barplot(x='age', y='final', hue='gender', data=curr)\n",
    "def info(cat, min_age, max_age):\n",
    "    curr = ages[ages.occupation == cat]\n",
    "    print(f'Отличается ли успех группы {min_age}-{max_age} от среднего?')\n",
    "    a = curr[(curr.age >= min_age) & (curr.age <= max_age)].final\n",
    "    b = curr[(curr.age < min_age) | (curr.age > max_age)].final\n",
    "    mean_a = a.mean()\n",
    "    mean_b = b.mean()\n",
    "    print(f\"Показатели лучшей группы: {mean_a};\\nПоказатели остальных: {mean_b}\")\n",
    "    alpha = mean_a - mean_b\n",
    "    se = ((a.std() ** 2) / len(a) + (b.std() ** 2) / len(b)) ** 0.5\n",
    "    print(f\"Стандартная ошибка среднего: {se}\")\n",
    "    t = alpha / se\n",
    "    print(f\"t-критерий: {t}\")\n",
    "    print(f\"Степени свободы: {len(a) + len(b) - 2}\")\n",
    "    if t < 1.6449:\n",
    "        print(\"p-уровень значимость больше 0.1\")\n",
    "        print(f\"Между успешностью группы {min_age}-{max_age} и ген. совокупности статистически значимых раличий нет\")\n",
    "    else:\n",
    "        if t < 1.96:\n",
    "            print(\"p-уровень значимость между 0.5 и 0.1\")\n",
    "        elif t < 2.5758:\n",
    "            print(\"p-уровень значимость между 0.01 и 0.5\")\n",
    "        else:\n",
    "            print(\"p-уровень значимости меньше 0.01\")\n",
    "        print(f\"Различия между успешностью группы {min_age}-{max_age} и ген. совокупностью статистически значимые\")"
   ]
  },
  {
   "cell_type": "code",
   "execution_count": 43,
   "id": "c4187744",
   "metadata": {
    "ExecuteTime": {
     "end_time": "2023-12-12T19:27:20.322796Z",
     "start_time": "2023-12-12T19:27:17.630839Z"
    }
   },
   "outputs": [
    {
     "name": "stdout",
     "output_type": "stream",
     "text": [
      "Успешность при попытке попасть на собеседование.\n",
      "Сфера: Менеджмент\n"
     ]
    },
    {
     "data": {
      "image/png": "[encoded data removed]",
      "text/plain": [
       "<Figure size 640x480 with 1 Axes>"
      ]
     },
     "metadata": {},
     "output_type": "display_data"
    }
   ],
   "source": [
    "plot('Менеджмент', 18, 32)"
   ]
  },
  {
   "cell_type": "code",
   "execution_count": 44,
   "id": "e3ac07ef",
   "metadata": {
    "ExecuteTime": {
     "end_time": "2023-12-12T19:27:20.474064Z",
     "start_time": "2023-12-12T19:27:20.322796Z"
    }
   },
   "outputs": [
    {
     "name": "stdout",
     "output_type": "stream",
     "text": [
      "Отличается ли успех группы 18-30 от среднего?\n",
      "Показатели лучшей группы: 0.45869268292682924;\n",
      "Показатели остальных: 0.3213278239103659\n",
      "Стандартная ошибка среднего: 0.002647827571166135\n",
      "t-критерий: 51.87832490012415\n",
      "Степени свободы: 151924\n",
      "p-уровень значимости меньше 0.01\n",
      "Различия между успешностью группы 18-30 и ген. совокупностью статистически значимые\n"
     ]
    }
   ],
   "source": [
    "info('Менеджмент', 18, 30)"
   ]
  },
  {
   "cell_type": "markdown",
   "id": "1328c712",
   "metadata": {},
   "source": [
    "Вполне ожидаемый результат, ищут молодых и креативных специалистов"
   ]
  },
  {
   "cell_type": "code",
   "execution_count": 45,
   "id": "6bf60e46",
   "metadata": {
    "ExecuteTime": {
     "end_time": "2023-12-12T19:27:24.706163Z",
     "start_time": "2023-12-12T19:27:20.474064Z"
    }
   },
   "outputs": [
    {
     "name": "stdout",
     "output_type": "stream",
     "text": [
      "Успешность при попытке попасть на собеседование.\n",
      "Сфера: Сфера услуг\n"
     ]
    },
    {
     "data": {
      "image/png": "[encoded data removed]",
      "text/plain": [
       "<Figure size 640x480 with 1 Axes>"
      ]
     },
     "metadata": {},
     "output_type": "display_data"
    }
   ],
   "source": [
    "plot('Сфера услуг', 18, 41)"
   ]
  },
  {
   "cell_type": "code",
   "execution_count": 46,
   "id": "8bd1314c",
   "metadata": {
    "ExecuteTime": {
     "end_time": "2023-12-12T19:27:24.848006Z",
     "start_time": "2023-12-12T19:27:24.706163Z"
    }
   },
   "outputs": [
    {
     "name": "stdout",
     "output_type": "stream",
     "text": [
      "Отличается ли успех группы 19-40 от среднего?\n",
      "Показатели лучшей группы: 0.5068861269734632;\n",
      "Показатели остальных: 0.3492272650264481\n",
      "Стандартная ошибка среднего: 0.0026271725467341567\n",
      "t-критерий: 60.010851644670694\n",
      "Степени свободы: 148385\n",
      "p-уровень значимости меньше 0.01\n",
      "Различия между успешностью группы 19-40 и ген. совокупностью статистически значимые\n"
     ]
    }
   ],
   "source": [
    "info('Сфера услуг', 19, 40)"
   ]
  },
  {
   "cell_type": "markdown",
   "id": "396a4bd4",
   "metadata": {},
   "source": [
    "Поскольку образование для данных специальностей не очень нужно, то ожидаемо, что возраст не будет иметь сильного значение. Единственное ограничение состоит в том, что люди старше 40 не такие быстрые и выносливые для работы в сфере обслуживания или на специальностях, в которых требуется физ.сила."
   ]
  },
  {
   "cell_type": "code",
   "execution_count": 47,
   "id": "c224461b",
   "metadata": {
    "ExecuteTime": {
     "end_time": "2023-12-12T19:27:29.680006Z",
     "start_time": "2023-12-12T19:27:24.848006Z"
    }
   },
   "outputs": [
    {
     "name": "stdout",
     "output_type": "stream",
     "text": [
      "Успешность при попытке попасть на собеседование.\n",
      "Сфера: IT\n"
     ]
    },
    {
     "data": {
      "image/png": "[encoded data removed]",
      "text/plain": [
       "<Figure size 640x480 with 1 Axes>"
      ]
     },
     "metadata": {},
     "output_type": "display_data"
    }
   ],
   "source": [
    "plot('IT', 18, 55)"
   ]
  },
  {
   "cell_type": "markdown",
   "id": "be567b24",
   "metadata": {},
   "source": [
    "Очень крутые показатели для группы 40-50. Возможно это обусловлено тем, что молодые специалисты менее квалифицированы(мы видим, что очень мало заявок исходит от людей старше 40, мы можем сделать предположение о том, что это люди, которые очень хорошо разбираются в теме, как минимум потому что люди, которые не умеют работать с компьютером, врятли бы смогли оставить заявку). Молодые же специалисты могут быть выпускниками средних учебных заведений, что нравится далеко не всем работодателям. Можно попытаться рассмотреть данную ситуация в срезе образования и отдельных специальностей. Очень крутые показатели у женского пола возрастов 20-40, при том, что кол-во заявок от мужчин и женщин примерно одинаково. Эту ситуацию также можно рассмотреть поподробнее."
   ]
  },
  {
   "cell_type": "code",
   "execution_count": 48,
   "id": "113b1cf2",
   "metadata": {
    "ExecuteTime": {
     "end_time": "2023-12-12T19:27:29.756014Z",
     "start_time": "2023-12-12T19:27:29.680006Z"
    }
   },
   "outputs": [
    {
     "data": {
      "text/html": [
       "<div>\n",
       "<style scoped>\n",
       "    .dataframe tbody tr th:only-of-type {\n",
       "        vertical-align: middle;\n",
       "    }\n",
       "\n",
       "    .dataframe tbody tr th {\n",
       "        vertical-align: top;\n",
       "    }\n",
       "\n",
       "    .dataframe thead th {\n",
       "        text-align: right;\n",
       "    }\n",
       "</style>\n",
       "<table border=\"1\" class=\"dataframe\">\n",
       "  <thead>\n",
       "    <tr style=\"text-align: right;\">\n",
       "      <th></th>\n",
       "      <th>topic_id</th>\n",
       "      <th>topic_creation_date</th>\n",
       "      <th>initial_state</th>\n",
       "      <th>final_state</th>\n",
       "      <th>resume_id</th>\n",
       "      <th>resume_creation_date</th>\n",
       "      <th>profession</th>\n",
       "      <th>gender</th>\n",
       "      <th>year_of_birth</th>\n",
       "      <th>resume_region</th>\n",
       "      <th>...</th>\n",
       "      <th>vacancy_region</th>\n",
       "      <th>work_schedule.1</th>\n",
       "      <th>vacancy_employment_type</th>\n",
       "      <th>compensation_from</th>\n",
       "      <th>compensation_to</th>\n",
       "      <th>vacancy_skills_list</th>\n",
       "      <th>final</th>\n",
       "      <th>age</th>\n",
       "      <th>occupation</th>\n",
       "      <th>ages_group</th>\n",
       "    </tr>\n",
       "  </thead>\n",
       "  <tbody>\n",
       "    <tr>\n",
       "      <th>31983</th>\n",
       "      <td>341296412474126c1</td>\n",
       "      <td>2023-06-01</td>\n",
       "      <td>response</td>\n",
       "      <td>response</td>\n",
       "      <td>155015tk1</td>\n",
       "      <td>2021-09-07</td>\n",
       "      <td>Программист, разработчик</td>\n",
       "      <td>male</td>\n",
       "      <td>1973</td>\n",
       "      <td>Волгоградская область</td>\n",
       "      <td>...</td>\n",
       "      <td>Красноярский край</td>\n",
       "      <td>remote</td>\n",
       "      <td>part</td>\n",
       "      <td>184400.0</td>\n",
       "      <td>243600.0</td>\n",
       "      <td>[системный анализ, бизнес-анализ, постановка з...</td>\n",
       "      <td>0</td>\n",
       "      <td>50</td>\n",
       "      <td>IT</td>\n",
       "      <td>46-55</td>\n",
       "    </tr>\n",
       "    <tr>\n",
       "      <th>31985</th>\n",
       "      <td>33969c69941</td>\n",
       "      <td>2023-08-11</td>\n",
       "      <td>response</td>\n",
       "      <td>invitation</td>\n",
       "      <td>2058240kt</td>\n",
       "      <td>2023-08-11</td>\n",
       "      <td>Программист, разработчик</td>\n",
       "      <td>male</td>\n",
       "      <td>1976</td>\n",
       "      <td>Красноярский край</td>\n",
       "      <td>...</td>\n",
       "      <td>Красноярский край</td>\n",
       "      <td>remote</td>\n",
       "      <td>part</td>\n",
       "      <td>35000.0</td>\n",
       "      <td>65000.0</td>\n",
       "      <td>[деловая переписка, работа с большим объемом и...</td>\n",
       "      <td>1</td>\n",
       "      <td>47</td>\n",
       "      <td>IT</td>\n",
       "      <td>46-55</td>\n",
       "    </tr>\n",
       "    <tr>\n",
       "      <th>31989</th>\n",
       "      <td>33412747741263</td>\n",
       "      <td>2023-07-02</td>\n",
       "      <td>response</td>\n",
       "      <td>discard</td>\n",
       "      <td>8bk0t814</td>\n",
       "      <td>2018-01-26</td>\n",
       "      <td>Программист, разработчик</td>\n",
       "      <td>male</td>\n",
       "      <td>1972</td>\n",
       "      <td>Челябинская область</td>\n",
       "      <td>...</td>\n",
       "      <td>Челябинская область</td>\n",
       "      <td>flexible</td>\n",
       "      <td>full</td>\n",
       "      <td>50000.0</td>\n",
       "      <td>NaN</td>\n",
       "      <td>[svn, ios, intellij idea, git, java, android, ...</td>\n",
       "      <td>0</td>\n",
       "      <td>51</td>\n",
       "      <td>IT</td>\n",
       "      <td>46-55</td>\n",
       "    </tr>\n",
       "    <tr>\n",
       "      <th>32037</th>\n",
       "      <td>3341296469647</td>\n",
       "      <td>2023-07-03</td>\n",
       "      <td>response</td>\n",
       "      <td>response</td>\n",
       "      <td>260k64kk</td>\n",
       "      <td>2013-07-21</td>\n",
       "      <td>Программист, разработчик</td>\n",
       "      <td>male</td>\n",
       "      <td>1971</td>\n",
       "      <td>Краснодарский край</td>\n",
       "      <td>...</td>\n",
       "      <td>Нижегородская область</td>\n",
       "      <td>remote</td>\n",
       "      <td>full</td>\n",
       "      <td>150000.0</td>\n",
       "      <td>NaN</td>\n",
       "      <td>[1с программирование, знание 1с, 1c: предприят...</td>\n",
       "      <td>0</td>\n",
       "      <td>52</td>\n",
       "      <td>IT</td>\n",
       "      <td>46-55</td>\n",
       "    </tr>\n",
       "    <tr>\n",
       "      <th>32046</th>\n",
       "      <td>333044cc996</td>\n",
       "      <td>2023-07-04</td>\n",
       "      <td>response</td>\n",
       "      <td>invitation</td>\n",
       "      <td>260k64kk</td>\n",
       "      <td>2013-07-21</td>\n",
       "      <td>Программист, разработчик</td>\n",
       "      <td>male</td>\n",
       "      <td>1971</td>\n",
       "      <td>Краснодарский край</td>\n",
       "      <td>...</td>\n",
       "      <td>Нижегородская область</td>\n",
       "      <td>remote</td>\n",
       "      <td>full</td>\n",
       "      <td>160000.0</td>\n",
       "      <td>190000.0</td>\n",
       "      <td>[1с: предприятие, 1с программирование, удаленн...</td>\n",
       "      <td>1</td>\n",
       "      <td>52</td>\n",
       "      <td>IT</td>\n",
       "      <td>46-55</td>\n",
       "    </tr>\n",
       "    <tr>\n",
       "      <th>...</th>\n",
       "      <td>...</td>\n",
       "      <td>...</td>\n",
       "      <td>...</td>\n",
       "      <td>...</td>\n",
       "      <td>...</td>\n",
       "      <td>...</td>\n",
       "      <td>...</td>\n",
       "      <td>...</td>\n",
       "      <td>...</td>\n",
       "      <td>...</td>\n",
       "      <td>...</td>\n",
       "      <td>...</td>\n",
       "      <td>...</td>\n",
       "      <td>...</td>\n",
       "      <td>...</td>\n",
       "      <td>...</td>\n",
       "      <td>...</td>\n",
       "      <td>...</td>\n",
       "      <td>...</td>\n",
       "      <td>...</td>\n",
       "      <td>...</td>\n",
       "    </tr>\n",
       "    <tr>\n",
       "      <th>495472</th>\n",
       "      <td>33763412061412</td>\n",
       "      <td>2023-08-03</td>\n",
       "      <td>response</td>\n",
       "      <td>invitation</td>\n",
       "      <td>18t50k8b</td>\n",
       "      <td>2012-05-15</td>\n",
       "      <td>Оператор ПК, оператор базы данных</td>\n",
       "      <td>female</td>\n",
       "      <td>1979</td>\n",
       "      <td>Ленинградская область</td>\n",
       "      <td>...</td>\n",
       "      <td>Санкт-Петербург</td>\n",
       "      <td>remote</td>\n",
       "      <td>part</td>\n",
       "      <td>NaN</td>\n",
       "      <td>370000.0</td>\n",
       "      <td>[консультирование клиентов по телефону, работа...</td>\n",
       "      <td>1</td>\n",
       "      <td>44</td>\n",
       "      <td>IT</td>\n",
       "      <td>36-45</td>\n",
       "    </tr>\n",
       "    <tr>\n",
       "      <th>495473</th>\n",
       "      <td>3412933969c97</td>\n",
       "      <td>2023-06-08</td>\n",
       "      <td>invitation</td>\n",
       "      <td>invitation</td>\n",
       "      <td>201850065</td>\n",
       "      <td>2023-06-04</td>\n",
       "      <td>Оператор ПК, оператор базы данных</td>\n",
       "      <td>female</td>\n",
       "      <td>1970</td>\n",
       "      <td>Санкт-Петербург</td>\n",
       "      <td>...</td>\n",
       "      <td>Санкт-Петербург</td>\n",
       "      <td>full_day</td>\n",
       "      <td>full</td>\n",
       "      <td>30000.0</td>\n",
       "      <td>NaN</td>\n",
       "      <td>[ведение архива, проектная деятельность, бумаж...</td>\n",
       "      <td>1</td>\n",
       "      <td>53</td>\n",
       "      <td>IT</td>\n",
       "      <td>46-55</td>\n",
       "    </tr>\n",
       "    <tr>\n",
       "      <th>495474</th>\n",
       "      <td>33c6c3412670</td>\n",
       "      <td>2023-07-20</td>\n",
       "      <td>response</td>\n",
       "      <td>response</td>\n",
       "      <td>14t16b614</td>\n",
       "      <td>2021-04-23</td>\n",
       "      <td>Оператор ПК, оператор базы данных</td>\n",
       "      <td>male</td>\n",
       "      <td>1973</td>\n",
       "      <td>Кировская область</td>\n",
       "      <td>...</td>\n",
       "      <td>Санкт-Петербург</td>\n",
       "      <td>remote</td>\n",
       "      <td>full</td>\n",
       "      <td>15000.0</td>\n",
       "      <td>25000.0</td>\n",
       "      <td>[навыки работы с первичной документацией, комп...</td>\n",
       "      <td>0</td>\n",
       "      <td>50</td>\n",
       "      <td>IT</td>\n",
       "      <td>46-55</td>\n",
       "    </tr>\n",
       "    <tr>\n",
       "      <th>495475</th>\n",
       "      <td>b177967606</td>\n",
       "      <td>2023-08-30</td>\n",
       "      <td>response</td>\n",
       "      <td>invitation</td>\n",
       "      <td>18t50k8b</td>\n",
       "      <td>2012-05-15</td>\n",
       "      <td>Оператор ПК, оператор базы данных</td>\n",
       "      <td>female</td>\n",
       "      <td>1979</td>\n",
       "      <td>Ленинградская область</td>\n",
       "      <td>...</td>\n",
       "      <td>Санкт-Петербург</td>\n",
       "      <td>remote</td>\n",
       "      <td>part</td>\n",
       "      <td>NaN</td>\n",
       "      <td>75000.0</td>\n",
       "      <td>[удаленная работа, пользователь пк, грамотная ...</td>\n",
       "      <td>1</td>\n",
       "      <td>44</td>\n",
       "      <td>IT</td>\n",
       "      <td>36-45</td>\n",
       "    </tr>\n",
       "    <tr>\n",
       "      <th>495480</th>\n",
       "      <td>3300761317</td>\n",
       "      <td>2023-06-14</td>\n",
       "      <td>response</td>\n",
       "      <td>response</td>\n",
       "      <td>50bt5626</td>\n",
       "      <td>2016-03-21</td>\n",
       "      <td>Оператор ПК, оператор базы данных</td>\n",
       "      <td>female</td>\n",
       "      <td>1978</td>\n",
       "      <td>Санкт-Петербург</td>\n",
       "      <td>...</td>\n",
       "      <td>Санкт-Петербург</td>\n",
       "      <td>full_day</td>\n",
       "      <td>full</td>\n",
       "      <td>70000.0</td>\n",
       "      <td>80000.0</td>\n",
       "      <td>[1с: торговля, сопровождение продаж, деловая п...</td>\n",
       "      <td>0</td>\n",
       "      <td>45</td>\n",
       "      <td>IT</td>\n",
       "      <td>36-45</td>\n",
       "    </tr>\n",
       "  </tbody>\n",
       "</table>\n",
       "<p>4302 rows × 30 columns</p>\n",
       "</div>"
      ],
      "text/plain": [
       "                 topic_id topic_creation_date initial_state final_state  \\\n",
       "31983   341296412474126c1          2023-06-01      response    response   \n",
       "31985         33969c69941          2023-08-11      response  invitation   \n",
       "31989      33412747741263          2023-07-02      response     discard   \n",
       "32037       3341296469647          2023-07-03      response    response   \n",
       "32046         333044cc996          2023-07-04      response  invitation   \n",
       "...                   ...                 ...           ...         ...   \n",
       "495472     33763412061412          2023-08-03      response  invitation   \n",
       "495473      3412933969c97          2023-06-08    invitation  invitation   \n",
       "495474       33c6c3412670          2023-07-20      response    response   \n",
       "495475         b177967606          2023-08-30      response  invitation   \n",
       "495480         3300761317          2023-06-14      response    response   \n",
       "\n",
       "        resume_id resume_creation_date                         profession  \\\n",
       "31983   155015tk1           2021-09-07           Программист, разработчик   \n",
       "31985   2058240kt           2023-08-11           Программист, разработчик   \n",
       "31989    8bk0t814           2018-01-26           Программист, разработчик   \n",
       "32037    260k64kk           2013-07-21           Программист, разработчик   \n",
       "32046    260k64kk           2013-07-21           Программист, разработчик   \n",
       "...           ...                  ...                                ...   \n",
       "495472   18t50k8b           2012-05-15  Оператор ПК, оператор базы данных   \n",
       "495473  201850065           2023-06-04  Оператор ПК, оператор базы данных   \n",
       "495474  14t16b614           2021-04-23  Оператор ПК, оператор базы данных   \n",
       "495475   18t50k8b           2012-05-15  Оператор ПК, оператор базы данных   \n",
       "495480   50bt5626           2016-03-21  Оператор ПК, оператор базы данных   \n",
       "\n",
       "        gender  year_of_birth          resume_region  ...  \\\n",
       "31983     male           1973  Волгоградская область  ...   \n",
       "31985     male           1976      Красноярский край  ...   \n",
       "31989     male           1972    Челябинская область  ...   \n",
       "32037     male           1971     Краснодарский край  ...   \n",
       "32046     male           1971     Краснодарский край  ...   \n",
       "...        ...            ...                    ...  ...   \n",
       "495472  female           1979  Ленинградская область  ...   \n",
       "495473  female           1970        Санкт-Петербург  ...   \n",
       "495474    male           1973      Кировская область  ...   \n",
       "495475  female           1979  Ленинградская область  ...   \n",
       "495480  female           1978        Санкт-Петербург  ...   \n",
       "\n",
       "               vacancy_region  work_schedule.1 vacancy_employment_type  \\\n",
       "31983       Красноярский край           remote                    part   \n",
       "31985       Красноярский край           remote                    part   \n",
       "31989     Челябинская область         flexible                    full   \n",
       "32037   Нижегородская область           remote                    full   \n",
       "32046   Нижегородская область           remote                    full   \n",
       "...                       ...              ...                     ...   \n",
       "495472        Санкт-Петербург           remote                    part   \n",
       "495473        Санкт-Петербург         full_day                    full   \n",
       "495474        Санкт-Петербург           remote                    full   \n",
       "495475        Санкт-Петербург           remote                    part   \n",
       "495480        Санкт-Петербург         full_day                    full   \n",
       "\n",
       "       compensation_from compensation_to  \\\n",
       "31983           184400.0        243600.0   \n",
       "31985            35000.0         65000.0   \n",
       "31989            50000.0             NaN   \n",
       "32037           150000.0             NaN   \n",
       "32046           160000.0        190000.0   \n",
       "...                  ...             ...   \n",
       "495472               NaN        370000.0   \n",
       "495473           30000.0             NaN   \n",
       "495474           15000.0         25000.0   \n",
       "495475               NaN         75000.0   \n",
       "495480           70000.0         80000.0   \n",
       "\n",
       "                                      vacancy_skills_list  final age  \\\n",
       "31983   [системный анализ, бизнес-анализ, постановка з...      0  50   \n",
       "31985   [деловая переписка, работа с большим объемом и...      1  47   \n",
       "31989   [svn, ios, intellij idea, git, java, android, ...      0  51   \n",
       "32037   [1с программирование, знание 1с, 1c: предприят...      0  52   \n",
       "32046   [1с: предприятие, 1с программирование, удаленн...      1  52   \n",
       "...                                                   ...    ...  ..   \n",
       "495472  [консультирование клиентов по телефону, работа...      1  44   \n",
       "495473  [ведение архива, проектная деятельность, бумаж...      1  53   \n",
       "495474  [навыки работы с первичной документацией, комп...      0  50   \n",
       "495475  [удаленная работа, пользователь пк, грамотная ...      1  44   \n",
       "495480  [1с: торговля, сопровождение продаж, деловая п...      0  45   \n",
       "\n",
       "       occupation ages_group  \n",
       "31983          IT      46-55  \n",
       "31985          IT      46-55  \n",
       "31989          IT      46-55  \n",
       "32037          IT      46-55  \n",
       "32046          IT      46-55  \n",
       "...           ...        ...  \n",
       "495472         IT      36-45  \n",
       "495473         IT      46-55  \n",
       "495474         IT      46-55  \n",
       "495475         IT      36-45  \n",
       "495480         IT      36-45  \n",
       "\n",
       "[4302 rows x 30 columns]"
      ]
     },
     "execution_count": 48,
     "metadata": {},
     "output_type": "execute_result"
    }
   ],
   "source": [
    "ages[(ages.age > 43) & (ages.occupation == 'IT')]"
   ]
  },
  {
   "cell_type": "code",
   "execution_count": 49,
   "id": "140d409b",
   "metadata": {
    "ExecuteTime": {
     "end_time": "2023-12-12T19:27:35.847257Z",
     "start_time": "2023-12-12T19:27:29.758015Z"
    }
   },
   "outputs": [
    {
     "name": "stdout",
     "output_type": "stream",
     "text": [
      "Успешность при попытке попасть на собеседование.\n",
      "Сфера: Инженерия/Промышленность\n"
     ]
    },
    {
     "data": {
      "image/png": "[encoded data removed]",
      "text/plain": [
       "<Figure size 640x480 with 1 Axes>"
      ]
     },
     "metadata": {},
     "output_type": "display_data"
    }
   ],
   "source": [
    "plot('Инженерия/Промышленность')"
   ]
  },
  {
   "cell_type": "markdown",
   "id": "7336d0a2",
   "metadata": {},
   "source": [
    "видим явную склонность к возрасту 20-40. Высокие показатели для несовершеннолетних мб из-за маленького числа заявок."
   ]
  },
  {
   "cell_type": "code",
   "execution_count": 50,
   "id": "24a17956",
   "metadata": {
    "ExecuteTime": {
     "end_time": "2023-12-12T19:27:35.952635Z",
     "start_time": "2023-12-12T19:27:35.847257Z"
    }
   },
   "outputs": [
    {
     "data": {
      "text/html": [
       "<div>\n",
       "<style scoped>\n",
       "    .dataframe tbody tr th:only-of-type {\n",
       "        vertical-align: middle;\n",
       "    }\n",
       "\n",
       "    .dataframe tbody tr th {\n",
       "        vertical-align: top;\n",
       "    }\n",
       "\n",
       "    .dataframe thead th {\n",
       "        text-align: right;\n",
       "    }\n",
       "</style>\n",
       "<table border=\"1\" class=\"dataframe\">\n",
       "  <thead>\n",
       "    <tr style=\"text-align: right;\">\n",
       "      <th></th>\n",
       "      <th>topic_id</th>\n",
       "      <th>topic_creation_date</th>\n",
       "      <th>initial_state</th>\n",
       "      <th>final_state</th>\n",
       "      <th>resume_id</th>\n",
       "      <th>resume_creation_date</th>\n",
       "      <th>profession</th>\n",
       "      <th>gender</th>\n",
       "      <th>year_of_birth</th>\n",
       "      <th>resume_region</th>\n",
       "      <th>...</th>\n",
       "      <th>vacancy_region</th>\n",
       "      <th>work_schedule.1</th>\n",
       "      <th>vacancy_employment_type</th>\n",
       "      <th>compensation_from</th>\n",
       "      <th>compensation_to</th>\n",
       "      <th>vacancy_skills_list</th>\n",
       "      <th>final</th>\n",
       "      <th>age</th>\n",
       "      <th>occupation</th>\n",
       "      <th>ages_group</th>\n",
       "    </tr>\n",
       "  </thead>\n",
       "  <tbody>\n",
       "    <tr>\n",
       "      <th>76854</th>\n",
       "      <td>33cc96c73412c</td>\n",
       "      <td>2023-07-20</td>\n",
       "      <td>invitation</td>\n",
       "      <td>invitation</td>\n",
       "      <td>202l8241</td>\n",
       "      <td>2023-06-16</td>\n",
       "      <td>Сварщик</td>\n",
       "      <td>male</td>\n",
       "      <td>2005</td>\n",
       "      <td>Томская область</td>\n",
       "      <td>...</td>\n",
       "      <td>Томская область</td>\n",
       "      <td>full_day</td>\n",
       "      <td>full</td>\n",
       "      <td>50000.0</td>\n",
       "      <td>50000.0</td>\n",
       "      <td>[способность обучать других, сварочные работы,...</td>\n",
       "      <td>1</td>\n",
       "      <td>18</td>\n",
       "      <td>Инженерия/Промышленность</td>\n",
       "      <td>18-22</td>\n",
       "    </tr>\n",
       "    <tr>\n",
       "      <th>93582</th>\n",
       "      <td>3379397449</td>\n",
       "      <td>2023-08-05</td>\n",
       "      <td>response</td>\n",
       "      <td>response</td>\n",
       "      <td>20l55tf</td>\n",
       "      <td>2023-08-05</td>\n",
       "      <td>Сварщик</td>\n",
       "      <td>male</td>\n",
       "      <td>2009</td>\n",
       "      <td>Тверская область</td>\n",
       "      <td>...</td>\n",
       "      <td>Тверская область</td>\n",
       "      <td>flyInFlyOut</td>\n",
       "      <td>full</td>\n",
       "      <td>115000.0</td>\n",
       "      <td>145000.0</td>\n",
       "      <td>[сварщик вахта питание и проживание, сварщик в...</td>\n",
       "      <td>0</td>\n",
       "      <td>14</td>\n",
       "      <td>Инженерия/Промышленность</td>\n",
       "      <td>14-17</td>\n",
       "    </tr>\n",
       "    <tr>\n",
       "      <th>93583</th>\n",
       "      <td>3379397041</td>\n",
       "      <td>2023-08-05</td>\n",
       "      <td>response</td>\n",
       "      <td>discard</td>\n",
       "      <td>20l55tf</td>\n",
       "      <td>2023-08-05</td>\n",
       "      <td>Сварщик</td>\n",
       "      <td>male</td>\n",
       "      <td>2009</td>\n",
       "      <td>Тверская область</td>\n",
       "      <td>...</td>\n",
       "      <td>Тверская область</td>\n",
       "      <td>shift</td>\n",
       "      <td>full</td>\n",
       "      <td>70000.0</td>\n",
       "      <td>NaN</td>\n",
       "      <td>[чтение чертежей, владение полуавтоматической ...</td>\n",
       "      <td>0</td>\n",
       "      <td>14</td>\n",
       "      <td>Инженерия/Промышленность</td>\n",
       "      <td>14-17</td>\n",
       "    </tr>\n",
       "    <tr>\n",
       "      <th>93584</th>\n",
       "      <td>3379404120c4</td>\n",
       "      <td>2023-08-05</td>\n",
       "      <td>response</td>\n",
       "      <td>response</td>\n",
       "      <td>20l55tf</td>\n",
       "      <td>2023-08-05</td>\n",
       "      <td>Сварщик</td>\n",
       "      <td>male</td>\n",
       "      <td>2009</td>\n",
       "      <td>Тверская область</td>\n",
       "      <td>...</td>\n",
       "      <td>Тверская область</td>\n",
       "      <td>flyInFlyOut</td>\n",
       "      <td>full</td>\n",
       "      <td>140000.0</td>\n",
       "      <td>0.0</td>\n",
       "      <td>[работа в команде]</td>\n",
       "      <td>0</td>\n",
       "      <td>14</td>\n",
       "      <td>Инженерия/Промышленность</td>\n",
       "      <td>14-17</td>\n",
       "    </tr>\n",
       "    <tr>\n",
       "      <th>93585</th>\n",
       "      <td>33794041210412</td>\n",
       "      <td>2023-08-05</td>\n",
       "      <td>response</td>\n",
       "      <td>response</td>\n",
       "      <td>20l55tf</td>\n",
       "      <td>2023-08-05</td>\n",
       "      <td>Сварщик</td>\n",
       "      <td>male</td>\n",
       "      <td>2009</td>\n",
       "      <td>Тверская область</td>\n",
       "      <td>...</td>\n",
       "      <td>Тверская область</td>\n",
       "      <td>flyInFlyOut</td>\n",
       "      <td>full</td>\n",
       "      <td>112000.0</td>\n",
       "      <td>NaN</td>\n",
       "      <td>[None]</td>\n",
       "      <td>0</td>\n",
       "      <td>14</td>\n",
       "      <td>Инженерия/Промышленность</td>\n",
       "      <td>14-17</td>\n",
       "    </tr>\n",
       "    <tr>\n",
       "      <th>93595</th>\n",
       "      <td>3379396977</td>\n",
       "      <td>2023-08-05</td>\n",
       "      <td>response</td>\n",
       "      <td>invitation</td>\n",
       "      <td>20l55tf</td>\n",
       "      <td>2023-08-05</td>\n",
       "      <td>Сварщик</td>\n",
       "      <td>male</td>\n",
       "      <td>2009</td>\n",
       "      <td>Тверская область</td>\n",
       "      <td>...</td>\n",
       "      <td>Тверская область</td>\n",
       "      <td>full_day</td>\n",
       "      <td>full</td>\n",
       "      <td>70000.0</td>\n",
       "      <td>NaN</td>\n",
       "      <td>[None]</td>\n",
       "      <td>1</td>\n",
       "      <td>14</td>\n",
       "      <td>Инженерия/Промышленность</td>\n",
       "      <td>14-17</td>\n",
       "    </tr>\n",
       "    <tr>\n",
       "      <th>93648</th>\n",
       "      <td>339630c96697</td>\n",
       "      <td>2023-08-08</td>\n",
       "      <td>invitation</td>\n",
       "      <td>invitation</td>\n",
       "      <td>2055tk45k</td>\n",
       "      <td>2023-08-07</td>\n",
       "      <td>Сварщик</td>\n",
       "      <td>male</td>\n",
       "      <td>2005</td>\n",
       "      <td>Ростовская область</td>\n",
       "      <td>...</td>\n",
       "      <td>Ростовская область</td>\n",
       "      <td>full_day</td>\n",
       "      <td>full</td>\n",
       "      <td>45000.0</td>\n",
       "      <td>NaN</td>\n",
       "      <td>[None]</td>\n",
       "      <td>1</td>\n",
       "      <td>18</td>\n",
       "      <td>Инженерия/Промышленность</td>\n",
       "      <td>18-22</td>\n",
       "    </tr>\n",
       "    <tr>\n",
       "      <th>93861</th>\n",
       "      <td>33696496711</td>\n",
       "      <td>2023-07-29</td>\n",
       "      <td>response</td>\n",
       "      <td>invitation</td>\n",
       "      <td>20bk4tt82</td>\n",
       "      <td>2023-07-06</td>\n",
       "      <td>Сварщик</td>\n",
       "      <td>male</td>\n",
       "      <td>2005</td>\n",
       "      <td>Астраханская область</td>\n",
       "      <td>...</td>\n",
       "      <td>Астраханская область</td>\n",
       "      <td>shift</td>\n",
       "      <td>full</td>\n",
       "      <td>30800.0</td>\n",
       "      <td>0.0</td>\n",
       "      <td>[деловое общение, активные продажи, навыки про...</td>\n",
       "      <td>1</td>\n",
       "      <td>18</td>\n",
       "      <td>Инженерия/Промышленность</td>\n",
       "      <td>18-22</td>\n",
       "    </tr>\n",
       "    <tr>\n",
       "      <th>94039</th>\n",
       "      <td>33412c4c96613</td>\n",
       "      <td>2023-06-30</td>\n",
       "      <td>invitation</td>\n",
       "      <td>invitation</td>\n",
       "      <td>20b2b804k</td>\n",
       "      <td>2023-06-28</td>\n",
       "      <td>Сварщик</td>\n",
       "      <td>male</td>\n",
       "      <td>2005</td>\n",
       "      <td>Воронежская область</td>\n",
       "      <td>...</td>\n",
       "      <td>Воронежская область</td>\n",
       "      <td>full_day</td>\n",
       "      <td>full</td>\n",
       "      <td>45000.0</td>\n",
       "      <td>0.0</td>\n",
       "      <td>[умение работать с клиентами, уверенный пользо...</td>\n",
       "      <td>1</td>\n",
       "      <td>18</td>\n",
       "      <td>Инженерия/Промышленность</td>\n",
       "      <td>18-22</td>\n",
       "    </tr>\n",
       "    <tr>\n",
       "      <th>94256</th>\n",
       "      <td>33903669669</td>\n",
       "      <td>2023-08-12</td>\n",
       "      <td>response</td>\n",
       "      <td>discard</td>\n",
       "      <td>1tk2t4525</td>\n",
       "      <td>2023-02-28</td>\n",
       "      <td>Сварщик</td>\n",
       "      <td>male</td>\n",
       "      <td>2005</td>\n",
       "      <td>Московская область</td>\n",
       "      <td>...</td>\n",
       "      <td>Московская область</td>\n",
       "      <td>full_day</td>\n",
       "      <td>full</td>\n",
       "      <td>80000.0</td>\n",
       "      <td>150000.0</td>\n",
       "      <td>[монтаж оборудования, сварочные работы, монтаж...</td>\n",
       "      <td>0</td>\n",
       "      <td>18</td>\n",
       "      <td>Инженерия/Промышленность</td>\n",
       "      <td>18-22</td>\n",
       "    </tr>\n",
       "    <tr>\n",
       "      <th>99825</th>\n",
       "      <td>341294124129636961</td>\n",
       "      <td>2023-06-07</td>\n",
       "      <td>response</td>\n",
       "      <td>response</td>\n",
       "      <td>201t8248b</td>\n",
       "      <td>2023-06-06</td>\n",
       "      <td>Сварщик</td>\n",
       "      <td>male</td>\n",
       "      <td>2009</td>\n",
       "      <td>Ханты-Мансийский АО - Югра</td>\n",
       "      <td>...</td>\n",
       "      <td>Ханты-Мансийский АО - Югра</td>\n",
       "      <td>flyInFlyOut</td>\n",
       "      <td>full</td>\n",
       "      <td>0.0</td>\n",
       "      <td>240000.0</td>\n",
       "      <td>[сварочные работы, сварка]</td>\n",
       "      <td>0</td>\n",
       "      <td>14</td>\n",
       "      <td>Инженерия/Промышленность</td>\n",
       "      <td>14-17</td>\n",
       "    </tr>\n",
       "    <tr>\n",
       "      <th>99875</th>\n",
       "      <td>3396b412c317</td>\n",
       "      <td>2023-08-08</td>\n",
       "      <td>invitation</td>\n",
       "      <td>invitation</td>\n",
       "      <td>1tt58k6l</td>\n",
       "      <td>2023-04-15</td>\n",
       "      <td>Сварщик</td>\n",
       "      <td>male</td>\n",
       "      <td>2005</td>\n",
       "      <td>Тверская область</td>\n",
       "      <td>...</td>\n",
       "      <td>Тверская область</td>\n",
       "      <td>shift</td>\n",
       "      <td>full</td>\n",
       "      <td>55000.0</td>\n",
       "      <td>NaN</td>\n",
       "      <td>[усердность, опрятный внешний вид, сварка, раб...</td>\n",
       "      <td>1</td>\n",
       "      <td>18</td>\n",
       "      <td>Инженерия/Промышленность</td>\n",
       "      <td>18-22</td>\n",
       "    </tr>\n",
       "    <tr>\n",
       "      <th>106147</th>\n",
       "      <td>3339696c33966</td>\n",
       "      <td>2023-07-10</td>\n",
       "      <td>response</td>\n",
       "      <td>response</td>\n",
       "      <td>201811k1k</td>\n",
       "      <td>2023-06-03</td>\n",
       "      <td>Слесарь, сантехник</td>\n",
       "      <td>male</td>\n",
       "      <td>2009</td>\n",
       "      <td>Амурская область</td>\n",
       "      <td>...</td>\n",
       "      <td>Амурская область</td>\n",
       "      <td>full_day</td>\n",
       "      <td>full</td>\n",
       "      <td>50000.0</td>\n",
       "      <td>NaN</td>\n",
       "      <td>[точность и внимательность к деталям, вынослив...</td>\n",
       "      <td>0</td>\n",
       "      <td>14</td>\n",
       "      <td>Инженерия/Промышленность</td>\n",
       "      <td>14-17</td>\n",
       "    </tr>\n",
       "    <tr>\n",
       "      <th>147785</th>\n",
       "      <td>331c03964964</td>\n",
       "      <td>2023-06-23</td>\n",
       "      <td>response</td>\n",
       "      <td>response</td>\n",
       "      <td>202tb1t55</td>\n",
       "      <td>2023-06-23</td>\n",
       "      <td>Слесарь, сантехник</td>\n",
       "      <td>male</td>\n",
       "      <td>2006</td>\n",
       "      <td>Москва</td>\n",
       "      <td>...</td>\n",
       "      <td>Москва</td>\n",
       "      <td>full_day</td>\n",
       "      <td>full</td>\n",
       "      <td>100000.0</td>\n",
       "      <td>NaN</td>\n",
       "      <td>[None]</td>\n",
       "      <td>0</td>\n",
       "      <td>17</td>\n",
       "      <td>Инженерия/Промышленность</td>\n",
       "      <td>14-17</td>\n",
       "    </tr>\n",
       "    <tr>\n",
       "      <th>147786</th>\n",
       "      <td>331c019764</td>\n",
       "      <td>2023-06-23</td>\n",
       "      <td>response</td>\n",
       "      <td>response</td>\n",
       "      <td>202tb1t55</td>\n",
       "      <td>2023-06-23</td>\n",
       "      <td>Слесарь, сантехник</td>\n",
       "      <td>male</td>\n",
       "      <td>2006</td>\n",
       "      <td>Москва</td>\n",
       "      <td>...</td>\n",
       "      <td>Москва</td>\n",
       "      <td>full_day</td>\n",
       "      <td>project</td>\n",
       "      <td>40000.0</td>\n",
       "      <td>100000.0</td>\n",
       "      <td>[чтение схем, smd монтаж, монтаж оборудования,...</td>\n",
       "      <td>0</td>\n",
       "      <td>17</td>\n",
       "      <td>Инженерия/Промышленность</td>\n",
       "      <td>14-17</td>\n",
       "    </tr>\n",
       "    <tr>\n",
       "      <th>147862</th>\n",
       "      <td>331c412c3c33</td>\n",
       "      <td>2023-06-23</td>\n",
       "      <td>response</td>\n",
       "      <td>response</td>\n",
       "      <td>202tb1t55</td>\n",
       "      <td>2023-06-23</td>\n",
       "      <td>Слесарь, сантехник</td>\n",
       "      <td>male</td>\n",
       "      <td>2006</td>\n",
       "      <td>Москва</td>\n",
       "      <td>...</td>\n",
       "      <td>Москва</td>\n",
       "      <td>shift</td>\n",
       "      <td>full</td>\n",
       "      <td>NaN</td>\n",
       "      <td>97150.0</td>\n",
       "      <td>[системы мониторинга, глонасс, скуд, тестирова...</td>\n",
       "      <td>0</td>\n",
       "      <td>17</td>\n",
       "      <td>Инженерия/Промышленность</td>\n",
       "      <td>14-17</td>\n",
       "    </tr>\n",
       "    <tr>\n",
       "      <th>147864</th>\n",
       "      <td>331c41240931</td>\n",
       "      <td>2023-06-23</td>\n",
       "      <td>response</td>\n",
       "      <td>response</td>\n",
       "      <td>202tb1t55</td>\n",
       "      <td>2023-06-23</td>\n",
       "      <td>Слесарь, сантехник</td>\n",
       "      <td>male</td>\n",
       "      <td>2006</td>\n",
       "      <td>Москва</td>\n",
       "      <td>...</td>\n",
       "      <td>Москва</td>\n",
       "      <td>full_day</td>\n",
       "      <td>full</td>\n",
       "      <td>90000.0</td>\n",
       "      <td>NaN</td>\n",
       "      <td>[None]</td>\n",
       "      <td>0</td>\n",
       "      <td>17</td>\n",
       "      <td>Инженерия/Промышленность</td>\n",
       "      <td>14-17</td>\n",
       "    </tr>\n",
       "    <tr>\n",
       "      <th>147869</th>\n",
       "      <td>331c041273c6</td>\n",
       "      <td>2023-06-23</td>\n",
       "      <td>response</td>\n",
       "      <td>response</td>\n",
       "      <td>202tb1t55</td>\n",
       "      <td>2023-06-23</td>\n",
       "      <td>Слесарь, сантехник</td>\n",
       "      <td>male</td>\n",
       "      <td>2006</td>\n",
       "      <td>Москва</td>\n",
       "      <td>...</td>\n",
       "      <td>Москва</td>\n",
       "      <td>full_day</td>\n",
       "      <td>full</td>\n",
       "      <td>0.0</td>\n",
       "      <td>80000.0</td>\n",
       "      <td>[приборостроение, работа на производстве, элек...</td>\n",
       "      <td>0</td>\n",
       "      <td>17</td>\n",
       "      <td>Инженерия/Промышленность</td>\n",
       "      <td>14-17</td>\n",
       "    </tr>\n",
       "    <tr>\n",
       "      <th>172455</th>\n",
       "      <td>3341217406396</td>\n",
       "      <td>2023-06-28</td>\n",
       "      <td>response</td>\n",
       "      <td>response</td>\n",
       "      <td>20282056b</td>\n",
       "      <td>2023-06-21</td>\n",
       "      <td>Слесарь, сантехник</td>\n",
       "      <td>male</td>\n",
       "      <td>2005</td>\n",
       "      <td>Москва</td>\n",
       "      <td>...</td>\n",
       "      <td>Москва</td>\n",
       "      <td>flexible</td>\n",
       "      <td>part</td>\n",
       "      <td>0.0</td>\n",
       "      <td>40000.0</td>\n",
       "      <td>[None]</td>\n",
       "      <td>0</td>\n",
       "      <td>18</td>\n",
       "      <td>Инженерия/Промышленность</td>\n",
       "      <td>18-22</td>\n",
       "    </tr>\n",
       "    <tr>\n",
       "      <th>172495</th>\n",
       "      <td>3341217403c3</td>\n",
       "      <td>2023-06-28</td>\n",
       "      <td>response</td>\n",
       "      <td>response</td>\n",
       "      <td>20282056b</td>\n",
       "      <td>2023-06-21</td>\n",
       "      <td>Слесарь, сантехник</td>\n",
       "      <td>male</td>\n",
       "      <td>2005</td>\n",
       "      <td>Москва</td>\n",
       "      <td>...</td>\n",
       "      <td>Москва</td>\n",
       "      <td>full_day</td>\n",
       "      <td>probation</td>\n",
       "      <td>31000.0</td>\n",
       "      <td>33000.0</td>\n",
       "      <td>[None]</td>\n",
       "      <td>0</td>\n",
       "      <td>18</td>\n",
       "      <td>Инженерия/Промышленность</td>\n",
       "      <td>18-22</td>\n",
       "    </tr>\n",
       "    <tr>\n",
       "      <th>173193</th>\n",
       "      <td>33116639667</td>\n",
       "      <td>2023-06-21</td>\n",
       "      <td>response</td>\n",
       "      <td>response</td>\n",
       "      <td>202805kbk</td>\n",
       "      <td>2023-06-21</td>\n",
       "      <td>Слесарь, сантехник</td>\n",
       "      <td>male</td>\n",
       "      <td>2006</td>\n",
       "      <td>Москва</td>\n",
       "      <td>...</td>\n",
       "      <td>Москва</td>\n",
       "      <td>full_day</td>\n",
       "      <td>full</td>\n",
       "      <td>80000.0</td>\n",
       "      <td>NaN</td>\n",
       "      <td>[None]</td>\n",
       "      <td>0</td>\n",
       "      <td>17</td>\n",
       "      <td>Инженерия/Промышленность</td>\n",
       "      <td>14-17</td>\n",
       "    </tr>\n",
       "    <tr>\n",
       "      <th>173195</th>\n",
       "      <td>3311671964129</td>\n",
       "      <td>2023-06-21</td>\n",
       "      <td>response</td>\n",
       "      <td>response</td>\n",
       "      <td>202805kbk</td>\n",
       "      <td>2023-06-21</td>\n",
       "      <td>Слесарь, сантехник</td>\n",
       "      <td>male</td>\n",
       "      <td>2006</td>\n",
       "      <td>Москва</td>\n",
       "      <td>...</td>\n",
       "      <td>Москва</td>\n",
       "      <td>shift</td>\n",
       "      <td>full</td>\n",
       "      <td>56715.0</td>\n",
       "      <td>105860.0</td>\n",
       "      <td>[None]</td>\n",
       "      <td>0</td>\n",
       "      <td>17</td>\n",
       "      <td>Инженерия/Промышленность</td>\n",
       "      <td>14-17</td>\n",
       "    </tr>\n",
       "    <tr>\n",
       "      <th>173196</th>\n",
       "      <td>3311733961</td>\n",
       "      <td>2023-06-21</td>\n",
       "      <td>response</td>\n",
       "      <td>response</td>\n",
       "      <td>202805kbk</td>\n",
       "      <td>2023-06-21</td>\n",
       "      <td>Слесарь, сантехник</td>\n",
       "      <td>male</td>\n",
       "      <td>2006</td>\n",
       "      <td>Москва</td>\n",
       "      <td>...</td>\n",
       "      <td>Москва</td>\n",
       "      <td>full_day</td>\n",
       "      <td>full</td>\n",
       "      <td>45000.0</td>\n",
       "      <td>NaN</td>\n",
       "      <td>[чертежи, аккуратность, ответственность, работ...</td>\n",
       "      <td>0</td>\n",
       "      <td>17</td>\n",
       "      <td>Инженерия/Промышленность</td>\n",
       "      <td>14-17</td>\n",
       "    </tr>\n",
       "    <tr>\n",
       "      <th>173200</th>\n",
       "      <td>331174120433</td>\n",
       "      <td>2023-06-21</td>\n",
       "      <td>response</td>\n",
       "      <td>response</td>\n",
       "      <td>202805kbk</td>\n",
       "      <td>2023-06-21</td>\n",
       "      <td>Слесарь, сантехник</td>\n",
       "      <td>male</td>\n",
       "      <td>2006</td>\n",
       "      <td>Москва</td>\n",
       "      <td>...</td>\n",
       "      <td>Москва</td>\n",
       "      <td>shift</td>\n",
       "      <td>full</td>\n",
       "      <td>90000.0</td>\n",
       "      <td>140000.0</td>\n",
       "      <td>[техническая грамотность, ремонтные работы, зн...</td>\n",
       "      <td>0</td>\n",
       "      <td>17</td>\n",
       "      <td>Инженерия/Промышленность</td>\n",
       "      <td>14-17</td>\n",
       "    </tr>\n",
       "    <tr>\n",
       "      <th>174255</th>\n",
       "      <td>33964121960c412</td>\n",
       "      <td>2023-08-16</td>\n",
       "      <td>response</td>\n",
       "      <td>response</td>\n",
       "      <td>20441k8t8</td>\n",
       "      <td>2023-07-17</td>\n",
       "      <td>Оператор производственной линии</td>\n",
       "      <td>female</td>\n",
       "      <td>2005</td>\n",
       "      <td>Челябинская область</td>\n",
       "      <td>...</td>\n",
       "      <td>Челябинская область</td>\n",
       "      <td>full_day</td>\n",
       "      <td>full</td>\n",
       "      <td>21000.0</td>\n",
       "      <td>29000.0</td>\n",
       "      <td>[None]</td>\n",
       "      <td>0</td>\n",
       "      <td>18</td>\n",
       "      <td>Инженерия/Промышленность</td>\n",
       "      <td>18-22</td>\n",
       "    </tr>\n",
       "    <tr>\n",
       "      <th>174541</th>\n",
       "      <td>b14129641269641296</td>\n",
       "      <td>2023-08-27</td>\n",
       "      <td>response</td>\n",
       "      <td>invitation</td>\n",
       "      <td>1t856188k</td>\n",
       "      <td>2023-03-26</td>\n",
       "      <td>Оператор производственной линии</td>\n",
       "      <td>female</td>\n",
       "      <td>2007</td>\n",
       "      <td>Санкт-Петербург</td>\n",
       "      <td>...</td>\n",
       "      <td>Санкт-Петербург</td>\n",
       "      <td>shift</td>\n",
       "      <td>part</td>\n",
       "      <td>94000.0</td>\n",
       "      <td>229000.0</td>\n",
       "      <td>[None]</td>\n",
       "      <td>1</td>\n",
       "      <td>16</td>\n",
       "      <td>Инженерия/Промышленность</td>\n",
       "      <td>14-17</td>\n",
       "    </tr>\n",
       "    <tr>\n",
       "      <th>174551</th>\n",
       "      <td>3301c970412c</td>\n",
       "      <td>2023-06-14</td>\n",
       "      <td>response</td>\n",
       "      <td>invitation</td>\n",
       "      <td>1t856188k</td>\n",
       "      <td>2023-03-26</td>\n",
       "      <td>Оператор производственной линии</td>\n",
       "      <td>female</td>\n",
       "      <td>2007</td>\n",
       "      <td>Санкт-Петербург</td>\n",
       "      <td>...</td>\n",
       "      <td>Санкт-Петербург</td>\n",
       "      <td>flexible</td>\n",
       "      <td>full</td>\n",
       "      <td>34000.0</td>\n",
       "      <td>50000.0</td>\n",
       "      <td>[None]</td>\n",
       "      <td>1</td>\n",
       "      <td>16</td>\n",
       "      <td>Инженерия/Промышленность</td>\n",
       "      <td>14-17</td>\n",
       "    </tr>\n",
       "    <tr>\n",
       "      <th>193550</th>\n",
       "      <td>33c39c79614</td>\n",
       "      <td>2023-07-19</td>\n",
       "      <td>response</td>\n",
       "      <td>invitation</td>\n",
       "      <td>20fk0b26</td>\n",
       "      <td>2023-05-23</td>\n",
       "      <td>Инженер-конструктор, инженер-проектировщик</td>\n",
       "      <td>male</td>\n",
       "      <td>2005</td>\n",
       "      <td>Москва</td>\n",
       "      <td>...</td>\n",
       "      <td>Москва</td>\n",
       "      <td>flexible</td>\n",
       "      <td>part</td>\n",
       "      <td>NaN</td>\n",
       "      <td>115000.0</td>\n",
       "      <td>[телефонные переговоры, деловое общение, умени...</td>\n",
       "      <td>1</td>\n",
       "      <td>18</td>\n",
       "      <td>Инженерия/Промышленность</td>\n",
       "      <td>18-22</td>\n",
       "    </tr>\n",
       "    <tr>\n",
       "      <th>194198</th>\n",
       "      <td>b01131104</td>\n",
       "      <td>2023-08-19</td>\n",
       "      <td>response</td>\n",
       "      <td>invitation</td>\n",
       "      <td>2046856b4</td>\n",
       "      <td>2023-07-22</td>\n",
       "      <td>Оператор производственной линии</td>\n",
       "      <td>female</td>\n",
       "      <td>2005</td>\n",
       "      <td>Ростовская область</td>\n",
       "      <td>...</td>\n",
       "      <td>Ростовская область</td>\n",
       "      <td>remote</td>\n",
       "      <td>part</td>\n",
       "      <td>60000.0</td>\n",
       "      <td>80000.0</td>\n",
       "      <td>[None]</td>\n",
       "      <td>1</td>\n",
       "      <td>18</td>\n",
       "      <td>Инженерия/Промышленность</td>\n",
       "      <td>18-22</td>\n",
       "    </tr>\n",
       "    <tr>\n",
       "      <th>194202</th>\n",
       "      <td>b011304120c</td>\n",
       "      <td>2023-08-19</td>\n",
       "      <td>response</td>\n",
       "      <td>invitation</td>\n",
       "      <td>2046856b4</td>\n",
       "      <td>2023-07-22</td>\n",
       "      <td>Оператор производственной линии</td>\n",
       "      <td>female</td>\n",
       "      <td>2005</td>\n",
       "      <td>Ростовская область</td>\n",
       "      <td>...</td>\n",
       "      <td>Ростовская область</td>\n",
       "      <td>remote</td>\n",
       "      <td>part</td>\n",
       "      <td>15000.0</td>\n",
       "      <td>33000.0</td>\n",
       "      <td>[четкая дикция, проведение опросов общественно...</td>\n",
       "      <td>1</td>\n",
       "      <td>18</td>\n",
       "      <td>Инженерия/Промышленность</td>\n",
       "      <td>18-22</td>\n",
       "    </tr>\n",
       "    <tr>\n",
       "      <th>200923</th>\n",
       "      <td>b16964096496</td>\n",
       "      <td>2023-08-29</td>\n",
       "      <td>response</td>\n",
       "      <td>response</td>\n",
       "      <td>2068162t5</td>\n",
       "      <td>2023-08-29</td>\n",
       "      <td>Машинист</td>\n",
       "      <td>male</td>\n",
       "      <td>2005</td>\n",
       "      <td>Санкт-Петербург</td>\n",
       "      <td>...</td>\n",
       "      <td>Санкт-Петербург</td>\n",
       "      <td>shift</td>\n",
       "      <td>full</td>\n",
       "      <td>85000.0</td>\n",
       "      <td>NaN</td>\n",
       "      <td>[уборочная техника, трактор мтз]</td>\n",
       "      <td>0</td>\n",
       "      <td>18</td>\n",
       "      <td>Инженерия/Промышленность</td>\n",
       "      <td>18-22</td>\n",
       "    </tr>\n",
       "    <tr>\n",
       "      <th>207971</th>\n",
       "      <td>33793996c71</td>\n",
       "      <td>2023-08-05</td>\n",
       "      <td>response</td>\n",
       "      <td>response</td>\n",
       "      <td>20l55tf</td>\n",
       "      <td>2023-08-05</td>\n",
       "      <td>Сварщик</td>\n",
       "      <td>male</td>\n",
       "      <td>2009</td>\n",
       "      <td>Тверская область</td>\n",
       "      <td>...</td>\n",
       "      <td>Тверская область</td>\n",
       "      <td>full_day</td>\n",
       "      <td>full</td>\n",
       "      <td>50000.0</td>\n",
       "      <td>80000.0</td>\n",
       "      <td>[None]</td>\n",
       "      <td>0</td>\n",
       "      <td>14</td>\n",
       "      <td>Инженерия/Промышленность</td>\n",
       "      <td>14-17</td>\n",
       "    </tr>\n",
       "    <tr>\n",
       "      <th>207973</th>\n",
       "      <td>3379396647</td>\n",
       "      <td>2023-08-05</td>\n",
       "      <td>response</td>\n",
       "      <td>response</td>\n",
       "      <td>20l55tf</td>\n",
       "      <td>2023-08-05</td>\n",
       "      <td>Сварщик</td>\n",
       "      <td>male</td>\n",
       "      <td>2009</td>\n",
       "      <td>Тверская область</td>\n",
       "      <td>...</td>\n",
       "      <td>Тверская область</td>\n",
       "      <td>full_day</td>\n",
       "      <td>full</td>\n",
       "      <td>70000.0</td>\n",
       "      <td>NaN</td>\n",
       "      <td>[работа с чертежами, чтение чертежей, сварочны...</td>\n",
       "      <td>0</td>\n",
       "      <td>14</td>\n",
       "      <td>Инженерия/Промышленность</td>\n",
       "      <td>14-17</td>\n",
       "    </tr>\n",
       "    <tr>\n",
       "      <th>208198</th>\n",
       "      <td>336341244369</td>\n",
       "      <td>2023-07-25</td>\n",
       "      <td>invitation</td>\n",
       "      <td>invitation</td>\n",
       "      <td>2046682tk</td>\n",
       "      <td>2023-07-21</td>\n",
       "      <td>Сварщик</td>\n",
       "      <td>male</td>\n",
       "      <td>2005</td>\n",
       "      <td>Республика Крым</td>\n",
       "      <td>...</td>\n",
       "      <td>Краснодарский край</td>\n",
       "      <td>full_day</td>\n",
       "      <td>full</td>\n",
       "      <td>80000.0</td>\n",
       "      <td>130000.0</td>\n",
       "      <td>[None]</td>\n",
       "      <td>1</td>\n",
       "      <td>18</td>\n",
       "      <td>Инженерия/Промышленность</td>\n",
       "      <td>18-22</td>\n",
       "    </tr>\n",
       "    <tr>\n",
       "      <th>208238</th>\n",
       "      <td>33c4093999</td>\n",
       "      <td>2023-07-19</td>\n",
       "      <td>response</td>\n",
       "      <td>response</td>\n",
       "      <td>14kkb056k</td>\n",
       "      <td>2021-03-20</td>\n",
       "      <td>Сварщик</td>\n",
       "      <td>male</td>\n",
       "      <td>2005</td>\n",
       "      <td>Оренбургская область</td>\n",
       "      <td>...</td>\n",
       "      <td>Оренбургская область</td>\n",
       "      <td>full_day</td>\n",
       "      <td>probation</td>\n",
       "      <td>45000.0</td>\n",
       "      <td>0.0</td>\n",
       "      <td>[грамотная устная и письменная речь, навыки об...</td>\n",
       "      <td>0</td>\n",
       "      <td>18</td>\n",
       "      <td>Инженерия/Промышленность</td>\n",
       "      <td>18-22</td>\n",
       "    </tr>\n",
       "    <tr>\n",
       "      <th>208239</th>\n",
       "      <td>3b96690796</td>\n",
       "      <td>2023-07-17</td>\n",
       "      <td>response</td>\n",
       "      <td>invitation</td>\n",
       "      <td>14kkb056k</td>\n",
       "      <td>2021-03-20</td>\n",
       "      <td>Сварщик</td>\n",
       "      <td>male</td>\n",
       "      <td>2005</td>\n",
       "      <td>Оренбургская область</td>\n",
       "      <td>...</td>\n",
       "      <td>Оренбургская область</td>\n",
       "      <td>flexible</td>\n",
       "      <td>part</td>\n",
       "      <td>78000.0</td>\n",
       "      <td>138200.0</td>\n",
       "      <td>[None]</td>\n",
       "      <td>1</td>\n",
       "      <td>18</td>\n",
       "      <td>Инженерия/Промышленность</td>\n",
       "      <td>18-22</td>\n",
       "    </tr>\n",
       "    <tr>\n",
       "      <th>208243</th>\n",
       "      <td>33c46c7769</td>\n",
       "      <td>2023-07-19</td>\n",
       "      <td>response</td>\n",
       "      <td>response</td>\n",
       "      <td>14kkb056k</td>\n",
       "      <td>2021-03-20</td>\n",
       "      <td>Сварщик</td>\n",
       "      <td>male</td>\n",
       "      <td>2005</td>\n",
       "      <td>Оренбургская область</td>\n",
       "      <td>...</td>\n",
       "      <td>Оренбургская область</td>\n",
       "      <td>flexible</td>\n",
       "      <td>part</td>\n",
       "      <td>30000.0</td>\n",
       "      <td>35000.0</td>\n",
       "      <td>[None]</td>\n",
       "      <td>0</td>\n",
       "      <td>18</td>\n",
       "      <td>Инженерия/Промышленность</td>\n",
       "      <td>18-22</td>\n",
       "    </tr>\n",
       "    <tr>\n",
       "      <th>208244</th>\n",
       "      <td>33c1469641209</td>\n",
       "      <td>2023-07-18</td>\n",
       "      <td>response</td>\n",
       "      <td>discard</td>\n",
       "      <td>14kkb056k</td>\n",
       "      <td>2021-03-20</td>\n",
       "      <td>Сварщик</td>\n",
       "      <td>male</td>\n",
       "      <td>2005</td>\n",
       "      <td>Оренбургская область</td>\n",
       "      <td>...</td>\n",
       "      <td>Оренбургская область</td>\n",
       "      <td>flexible</td>\n",
       "      <td>full</td>\n",
       "      <td>25000.0</td>\n",
       "      <td>NaN</td>\n",
       "      <td>[интернет-реклама, управление отношениями с кл...</td>\n",
       "      <td>0</td>\n",
       "      <td>18</td>\n",
       "      <td>Инженерия/Промышленность</td>\n",
       "      <td>18-22</td>\n",
       "    </tr>\n",
       "    <tr>\n",
       "      <th>219169</th>\n",
       "      <td>3369396c9966</td>\n",
       "      <td>2023-07-29</td>\n",
       "      <td>response</td>\n",
       "      <td>invitation</td>\n",
       "      <td>2024lkb8</td>\n",
       "      <td>2023-06-15</td>\n",
       "      <td>Инженер-конструктор, инженер-проектировщик</td>\n",
       "      <td>female</td>\n",
       "      <td>2006</td>\n",
       "      <td>Москва</td>\n",
       "      <td>...</td>\n",
       "      <td>Москва</td>\n",
       "      <td>remote</td>\n",
       "      <td>probation</td>\n",
       "      <td>25000.0</td>\n",
       "      <td>0.0</td>\n",
       "      <td>[power bi, аналитический склад ума, работа в к...</td>\n",
       "      <td>1</td>\n",
       "      <td>17</td>\n",
       "      <td>Инженерия/Промышленность</td>\n",
       "      <td>14-17</td>\n",
       "    </tr>\n",
       "    <tr>\n",
       "      <th>227764</th>\n",
       "      <td>3341213c9c77</td>\n",
       "      <td>2023-06-28</td>\n",
       "      <td>response</td>\n",
       "      <td>invitation</td>\n",
       "      <td>186225840</td>\n",
       "      <td>2022-07-22</td>\n",
       "      <td>Технолог</td>\n",
       "      <td>female</td>\n",
       "      <td>2005</td>\n",
       "      <td>Новосибирская область</td>\n",
       "      <td>...</td>\n",
       "      <td>Новосибирская область</td>\n",
       "      <td>shift</td>\n",
       "      <td>full</td>\n",
       "      <td>37000.0</td>\n",
       "      <td>45000.0</td>\n",
       "      <td>[None]</td>\n",
       "      <td>1</td>\n",
       "      <td>18</td>\n",
       "      <td>Инженерия/Промышленность</td>\n",
       "      <td>18-22</td>\n",
       "    </tr>\n",
       "    <tr>\n",
       "      <th>227765</th>\n",
       "      <td>33412341260141296</td>\n",
       "      <td>2023-06-29</td>\n",
       "      <td>response</td>\n",
       "      <td>invitation</td>\n",
       "      <td>186225840</td>\n",
       "      <td>2022-07-22</td>\n",
       "      <td>Технолог</td>\n",
       "      <td>female</td>\n",
       "      <td>2005</td>\n",
       "      <td>Новосибирская область</td>\n",
       "      <td>...</td>\n",
       "      <td>Новосибирская область</td>\n",
       "      <td>full_day</td>\n",
       "      <td>full</td>\n",
       "      <td>40000.0</td>\n",
       "      <td>80000.0</td>\n",
       "      <td>[быстрое обучение, внимательность к мелочам, д...</td>\n",
       "      <td>1</td>\n",
       "      <td>18</td>\n",
       "      <td>Инженерия/Промышленность</td>\n",
       "      <td>18-22</td>\n",
       "    </tr>\n",
       "    <tr>\n",
       "      <th>247394</th>\n",
       "      <td>3b436412c39</td>\n",
       "      <td>2023-07-12</td>\n",
       "      <td>response</td>\n",
       "      <td>response</td>\n",
       "      <td>16162k040</td>\n",
       "      <td>2022-01-29</td>\n",
       "      <td>Оператор производственной линии</td>\n",
       "      <td>male</td>\n",
       "      <td>2005</td>\n",
       "      <td>Республика Башкортостан</td>\n",
       "      <td>...</td>\n",
       "      <td>Краснодарский край</td>\n",
       "      <td>full_day</td>\n",
       "      <td>full</td>\n",
       "      <td>32400.0</td>\n",
       "      <td>0.0</td>\n",
       "      <td>[None]</td>\n",
       "      <td>0</td>\n",
       "      <td>18</td>\n",
       "      <td>Инженерия/Промышленность</td>\n",
       "      <td>18-22</td>\n",
       "    </tr>\n",
       "    <tr>\n",
       "      <th>249334</th>\n",
       "      <td>3b091412c71</td>\n",
       "      <td>2023-07-11</td>\n",
       "      <td>response</td>\n",
       "      <td>response</td>\n",
       "      <td>14kkb056k</td>\n",
       "      <td>2021-03-20</td>\n",
       "      <td>Сварщик</td>\n",
       "      <td>male</td>\n",
       "      <td>2005</td>\n",
       "      <td>Оренбургская область</td>\n",
       "      <td>...</td>\n",
       "      <td>Оренбургская область</td>\n",
       "      <td>shift</td>\n",
       "      <td>full</td>\n",
       "      <td>60000.0</td>\n",
       "      <td>NaN</td>\n",
       "      <td>[консультативные продажи, активные продажи, пр...</td>\n",
       "      <td>0</td>\n",
       "      <td>18</td>\n",
       "      <td>Инженерия/Промышленность</td>\n",
       "      <td>18-22</td>\n",
       "    </tr>\n",
       "    <tr>\n",
       "      <th>249379</th>\n",
       "      <td>33796696199</td>\n",
       "      <td>2023-08-05</td>\n",
       "      <td>response</td>\n",
       "      <td>response</td>\n",
       "      <td>20l6151t</td>\n",
       "      <td>2023-08-05</td>\n",
       "      <td>Сварщик</td>\n",
       "      <td>male</td>\n",
       "      <td>2009</td>\n",
       "      <td>Московская область</td>\n",
       "      <td>...</td>\n",
       "      <td>Московская область</td>\n",
       "      <td>full_day</td>\n",
       "      <td>full</td>\n",
       "      <td>85000.0</td>\n",
       "      <td>0.0</td>\n",
       "      <td>[сварка, работа с чертежами, сварочные работы,...</td>\n",
       "      <td>0</td>\n",
       "      <td>14</td>\n",
       "      <td>Инженерия/Промышленность</td>\n",
       "      <td>14-17</td>\n",
       "    </tr>\n",
       "    <tr>\n",
       "      <th>249673</th>\n",
       "      <td>334124470c412c</td>\n",
       "      <td>2023-06-29</td>\n",
       "      <td>response</td>\n",
       "      <td>invitation</td>\n",
       "      <td>1b1f1tt5</td>\n",
       "      <td>2020-03-01</td>\n",
       "      <td>Сварщик</td>\n",
       "      <td>male</td>\n",
       "      <td>2005</td>\n",
       "      <td>Тверская область</td>\n",
       "      <td>...</td>\n",
       "      <td>Тверская область</td>\n",
       "      <td>remote</td>\n",
       "      <td>full</td>\n",
       "      <td>38000.0</td>\n",
       "      <td>NaN</td>\n",
       "      <td>[None]</td>\n",
       "      <td>1</td>\n",
       "      <td>18</td>\n",
       "      <td>Инженерия/Промышленность</td>\n",
       "      <td>18-22</td>\n",
       "    </tr>\n",
       "    <tr>\n",
       "      <th>257835</th>\n",
       "      <td>330c011146</td>\n",
       "      <td>2023-06-16</td>\n",
       "      <td>response</td>\n",
       "      <td>invitation</td>\n",
       "      <td>201ttktk5</td>\n",
       "      <td>2023-06-06</td>\n",
       "      <td>Инженер-конструктор, инженер-проектировщик</td>\n",
       "      <td>male</td>\n",
       "      <td>2005</td>\n",
       "      <td>Москва</td>\n",
       "      <td>...</td>\n",
       "      <td>Москва</td>\n",
       "      <td>flexible</td>\n",
       "      <td>part</td>\n",
       "      <td>NaN</td>\n",
       "      <td>115000.0</td>\n",
       "      <td>[умение общаться с людьми, терпение, доставка ...</td>\n",
       "      <td>1</td>\n",
       "      <td>18</td>\n",
       "      <td>Инженерия/Промышленность</td>\n",
       "      <td>18-22</td>\n",
       "    </tr>\n",
       "    <tr>\n",
       "      <th>302521</th>\n",
       "      <td>333c76916c</td>\n",
       "      <td>2023-07-07</td>\n",
       "      <td>response</td>\n",
       "      <td>response</td>\n",
       "      <td>20bkkt1tt</td>\n",
       "      <td>2023-07-07</td>\n",
       "      <td>Сервисный инженер, инженер-механик</td>\n",
       "      <td>male</td>\n",
       "      <td>2005</td>\n",
       "      <td>Пензенская область</td>\n",
       "      <td>...</td>\n",
       "      <td>Пензенская область</td>\n",
       "      <td>flexible</td>\n",
       "      <td>part</td>\n",
       "      <td>20000.0</td>\n",
       "      <td>0.0</td>\n",
       "      <td>[установка по, техническое обслуживание, настр...</td>\n",
       "      <td>0</td>\n",
       "      <td>18</td>\n",
       "      <td>Инженерия/Промышленность</td>\n",
       "      <td>18-22</td>\n",
       "    </tr>\n",
       "    <tr>\n",
       "      <th>302591</th>\n",
       "      <td>333c77412666</td>\n",
       "      <td>2023-07-07</td>\n",
       "      <td>response</td>\n",
       "      <td>response</td>\n",
       "      <td>20bkkt1tt</td>\n",
       "      <td>2023-07-07</td>\n",
       "      <td>Сервисный инженер, инженер-механик</td>\n",
       "      <td>male</td>\n",
       "      <td>2005</td>\n",
       "      <td>Пензенская область</td>\n",
       "      <td>...</td>\n",
       "      <td>Пензенская область</td>\n",
       "      <td>full_day</td>\n",
       "      <td>full</td>\n",
       "      <td>57500.0</td>\n",
       "      <td>74500.0</td>\n",
       "      <td>[настройка пк, helpdesk, ремонт пк, настройка ...</td>\n",
       "      <td>0</td>\n",
       "      <td>18</td>\n",
       "      <td>Инженерия/Промышленность</td>\n",
       "      <td>18-22</td>\n",
       "    </tr>\n",
       "    <tr>\n",
       "      <th>302907</th>\n",
       "      <td>3397330c67</td>\n",
       "      <td>2023-08-17</td>\n",
       "      <td>response</td>\n",
       "      <td>response</td>\n",
       "      <td>206111428</td>\n",
       "      <td>2023-08-17</td>\n",
       "      <td>Сервисный инженер, инженер-механик</td>\n",
       "      <td>female</td>\n",
       "      <td>2005</td>\n",
       "      <td>Амурская область</td>\n",
       "      <td>...</td>\n",
       "      <td>Амурская область</td>\n",
       "      <td>full_day</td>\n",
       "      <td>full</td>\n",
       "      <td>85000.0</td>\n",
       "      <td>85000.0</td>\n",
       "      <td>[архивная опись документации, выдача архивных ...</td>\n",
       "      <td>0</td>\n",
       "      <td>18</td>\n",
       "      <td>Инженерия/Промышленность</td>\n",
       "      <td>18-22</td>\n",
       "    </tr>\n",
       "    <tr>\n",
       "      <th>339256</th>\n",
       "      <td>3396134123c4123</td>\n",
       "      <td>2023-08-07</td>\n",
       "      <td>response</td>\n",
       "      <td>response</td>\n",
       "      <td>20bg08tb</td>\n",
       "      <td>2023-06-28</td>\n",
       "      <td>Начальник смены, мастер участка</td>\n",
       "      <td>male</td>\n",
       "      <td>2009</td>\n",
       "      <td>Новосибирская область</td>\n",
       "      <td>...</td>\n",
       "      <td>Иркутская область</td>\n",
       "      <td>full_day</td>\n",
       "      <td>full</td>\n",
       "      <td>28000.0</td>\n",
       "      <td>0.0</td>\n",
       "      <td>[None]</td>\n",
       "      <td>0</td>\n",
       "      <td>14</td>\n",
       "      <td>Инженерия/Промышленность</td>\n",
       "      <td>14-17</td>\n",
       "    </tr>\n",
       "    <tr>\n",
       "      <th>344702</th>\n",
       "      <td>b096310994</td>\n",
       "      <td>2023-08-24</td>\n",
       "      <td>invitation</td>\n",
       "      <td>invitation</td>\n",
       "      <td>205640tk1</td>\n",
       "      <td>2023-08-08</td>\n",
       "      <td>Оператор производственной линии</td>\n",
       "      <td>male</td>\n",
       "      <td>2005</td>\n",
       "      <td>Новосибирская область</td>\n",
       "      <td>...</td>\n",
       "      <td>Новосибирская область</td>\n",
       "      <td>shift</td>\n",
       "      <td>full</td>\n",
       "      <td>36000.0</td>\n",
       "      <td>NaN</td>\n",
       "      <td>[None]</td>\n",
       "      <td>1</td>\n",
       "      <td>18</td>\n",
       "      <td>Инженерия/Промышленность</td>\n",
       "      <td>18-22</td>\n",
       "    </tr>\n",
       "    <tr>\n",
       "      <th>345958</th>\n",
       "      <td>b079969963</td>\n",
       "      <td>2023-08-24</td>\n",
       "      <td>response</td>\n",
       "      <td>invitation</td>\n",
       "      <td>2064tbb08</td>\n",
       "      <td>2023-08-24</td>\n",
       "      <td>Оператор производственной линии</td>\n",
       "      <td>female</td>\n",
       "      <td>2005</td>\n",
       "      <td>Республика Татарстан</td>\n",
       "      <td>...</td>\n",
       "      <td>Республика Башкортостан</td>\n",
       "      <td>remote</td>\n",
       "      <td>full</td>\n",
       "      <td>30000.0</td>\n",
       "      <td>45000.0</td>\n",
       "      <td>[деловая переписка, деловое общение, работа в ...</td>\n",
       "      <td>1</td>\n",
       "      <td>18</td>\n",
       "      <td>Инженерия/Промышленность</td>\n",
       "      <td>18-22</td>\n",
       "    </tr>\n",
       "    <tr>\n",
       "      <th>345973</th>\n",
       "      <td>33c96666317</td>\n",
       "      <td>2023-07-22</td>\n",
       "      <td>response</td>\n",
       "      <td>response</td>\n",
       "      <td>2046856b4</td>\n",
       "      <td>2023-07-22</td>\n",
       "      <td>Оператор производственной линии</td>\n",
       "      <td>female</td>\n",
       "      <td>2005</td>\n",
       "      <td>Ростовская область</td>\n",
       "      <td>...</td>\n",
       "      <td>Республика Татарстан</td>\n",
       "      <td>remote</td>\n",
       "      <td>part</td>\n",
       "      <td>35000.0</td>\n",
       "      <td>55000.0</td>\n",
       "      <td>[консультирование клиентов по телефону, консул...</td>\n",
       "      <td>0</td>\n",
       "      <td>18</td>\n",
       "      <td>Инженерия/Промышленность</td>\n",
       "      <td>18-22</td>\n",
       "    </tr>\n",
       "    <tr>\n",
       "      <th>345992</th>\n",
       "      <td>33c966c49c1</td>\n",
       "      <td>2023-07-22</td>\n",
       "      <td>response</td>\n",
       "      <td>invitation</td>\n",
       "      <td>2046856b4</td>\n",
       "      <td>2023-07-22</td>\n",
       "      <td>Оператор производственной линии</td>\n",
       "      <td>female</td>\n",
       "      <td>2005</td>\n",
       "      <td>Ростовская область</td>\n",
       "      <td>...</td>\n",
       "      <td>Краснодарский край</td>\n",
       "      <td>remote</td>\n",
       "      <td>part</td>\n",
       "      <td>25000.0</td>\n",
       "      <td>35000.0</td>\n",
       "      <td>[проведение опросов общественного мнения, поль...</td>\n",
       "      <td>1</td>\n",
       "      <td>18</td>\n",
       "      <td>Инженерия/Промышленность</td>\n",
       "      <td>18-22</td>\n",
       "    </tr>\n",
       "    <tr>\n",
       "      <th>367155</th>\n",
       "      <td>3b743967412412</td>\n",
       "      <td>2023-07-14</td>\n",
       "      <td>invitation</td>\n",
       "      <td>invitation</td>\n",
       "      <td>20b6250k5</td>\n",
       "      <td>2023-07-04</td>\n",
       "      <td>Машинист</td>\n",
       "      <td>male</td>\n",
       "      <td>2005</td>\n",
       "      <td>Липецкая область</td>\n",
       "      <td>...</td>\n",
       "      <td>Липецкая область</td>\n",
       "      <td>full_day</td>\n",
       "      <td>full</td>\n",
       "      <td>80000.0</td>\n",
       "      <td>80000.0</td>\n",
       "      <td>[перевозки опасных грузов, водительское удосто...</td>\n",
       "      <td>1</td>\n",
       "      <td>18</td>\n",
       "      <td>Инженерия/Промышленность</td>\n",
       "      <td>18-22</td>\n",
       "    </tr>\n",
       "    <tr>\n",
       "      <th>490292</th>\n",
       "      <td>330c63711c</td>\n",
       "      <td>2023-06-17</td>\n",
       "      <td>response</td>\n",
       "      <td>discard</td>\n",
       "      <td>1tb5b86t5</td>\n",
       "      <td>2022-12-15</td>\n",
       "      <td>Сервисный инженер, инженер-механик</td>\n",
       "      <td>male</td>\n",
       "      <td>2006</td>\n",
       "      <td>Санкт-Петербург</td>\n",
       "      <td>...</td>\n",
       "      <td>Санкт-Петербург</td>\n",
       "      <td>full_day</td>\n",
       "      <td>full</td>\n",
       "      <td>25000.0</td>\n",
       "      <td>35000.0</td>\n",
       "      <td>[None]</td>\n",
       "      <td>0</td>\n",
       "      <td>17</td>\n",
       "      <td>Инженерия/Промышленность</td>\n",
       "      <td>14-17</td>\n",
       "    </tr>\n",
       "    <tr>\n",
       "      <th>490488</th>\n",
       "      <td>341296794412709</td>\n",
       "      <td>2023-06-05</td>\n",
       "      <td>response</td>\n",
       "      <td>invitation</td>\n",
       "      <td>201t20865</td>\n",
       "      <td>2023-06-05</td>\n",
       "      <td>Сервисный инженер, инженер-механик</td>\n",
       "      <td>female</td>\n",
       "      <td>2006</td>\n",
       "      <td>Москва</td>\n",
       "      <td>...</td>\n",
       "      <td>Московская область</td>\n",
       "      <td>remote</td>\n",
       "      <td>full</td>\n",
       "      <td>26000.0</td>\n",
       "      <td>40000.0</td>\n",
       "      <td>[деловая переписка, деловое общение, работа в ...</td>\n",
       "      <td>1</td>\n",
       "      <td>17</td>\n",
       "      <td>Инженерия/Промышленность</td>\n",
       "      <td>14-17</td>\n",
       "    </tr>\n",
       "  </tbody>\n",
       "</table>\n",
       "<p>57 rows × 30 columns</p>\n",
       "</div>"
      ],
      "text/plain": [
       "                  topic_id topic_creation_date initial_state final_state  \\\n",
       "76854        33cc96c73412c          2023-07-20    invitation  invitation   \n",
       "93582           3379397449          2023-08-05      response    response   \n",
       "93583           3379397041          2023-08-05      response     discard   \n",
       "93584         3379404120c4          2023-08-05      response    response   \n",
       "93585       33794041210412          2023-08-05      response    response   \n",
       "93595           3379396977          2023-08-05      response  invitation   \n",
       "93648         339630c96697          2023-08-08    invitation  invitation   \n",
       "93861          33696496711          2023-07-29      response  invitation   \n",
       "94039        33412c4c96613          2023-06-30    invitation  invitation   \n",
       "94256          33903669669          2023-08-12      response     discard   \n",
       "99825   341294124129636961          2023-06-07      response    response   \n",
       "99875         3396b412c317          2023-08-08    invitation  invitation   \n",
       "106147       3339696c33966          2023-07-10      response    response   \n",
       "147785        331c03964964          2023-06-23      response    response   \n",
       "147786          331c019764          2023-06-23      response    response   \n",
       "147862        331c412c3c33          2023-06-23      response    response   \n",
       "147864        331c41240931          2023-06-23      response    response   \n",
       "147869        331c041273c6          2023-06-23      response    response   \n",
       "172455       3341217406396          2023-06-28      response    response   \n",
       "172495        3341217403c3          2023-06-28      response    response   \n",
       "173193         33116639667          2023-06-21      response    response   \n",
       "173195       3311671964129          2023-06-21      response    response   \n",
       "173196          3311733961          2023-06-21      response    response   \n",
       "173200        331174120433          2023-06-21      response    response   \n",
       "174255     33964121960c412          2023-08-16      response    response   \n",
       "174541  b14129641269641296          2023-08-27      response  invitation   \n",
       "174551        3301c970412c          2023-06-14      response  invitation   \n",
       "193550         33c39c79614          2023-07-19      response  invitation   \n",
       "194198           b01131104          2023-08-19      response  invitation   \n",
       "194202         b011304120c          2023-08-19      response  invitation   \n",
       "200923        b16964096496          2023-08-29      response    response   \n",
       "207971         33793996c71          2023-08-05      response    response   \n",
       "207973          3379396647          2023-08-05      response    response   \n",
       "208198        336341244369          2023-07-25    invitation  invitation   \n",
       "208238          33c4093999          2023-07-19      response    response   \n",
       "208239          3b96690796          2023-07-17      response  invitation   \n",
       "208243          33c46c7769          2023-07-19      response    response   \n",
       "208244       33c1469641209          2023-07-18      response     discard   \n",
       "219169        3369396c9966          2023-07-29      response  invitation   \n",
       "227764        3341213c9c77          2023-06-28      response  invitation   \n",
       "227765   33412341260141296          2023-06-29      response  invitation   \n",
       "247394         3b436412c39          2023-07-12      response    response   \n",
       "249334         3b091412c71          2023-07-11      response    response   \n",
       "249379         33796696199          2023-08-05      response    response   \n",
       "249673      334124470c412c          2023-06-29      response  invitation   \n",
       "257835          330c011146          2023-06-16      response  invitation   \n",
       "302521          333c76916c          2023-07-07      response    response   \n",
       "302591        333c77412666          2023-07-07      response    response   \n",
       "302907          3397330c67          2023-08-17      response    response   \n",
       "339256     3396134123c4123          2023-08-07      response    response   \n",
       "344702          b096310994          2023-08-24    invitation  invitation   \n",
       "345958          b079969963          2023-08-24      response  invitation   \n",
       "345973         33c96666317          2023-07-22      response    response   \n",
       "345992         33c966c49c1          2023-07-22      response  invitation   \n",
       "367155      3b743967412412          2023-07-14    invitation  invitation   \n",
       "490292          330c63711c          2023-06-17      response     discard   \n",
       "490488     341296794412709          2023-06-05      response  invitation   \n",
       "\n",
       "        resume_id resume_creation_date  \\\n",
       "76854    202l8241           2023-06-16   \n",
       "93582     20l55tf           2023-08-05   \n",
       "93583     20l55tf           2023-08-05   \n",
       "93584     20l55tf           2023-08-05   \n",
       "93585     20l55tf           2023-08-05   \n",
       "93595     20l55tf           2023-08-05   \n",
       "93648   2055tk45k           2023-08-07   \n",
       "93861   20bk4tt82           2023-07-06   \n",
       "94039   20b2b804k           2023-06-28   \n",
       "94256   1tk2t4525           2023-02-28   \n",
       "99825   201t8248b           2023-06-06   \n",
       "99875    1tt58k6l           2023-04-15   \n",
       "106147  201811k1k           2023-06-03   \n",
       "147785  202tb1t55           2023-06-23   \n",
       "147786  202tb1t55           2023-06-23   \n",
       "147862  202tb1t55           2023-06-23   \n",
       "147864  202tb1t55           2023-06-23   \n",
       "147869  202tb1t55           2023-06-23   \n",
       "172455  20282056b           2023-06-21   \n",
       "172495  20282056b           2023-06-21   \n",
       "173193  202805kbk           2023-06-21   \n",
       "173195  202805kbk           2023-06-21   \n",
       "173196  202805kbk           2023-06-21   \n",
       "173200  202805kbk           2023-06-21   \n",
       "174255  20441k8t8           2023-07-17   \n",
       "174541  1t856188k           2023-03-26   \n",
       "174551  1t856188k           2023-03-26   \n",
       "193550   20fk0b26           2023-05-23   \n",
       "194198  2046856b4           2023-07-22   \n",
       "194202  2046856b4           2023-07-22   \n",
       "200923  2068162t5           2023-08-29   \n",
       "207971    20l55tf           2023-08-05   \n",
       "207973    20l55tf           2023-08-05   \n",
       "208198  2046682tk           2023-07-21   \n",
       "208238  14kkb056k           2021-03-20   \n",
       "208239  14kkb056k           2021-03-20   \n",
       "208243  14kkb056k           2021-03-20   \n",
       "208244  14kkb056k           2021-03-20   \n",
       "219169   2024lkb8           2023-06-15   \n",
       "227764  186225840           2022-07-22   \n",
       "227765  186225840           2022-07-22   \n",
       "247394  16162k040           2022-01-29   \n",
       "249334  14kkb056k           2021-03-20   \n",
       "249379   20l6151t           2023-08-05   \n",
       "249673   1b1f1tt5           2020-03-01   \n",
       "257835  201ttktk5           2023-06-06   \n",
       "302521  20bkkt1tt           2023-07-07   \n",
       "302591  20bkkt1tt           2023-07-07   \n",
       "302907  206111428           2023-08-17   \n",
       "339256   20bg08tb           2023-06-28   \n",
       "344702  205640tk1           2023-08-08   \n",
       "345958  2064tbb08           2023-08-24   \n",
       "345973  2046856b4           2023-07-22   \n",
       "345992  2046856b4           2023-07-22   \n",
       "367155  20b6250k5           2023-07-04   \n",
       "490292  1tb5b86t5           2022-12-15   \n",
       "490488  201t20865           2023-06-05   \n",
       "\n",
       "                                        profession  gender  year_of_birth  \\\n",
       "76854                                      Сварщик    male           2005   \n",
       "93582                                      Сварщик    male           2009   \n",
       "93583                                      Сварщик    male           2009   \n",
       "93584                                      Сварщик    male           2009   \n",
       "93585                                      Сварщик    male           2009   \n",
       "93595                                      Сварщик    male           2009   \n",
       "93648                                      Сварщик    male           2005   \n",
       "93861                                      Сварщик    male           2005   \n",
       "94039                                      Сварщик    male           2005   \n",
       "94256                                      Сварщик    male           2005   \n",
       "99825                                      Сварщик    male           2009   \n",
       "99875                                      Сварщик    male           2005   \n",
       "106147                          Слесарь, сантехник    male           2009   \n",
       "147785                          Слесарь, сантехник    male           2006   \n",
       "147786                          Слесарь, сантехник    male           2006   \n",
       "147862                          Слесарь, сантехник    male           2006   \n",
       "147864                          Слесарь, сантехник    male           2006   \n",
       "147869                          Слесарь, сантехник    male           2006   \n",
       "172455                          Слесарь, сантехник    male           2005   \n",
       "172495                          Слесарь, сантехник    male           2005   \n",
       "173193                          Слесарь, сантехник    male           2006   \n",
       "173195                          Слесарь, сантехник    male           2006   \n",
       "173196                          Слесарь, сантехник    male           2006   \n",
       "173200                          Слесарь, сантехник    male           2006   \n",
       "174255             Оператор производственной линии  female           2005   \n",
       "174541             Оператор производственной линии  female           2007   \n",
       "174551             Оператор производственной линии  female           2007   \n",
       "193550  Инженер-конструктор, инженер-проектировщик    male           2005   \n",
       "194198             Оператор производственной линии  female           2005   \n",
       "194202             Оператор производственной линии  female           2005   \n",
       "200923                                    Машинист    male           2005   \n",
       "207971                                     Сварщик    male           2009   \n",
       "207973                                     Сварщик    male           2009   \n",
       "208198                                     Сварщик    male           2005   \n",
       "208238                                     Сварщик    male           2005   \n",
       "208239                                     Сварщик    male           2005   \n",
       "208243                                     Сварщик    male           2005   \n",
       "208244                                     Сварщик    male           2005   \n",
       "219169  Инженер-конструктор, инженер-проектировщик  female           2006   \n",
       "227764                                    Технолог  female           2005   \n",
       "227765                                    Технолог  female           2005   \n",
       "247394             Оператор производственной линии    male           2005   \n",
       "249334                                     Сварщик    male           2005   \n",
       "249379                                     Сварщик    male           2009   \n",
       "249673                                     Сварщик    male           2005   \n",
       "257835  Инженер-конструктор, инженер-проектировщик    male           2005   \n",
       "302521          Сервисный инженер, инженер-механик    male           2005   \n",
       "302591          Сервисный инженер, инженер-механик    male           2005   \n",
       "302907          Сервисный инженер, инженер-механик  female           2005   \n",
       "339256             Начальник смены, мастер участка    male           2009   \n",
       "344702             Оператор производственной линии    male           2005   \n",
       "345958             Оператор производственной линии  female           2005   \n",
       "345973             Оператор производственной линии  female           2005   \n",
       "345992             Оператор производственной линии  female           2005   \n",
       "367155                                    Машинист    male           2005   \n",
       "490292          Сервисный инженер, инженер-механик    male           2006   \n",
       "490488          Сервисный инженер, инженер-механик  female           2006   \n",
       "\n",
       "                     resume_region  ...              vacancy_region  \\\n",
       "76854              Томская область  ...             Томская область   \n",
       "93582             Тверская область  ...            Тверская область   \n",
       "93583             Тверская область  ...            Тверская область   \n",
       "93584             Тверская область  ...            Тверская область   \n",
       "93585             Тверская область  ...            Тверская область   \n",
       "93595             Тверская область  ...            Тверская область   \n",
       "93648           Ростовская область  ...          Ростовская область   \n",
       "93861         Астраханская область  ...        Астраханская область   \n",
       "94039          Воронежская область  ...         Воронежская область   \n",
       "94256           Московская область  ...          Московская область   \n",
       "99825   Ханты-Мансийский АО - Югра  ...  Ханты-Мансийский АО - Югра   \n",
       "99875             Тверская область  ...            Тверская область   \n",
       "106147            Амурская область  ...            Амурская область   \n",
       "147785                      Москва  ...                      Москва   \n",
       "147786                      Москва  ...                      Москва   \n",
       "147862                      Москва  ...                      Москва   \n",
       "147864                      Москва  ...                      Москва   \n",
       "147869                      Москва  ...                      Москва   \n",
       "172455                      Москва  ...                      Москва   \n",
       "172495                      Москва  ...                      Москва   \n",
       "173193                      Москва  ...                      Москва   \n",
       "173195                      Москва  ...                      Москва   \n",
       "173196                      Москва  ...                      Москва   \n",
       "173200                      Москва  ...                      Москва   \n",
       "174255         Челябинская область  ...         Челябинская область   \n",
       "174541             Санкт-Петербург  ...             Санкт-Петербург   \n",
       "174551             Санкт-Петербург  ...             Санкт-Петербург   \n",
       "193550                      Москва  ...                      Москва   \n",
       "194198          Ростовская область  ...          Ростовская область   \n",
       "194202          Ростовская область  ...          Ростовская область   \n",
       "200923             Санкт-Петербург  ...             Санкт-Петербург   \n",
       "207971            Тверская область  ...            Тверская область   \n",
       "207973            Тверская область  ...            Тверская область   \n",
       "208198             Республика Крым  ...          Краснодарский край   \n",
       "208238        Оренбургская область  ...        Оренбургская область   \n",
       "208239        Оренбургская область  ...        Оренбургская область   \n",
       "208243        Оренбургская область  ...        Оренбургская область   \n",
       "208244        Оренбургская область  ...        Оренбургская область   \n",
       "219169                      Москва  ...                      Москва   \n",
       "227764       Новосибирская область  ...       Новосибирская область   \n",
       "227765       Новосибирская область  ...       Новосибирская область   \n",
       "247394     Республика Башкортостан  ...          Краснодарский край   \n",
       "249334        Оренбургская область  ...        Оренбургская область   \n",
       "249379          Московская область  ...          Московская область   \n",
       "249673            Тверская область  ...            Тверская область   \n",
       "257835                      Москва  ...                      Москва   \n",
       "302521          Пензенская область  ...          Пензенская область   \n",
       "302591          Пензенская область  ...          Пензенская область   \n",
       "302907            Амурская область  ...            Амурская область   \n",
       "339256       Новосибирская область  ...           Иркутская область   \n",
       "344702       Новосибирская область  ...       Новосибирская область   \n",
       "345958        Республика Татарстан  ...     Республика Башкортостан   \n",
       "345973          Ростовская область  ...        Республика Татарстан   \n",
       "345992          Ростовская область  ...          Краснодарский край   \n",
       "367155            Липецкая область  ...            Липецкая область   \n",
       "490292             Санкт-Петербург  ...             Санкт-Петербург   \n",
       "490488                      Москва  ...          Московская область   \n",
       "\n",
       "        work_schedule.1 vacancy_employment_type compensation_from  \\\n",
       "76854          full_day                    full           50000.0   \n",
       "93582       flyInFlyOut                    full          115000.0   \n",
       "93583             shift                    full           70000.0   \n",
       "93584       flyInFlyOut                    full          140000.0   \n",
       "93585       flyInFlyOut                    full          112000.0   \n",
       "93595          full_day                    full           70000.0   \n",
       "93648          full_day                    full           45000.0   \n",
       "93861             shift                    full           30800.0   \n",
       "94039          full_day                    full           45000.0   \n",
       "94256          full_day                    full           80000.0   \n",
       "99825       flyInFlyOut                    full               0.0   \n",
       "99875             shift                    full           55000.0   \n",
       "106147         full_day                    full           50000.0   \n",
       "147785         full_day                    full          100000.0   \n",
       "147786         full_day                 project           40000.0   \n",
       "147862            shift                    full               NaN   \n",
       "147864         full_day                    full           90000.0   \n",
       "147869         full_day                    full               0.0   \n",
       "172455         flexible                    part               0.0   \n",
       "172495         full_day               probation           31000.0   \n",
       "173193         full_day                    full           80000.0   \n",
       "173195            shift                    full           56715.0   \n",
       "173196         full_day                    full           45000.0   \n",
       "173200            shift                    full           90000.0   \n",
       "174255         full_day                    full           21000.0   \n",
       "174541            shift                    part           94000.0   \n",
       "174551         flexible                    full           34000.0   \n",
       "193550         flexible                    part               NaN   \n",
       "194198           remote                    part           60000.0   \n",
       "194202           remote                    part           15000.0   \n",
       "200923            shift                    full           85000.0   \n",
       "207971         full_day                    full           50000.0   \n",
       "207973         full_day                    full           70000.0   \n",
       "208198         full_day                    full           80000.0   \n",
       "208238         full_day               probation           45000.0   \n",
       "208239         flexible                    part           78000.0   \n",
       "208243         flexible                    part           30000.0   \n",
       "208244         flexible                    full           25000.0   \n",
       "219169           remote               probation           25000.0   \n",
       "227764            shift                    full           37000.0   \n",
       "227765         full_day                    full           40000.0   \n",
       "247394         full_day                    full           32400.0   \n",
       "249334            shift                    full           60000.0   \n",
       "249379         full_day                    full           85000.0   \n",
       "249673           remote                    full           38000.0   \n",
       "257835         flexible                    part               NaN   \n",
       "302521         flexible                    part           20000.0   \n",
       "302591         full_day                    full           57500.0   \n",
       "302907         full_day                    full           85000.0   \n",
       "339256         full_day                    full           28000.0   \n",
       "344702            shift                    full           36000.0   \n",
       "345958           remote                    full           30000.0   \n",
       "345973           remote                    part           35000.0   \n",
       "345992           remote                    part           25000.0   \n",
       "367155         full_day                    full           80000.0   \n",
       "490292         full_day                    full           25000.0   \n",
       "490488           remote                    full           26000.0   \n",
       "\n",
       "       compensation_to                                vacancy_skills_list  \\\n",
       "76854          50000.0  [способность обучать других, сварочные работы,...   \n",
       "93582         145000.0  [сварщик вахта питание и проживание, сварщик в...   \n",
       "93583              NaN  [чтение чертежей, владение полуавтоматической ...   \n",
       "93584              0.0                                 [работа в команде]   \n",
       "93585              NaN                                             [None]   \n",
       "93595              NaN                                             [None]   \n",
       "93648              NaN                                             [None]   \n",
       "93861              0.0  [деловое общение, активные продажи, навыки про...   \n",
       "94039              0.0  [умение работать с клиентами, уверенный пользо...   \n",
       "94256         150000.0  [монтаж оборудования, сварочные работы, монтаж...   \n",
       "99825         240000.0                         [сварочные работы, сварка]   \n",
       "99875              NaN  [усердность, опрятный внешний вид, сварка, раб...   \n",
       "106147             NaN  [точность и внимательность к деталям, вынослив...   \n",
       "147785             NaN                                             [None]   \n",
       "147786        100000.0  [чтение схем, smd монтаж, монтаж оборудования,...   \n",
       "147862         97150.0  [системы мониторинга, глонасс, скуд, тестирова...   \n",
       "147864             NaN                                             [None]   \n",
       "147869         80000.0  [приборостроение, работа на производстве, элек...   \n",
       "172455         40000.0                                             [None]   \n",
       "172495         33000.0                                             [None]   \n",
       "173193             NaN                                             [None]   \n",
       "173195        105860.0                                             [None]   \n",
       "173196             NaN  [чертежи, аккуратность, ответственность, работ...   \n",
       "173200        140000.0  [техническая грамотность, ремонтные работы, зн...   \n",
       "174255         29000.0                                             [None]   \n",
       "174541        229000.0                                             [None]   \n",
       "174551         50000.0                                             [None]   \n",
       "193550        115000.0  [телефонные переговоры, деловое общение, умени...   \n",
       "194198         80000.0                                             [None]   \n",
       "194202         33000.0  [четкая дикция, проведение опросов общественно...   \n",
       "200923             NaN                   [уборочная техника, трактор мтз]   \n",
       "207971         80000.0                                             [None]   \n",
       "207973             NaN  [работа с чертежами, чтение чертежей, сварочны...   \n",
       "208198        130000.0                                             [None]   \n",
       "208238             0.0  [грамотная устная и письменная речь, навыки об...   \n",
       "208239        138200.0                                             [None]   \n",
       "208243         35000.0                                             [None]   \n",
       "208244             NaN  [интернет-реклама, управление отношениями с кл...   \n",
       "219169             0.0  [power bi, аналитический склад ума, работа в к...   \n",
       "227764         45000.0                                             [None]   \n",
       "227765         80000.0  [быстрое обучение, внимательность к мелочам, д...   \n",
       "247394             0.0                                             [None]   \n",
       "249334             NaN  [консультативные продажи, активные продажи, пр...   \n",
       "249379             0.0  [сварка, работа с чертежами, сварочные работы,...   \n",
       "249673             NaN                                             [None]   \n",
       "257835        115000.0  [умение общаться с людьми, терпение, доставка ...   \n",
       "302521             0.0  [установка по, техническое обслуживание, настр...   \n",
       "302591         74500.0  [настройка пк, helpdesk, ремонт пк, настройка ...   \n",
       "302907         85000.0  [архивная опись документации, выдача архивных ...   \n",
       "339256             0.0                                             [None]   \n",
       "344702             NaN                                             [None]   \n",
       "345958         45000.0  [деловая переписка, деловое общение, работа в ...   \n",
       "345973         55000.0  [консультирование клиентов по телефону, консул...   \n",
       "345992         35000.0  [проведение опросов общественного мнения, поль...   \n",
       "367155         80000.0  [перевозки опасных грузов, водительское удосто...   \n",
       "490292         35000.0                                             [None]   \n",
       "490488         40000.0  [деловая переписка, деловое общение, работа в ...   \n",
       "\n",
       "        final age                occupation ages_group  \n",
       "76854       1  18  Инженерия/Промышленность      18-22  \n",
       "93582       0  14  Инженерия/Промышленность      14-17  \n",
       "93583       0  14  Инженерия/Промышленность      14-17  \n",
       "93584       0  14  Инженерия/Промышленность      14-17  \n",
       "93585       0  14  Инженерия/Промышленность      14-17  \n",
       "93595       1  14  Инженерия/Промышленность      14-17  \n",
       "93648       1  18  Инженерия/Промышленность      18-22  \n",
       "93861       1  18  Инженерия/Промышленность      18-22  \n",
       "94039       1  18  Инженерия/Промышленность      18-22  \n",
       "94256       0  18  Инженерия/Промышленность      18-22  \n",
       "99825       0  14  Инженерия/Промышленность      14-17  \n",
       "99875       1  18  Инженерия/Промышленность      18-22  \n",
       "106147      0  14  Инженерия/Промышленность      14-17  \n",
       "147785      0  17  Инженерия/Промышленность      14-17  \n",
       "147786      0  17  Инженерия/Промышленность      14-17  \n",
       "147862      0  17  Инженерия/Промышленность      14-17  \n",
       "147864      0  17  Инженерия/Промышленность      14-17  \n",
       "147869      0  17  Инженерия/Промышленность      14-17  \n",
       "172455      0  18  Инженерия/Промышленность      18-22  \n",
       "172495      0  18  Инженерия/Промышленность      18-22  \n",
       "173193      0  17  Инженерия/Промышленность      14-17  \n",
       "173195      0  17  Инженерия/Промышленность      14-17  \n",
       "173196      0  17  Инженерия/Промышленность      14-17  \n",
       "173200      0  17  Инженерия/Промышленность      14-17  \n",
       "174255      0  18  Инженерия/Промышленность      18-22  \n",
       "174541      1  16  Инженерия/Промышленность      14-17  \n",
       "174551      1  16  Инженерия/Промышленность      14-17  \n",
       "193550      1  18  Инженерия/Промышленность      18-22  \n",
       "194198      1  18  Инженерия/Промышленность      18-22  \n",
       "194202      1  18  Инженерия/Промышленность      18-22  \n",
       "200923      0  18  Инженерия/Промышленность      18-22  \n",
       "207971      0  14  Инженерия/Промышленность      14-17  \n",
       "207973      0  14  Инженерия/Промышленность      14-17  \n",
       "208198      1  18  Инженерия/Промышленность      18-22  \n",
       "208238      0  18  Инженерия/Промышленность      18-22  \n",
       "208239      1  18  Инженерия/Промышленность      18-22  \n",
       "208243      0  18  Инженерия/Промышленность      18-22  \n",
       "208244      0  18  Инженерия/Промышленность      18-22  \n",
       "219169      1  17  Инженерия/Промышленность      14-17  \n",
       "227764      1  18  Инженерия/Промышленность      18-22  \n",
       "227765      1  18  Инженерия/Промышленность      18-22  \n",
       "247394      0  18  Инженерия/Промышленность      18-22  \n",
       "249334      0  18  Инженерия/Промышленность      18-22  \n",
       "249379      0  14  Инженерия/Промышленность      14-17  \n",
       "249673      1  18  Инженерия/Промышленность      18-22  \n",
       "257835      1  18  Инженерия/Промышленность      18-22  \n",
       "302521      0  18  Инженерия/Промышленность      18-22  \n",
       "302591      0  18  Инженерия/Промышленность      18-22  \n",
       "302907      0  18  Инженерия/Промышленность      18-22  \n",
       "339256      0  14  Инженерия/Промышленность      14-17  \n",
       "344702      1  18  Инженерия/Промышленность      18-22  \n",
       "345958      1  18  Инженерия/Промышленность      18-22  \n",
       "345973      0  18  Инженерия/Промышленность      18-22  \n",
       "345992      1  18  Инженерия/Промышленность      18-22  \n",
       "367155      1  18  Инженерия/Промышленность      18-22  \n",
       "490292      0  17  Инженерия/Промышленность      14-17  \n",
       "490488      1  17  Инженерия/Промышленность      14-17  \n",
       "\n",
       "[57 rows x 30 columns]"
      ]
     },
     "execution_count": 50,
     "metadata": {},
     "output_type": "execute_result"
    }
   ],
   "source": [
    "ages[(ages.occupation=='Инженерия/Промышленность') & (ages.age <= 18)]"
   ]
  },
  {
   "cell_type": "code",
   "execution_count": 51,
   "id": "21de2f17",
   "metadata": {
    "ExecuteTime": {
     "end_time": "2023-12-12T19:27:39.496092Z",
     "start_time": "2023-12-12T19:27:35.952635Z"
    }
   },
   "outputs": [
    {
     "name": "stdout",
     "output_type": "stream",
     "text": [
      "Успешность при попытке попасть на собеседование.\n",
      "Сфера: Инженерия/Промышленность\n"
     ]
    },
    {
     "data": {
      "image/png": "[encoded data removed]",
      "text/plain": [
       "<Figure size 640x480 with 1 Axes>"
      ]
     },
     "metadata": {},
     "output_type": "display_data"
    }
   ],
   "source": [
    "plot('Инженерия/Промышленность', 19, 45)"
   ]
  },
  {
   "cell_type": "code",
   "execution_count": 52,
   "id": "5e3ab8bc",
   "metadata": {
    "ExecuteTime": {
     "end_time": "2023-12-12T19:27:39.582012Z",
     "start_time": "2023-12-12T19:27:39.496092Z"
    }
   },
   "outputs": [
    {
     "name": "stdout",
     "output_type": "stream",
     "text": [
      "Отличается ли успех группы 27-32 от среднего?\n",
      "Показатели лучшей группы: 0.43204553294239395;\n",
      "Показатели остальных: 0.3314191494200591\n",
      "Стандартная ошибка среднего: 0.005036099896063795\n",
      "t-критерий: 19.98101419731253\n",
      "Степени свободы: 64358\n",
      "p-уровень значимости меньше 0.01\n",
      "Различия между успешностью группы 27-32 и ген. совокупностью статистически значимые\n"
     ]
    }
   ],
   "source": [
    "info('Инженерия/Промышленность', 27, 32)"
   ]
  },
  {
   "cell_type": "markdown",
   "id": "f83dd246",
   "metadata": {},
   "source": [
    "Ожидаемые результаты для сферы, где часто требуется физ.сила, а также для опасных и вредных для здоровья профессий."
   ]
  },
  {
   "cell_type": "code",
   "execution_count": 53,
   "id": "41457d5b",
   "metadata": {
    "ExecuteTime": {
     "end_time": "2023-12-12T19:27:45.524178Z",
     "start_time": "2023-12-12T19:27:39.582012Z"
    }
   },
   "outputs": [
    {
     "name": "stdout",
     "output_type": "stream",
     "text": [
      "Успешность при попытке попасть на собеседование.\n",
      "Сфера: Право/Экономика\n"
     ]
    },
    {
     "data": {
      "image/png": "[encoded data removed]",
      "text/plain": [
       "<Figure size 640x480 with 1 Axes>"
      ]
     },
     "metadata": {},
     "output_type": "display_data"
    }
   ],
   "source": [
    "plot('Право/Экономика')"
   ]
  },
  {
   "cell_type": "code",
   "execution_count": 54,
   "id": "f86c8a8f",
   "metadata": {
    "ExecuteTime": {
     "end_time": "2023-12-12T19:27:47.372297Z",
     "start_time": "2023-12-12T19:27:45.524178Z"
    }
   },
   "outputs": [
    {
     "name": "stdout",
     "output_type": "stream",
     "text": [
      "Успешность при попытке попасть на собеседование.\n",
      "Сфера: Право/Экономика\n"
     ]
    },
    {
     "data": {
      "image/png": "[encoded data removed]",
      "text/plain": [
       "<Figure size 640x480 with 1 Axes>"
      ]
     },
     "metadata": {},
     "output_type": "display_data"
    }
   ],
   "source": [
    "plot('Право/Экономика', 18, 30)"
   ]
  },
  {
   "cell_type": "code",
   "execution_count": 55,
   "id": "eb2249cc",
   "metadata": {
    "ExecuteTime": {
     "end_time": "2023-12-12T19:27:48.504808Z",
     "start_time": "2023-12-12T19:27:47.372297Z"
    }
   },
   "outputs": [
    {
     "name": "stdout",
     "output_type": "stream",
     "text": [
      "Успешность при попытке попасть на собеседование.\n",
      "Сфера: Право/Экономика\n"
     ]
    },
    {
     "data": {
      "image/png": "[encoded data removed]",
      "text/plain": [
       "<Figure size 640x480 with 1 Axes>"
      ]
     },
     "metadata": {},
     "output_type": "display_data"
    }
   ],
   "source": [
    "plot('Право/Экономика', 19, 25)"
   ]
  },
  {
   "cell_type": "code",
   "execution_count": 56,
   "id": "c8cd03fc",
   "metadata": {
    "ExecuteTime": {
     "end_time": "2023-12-12T19:27:48.619764Z",
     "start_time": "2023-12-12T19:27:48.505351Z"
    }
   },
   "outputs": [
    {
     "data": {
      "text/html": [
       "<div>\n",
       "<style scoped>\n",
       "    .dataframe tbody tr th:only-of-type {\n",
       "        vertical-align: middle;\n",
       "    }\n",
       "\n",
       "    .dataframe tbody tr th {\n",
       "        vertical-align: top;\n",
       "    }\n",
       "\n",
       "    .dataframe thead th {\n",
       "        text-align: right;\n",
       "    }\n",
       "</style>\n",
       "<table border=\"1\" class=\"dataframe\">\n",
       "  <thead>\n",
       "    <tr style=\"text-align: right;\">\n",
       "      <th></th>\n",
       "      <th>topic_id</th>\n",
       "      <th>topic_creation_date</th>\n",
       "      <th>initial_state</th>\n",
       "      <th>final_state</th>\n",
       "      <th>resume_id</th>\n",
       "      <th>resume_creation_date</th>\n",
       "      <th>profession</th>\n",
       "      <th>gender</th>\n",
       "      <th>year_of_birth</th>\n",
       "      <th>resume_region</th>\n",
       "      <th>...</th>\n",
       "      <th>vacancy_region</th>\n",
       "      <th>work_schedule.1</th>\n",
       "      <th>vacancy_employment_type</th>\n",
       "      <th>compensation_from</th>\n",
       "      <th>compensation_to</th>\n",
       "      <th>vacancy_skills_list</th>\n",
       "      <th>final</th>\n",
       "      <th>age</th>\n",
       "      <th>occupation</th>\n",
       "      <th>ages_group</th>\n",
       "    </tr>\n",
       "  </thead>\n",
       "  <tbody>\n",
       "    <tr>\n",
       "      <th>46291</th>\n",
       "      <td>33314123969647</td>\n",
       "      <td>2023-07-04</td>\n",
       "      <td>response</td>\n",
       "      <td>response</td>\n",
       "      <td>1645010tb</td>\n",
       "      <td>2022-03-29</td>\n",
       "      <td>Делопроизводитель, архивариус</td>\n",
       "      <td>male</td>\n",
       "      <td>1960</td>\n",
       "      <td>Москва</td>\n",
       "      <td>...</td>\n",
       "      <td>Москва</td>\n",
       "      <td>full_day</td>\n",
       "      <td>full</td>\n",
       "      <td>65000.0</td>\n",
       "      <td>80000.0</td>\n",
       "      <td>[adobe acrobat, работа с большим объемом инфор...</td>\n",
       "      <td>0</td>\n",
       "      <td>63</td>\n",
       "      <td>Право/Экономика</td>\n",
       "      <td>56-63</td>\n",
       "    </tr>\n",
       "    <tr>\n",
       "      <th>46313</th>\n",
       "      <td>3364796c740</td>\n",
       "      <td>2023-07-26</td>\n",
       "      <td>response</td>\n",
       "      <td>discard</td>\n",
       "      <td>15585185b</td>\n",
       "      <td>2021-09-23</td>\n",
       "      <td>Делопроизводитель, архивариус</td>\n",
       "      <td>male</td>\n",
       "      <td>1995</td>\n",
       "      <td>Москва</td>\n",
       "      <td>...</td>\n",
       "      <td>Москва</td>\n",
       "      <td>full_day</td>\n",
       "      <td>full</td>\n",
       "      <td>NaN</td>\n",
       "      <td>60000.0</td>\n",
       "      <td>[None]</td>\n",
       "      <td>0</td>\n",
       "      <td>28</td>\n",
       "      <td>Право/Экономика</td>\n",
       "      <td>23-28</td>\n",
       "    </tr>\n",
       "    <tr>\n",
       "      <th>46316</th>\n",
       "      <td>33077b34120</td>\n",
       "      <td>2023-06-19</td>\n",
       "      <td>response</td>\n",
       "      <td>response</td>\n",
       "      <td>15585185b</td>\n",
       "      <td>2021-09-23</td>\n",
       "      <td>Делопроизводитель, архивариус</td>\n",
       "      <td>male</td>\n",
       "      <td>1995</td>\n",
       "      <td>Москва</td>\n",
       "      <td>...</td>\n",
       "      <td>Москва</td>\n",
       "      <td>full_day</td>\n",
       "      <td>full</td>\n",
       "      <td>45000.0</td>\n",
       "      <td>70000.0</td>\n",
       "      <td>[деловая корреспонденция, деловая переписка, т...</td>\n",
       "      <td>0</td>\n",
       "      <td>28</td>\n",
       "      <td>Право/Экономика</td>\n",
       "      <td>23-28</td>\n",
       "    </tr>\n",
       "    <tr>\n",
       "      <th>46330</th>\n",
       "      <td>33412c9412741233</td>\n",
       "      <td>2023-06-30</td>\n",
       "      <td>response</td>\n",
       "      <td>invitation</td>\n",
       "      <td>1611tb8b6</td>\n",
       "      <td>2022-01-21</td>\n",
       "      <td>Делопроизводитель, архивариус</td>\n",
       "      <td>male</td>\n",
       "      <td>1991</td>\n",
       "      <td>Московская область</td>\n",
       "      <td>...</td>\n",
       "      <td>Московская область</td>\n",
       "      <td>full_day</td>\n",
       "      <td>full</td>\n",
       "      <td>25000.0</td>\n",
       "      <td>0.0</td>\n",
       "      <td>[электронный архив, уверенный пользователь пк,...</td>\n",
       "      <td>1</td>\n",
       "      <td>32</td>\n",
       "      <td>Право/Экономика</td>\n",
       "      <td>29-35</td>\n",
       "    </tr>\n",
       "    <tr>\n",
       "      <th>46374</th>\n",
       "      <td>33c190c4c96</td>\n",
       "      <td>2023-07-18</td>\n",
       "      <td>response</td>\n",
       "      <td>response</td>\n",
       "      <td>15585185b</td>\n",
       "      <td>2021-09-23</td>\n",
       "      <td>Делопроизводитель, архивариус</td>\n",
       "      <td>male</td>\n",
       "      <td>1995</td>\n",
       "      <td>Москва</td>\n",
       "      <td>...</td>\n",
       "      <td>Москва</td>\n",
       "      <td>full_day</td>\n",
       "      <td>full</td>\n",
       "      <td>NaN</td>\n",
       "      <td>60000.0</td>\n",
       "      <td>[оперативный поиск информации в сети интернет,...</td>\n",
       "      <td>0</td>\n",
       "      <td>28</td>\n",
       "      <td>Право/Экономика</td>\n",
       "      <td>23-28</td>\n",
       "    </tr>\n",
       "    <tr>\n",
       "      <th>...</th>\n",
       "      <td>...</td>\n",
       "      <td>...</td>\n",
       "      <td>...</td>\n",
       "      <td>...</td>\n",
       "      <td>...</td>\n",
       "      <td>...</td>\n",
       "      <td>...</td>\n",
       "      <td>...</td>\n",
       "      <td>...</td>\n",
       "      <td>...</td>\n",
       "      <td>...</td>\n",
       "      <td>...</td>\n",
       "      <td>...</td>\n",
       "      <td>...</td>\n",
       "      <td>...</td>\n",
       "      <td>...</td>\n",
       "      <td>...</td>\n",
       "      <td>...</td>\n",
       "      <td>...</td>\n",
       "      <td>...</td>\n",
       "      <td>...</td>\n",
       "    </tr>\n",
       "    <tr>\n",
       "      <th>484764</th>\n",
       "      <td>330996719964</td>\n",
       "      <td>2023-06-20</td>\n",
       "      <td>response</td>\n",
       "      <td>response</td>\n",
       "      <td>616b62tk</td>\n",
       "      <td>2017-03-22</td>\n",
       "      <td>Юрисконсульт</td>\n",
       "      <td>male</td>\n",
       "      <td>1974</td>\n",
       "      <td>Оренбургская область</td>\n",
       "      <td>...</td>\n",
       "      <td>Оренбургская область</td>\n",
       "      <td>full_day</td>\n",
       "      <td>full</td>\n",
       "      <td>50000.0</td>\n",
       "      <td>50000.0</td>\n",
       "      <td>[договорная работа, деловая переписка, согласо...</td>\n",
       "      <td>0</td>\n",
       "      <td>49</td>\n",
       "      <td>Право/Экономика</td>\n",
       "      <td>46-55</td>\n",
       "    </tr>\n",
       "    <tr>\n",
       "      <th>484770</th>\n",
       "      <td>330c7412c906</td>\n",
       "      <td>2023-06-17</td>\n",
       "      <td>response</td>\n",
       "      <td>response</td>\n",
       "      <td>2020bb08b</td>\n",
       "      <td>2023-06-07</td>\n",
       "      <td>Юрисконсульт</td>\n",
       "      <td>male</td>\n",
       "      <td>1995</td>\n",
       "      <td>Москва</td>\n",
       "      <td>...</td>\n",
       "      <td>Санкт-Петербург</td>\n",
       "      <td>shift</td>\n",
       "      <td>full</td>\n",
       "      <td>80000.0</td>\n",
       "      <td>100000.0</td>\n",
       "      <td>[открытие розничных магазинов, активные продаж...</td>\n",
       "      <td>0</td>\n",
       "      <td>28</td>\n",
       "      <td>Право/Экономика</td>\n",
       "      <td>23-28</td>\n",
       "    </tr>\n",
       "    <tr>\n",
       "      <th>484771</th>\n",
       "      <td>339643396003</td>\n",
       "      <td>2023-08-08</td>\n",
       "      <td>response</td>\n",
       "      <td>response</td>\n",
       "      <td>4460bg1</td>\n",
       "      <td>2015-08-31</td>\n",
       "      <td>Юрисконсульт</td>\n",
       "      <td>male</td>\n",
       "      <td>1997</td>\n",
       "      <td>Москва</td>\n",
       "      <td>...</td>\n",
       "      <td>Москва</td>\n",
       "      <td>remote</td>\n",
       "      <td>part</td>\n",
       "      <td>40000.0</td>\n",
       "      <td>50000.0</td>\n",
       "      <td>[юрист, знание законодательства, умение работа...</td>\n",
       "      <td>0</td>\n",
       "      <td>26</td>\n",
       "      <td>Право/Экономика</td>\n",
       "      <td>23-28</td>\n",
       "    </tr>\n",
       "    <tr>\n",
       "      <th>484774</th>\n",
       "      <td>330c7396647</td>\n",
       "      <td>2023-06-17</td>\n",
       "      <td>response</td>\n",
       "      <td>response</td>\n",
       "      <td>2020bb08b</td>\n",
       "      <td>2023-06-07</td>\n",
       "      <td>Юрисконсульт</td>\n",
       "      <td>male</td>\n",
       "      <td>1995</td>\n",
       "      <td>Москва</td>\n",
       "      <td>...</td>\n",
       "      <td>Москва</td>\n",
       "      <td>shift</td>\n",
       "      <td>full</td>\n",
       "      <td>80000.0</td>\n",
       "      <td>110000.0</td>\n",
       "      <td>[работа с кассой, работа в команде, контроль с...</td>\n",
       "      <td>0</td>\n",
       "      <td>28</td>\n",
       "      <td>Право/Экономика</td>\n",
       "      <td>23-28</td>\n",
       "    </tr>\n",
       "    <tr>\n",
       "      <th>484777</th>\n",
       "      <td>331c763303</td>\n",
       "      <td>2023-06-23</td>\n",
       "      <td>response</td>\n",
       "      <td>response</td>\n",
       "      <td>1t601b08b</td>\n",
       "      <td>2023-02-05</td>\n",
       "      <td>Юрисконсульт</td>\n",
       "      <td>male</td>\n",
       "      <td>2006</td>\n",
       "      <td>Свердловская область</td>\n",
       "      <td>...</td>\n",
       "      <td>Москва</td>\n",
       "      <td>remote</td>\n",
       "      <td>full</td>\n",
       "      <td>0.0</td>\n",
       "      <td>75000.0</td>\n",
       "      <td>[умение работать с документами, работа с прете...</td>\n",
       "      <td>0</td>\n",
       "      <td>17</td>\n",
       "      <td>Право/Экономика</td>\n",
       "      <td>14-17</td>\n",
       "    </tr>\n",
       "  </tbody>\n",
       "</table>\n",
       "<p>13797 rows × 30 columns</p>\n",
       "</div>"
      ],
      "text/plain": [
       "                topic_id topic_creation_date initial_state final_state  \\\n",
       "46291     33314123969647          2023-07-04      response    response   \n",
       "46313        3364796c740          2023-07-26      response     discard   \n",
       "46316        33077b34120          2023-06-19      response    response   \n",
       "46330   33412c9412741233          2023-06-30      response  invitation   \n",
       "46374        33c190c4c96          2023-07-18      response    response   \n",
       "...                  ...                 ...           ...         ...   \n",
       "484764      330996719964          2023-06-20      response    response   \n",
       "484770      330c7412c906          2023-06-17      response    response   \n",
       "484771      339643396003          2023-08-08      response    response   \n",
       "484774       330c7396647          2023-06-17      response    response   \n",
       "484777        331c763303          2023-06-23      response    response   \n",
       "\n",
       "        resume_id resume_creation_date                     profession gender  \\\n",
       "46291   1645010tb           2022-03-29  Делопроизводитель, архивариус   male   \n",
       "46313   15585185b           2021-09-23  Делопроизводитель, архивариус   male   \n",
       "46316   15585185b           2021-09-23  Делопроизводитель, архивариус   male   \n",
       "46330   1611tb8b6           2022-01-21  Делопроизводитель, архивариус   male   \n",
       "46374   15585185b           2021-09-23  Делопроизводитель, архивариус   male   \n",
       "...           ...                  ...                            ...    ...   \n",
       "484764   616b62tk           2017-03-22                   Юрисконсульт   male   \n",
       "484770  2020bb08b           2023-06-07                   Юрисконсульт   male   \n",
       "484771    4460bg1           2015-08-31                   Юрисконсульт   male   \n",
       "484774  2020bb08b           2023-06-07                   Юрисконсульт   male   \n",
       "484777  1t601b08b           2023-02-05                   Юрисконсульт   male   \n",
       "\n",
       "        year_of_birth         resume_region  ...        vacancy_region  \\\n",
       "46291            1960                Москва  ...                Москва   \n",
       "46313            1995                Москва  ...                Москва   \n",
       "46316            1995                Москва  ...                Москва   \n",
       "46330            1991    Московская область  ...    Московская область   \n",
       "46374            1995                Москва  ...                Москва   \n",
       "...               ...                   ...  ...                   ...   \n",
       "484764           1974  Оренбургская область  ...  Оренбургская область   \n",
       "484770           1995                Москва  ...       Санкт-Петербург   \n",
       "484771           1997                Москва  ...                Москва   \n",
       "484774           1995                Москва  ...                Москва   \n",
       "484777           2006  Свердловская область  ...                Москва   \n",
       "\n",
       "        work_schedule.1 vacancy_employment_type compensation_from  \\\n",
       "46291          full_day                    full           65000.0   \n",
       "46313          full_day                    full               NaN   \n",
       "46316          full_day                    full           45000.0   \n",
       "46330          full_day                    full           25000.0   \n",
       "46374          full_day                    full               NaN   \n",
       "...                 ...                     ...               ...   \n",
       "484764         full_day                    full           50000.0   \n",
       "484770            shift                    full           80000.0   \n",
       "484771           remote                    part           40000.0   \n",
       "484774            shift                    full           80000.0   \n",
       "484777           remote                    full               0.0   \n",
       "\n",
       "       compensation_to                                vacancy_skills_list  \\\n",
       "46291          80000.0  [adobe acrobat, работа с большим объемом инфор...   \n",
       "46313          60000.0                                             [None]   \n",
       "46316          70000.0  [деловая корреспонденция, деловая переписка, т...   \n",
       "46330              0.0  [электронный архив, уверенный пользователь пк,...   \n",
       "46374          60000.0  [оперативный поиск информации в сети интернет,...   \n",
       "...                ...                                                ...   \n",
       "484764         50000.0  [договорная работа, деловая переписка, согласо...   \n",
       "484770        100000.0  [открытие розничных магазинов, активные продаж...   \n",
       "484771         50000.0  [юрист, знание законодательства, умение работа...   \n",
       "484774        110000.0  [работа с кассой, работа в команде, контроль с...   \n",
       "484777         75000.0  [умение работать с документами, работа с прете...   \n",
       "\n",
       "        final age       occupation ages_group  \n",
       "46291       0  63  Право/Экономика      56-63  \n",
       "46313       0  28  Право/Экономика      23-28  \n",
       "46316       0  28  Право/Экономика      23-28  \n",
       "46330       1  32  Право/Экономика      29-35  \n",
       "46374       0  28  Право/Экономика      23-28  \n",
       "...       ...  ..              ...        ...  \n",
       "484764      0  49  Право/Экономика      46-55  \n",
       "484770      0  28  Право/Экономика      23-28  \n",
       "484771      0  26  Право/Экономика      23-28  \n",
       "484774      0  28  Право/Экономика      23-28  \n",
       "484777      0  17  Право/Экономика      14-17  \n",
       "\n",
       "[13797 rows x 30 columns]"
      ]
     },
     "execution_count": 56,
     "metadata": {},
     "output_type": "execute_result"
    }
   ],
   "source": [
    "ages[(ages.occupation=='Право/Экономика') & (ages.gender=='male')]"
   ]
  },
  {
   "cell_type": "markdown",
   "id": "2c44f817",
   "metadata": {},
   "source": [
    "Слишком большой разброс между женщинами и мужчинами, однако женщин подающих заявки в ~3.5 раза больше, чем мужчин. Также не совсем понятно почему молодых спецов приглашают намного чаще, чем более старших."
   ]
  },
  {
   "cell_type": "code",
   "execution_count": 57,
   "id": "90077d41",
   "metadata": {
    "ExecuteTime": {
     "end_time": "2023-12-12T19:27:53.573145Z",
     "start_time": "2023-12-12T19:27:48.623050Z"
    }
   },
   "outputs": [
    {
     "name": "stdout",
     "output_type": "stream",
     "text": [
      "Успешность при попытке попасть на собеседование.\n",
      "Сфера: Дизайн\n"
     ]
    },
    {
     "data": {
      "image/png": "[encoded data removed]",
      "text/plain": [
       "<Figure size 640x480 with 1 Axes>"
      ]
     },
     "metadata": {},
     "output_type": "display_data"
    }
   ],
   "source": [
    "plot('Дизайн')"
   ]
  },
  {
   "cell_type": "markdown",
   "id": "d1aef276",
   "metadata": {},
   "source": [
    "Поскольку записей о сфере оч мало, то нежелательно по ним выводы делать, а так можно заметить, что в творческих профессиях не очень важен возраст, а также что женщин приглашают на собеседование чаще."
   ]
  },
  {
   "cell_type": "code",
   "execution_count": 58,
   "id": "446925f1",
   "metadata": {
    "ExecuteTime": {
     "end_time": "2023-12-12T19:27:55.950337Z",
     "start_time": "2023-12-12T19:27:53.573145Z"
    }
   },
   "outputs": [
    {
     "name": "stdout",
     "output_type": "stream",
     "text": [
      "Успешность при попытке попасть на собеседование.\n",
      "Сфера: Медицина\n"
     ]
    },
    {
     "data": {
      "image/png": "[encoded data removed]",
      "text/plain": [
       "<Figure size 640x480 with 1 Axes>"
      ]
     },
     "metadata": {},
     "output_type": "display_data"
    }
   ],
   "source": [
    "plot('Медицина', 20, 40)"
   ]
  },
  {
   "cell_type": "code",
   "execution_count": 59,
   "id": "e1725a4d",
   "metadata": {
    "ExecuteTime": {
     "end_time": "2023-12-12T19:27:55.997898Z",
     "start_time": "2023-12-12T19:27:55.950337Z"
    }
   },
   "outputs": [
    {
     "name": "stdout",
     "output_type": "stream",
     "text": [
      "Отличается ли успех группы 25-34 от среднего?\n",
      "Показатели лучшей группы: 0.2794024157660521;\n",
      "Показатели остальных: 0.21135496183206107\n",
      "Стандартная ошибка среднего: 0.010187734420757264\n",
      "t-критерий: 6.679350984586525\n",
      "Степени свободы: 7336\n",
      "p-уровень значимости меньше 0.01\n",
      "Различия между успешностью группы 25-34 и ген. совокупностью статистически значимые\n"
     ]
    }
   ],
   "source": [
    "info('Медицина', 25, 34)"
   ]
  },
  {
   "cell_type": "markdown",
   "id": "f2543f6c",
   "metadata": {},
   "source": [
    "Вполне ожидаемо, наиболее востребованными специалистами являются не очень старые, но опытные специалисты"
   ]
  },
  {
   "cell_type": "code",
   "execution_count": 60,
   "id": "24a44546",
   "metadata": {
    "ExecuteTime": {
     "end_time": "2023-12-12T19:28:01.064772Z",
     "start_time": "2023-12-12T19:27:55.999900Z"
    }
   },
   "outputs": [
    {
     "name": "stdout",
     "output_type": "stream",
     "text": [
      "Успешность при попытке попасть на собеседование.\n",
      "Сфера: Образование\n"
     ]
    },
    {
     "data": {
      "image/png": "[encoded data removed]",
      "text/plain": [
       "<Figure size 640x480 with 1 Axes>"
      ]
     },
     "metadata": {},
     "output_type": "display_data"
    }
   ],
   "source": [
    "plot('Образование')"
   ]
  },
  {
   "cell_type": "markdown",
   "id": "2c4085ed",
   "metadata": {},
   "source": [
    "Мало инфы, чтобы что-то говорить, на первый взгляд можно сказать, что особых различий нет"
   ]
  },
  {
   "cell_type": "code",
   "execution_count": 61,
   "id": "f5d1d9c4",
   "metadata": {
    "ExecuteTime": {
     "end_time": "2023-12-12T19:28:01.094960Z",
     "start_time": "2023-12-12T19:28:01.064772Z"
    }
   },
   "outputs": [
    {
     "data": {
      "text/plain": [
       "occupation\n",
       "Менеджмент                  151926\n",
       "Сфера услуг                 148387\n",
       "Инженерия/Промышленность     64360\n",
       "IT                           60753\n",
       "Право/Экономика              47453\n",
       "Медицина                      7338\n",
       "Дизайн                        6847\n",
       "Образование                   3796\n",
       "Name: count, dtype: int64"
      ]
     },
     "execution_count": 61,
     "metadata": {},
     "output_type": "execute_result"
    }
   ],
   "source": [
    "ages.occupation.value_counts()"
   ]
  },
  {
   "cell_type": "markdown",
   "id": "3f171a6a",
   "metadata": {
    "ExecuteTime": {
     "end_time": "2023-12-09T17:12:30.224615Z",
     "start_time": "2023-12-09T17:12:30.198971Z"
    }
   },
   "source": [
    "# Смотрим гипотезу о совместимости регионов"
   ]
  },
  {
   "cell_type": "code",
   "execution_count": 62,
   "id": "fd086d7e",
   "metadata": {
    "ExecuteTime": {
     "end_time": "2023-12-12T19:28:01.375325Z",
     "start_time": "2023-12-12T19:28:01.098077Z"
    }
   },
   "outputs": [
    {
     "data": {
      "text/plain": [
       "resume_region\n",
       "Москва                  148992\n",
       "Санкт-Петербург          60406\n",
       "Московская область       33675\n",
       "Краснодарский край       20169\n",
       "Республика Татарстан     15344\n",
       "                         ...  \n",
       "Еврейская АО                40\n",
       "Запорожская область         33\n",
       "Ненецкий АО                  8\n",
       "Херсонская область           5\n",
       "Чукотский АО                 4\n",
       "Name: count, Length: 88, dtype: int64"
      ]
     },
     "execution_count": 62,
     "metadata": {},
     "output_type": "execute_result"
    }
   ],
   "source": [
    "regs = df.copy()\n",
    "regs.resume_region.value_counts()"
   ]
  },
  {
   "cell_type": "markdown",
   "id": "01150267",
   "metadata": {
    "ExecuteTime": {
     "end_time": "2023-12-09T17:17:06.138211Z",
     "start_time": "2023-12-09T17:17:06.133296Z"
    }
   },
   "source": [
    "Идеи две: любо записывать регионы соседи, либо смотреть расстояния между региональными центрами. Пока рассмотрим только случаи совпадения"
   ]
  },
  {
   "cell_type": "code",
   "execution_count": 63,
   "id": "892bc2c5",
   "metadata": {
    "ExecuteTime": {
     "end_time": "2023-12-12T19:28:10.005105Z",
     "start_time": "2023-12-12T19:28:01.375325Z"
    }
   },
   "outputs": [],
   "source": [
    "regs['match'] = regs.apply(lambda x: x['resume_region'] == x['vacancy_region'], 1)"
   ]
  },
  {
   "cell_type": "code",
   "execution_count": 64,
   "id": "e7ab736d",
   "metadata": {
    "ExecuteTime": {
     "end_time": "2023-12-12T19:28:10.325035Z",
     "start_time": "2023-12-12T19:28:10.005105Z"
    }
   },
   "outputs": [
    {
     "data": {
      "text/plain": [
       "<Axes: xlabel='match'>"
      ]
     },
     "execution_count": 64,
     "metadata": {},
     "output_type": "execute_result"
    },
    {
     "data": {
      "image/png": "[encoded data removed]",
      "text/plain": [
       "<Figure size 640x480 with 1 Axes>"
      ]
     },
     "metadata": {},
     "output_type": "display_data"
    }
   ],
   "source": [
    "regs_offline = regs[regs['work_schedule.1']!='remote']\n",
    "offline_inf = regs_offline[['match', 'final']]\n",
    "offline_inf.groupby('match').mean().plot.bar()"
   ]
  },
  {
   "cell_type": "code",
   "execution_count": 65,
   "id": "dc9e0a3e",
   "metadata": {
    "ExecuteTime": {
     "end_time": "2023-12-12T19:28:10.345342Z",
     "start_time": "2023-12-12T19:28:10.325035Z"
    }
   },
   "outputs": [
    {
     "data": {
      "text/plain": [
       "(0.36048564998440213, 0.25655045798327714)"
      ]
     },
     "execution_count": 65,
     "metadata": {},
     "output_type": "execute_result"
    }
   ],
   "source": [
    "a = offline_inf[offline_inf.match].final\n",
    "b = offline_inf[~offline_inf.match].final\n",
    "mean_a = a.mean()\n",
    "mean_b = b.mean()\n",
    "alpha = mean_a - mean_b\n",
    "mean_a, mean_b"
   ]
  },
  {
   "cell_type": "code",
   "execution_count": 66,
   "id": "fe02a964",
   "metadata": {
    "ExecuteTime": {
     "end_time": "2023-12-12T19:28:10.354640Z",
     "start_time": "2023-12-12T19:28:10.348449Z"
    }
   },
   "outputs": [],
   "source": [
    "se = ((a.std() ** 2) / len(a) + (b.std() ** 2) / len(b)) ** 0.5"
   ]
  },
  {
   "cell_type": "code",
   "execution_count": 67,
   "id": "99b056e0",
   "metadata": {
    "ExecuteTime": {
     "end_time": "2023-12-12T19:28:10.360773Z",
     "start_time": "2023-12-12T19:28:10.354640Z"
    }
   },
   "outputs": [
    {
     "name": "stdout",
     "output_type": "stream",
     "text": [
      "t-критерий: 49.27890866273391; степени свободы: 409133\n"
     ]
    }
   ],
   "source": [
    "t = alpha / se\n",
    "print(f\"t-критерий: {t}; степени свободы: {len(a) + len(b) - 2}\")"
   ]
  },
  {
   "cell_type": "code",
   "execution_count": 68,
   "id": "a302c2de",
   "metadata": {
    "ExecuteTime": {
     "end_time": "2023-12-12T19:28:10.604241Z",
     "start_time": "2023-12-12T19:28:10.360773Z"
    }
   },
   "outputs": [
    {
     "data": {
      "text/plain": [
       "<Axes: xlabel='match'>"
      ]
     },
     "execution_count": 68,
     "metadata": {},
     "output_type": "execute_result"
    },
    {
     "data": {
      "image/png": "[encoded data removed]",
      "text/plain": [
       "<Figure size 640x480 with 1 Axes>"
      ]
     },
     "metadata": {},
     "output_type": "display_data"
    }
   ],
   "source": [
    "regs_online = regs[regs['work_schedule.1']=='remote']\n",
    "online_inf = regs_online[['match', 'final']]\n",
    "online_inf.groupby('match').mean().plot.bar()"
   ]
  },
  {
   "cell_type": "code",
   "execution_count": 69,
   "id": "82d0b22e",
   "metadata": {
    "ExecuteTime": {
     "end_time": "2023-12-12T19:28:10.616235Z",
     "start_time": "2023-12-12T19:28:10.604241Z"
    }
   },
   "outputs": [
    {
     "data": {
      "text/plain": [
       "(0.524996904791383, 0.41011951209495257)"
      ]
     },
     "execution_count": 69,
     "metadata": {},
     "output_type": "execute_result"
    }
   ],
   "source": [
    "a = online_inf[online_inf.match].final\n",
    "b = online_inf[~online_inf.match].final\n",
    "mean_a = a.mean()\n",
    "mean_b = b.mean()\n",
    "alpha = mean_a - mean_b\n",
    "mean_a, mean_b"
   ]
  },
  {
   "cell_type": "code",
   "execution_count": 70,
   "id": "fdddcfc5",
   "metadata": {
    "ExecuteTime": {
     "end_time": "2023-12-12T19:28:10.624093Z",
     "start_time": "2023-12-12T19:28:10.618236Z"
    }
   },
   "outputs": [
    {
     "data": {
      "text/plain": [
       "0.0033381119191522165"
      ]
     },
     "execution_count": 70,
     "metadata": {},
     "output_type": "execute_result"
    }
   ],
   "source": [
    "se = ((a.std() ** 2) / len(a) + (b.std() ** 2) / len(b)) ** 0.5\n",
    "se"
   ]
  },
  {
   "cell_type": "code",
   "execution_count": 71,
   "id": "39be3821",
   "metadata": {
    "ExecuteTime": {
     "end_time": "2023-12-12T19:28:10.632125Z",
     "start_time": "2023-12-12T19:28:10.626094Z"
    }
   },
   "outputs": [
    {
     "name": "stdout",
     "output_type": "stream",
     "text": [
      "t-критерий: 34.41388290108796; степени свободы: 89081\n"
     ]
    }
   ],
   "source": [
    "t = alpha / se\n",
    "print(f\"t-критерий: {t}; степени свободы: {len(a) + len(b) - 2}\")"
   ]
  },
  {
   "cell_type": "markdown",
   "id": "5a3901e0",
   "metadata": {},
   "source": [
    "Даже на удаленке чаще зовут тех, кто в одном и том же регионе с ними, мб связываться удобнее и все такое"
   ]
  },
  {
   "cell_type": "markdown",
   "id": "8a0b5006",
   "metadata": {},
   "source": [
    "# Смотрим на навыки"
   ]
  },
  {
   "cell_type": "code",
   "execution_count": 72,
   "id": "eba7ed92",
   "metadata": {
    "ExecuteTime": {
     "end_time": "2023-12-12T19:28:10.883148Z",
     "start_time": "2023-12-12T19:28:10.634127Z"
    }
   },
   "outputs": [],
   "source": [
    "skills_df = df[df.resume_skills_list.map(lambda x: x!=[])]"
   ]
  },
  {
   "cell_type": "code",
   "execution_count": 73,
   "id": "2da768fe",
   "metadata": {
    "ExecuteTime": {
     "end_time": "2023-12-12T19:28:10.898052Z",
     "start_time": "2023-12-12T19:28:10.884836Z"
    }
   },
   "outputs": [],
   "source": [
    "def show_skills(cat, ans_len=20, min_per=2, min_group=0.05):\n",
    "    print(\"Смотрим следующие профессии:\", *cat)\n",
    "    curr = skills_df[skills_df.profession.map(lambda x: x in cat)]\n",
    "    ctr = len(curr)\n",
    "    print(f\"Всего найдено {ctr} наблюдений.\")\n",
    "    curr_skills = dict()\n",
    "    for i in curr.vacancy_skills_list:\n",
    "        for j in set(i):\n",
    "            if j:\n",
    "                curr_skills[j] = curr_skills.get(j, 0) + 1\n",
    "    # на данный момент будем обращать внимание только на те скиллы, которые встречаются хотя бы в 2% резюме\n",
    "    curr_skills_df = pd.DataFrame(data={'Скилл':curr_skills.keys(), \n",
    "                                        'Кол-во вакансий':curr_skills.values()})\n",
    "    curr_skills_df['Процент'] = curr_skills_df['Кол-во вакансий'] / ctr * 100\n",
    "    curr_skills_df = curr_skills_df[curr_skills_df['Процент'] >= min_per]\n",
    "    curr_skills_df = curr_skills_df.sort_values(by='Процент', ascending=False)\n",
    "    curr_skills_df = curr_skills_df.set_index('Скилл')\n",
    "    print(curr_skills_df)\n",
    "    print('-'*100)\n",
    "    # по-хорошему наверное надо 4 сценария смотреть(как в англе), но я не знаю как их оценивать\n",
    "    res = []\n",
    "    for i in curr_skills_df.index:\n",
    "        a = curr[curr.resume_skills_list.map(lambda x: i in x)] # в резюме есть навык\n",
    "        # тут я подумал, что будет не оч, если размеры оцениваемых групп не больше 10% от всей совокупности\n",
    "        if len(a) < ctr * min_group:\n",
    "            continue\n",
    "        b = curr[curr.resume_skills_list.map(lambda x: i not in x)] # в резюме нет навыка\n",
    "        if len(b) < ctr * min_group:\n",
    "            continue\n",
    "        if len(a) >= len(b):\n",
    "            a = a.sample(n=len(b))\n",
    "        else:\n",
    "            b = b.sample(n=len(a))\n",
    "        a=a.final\n",
    "        b=b.final\n",
    "        se = ((a.std() ** 2) / len(a) + (b.std() ** 2) / len(b)) ** 0.5\n",
    "        t = (a.mean() - b.mean()) / se\n",
    "        if t >= 1.967: # df -> inf\n",
    "            print(f\"Для скилла \\\"{i}\\\" t-критерий - {t} и степени свободы - {len(a) - 1} и {len(b) - 1}\")\n",
    "            res.append(i)\n",
    "        elif t < -1.967:\n",
    "            print(f\"!Скилл \\\"{i}\\\" негативно влияет на успех. t-критерий - {t} и степени свободы - {len(a) - 1} и {len(b) - 1}\")\n",
    "    print('-'*100)\n",
    "    print(ans_len, \"самых значимых скиллов:\", \";\\n\".join(curr_skills_df.head(ans_len).index))\n",
    "    return res"
   ]
  },
  {
   "cell_type": "code",
   "execution_count": 74,
   "id": "b9e0610e",
   "metadata": {
    "ExecuteTime": {
     "end_time": "2023-12-12T19:28:18.054968Z",
     "start_time": "2023-12-12T19:28:10.900540Z"
    }
   },
   "outputs": [
    {
     "name": "stdout",
     "output_type": "stream",
     "text": [
      "Смотрим следующие профессии: Менеджер по продажам, менеджер по работе с клиентами Бухгалтер Менеджер по маркетингу, интернет-маркетолог Менеджер по персоналу Менеджер по логистике, менеджер по ВЭД Специалист по подбору персонала Менеджер по закупкам Директор магазина, директор сети магазинов Руководитель отдела продаж Офис-менеджер Секретарь, помощник руководителя, ассистент Руководитель проектов Финансовый менеджер Администратор Продавец-консультант, продавец-кассир Менеджер по туризму Координатор отдела продаж Менеджер ресторана Специалист по кадрам Менеджер/руководитель АХО\n",
      "Всего найдено 143540 наблюдений.\n",
      "                                     Кол-во вакансий    Процент\n",
      "Скилл                                                          \n",
      "работа в команде                               24189  16.851749\n",
      "грамотная речь                                 23575  16.423993\n",
      "активные продажи                               17097  11.910966\n",
      "телефонные переговоры                          16357  11.395430\n",
      "пользователь пк                                16041  11.175282\n",
      "деловое общение                                15141  10.548279\n",
      "ведение переговоров                            13217   9.207886\n",
      "деловая переписка                              12503   8.710464\n",
      "навыки продаж                                  12003   8.362129\n",
      "организаторские навыки                         10546   7.347081\n",
      "управление персоналом                           9392   6.543124\n",
      "ориентация на результат                         9346   6.511077\n",
      "работа с большим объемом информации             9299   6.478334\n",
      "поиск и привлечение клиентов                    8722   6.076355\n",
      "b2b продажи                                     8166   5.689007\n",
      "заключение договоров                            8145   5.674376\n",
      "деловая коммуникация                            7845   5.465376\n",
      "обучение персонала                              7811   5.441689\n",
      "развитие продаж                                 7039   4.903860\n",
      "подбор персонала                                6743   4.697645\n",
      "прямые продажи                                  6567   4.575031\n",
      "обучение и развитие                             6483   4.516511\n",
      "управление продажами                            6401   4.459384\n",
      "клиентоориентированность                        6332   4.411314\n",
      "мотивация персонала                             5464   3.806604\n",
      "crm                                             4923   3.429706\n",
      "навыки переговоров                              4821   3.358646\n",
      "проведение презентаций                          4238   2.952487\n",
      "грамотность                                     4222   2.941340\n",
      "умение работать в команде                       4188   2.917654\n",
      "холодные продажи                                4042   2.815940\n",
      "1с: предприятие 8                               4015   2.797130\n",
      "многозадачность                                 3841   2.675909\n",
      "управление командой                             3819   2.660582\n",
      "удаленная работа                                3586   2.498258\n",
      "работа с возражениями                           3492   2.432771\n",
      "руководство коллективом                         3425   2.386094\n",
      "планирование продаж                             3399   2.367981\n",
      "навыки презентации                              3218   2.241884\n",
      "работа с поставщиками                           3063   2.133900\n",
      "поиск информации в интернет                     3025   2.107427\n",
      "документооборот                                 3011   2.097673\n",
      "закупки                                         2945   2.051693\n",
      "работа в условиях многозадачности               2891   2.014073\n",
      "----------------------------------------------------------------------------------------------------\n",
      "Для скилла \"работа в команде\" t-критерий - 3.7470019866682436 и степени свободы - 26680 и 26680\n",
      "Для скилла \"грамотная речь\" t-критерий - 13.252455496173692 и степени свободы - 20888 и 20888\n",
      "Для скилла \"активные продажи\" t-критерий - 15.584939735248753 и степени свободы - 16387 и 16387\n",
      "Для скилла \"телефонные переговоры\" t-критерий - 9.336448601812762 и степени свободы - 20170 и 20170\n",
      "Для скилла \"пользователь пк\" t-критерий - 7.848290725459877 и степени свободы - 26741 и 26741\n",
      "Для скилла \"деловое общение\" t-критерий - 6.128107035060449 и степени свободы - 22320 и 22320\n",
      "!Скилл \"ведение переговоров\" негативно влияет на успех. t-критерий - -9.1946120386978 и степени свободы - 20714 и 20714\n",
      "Для скилла \"навыки продаж\" t-критерий - 11.222815929155297 и степени свободы - 13048 и 13048\n",
      "!Скилл \"организаторские навыки\" негативно влияет на успех. t-критерий - -15.966206584367292 и степени свободы - 25987 и 25987\n",
      "!Скилл \"управление персоналом\" негативно влияет на успех. t-критерий - -11.59974486204668 и степени свободы - 18349 и 18349\n",
      "Для скилла \"поиск и привлечение клиентов\" t-критерий - 8.621891369157904 и степени свободы - 12204 и 12204\n",
      "!Скилл \"заключение договоров\" негативно влияет на успех. t-критерий - -2.491133776313366 и степени свободы - 19205 и 19205\n",
      "!Скилл \"деловая коммуникация\" негативно влияет на успех. t-критерий - -8.097535881842719 и степени свободы - 14111 и 14111\n",
      "!Скилл \"обучение персонала\" негативно влияет на успех. t-критерий - -8.805800984770029 и степени свободы - 18282 и 18282\n",
      "!Скилл \"развитие продаж\" негативно влияет на успех. t-критерий - -2.5075281216492775 и степени свободы - 9056 и 9056\n",
      "!Скилл \"подбор персонала\" негативно влияет на успех. t-критерий - -7.733527492535448 и степени свободы - 13190 и 13190\n",
      "Для скилла \"прямые продажи\" t-критерий - 11.525861837007096 и степени свободы - 10223 и 10223\n",
      "!Скилл \"управление продажами\" негативно влияет на успех. t-критерий - -8.745651077471342 и степени свободы - 13390 и 13390\n",
      "!Скилл \"мотивация персонала\" негативно влияет на успех. t-критерий - -10.451342167447473 и степени свободы - 10231 и 10231\n",
      "!Скилл \"проведение презентаций\" негативно влияет на успех. t-критерий - -2.706946115994824 и степени свободы - 8363 и 8363\n",
      "Для скилла \"умение работать в команде\" t-критерий - 5.239354489472713 и степени свободы - 10811 и 10811\n",
      "!Скилл \"1с: предприятие 8\" негативно влияет на успех. t-критерий - -3.982040035247377 и степени свободы - 13281 и 13281\n",
      "!Скилл \"управление командой\" негативно влияет на успех. t-критерий - -10.897019440909505 и степени свободы - 7830 и 7830\n",
      "!Скилл \"руководство коллективом\" негативно влияет на успех. t-критерий - -17.926848243899226 и степени свободы - 11311 и 11311\n",
      "----------------------------------------------------------------------------------------------------\n",
      "20 самых значимых скиллов: работа в команде;\n",
      "грамотная речь;\n",
      "активные продажи;\n",
      "телефонные переговоры;\n",
      "пользователь пк;\n",
      "деловое общение;\n",
      "ведение переговоров;\n",
      "деловая переписка;\n",
      "навыки продаж;\n",
      "организаторские навыки;\n",
      "управление персоналом;\n",
      "ориентация на результат;\n",
      "работа с большим объемом информации;\n",
      "поиск и привлечение клиентов;\n",
      "b2b продажи;\n",
      "заключение договоров;\n",
      "деловая коммуникация;\n",
      "обучение персонала;\n",
      "развитие продаж;\n",
      "подбор персонала\n"
     ]
    },
    {
     "data": {
      "text/plain": [
       "['работа в команде',\n",
       " 'грамотная речь',\n",
       " 'активные продажи',\n",
       " 'телефонные переговоры',\n",
       " 'пользователь пк',\n",
       " 'деловое общение',\n",
       " 'навыки продаж',\n",
       " 'поиск и привлечение клиентов',\n",
       " 'прямые продажи',\n",
       " 'умение работать в команде']"
      ]
     },
     "execution_count": 74,
     "metadata": {},
     "output_type": "execute_result"
    }
   ],
   "source": [
    "it_skills = show_skills(management)\n",
    "it_skills"
   ]
  },
  {
   "cell_type": "code",
   "execution_count": 75,
   "id": "0a0e96b7",
   "metadata": {
    "ExecuteTime": {
     "end_time": "2023-12-12T19:28:20.336470Z",
     "start_time": "2023-12-12T19:28:18.054968Z"
    }
   },
   "outputs": [
    {
     "data": {
      "image/png": "[encoded data removed]",
      "text/plain": [
       "<Figure size 640x480 with 1 Axes>"
      ]
     },
     "metadata": {},
     "output_type": "display_data"
    }
   ],
   "source": [
    "def show_skills_scenaries(cat, skills):\n",
    "    curr = skills_df[skills_df.profession.map(lambda x: x in cat)]\n",
    "    nn = [0 for i in skills]\n",
    "    ny = [0 for i in skills]\n",
    "    yn = [0 for i in skills]\n",
    "    yy = [0 for i in skills]\n",
    "    for i in range(len(skills)):\n",
    "        temp = skills[i]\n",
    "        _q = curr.vacancy_skills_list.map(lambda x: temp in x)\n",
    "        q_ = curr.resume_skills_list.map(lambda x: temp in x)\n",
    "        nn[i] = curr[(~q_)&(~_q)].final.mean()\n",
    "        ny[i] = curr[(~q_)&(_q)].final.mean()\n",
    "        yn[i] = curr[(q_)&(~_q)].final.mean()\n",
    "        yy[i] = curr[(q_)&(_q)].final.mean()\n",
    "    res_df = pd.DataFrame(data={'skill':skills, 'nn':nn,'ny':ny,'yn':yn,'yy':yy})\n",
    "    res_df.plot.bar(x='skill')\n",
    "show_skills_scenaries(management, it_skills)"
   ]
  },
  {
   "cell_type": "code",
   "execution_count": 76,
   "id": "94d447c4",
   "metadata": {
    "ExecuteTime": {
     "end_time": "2023-12-12T19:28:20.345728Z",
     "start_time": "2023-12-12T19:28:20.336470Z"
    }
   },
   "outputs": [],
   "source": [
    "def check_skills(cat, skills):\n",
    "    curr = skills_df.copy()\n",
    "    curr = curr[curr.profession.map(lambda x: x in cat)]\n",
    "    skills = set(skills)\n",
    "    curr['match'] = curr.resume_skills_list.map(lambda x: len(set(x) & skills))\n",
    "    med = curr.match.median()\n",
    "    print(f\"Медианное число совпадений со скиллами: {med}\")\n",
    "    print(curr.match.value_counts())\n",
    "    a = curr[curr.match > med].final\n",
    "    b = curr[curr.match <= med].final\n",
    "    b = b.sample(n=len(a))\n",
    "    se = ((a.std() ** 2) / len(a) + (b.std() ** 2) / len(b)) ** 0.5\n",
    "    t = (a.mean() - b.mean()) / se\n",
    "    print('-'*100)\n",
    "    print(f\"t-критерий = {t}\")"
   ]
  },
  {
   "cell_type": "code",
   "execution_count": 77,
   "id": "9d2093e0",
   "metadata": {
    "ExecuteTime": {
     "end_time": "2023-12-12T19:28:20.862985Z",
     "start_time": "2023-12-12T19:28:20.345728Z"
    }
   },
   "outputs": [
    {
     "name": "stdout",
     "output_type": "stream",
     "text": [
      "Медианное число совпадений со скиллами: 0.0\n",
      "match\n",
      "0     37819\n",
      "1      9895\n",
      "2      5055\n",
      "3      2935\n",
      "4      1673\n",
      "5       623\n",
      "6       603\n",
      "7       169\n",
      "8        89\n",
      "9        19\n",
      "10        3\n",
      "Name: count, dtype: int64\n",
      "----------------------------------------------------------------------------------------------------\n",
      "t-критерий = 5.813377896914721\n"
     ]
    }
   ],
   "source": [
    "check_skills(it, it_skills)"
   ]
  },
  {
   "cell_type": "code",
   "execution_count": null,
   "id": "adbebfae",
   "metadata": {},
   "outputs": [],
   "source": []
  }
 ],
 "metadata": {
  "kernelspec": {
   "display_name": "Python 3 (ipykernel)",
   "language": "python",
   "name": "python3"
  },
  "language_info": {
   "codemirror_mode": {
    "name": "ipython",
    "version": 3
   },
   "file_extension": ".py",
   "mimetype": "text/x-python",
   "name": "python",
   "nbconvert_exporter": "python",
   "pygments_lexer": "ipython3",
   "version": "3.11.5"
  },
  "notify_time": "0",
  "toc": {
   "base_numbering": 1,
   "nav_menu": {},
   "number_sections": true,
   "sideBar": true,
   "skip_h1_title": false,
   "title_cell": "Table of Contents",
   "title_sidebar": "Contents",
   "toc_cell": false,
   "toc_position": {},
   "toc_section_display": true,
   "toc_window_display": false
  }
 },
 "nbformat": 4,
 "nbformat_minor": 5
}
