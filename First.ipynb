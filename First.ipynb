{
 "cells": [
  {
   "cell_type": "code",
   "execution_count": 1,
   "id": "b846fd3d",
   "metadata": {
    "ExecuteTime": {
     "end_time": "2023-12-04T16:48:18.059354Z",
     "start_time": "2023-12-04T16:48:10.456292Z"
    }
   },
   "outputs": [],
   "source": [
    "import pandas as pd\n",
    "import numpy as np\n",
    "df = pd.read_csv('hh_ru_dataset.csv')"
   ]
  },
  {
   "cell_type": "markdown",
   "id": "86ceb33d",
   "metadata": {},
   "source": [
    "# Обработка пустых значений"
   ]
  },
  {
   "cell_type": "code",
   "execution_count": 2,
   "id": "8676e3db",
   "metadata": {
    "ExecuteTime": {
     "end_time": "2023-12-04T16:48:18.490687Z",
     "start_time": "2023-12-04T16:48:18.064353Z"
    }
   },
   "outputs": [
    {
     "name": "stdout",
     "output_type": "stream",
     "text": [
      "<class 'pandas.core.frame.DataFrame'>\n",
      "RangeIndex: 500000 entries, 0 to 499999\n",
      "Data columns (total 26 columns):\n",
      " #   Column                   Non-Null Count   Dtype  \n",
      "---  ------                   --------------   -----  \n",
      " 0   topic_id                 500000 non-null  object \n",
      " 1   topic_creation_date      500000 non-null  object \n",
      " 2   initial_state            499166 non-null  object \n",
      " 3   final_state              499166 non-null  object \n",
      " 4   resume_id                500000 non-null  object \n",
      " 5   resume_creation_date     500000 non-null  object \n",
      " 6   profession               500000 non-null  object \n",
      " 7   gender                   500000 non-null  object \n",
      " 8   year_of_birth            500000 non-null  int64  \n",
      " 9   resume_region            500000 non-null  object \n",
      " 10  education_level          499898 non-null  object \n",
      " 11  expected_salary          489214 non-null  float64\n",
      " 12  relocation_status        500000 non-null  object \n",
      " 13  business_trip_readiness  500000 non-null  object \n",
      " 14  work_schedule            493089 non-null  object \n",
      " 15  resume_employment_type   500000 non-null  object \n",
      " 16  work_experience_months   500000 non-null  int64  \n",
      " 17  resume_skills_list       462552 non-null  object \n",
      " 18  vacancy_id               500000 non-null  object \n",
      " 19  vacancy_creation_date    500000 non-null  object \n",
      " 20  vacancy_region           500000 non-null  object \n",
      " 21  work_schedule.1          500000 non-null  object \n",
      " 22  vacancy_employment_type  500000 non-null  object \n",
      " 23  compensation_from        470618 non-null  float64\n",
      " 24  compensation_to          361775 non-null  float64\n",
      " 25  vacancy_skills_list      500000 non-null  object \n",
      "dtypes: float64(3), int64(2), object(21)\n",
      "memory usage: 99.2+ MB\n"
     ]
    }
   ],
   "source": [
    "df.info()"
   ]
  },
  {
   "cell_type": "markdown",
   "id": "46628e06",
   "metadata": {},
   "source": [
    "Смело удалаяем строки с пустыми initial_state, final_state, education_level. По поводу остальных вопрос. Nan в resume_skills_list - это просто пустой список как я понял; предлагаемая зарплата вакансии отсутствует где-то, но это норм по идее."
   ]
  },
  {
   "cell_type": "code",
   "execution_count": 3,
   "id": "3fda694b",
   "metadata": {
    "ExecuteTime": {
     "end_time": "2023-12-04T16:48:52.604795Z",
     "start_time": "2023-12-04T16:48:18.492688Z"
    }
   },
   "outputs": [],
   "source": [
    "\"\"\"Остались Nan'ы в столбцах ожидаемой зарплаты, графика, границ предлагаемой зп вакансии. В случае \n",
    "гипотезы по этим параметрам не забыть удалить их.\n",
    "\"\"\"\n",
    "df = df[(~df.initial_state.isna()) & (~df.final_state.isna()) & (~df.education_level.isna())]\n",
    "# expected_salary пока нет смысла убирать Nan'ы\n",
    "df['work_schedule'] = df['work_schedule'].fillna('no data')\n",
    "df.resume_skills_list = df.resume_skills_list.map(lambda x: eval(x) if (x and type(x)) != float else [])\n",
    "df.vacancy_skills_list = df.vacancy_skills_list.map(lambda x: eval(x) if (x and type(x)) != float else [])\n",
    "df.topic_creation_date = pd.to_datetime(df.topic_creation_date)\n",
    "df.resume_creation_date = pd.to_datetime(df.resume_creation_date)\n",
    "df.vacancy_creation_date = pd.to_datetime(df.vacancy_creation_date)"
   ]
  },
  {
   "cell_type": "code",
   "execution_count": 4,
   "id": "a05e5e0b",
   "metadata": {
    "ExecuteTime": {
     "end_time": "2023-12-04T16:48:52.936804Z",
     "start_time": "2023-12-04T16:48:52.604795Z"
    }
   },
   "outputs": [
    {
     "name": "stdout",
     "output_type": "stream",
     "text": [
      "<class 'pandas.core.frame.DataFrame'>\n",
      "Index: 499064 entries, 0 to 499999\n",
      "Data columns (total 26 columns):\n",
      " #   Column                   Non-Null Count   Dtype         \n",
      "---  ------                   --------------   -----         \n",
      " 0   topic_id                 499064 non-null  object        \n",
      " 1   topic_creation_date      499064 non-null  datetime64[ns]\n",
      " 2   initial_state            499064 non-null  object        \n",
      " 3   final_state              499064 non-null  object        \n",
      " 4   resume_id                499064 non-null  object        \n",
      " 5   resume_creation_date     499064 non-null  datetime64[ns]\n",
      " 6   profession               499064 non-null  object        \n",
      " 7   gender                   499064 non-null  object        \n",
      " 8   year_of_birth            499064 non-null  int64         \n",
      " 9   resume_region            499064 non-null  object        \n",
      " 10  education_level          499064 non-null  object        \n",
      " 11  expected_salary          488311 non-null  float64       \n",
      " 12  relocation_status        499064 non-null  object        \n",
      " 13  business_trip_readiness  499064 non-null  object        \n",
      " 14  work_schedule            499064 non-null  object        \n",
      " 15  resume_employment_type   499064 non-null  object        \n",
      " 16  work_experience_months   499064 non-null  int64         \n",
      " 17  resume_skills_list       499064 non-null  object        \n",
      " 18  vacancy_id               499064 non-null  object        \n",
      " 19  vacancy_creation_date    499064 non-null  datetime64[ns]\n",
      " 20  vacancy_region           499064 non-null  object        \n",
      " 21  work_schedule.1          499064 non-null  object        \n",
      " 22  vacancy_employment_type  499064 non-null  object        \n",
      " 23  compensation_from        469726 non-null  float64       \n",
      " 24  compensation_to          361173 non-null  float64       \n",
      " 25  vacancy_skills_list      499064 non-null  object        \n",
      "dtypes: datetime64[ns](3), float64(3), int64(2), object(18)\n",
      "memory usage: 102.8+ MB\n"
     ]
    }
   ],
   "source": [
    "df.info()"
   ]
  },
  {
   "cell_type": "markdown",
   "id": "24598386",
   "metadata": {},
   "source": [
    "# Выбросы и дубликаты"
   ]
  },
  {
   "cell_type": "markdown",
   "id": "7c13eaed",
   "metadata": {},
   "source": [
    "Есть ~2000 наблюдей с повторяющимся id, но думаю не страшно, мб просто наложилось и т.д.\n",
    "Не совсем понятно, как работают статусы взаимодействия"
   ]
  },
  {
   "cell_type": "code",
   "execution_count": 5,
   "id": "d89c5333",
   "metadata": {
    "ExecuteTime": {
     "end_time": "2023-12-04T16:48:53.015132Z",
     "start_time": "2023-12-04T16:48:52.936804Z"
    }
   },
   "outputs": [
    {
     "data": {
      "text/plain": [
       "array(['Менеджер по продажам, менеджер по работе с клиентами',\n",
       "       'Дизайнер, художник', 'Программист, разработчик', 'Бухгалтер',\n",
       "       'Менеджер по маркетингу, интернет-маркетолог',\n",
       "       'Официант, бармен, бариста', 'Менеджер по персоналу',\n",
       "       'Менеджер по логистике, менеджер по ВЭД',\n",
       "       'Оператор ПК, оператор базы данных',\n",
       "       'Специалист по подбору персонала', 'Менеджер по закупкам',\n",
       "       'Директор магазина, директор сети магазинов',\n",
       "       'Делопроизводитель, архивариус', 'Юрисконсульт',\n",
       "       'Инженер-энергетик, инженер-электрик',\n",
       "       'Руководитель отдела продаж', 'Специалист технической поддержки',\n",
       "       'Водитель', 'Учитель, преподаватель, педагог', 'Офис-менеджер',\n",
       "       'Охранник', 'Воспитатель, няня', 'Сварщик', 'Экономист',\n",
       "       'Психолог', 'Системный администратор', 'Курьер',\n",
       "       'Секретарь, помощник руководителя, ассистент',\n",
       "       'SMM-менеджер, контент-менеджер', 'Тестировщик',\n",
       "       'Руководитель проектов',\n",
       "       'Инженер-конструктор, инженер-проектировщик', 'Супервайзер',\n",
       "       'Финансовый менеджер', 'Кассир-операционист', 'Слесарь, сантехник',\n",
       "       'Диспетчер', 'Торговый представитель', 'Упаковщик, комплектовщик',\n",
       "       'Врач', 'Повар, пекарь, кондитер', 'Администратор', 'Мерчандайзер',\n",
       "       'Аналитик', 'Кладовщик', 'Начальник производства', 'Юрист',\n",
       "       'Начальник смены, мастер участка',\n",
       "       'Продавец-консультант, продавец-кассир',\n",
       "       'Генеральный директор, исполнительный директор (CEO)',\n",
       "       'Менеджер по туризму', 'Координатор отдела продаж',\n",
       "       'Оператор производственной линии', 'Технолог', 'Машинист',\n",
       "       'Менеджер ресторана', 'Начальник склада',\n",
       "       'Фитнес-тренер, инструктор тренажерного зала', 'Товаровед',\n",
       "       'Оператор call-центра, специалист контактного центра', 'Механик',\n",
       "       'Сервисный инженер, инженер-механик', 'Уборщица, уборщик',\n",
       "       'Разнорабочий', 'Кредитный специалист',\n",
       "       'Инженер по охране труда и технике безопасности, инженер-эколог',\n",
       "       'Специалист по кадрам', 'Менеджер/руководитель АХО'], dtype=object)"
      ]
     },
     "execution_count": 5,
     "metadata": {},
     "output_type": "execute_result"
    }
   ],
   "source": [
    "df.profession.unique()"
   ]
  },
  {
   "cell_type": "markdown",
   "id": "f17fe593",
   "metadata": {},
   "source": [
    "Можно увидеть, что некотороые указывают в анкете несколько специализаций, можно посмотреть как кол-во специализаций влияет на успех в поиске работы. Также думаю, что можно разделить профессии по сферам деятельности.\n",
    "По поводу возраста, я думаю если его изучать, то лучше отсечь всех пенсионеров(есть выброс по типу год рождения 1900, тут конечно можно любой порог установить, но мне кажется что пенсионный возраст здесь подойдет)\n",
    "В графе \"ожидаемая зарплата\" есть выбросы, если ее смотреть то убирать. Есть и в большую сторону(1000000 и больше), и в меньшую(меньше МРОТ, но надо смотреть чтобы это была работа в полный день, иначе это оправдано)\n",
    "В желаемом графике нет некоторых данных.\n",
    "В месяцах опыта есть выбросы, по типу 30, 50, 70 лет опыта.\n",
    "Предлагаемая информация не везде указана.\n"
   ]
  },
  {
   "cell_type": "code",
   "execution_count": 6,
   "id": "a7614c7b",
   "metadata": {
    "ExecuteTime": {
     "end_time": "2023-12-04T16:48:53.028818Z",
     "start_time": "2023-12-04T16:48:53.015132Z"
    }
   },
   "outputs": [
    {
     "data": {
      "text/plain": [
       "53022"
      ]
     },
     "execution_count": 6,
     "metadata": {},
     "output_type": "execute_result"
    }
   ],
   "source": [
    "\"\"\"можно попытаться проследить насколько успешна будет заявка, исходя из времени существования резюме; \n",
    "кол-ва отправленных заявок и успешных заявок.\n",
    "Успех заявки можно отслеживать по тому, насколько соискатель соответствовал требованиям вакансии\n",
    "В профессию в анкете иногда добавляют несколько, можно рассмотреть успех сосискателя по кол-ву \n",
    "специализаций в анкете.\n",
    "\"\"\"\n",
    "(df.resume_creation_date < '2015').sum() # самое первое резюме - в 2002, более 50к пятилетних резюме;"
   ]
  },
  {
   "cell_type": "code",
   "execution_count": 7,
   "id": "1859df12",
   "metadata": {
    "ExecuteTime": {
     "end_time": "2023-12-04T16:48:53.079321Z",
     "start_time": "2023-12-04T16:48:53.031278Z"
    }
   },
   "outputs": [
    {
     "data": {
      "text/plain": [
       "4371"
      ]
     },
     "execution_count": 7,
     "metadata": {},
     "output_type": "execute_result"
    }
   ],
   "source": [
    "((df.expected_salary < 11000) & (df.vacancy_employment_type == 'full')).sum() # 4371 с зп меньше прожиточного"
   ]
  },
  {
   "cell_type": "markdown",
   "id": "1111f4bd",
   "metadata": {},
   "source": [
    "# Смотрим гипотезу о дате регистрации и кол-ве заявок"
   ]
  },
  {
   "cell_type": "markdown",
   "id": "4441fbaa",
   "metadata": {},
   "source": [
    "Нулевая гипотеза состоит в том, что средний процент успеха не отличается в группах с теми, кто подается первую-третью заявку, и с теми, кто подал уже больше трех заявок.\n",
    "Альтернативная гипотеза состоит в том, что средний процент успеха в этих группах отличается."
   ]
  },
  {
   "cell_type": "code",
   "execution_count": 8,
   "id": "e295b314",
   "metadata": {
    "ExecuteTime": {
     "end_time": "2023-12-04T16:48:53.320162Z",
     "start_time": "2023-12-04T16:48:53.080571Z"
    }
   },
   "outputs": [],
   "source": [
    "users = df.copy()"
   ]
  },
  {
   "cell_type": "code",
   "execution_count": 9,
   "id": "8c4e30c9",
   "metadata": {
    "ExecuteTime": {
     "end_time": "2023-12-04T16:48:55.088369Z",
     "start_time": "2023-12-04T16:48:53.320162Z"
    }
   },
   "outputs": [],
   "source": [
    "users['days']=(users.topic_creation_date-users.resume_creation_date).map(lambda x: x.days)\n",
    "users=users[users.final_state!='response']\n",
    "users['final_state'] = users['final_state'].map(lambda x:{'invitation':1.0, 'discard':0.0}[x])"
   ]
  },
  {
   "cell_type": "code",
   "execution_count": 10,
   "id": "863c7aa7",
   "metadata": {
    "ExecuteTime": {
     "end_time": "2023-12-04T16:49:42.985493Z",
     "start_time": "2023-12-04T16:48:55.088369Z"
    }
   },
   "outputs": [],
   "source": [
    "d = dict()\n",
    "for i in users.index:\n",
    "    note = users.loc[i]\n",
    "    d[note['resume_id']] = d.get(note['resume_id'], []) + [note['topic_creation_date']]"
   ]
  },
  {
   "cell_type": "code",
   "execution_count": 11,
   "id": "6bac6b51",
   "metadata": {
    "ExecuteTime": {
     "end_time": "2023-12-04T16:49:43.745721Z",
     "start_time": "2023-12-04T16:49:42.985493Z"
    }
   },
   "outputs": [],
   "source": [
    "for i, j in d.items():\n",
    "    d[i]=np.array(j)\n",
    "def f(resume_id, dt):\n",
    "    if resume_id not in d.keys():\n",
    "        return 0\n",
    "    return sum(d[resume_id] < dt)"
   ]
  },
  {
   "cell_type": "code",
   "execution_count": 12,
   "id": "61b06d28",
   "metadata": {
    "ExecuteTime": {
     "end_time": "2023-12-04T16:49:58.622529Z",
     "start_time": "2023-12-04T16:49:43.745721Z"
    }
   },
   "outputs": [],
   "source": [
    "users['exp'] = users.apply(lambda x: f(x.resume_id, x.topic_creation_date), 1)"
   ]
  },
  {
   "cell_type": "markdown",
   "id": "1e23f978",
   "metadata": {},
   "source": [
    "Назовем пользователя опытным, если он сделал уже три заявки. Разделим наблюдения на группы."
   ]
  },
  {
   "cell_type": "code",
   "execution_count": 13,
   "id": "acf1f194",
   "metadata": {
    "ExecuteTime": {
     "end_time": "2023-12-04T16:49:58.734435Z",
     "start_time": "2023-12-04T16:49:58.623752Z"
    }
   },
   "outputs": [],
   "source": [
    "old = users[users.exp >= 4]\n",
    "new = users[users.exp < 4]"
   ]
  },
  {
   "cell_type": "code",
   "execution_count": 14,
   "id": "43acbc43",
   "metadata": {
    "ExecuteTime": {
     "end_time": "2023-12-04T16:49:58.869593Z",
     "start_time": "2023-12-04T16:49:58.734435Z"
    }
   },
   "outputs": [
    {
     "data": {
      "text/plain": [
       "(0.7378370102239955,\n",
       " 0.5860820488246413,\n",
       " 0.43981182412641795,\n",
       " 0.49254069807050227)"
      ]
     },
     "execution_count": 14,
     "metadata": {},
     "output_type": "execute_result"
    }
   ],
   "source": [
    "mean_a = new.final_state.mean()\n",
    "mean_b = old.final_state.mean()\n",
    "sd_a = (new.final_state.map(lambda x: (x - mean_a) ** 2).sum() / (len(new) - 1)) ** 0.5\n",
    "sd_b = (old.final_state.map(lambda x: (x - mean_b) ** 2).sum() / (len(old) - 1)) ** 0.5\n",
    "mean_a, mean_b, sd_a, sd_b"
   ]
  },
  {
   "cell_type": "code",
   "execution_count": 15,
   "id": "8bf43fb7",
   "metadata": {
    "ExecuteTime": {
     "end_time": "2023-12-04T16:49:58.877879Z",
     "start_time": "2023-12-04T16:49:58.871595Z"
    }
   },
   "outputs": [
    {
     "data": {
      "text/plain": [
       "0.002709697274932171"
      ]
     },
     "execution_count": 15,
     "metadata": {},
     "output_type": "execute_result"
    }
   ],
   "source": [
    "se = (sd_a ** 2 / len(new) + sd_b ** 2 / len(old)) ** 0.5\n",
    "se"
   ]
  },
  {
   "cell_type": "code",
   "execution_count": 16,
   "id": "c02ec88c",
   "metadata": {
    "ExecuteTime": {
     "end_time": "2023-12-04T16:49:58.885760Z",
     "start_time": "2023-12-04T16:49:58.879881Z"
    }
   },
   "outputs": [
    {
     "data": {
      "text/plain": [
       "(56.004396802278556, 256360)"
      ]
     },
     "execution_count": 16,
     "metadata": {},
     "output_type": "execute_result"
    }
   ],
   "source": [
    "t_cr = (mean_a - mean_b) / se\n",
    "deg_f = len(old) + len(new) - 2\n",
    "t_cr, deg_f"
   ]
  },
  {
   "cell_type": "markdown",
   "id": "d6022423",
   "metadata": {},
   "source": [
    "При данном значении t, p-уровень значимости меньше 0,01. т.е. различия можно назвать статистически значимыми, но тут можно заметить, что процент успеха больше у неопытных пользователей, из этого легко сделать вывод о том, что скорее всего востребованный соискатель найдет работу за один-два отклика, в то время как его коллеги, которые менее квалифицированы или чересчур требоовательны, вынуждены подавать большое количество заявок. Однако такая гипотеза и такой вывод будут слишком тривиальными на мой взгляд."
   ]
  },
  {
   "cell_type": "markdown",
   "id": "1cf9bead",
   "metadata": {
    "ExecuteTime": {
     "end_time": "2023-12-03T10:59:16.101507Z",
     "start_time": "2023-12-03T10:59:16.098133Z"
    }
   },
   "source": [
    "# Гипотеза о знании англ языка"
   ]
  },
  {
   "cell_type": "markdown",
   "id": "a06492b5",
   "metadata": {},
   "source": [
    "Допустим, что знание аглийского языка в некоторых сферах более востребовано чем в других."
   ]
  },
  {
   "cell_type": "code",
   "execution_count": 17,
   "id": "a829b4e9",
   "metadata": {
    "ExecuteTime": {
     "end_time": "2023-12-04T16:49:59.352330Z",
     "start_time": "2023-12-04T16:49:58.887763Z"
    }
   },
   "outputs": [
    {
     "data": {
      "text/plain": [
       "array(['Менеджер по продажам, менеджер по работе с клиентами',\n",
       "       'Дизайнер, художник', 'Программист, разработчик', 'Бухгалтер',\n",
       "       'Менеджер по маркетингу, интернет-маркетолог',\n",
       "       'Официант, бармен, бариста', 'Менеджер по персоналу',\n",
       "       'Менеджер по логистике, менеджер по ВЭД',\n",
       "       'Оператор ПК, оператор базы данных',\n",
       "       'Специалист по подбору персонала', 'Менеджер по закупкам',\n",
       "       'Директор магазина, директор сети магазинов',\n",
       "       'Делопроизводитель, архивариус', 'Юрисконсульт',\n",
       "       'Инженер-энергетик, инженер-электрик',\n",
       "       'Руководитель отдела продаж', 'Специалист технической поддержки',\n",
       "       'Водитель', 'Учитель, преподаватель, педагог', 'Офис-менеджер',\n",
       "       'Охранник', 'Воспитатель, няня', 'Сварщик', 'Экономист',\n",
       "       'Психолог', 'Системный администратор', 'Курьер',\n",
       "       'Секретарь, помощник руководителя, ассистент',\n",
       "       'SMM-менеджер, контент-менеджер', 'Тестировщик',\n",
       "       'Руководитель проектов',\n",
       "       'Инженер-конструктор, инженер-проектировщик', 'Супервайзер',\n",
       "       'Финансовый менеджер', 'Кассир-операционист', 'Слесарь, сантехник',\n",
       "       'Диспетчер', 'Торговый представитель', 'Упаковщик, комплектовщик',\n",
       "       'Врач', 'Повар, пекарь, кондитер', 'Администратор', 'Мерчандайзер',\n",
       "       'Аналитик', 'Кладовщик', 'Начальник производства', 'Юрист',\n",
       "       'Начальник смены, мастер участка',\n",
       "       'Продавец-консультант, продавец-кассир',\n",
       "       'Генеральный директор, исполнительный директор (CEO)',\n",
       "       'Менеджер по туризму', 'Координатор отдела продаж',\n",
       "       'Оператор производственной линии', 'Технолог', 'Машинист',\n",
       "       'Менеджер ресторана', 'Начальник склада',\n",
       "       'Фитнес-тренер, инструктор тренажерного зала', 'Товаровед',\n",
       "       'Оператор call-центра, специалист контактного центра', 'Механик',\n",
       "       'Сервисный инженер, инженер-механик', 'Уборщица, уборщик',\n",
       "       'Разнорабочий', 'Кредитный специалист',\n",
       "       'Инженер по охране труда и технике безопасности, инженер-эколог',\n",
       "       'Специалист по кадрам', 'Менеджер/руководитель АХО'], dtype=object)"
      ]
     },
     "execution_count": 17,
     "metadata": {},
     "output_type": "execute_result"
    }
   ],
   "source": [
    "# проведем анализ профессий и сгруппируем по сфере деятельности\n",
    "# сразу уберем не интересующие на наблюдения по типу подработок\n",
    "eng = df.copy()\n",
    "eng = eng[eng.vacancy_employment_type == 'full']\n",
    "eng.profession.unique()"
   ]
  },
  {
   "cell_type": "markdown",
   "id": "b2f5c935",
   "metadata": {},
   "source": [
    "Разделим профессии на следующие категории: менеджмент, дизайн, IT, сфера услуг, правовое поле, инженерия, образование, медицина."
   ]
  },
  {
   "cell_type": "code",
   "execution_count": 18,
   "id": "42919769",
   "metadata": {
    "ExecuteTime": {
     "end_time": "2023-12-04T16:49:59.362867Z",
     "start_time": "2023-12-04T16:49:59.352330Z"
    }
   },
   "outputs": [],
   "source": [
    "management = ['Менеджер по продажам, менеджер по работе с клиентами', 'Бухгалтер', 'Менеджер по маркетингу, интернет-маркетолог',\n",
    "             'Менеджер по персоналу', 'Менеджер по логистике, менеджер по ВЭД', 'Специалист по подбору персонала',\n",
    "             'Менеджер по закупкам', 'Директор магазина, директор сети магазинов', 'Руководитель отдела продаж',\n",
    "             'Офис-менеджер', 'Секретарь, помощник руководителя, ассистент', 'Руководитель проектов',\n",
    "             'Финансовый менеджер', 'Администратор', 'Продавец-консультант, продавец-кассир', \n",
    "             'Менеджер по туризму', 'Координатор отдела продаж', 'Менеджер ресторана', 'Специалист по кадрам',\n",
    "             'Менеджер/руководитель АХО']\n",
    "design = ['Дизайнер, художник', 'Мерчандайзер']\n",
    "it = ['Программист, разработчик', 'Оператор ПК, оператор базы данных', 'Системный администратор',\n",
    "     'SMM-менеджер, контент-менеджер', 'Тестировщик', 'Аналитик']\n",
    "service = ['Официант, бармен, бариста', 'Специалист технической поддержки', 'Водитель', 'Охранник',\n",
    "          'Курьер', 'Супервайзер', 'Кассир-операционист', 'Диспетчер', 'Торговый представитель', \n",
    "          'Упаковщик, комплектовщик', 'Повар, пекарь, кондитер', 'Кладовщик', \n",
    "          'Продавец-консультант, продавец-кассир', 'Начальник склада', 'Фитнес-тренер, инструктор тренажерного зала',\n",
    "          'Товаровед', 'Оператор call-центра, специалист контактного центра', 'Уборщица, уборщик',\n",
    "          'Разнорабочий']\n",
    "law = ['Делопроизводитель, архивариус', 'Юрисконсульт', 'Экономист', 'Юрист', 'Кредитный специалист']\n",
    "engineering = ['Инженер-энергетик, инженер-электрик', 'Сварщик', 'Инженер-конструктор, инженер-проектировщик',\n",
    "              'Слесарь, сантехник', 'Начальник производства', 'Начальник смены, мастер участка', \n",
    "              'Оператор производственной линии', 'Технолог', 'Машинист', 'Механик', 'Сервисный инженер, инженер-механик',\n",
    "              'Инженер по охране труда и технике безопасности, инженер-эколог']\n",
    "teacher = ['Учитель, преподаватель, педагог', 'Воспитатель, няня']\n",
    "med = ['Психолог', 'Врач']"
   ]
  },
  {
   "cell_type": "code",
   "execution_count": 19,
   "id": "a3c50ec9",
   "metadata": {
    "ExecuteTime": {
     "end_time": "2023-12-04T16:49:59.802615Z",
     "start_time": "2023-12-04T16:49:59.364869Z"
    }
   },
   "outputs": [],
   "source": [
    "def f(x):\n",
    "    if x in management:\n",
    "        return \"Менеджмент\"\n",
    "    if x in design:\n",
    "        return \"Дизайн\"\n",
    "    if x in it:\n",
    "        return \"IT\"\n",
    "    if x in service:\n",
    "        return \"Сфера услуг\"\n",
    "    if x in law:\n",
    "        return \"Право/Экономика\"\n",
    "    if x in engineering:\n",
    "        return \"Инженерия/Промышленность\"\n",
    "    if x in teacher:\n",
    "        return \"Образование\"\n",
    "    return \"Медицина\"\n",
    "eng = eng[~eng.profession.isna()]\n",
    "eng['occupation'] = eng.profession.map(f)"
   ]
  },
  {
   "cell_type": "code",
   "execution_count": 20,
   "id": "a840664a",
   "metadata": {
    "ExecuteTime": {
     "end_time": "2023-12-04T16:49:59.829926Z",
     "start_time": "2023-12-04T16:49:59.802615Z"
    }
   },
   "outputs": [
    {
     "data": {
      "text/plain": [
       "occupation\n",
       "Менеджмент                  139773\n",
       "Сфера услуг                 125271\n",
       "Инженерия/Промышленность     61756\n",
       "IT                           49051\n",
       "Право/Экономика              43501\n",
       "Медицина                      6291\n",
       "Дизайн                        5290\n",
       "Образование                   3005\n",
       "Name: count, dtype: int64"
      ]
     },
     "execution_count": 20,
     "metadata": {},
     "output_type": "execute_result"
    }
   ],
   "source": [
    "eng.occupation.value_counts()"
   ]
  },
  {
   "cell_type": "code",
   "execution_count": 21,
   "id": "bf89d306",
   "metadata": {
    "ExecuteTime": {
     "end_time": "2023-12-04T16:50:00.964000Z",
     "start_time": "2023-12-04T16:49:59.829926Z"
    }
   },
   "outputs": [],
   "source": [
    "def is_en(skills):\n",
    "    for i in skills:\n",
    "        if i and (\"английск\" in i or \"english\" in i):\n",
    "            return True\n",
    "    return False\n",
    "eng['en'] = eng.resume_skills_list.map(is_en)\n",
    "eng['need_en'] = eng.vacancy_skills_list.map(is_en)"
   ]
  },
  {
   "cell_type": "code",
   "execution_count": 22,
   "id": "45b96892",
   "metadata": {
    "ExecuteTime": {
     "end_time": "2023-12-04T16:50:00.972927Z",
     "start_time": "2023-12-04T16:50:00.964000Z"
    }
   },
   "outputs": [
    {
     "data": {
      "text/plain": [
       "(0.055314353663426574, 0.015433080301794265)"
      ]
     },
     "execution_count": 22,
     "metadata": {},
     "output_type": "execute_result"
    }
   ],
   "source": [
    "eng['en'].mean(), eng['need_en'].mean()"
   ]
  },
  {
   "cell_type": "markdown",
   "id": "6db1458a",
   "metadata": {},
   "source": [
    "В 5,5% случаев соискатель говорит на английском языке, в 1,5% случаев он требуется."
   ]
  },
  {
   "cell_type": "code",
   "execution_count": 23,
   "id": "11483899",
   "metadata": {
    "ExecuteTime": {
     "end_time": "2023-12-04T16:50:02.244437Z",
     "start_time": "2023-12-04T16:50:00.972927Z"
    }
   },
   "outputs": [
    {
     "data": {
      "text/plain": [
       "<Axes: xlabel='occupation'>"
      ]
     },
     "execution_count": 23,
     "metadata": {},
     "output_type": "execute_result"
    },
    {
     "data": {
      "image/png": "[encoded data removed]",
      "text/plain": [
       "<Figure size 640x480 with 1 Axes>"
      ]
     },
     "metadata": {},
     "output_type": "display_data"
    }
   ],
   "source": [
    "vacancy_inf = eng[['vacancy_id', 'occupation', 'need_en']].drop_duplicates()\n",
    "(vacancy_inf[['occupation', 'need_en']].groupby('occupation').mean() * 100).plot.bar()"
   ]
  },
  {
   "cell_type": "code",
   "execution_count": 24,
   "id": "e185dff9",
   "metadata": {
    "ExecuteTime": {
     "end_time": "2023-12-04T16:50:02.932528Z",
     "start_time": "2023-12-04T16:50:02.248028Z"
    }
   },
   "outputs": [
    {
     "data": {
      "text/plain": [
       "<Axes: xlabel='occupation'>"
      ]
     },
     "execution_count": 24,
     "metadata": {},
     "output_type": "execute_result"
    },
    {
     "data": {
      "image/png": "[encoded data removed]",
      "text/plain": [
       "<Figure size 640x480 with 1 Axes>"
      ]
     },
     "metadata": {},
     "output_type": "display_data"
    }
   ],
   "source": [
    "user_inf = eng[['resume_id', 'occupation', 'en']].drop_duplicates()\n",
    "(user_inf[['occupation', 'en']].groupby('occupation').mean() * 100).plot.bar()"
   ]
  },
  {
   "cell_type": "markdown",
   "id": "4b55178c",
   "metadata": {},
   "source": [
    "Теперь рассмотрим четыре сценария(NN - соискатель не знает англ и он не требуется, NY - соиск не знает, англ требуется, YN - соиск знает, не требуется, YY - соиск знает и требуется) в срезе каждой из сфер деятельности"
   ]
  },
  {
   "cell_type": "code",
   "execution_count": 25,
   "id": "2027c1dc",
   "metadata": {
    "ExecuteTime": {
     "end_time": "2023-12-04T16:50:06.710625Z",
     "start_time": "2023-12-04T16:50:02.932528Z"
    }
   },
   "outputs": [],
   "source": [
    "eng = eng[eng.final_state != 'response']\n",
    "eng.final_state = eng.final_state.map(lambda x: 1 if x == 'invitation' else 0)\n",
    "eng['scenary'] = eng.apply((lambda x: ('Y' if x['en'] else 'N') + ('Y' if x['need_en'] else 'N')), 1)"
   ]
  },
  {
   "cell_type": "code",
   "execution_count": 26,
   "id": "065baebd",
   "metadata": {
    "ExecuteTime": {
     "end_time": "2023-12-04T16:50:06.780863Z",
     "start_time": "2023-12-04T16:50:06.710625Z"
    }
   },
   "outputs": [
    {
     "data": {
      "text/html": [
       "<div>\n",
       "<style scoped>\n",
       "    .dataframe tbody tr th:only-of-type {\n",
       "        vertical-align: middle;\n",
       "    }\n",
       "\n",
       "    .dataframe tbody tr th {\n",
       "        vertical-align: top;\n",
       "    }\n",
       "\n",
       "    .dataframe thead th {\n",
       "        text-align: right;\n",
       "    }\n",
       "</style>\n",
       "<table border=\"1\" class=\"dataframe\">\n",
       "  <thead>\n",
       "    <tr style=\"text-align: right;\">\n",
       "      <th></th>\n",
       "      <th></th>\n",
       "      <th>final_state</th>\n",
       "    </tr>\n",
       "    <tr>\n",
       "      <th>occupation</th>\n",
       "      <th>scenary</th>\n",
       "      <th></th>\n",
       "    </tr>\n",
       "  </thead>\n",
       "  <tbody>\n",
       "    <tr>\n",
       "      <th rowspan=\"4\" valign=\"top\">IT</th>\n",
       "      <th>NN</th>\n",
       "      <td>0.569047</td>\n",
       "    </tr>\n",
       "    <tr>\n",
       "      <th>NY</th>\n",
       "      <td>0.332268</td>\n",
       "    </tr>\n",
       "    <tr>\n",
       "      <th>YN</th>\n",
       "      <td>0.483267</td>\n",
       "    </tr>\n",
       "    <tr>\n",
       "      <th>YY</th>\n",
       "      <td>0.374302</td>\n",
       "    </tr>\n",
       "    <tr>\n",
       "      <th rowspan=\"4\" valign=\"top\">Дизайн</th>\n",
       "      <th>NN</th>\n",
       "      <td>0.701027</td>\n",
       "    </tr>\n",
       "    <tr>\n",
       "      <th>NY</th>\n",
       "      <td>0.406250</td>\n",
       "    </tr>\n",
       "    <tr>\n",
       "      <th>YN</th>\n",
       "      <td>0.516129</td>\n",
       "    </tr>\n",
       "    <tr>\n",
       "      <th>YY</th>\n",
       "      <td>0.000000</td>\n",
       "    </tr>\n",
       "    <tr>\n",
       "      <th rowspan=\"4\" valign=\"top\">Инженерия/Промышленность</th>\n",
       "      <th>NN</th>\n",
       "      <td>0.744266</td>\n",
       "    </tr>\n",
       "    <tr>\n",
       "      <th>NY</th>\n",
       "      <td>0.453333</td>\n",
       "    </tr>\n",
       "    <tr>\n",
       "      <th>YN</th>\n",
       "      <td>0.703297</td>\n",
       "    </tr>\n",
       "    <tr>\n",
       "      <th>YY</th>\n",
       "      <td>0.458333</td>\n",
       "    </tr>\n",
       "    <tr>\n",
       "      <th rowspan=\"4\" valign=\"top\">Медицина</th>\n",
       "      <th>NN</th>\n",
       "      <td>0.545495</td>\n",
       "    </tr>\n",
       "    <tr>\n",
       "      <th>NY</th>\n",
       "      <td>0.263158</td>\n",
       "    </tr>\n",
       "    <tr>\n",
       "      <th>YN</th>\n",
       "      <td>0.491525</td>\n",
       "    </tr>\n",
       "    <tr>\n",
       "      <th>YY</th>\n",
       "      <td>0.333333</td>\n",
       "    </tr>\n",
       "    <tr>\n",
       "      <th rowspan=\"4\" valign=\"top\">Менеджмент</th>\n",
       "      <th>NN</th>\n",
       "      <td>0.672083</td>\n",
       "    </tr>\n",
       "    <tr>\n",
       "      <th>NY</th>\n",
       "      <td>0.466030</td>\n",
       "    </tr>\n",
       "    <tr>\n",
       "      <th>YN</th>\n",
       "      <td>0.633223</td>\n",
       "    </tr>\n",
       "    <tr>\n",
       "      <th>YY</th>\n",
       "      <td>0.528902</td>\n",
       "    </tr>\n",
       "    <tr>\n",
       "      <th rowspan=\"4\" valign=\"top\">Образование</th>\n",
       "      <th>NN</th>\n",
       "      <td>0.675313</td>\n",
       "    </tr>\n",
       "    <tr>\n",
       "      <th>NY</th>\n",
       "      <td>0.500000</td>\n",
       "    </tr>\n",
       "    <tr>\n",
       "      <th>YN</th>\n",
       "      <td>0.644860</td>\n",
       "    </tr>\n",
       "    <tr>\n",
       "      <th>YY</th>\n",
       "      <td>0.516129</td>\n",
       "    </tr>\n",
       "    <tr>\n",
       "      <th rowspan=\"4\" valign=\"top\">Право/Экономика</th>\n",
       "      <th>NN</th>\n",
       "      <td>0.553686</td>\n",
       "    </tr>\n",
       "    <tr>\n",
       "      <th>NY</th>\n",
       "      <td>0.357143</td>\n",
       "    </tr>\n",
       "    <tr>\n",
       "      <th>YN</th>\n",
       "      <td>0.497768</td>\n",
       "    </tr>\n",
       "    <tr>\n",
       "      <th>YY</th>\n",
       "      <td>0.348837</td>\n",
       "    </tr>\n",
       "    <tr>\n",
       "      <th rowspan=\"4\" valign=\"top\">Сфера услуг</th>\n",
       "      <th>NN</th>\n",
       "      <td>0.775847</td>\n",
       "    </tr>\n",
       "    <tr>\n",
       "      <th>NY</th>\n",
       "      <td>0.613354</td>\n",
       "    </tr>\n",
       "    <tr>\n",
       "      <th>YN</th>\n",
       "      <td>0.697654</td>\n",
       "    </tr>\n",
       "    <tr>\n",
       "      <th>YY</th>\n",
       "      <td>0.611570</td>\n",
       "    </tr>\n",
       "  </tbody>\n",
       "</table>\n",
       "</div>"
      ],
      "text/plain": [
       "                                  final_state\n",
       "occupation               scenary             \n",
       "IT                       NN          0.569047\n",
       "                         NY          0.332268\n",
       "                         YN          0.483267\n",
       "                         YY          0.374302\n",
       "Дизайн                   NN          0.701027\n",
       "                         NY          0.406250\n",
       "                         YN          0.516129\n",
       "                         YY          0.000000\n",
       "Инженерия/Промышленность NN          0.744266\n",
       "                         NY          0.453333\n",
       "                         YN          0.703297\n",
       "                         YY          0.458333\n",
       "Медицина                 NN          0.545495\n",
       "                         NY          0.263158\n",
       "                         YN          0.491525\n",
       "                         YY          0.333333\n",
       "Менеджмент               NN          0.672083\n",
       "                         NY          0.466030\n",
       "                         YN          0.633223\n",
       "                         YY          0.528902\n",
       "Образование              NN          0.675313\n",
       "                         NY          0.500000\n",
       "                         YN          0.644860\n",
       "                         YY          0.516129\n",
       "Право/Экономика          NN          0.553686\n",
       "                         NY          0.357143\n",
       "                         YN          0.497768\n",
       "                         YY          0.348837\n",
       "Сфера услуг              NN          0.775847\n",
       "                         NY          0.613354\n",
       "                         YN          0.697654\n",
       "                         YY          0.611570"
      ]
     },
     "execution_count": 26,
     "metadata": {},
     "output_type": "execute_result"
    }
   ],
   "source": [
    "gb = eng[['occupation', 'scenary', 'final_state']].groupby(['occupation', 'scenary']).mean()\n",
    "gb"
   ]
  },
  {
   "cell_type": "code",
   "execution_count": 27,
   "id": "106e2017",
   "metadata": {
    "ExecuteTime": {
     "end_time": "2023-12-04T16:50:12.563141Z",
     "start_time": "2023-12-04T16:50:06.780863Z"
    }
   },
   "outputs": [
    {
     "data": {
      "text/plain": [
       "<Axes: xlabel='final_state', ylabel='occupation'>"
      ]
     },
     "execution_count": 27,
     "metadata": {},
     "output_type": "execute_result"
    },
    {
     "data": {
      "image/png": "[encoded data removed]",
      "text/plain": [
       "<Figure size 640x480 with 1 Axes>"
      ]
     },
     "metadata": {},
     "output_type": "display_data"
    }
   ],
   "source": [
    "import seaborn as sns\n",
    "sns.barplot(x='final_state', y='occupation', hue='scenary', data=eng, orient='h')"
   ]
  },
  {
   "cell_type": "markdown",
   "id": "af71bcaa",
   "metadata": {},
   "source": [
    "Заметим, что в сценариях NN, YN наибольший показатель приема в каждой из сфер. Незначительная разница между YY и NY во многих сферах может быть обусловлена тем, что у соискателя недостаточно высокий уровень английского языка, а также тем, что соискатель может не указывать английский в своих скиллах, но при подаче заявления а вакансию по умолчанию подразумевать то, что английский он знает."
   ]
  },
  {
   "cell_type": "markdown",
   "id": "4a617afb",
   "metadata": {},
   "source": [
    "В целом можно сделать предположение о том, что английский язык наиболее востребован в сферах образования, IT и менеджмента, что вполне ожидаемо, так как к последних двух сферах часто приходится работать с иностранцами, а в образовании очень популярна профессия именно учителя английского языка. Также можно предположить, что скорее всего на вакансию, где требуется английский будет сложнее устроиться, даже если вы его знаете. "
   ]
  },
  {
   "cell_type": "markdown",
   "id": "95cceae1",
   "metadata": {},
   "source": [
    "# Посмотрим на скиллы чуть подробнее"
   ]
  },
  {
   "cell_type": "code",
   "execution_count": 28,
   "id": "892985a0",
   "metadata": {
    "ExecuteTime": {
     "end_time": "2023-12-04T16:50:15.538880Z",
     "start_time": "2023-12-04T16:50:12.569555Z"
    }
   },
   "outputs": [
    {
     "data": {
      "text/plain": [
       "['ответственность',\n",
       " 'пользователь пк',\n",
       " 'работа в команде',\n",
       " 'организаторские навыки',\n",
       " 'грамотная речь',\n",
       " 'деловая переписка',\n",
       " 'работа с большим объемом информации',\n",
       " 'деловое общение',\n",
       " 'обучаемость',\n",
       " 'исполнительность',\n",
       " 'работоспособность',\n",
       " 'ведение переговоров',\n",
       " 'телефонные переговоры',\n",
       " 'управление персоналом',\n",
       " 'коммуникабельность',\n",
       " 'обучение персонала',\n",
       " 'заключение договоров',\n",
       " 'ms excel',\n",
       " 'стрессоустойчивость',\n",
       " 'умение работать в команде',\n",
       " 'деловая коммуникация',\n",
       " 'обучение и развитие',\n",
       " 'ms word',\n",
       " 'активные продажи',\n",
       " 'английский язык',\n",
       " '1с: предприятие 8',\n",
       " 'ms outlook',\n",
       " 'навыки продаж',\n",
       " 'руководство коллективом',\n",
       " 'ms powerpoint',\n",
       " 'водительское удостоверение категории b',\n",
       " 'работа с оргтехникой',\n",
       " 'поиск информации в интернет',\n",
       " 'поиск и привлечение клиентов',\n",
       " 'пунктуальность',\n",
       " 'подбор персонала',\n",
       " 'adobe photoshop',\n",
       " 'управление продажами',\n",
       " 'делопроизводство',\n",
       " 'документооборот',\n",
       " 'прямые продажи',\n",
       " 'документальное сопровождение',\n",
       " 'мотивация персонала',\n",
       " 'управление проектами',\n",
       " 'грамотность',\n",
       " 'internet',\n",
       " 'ms office',\n",
       " 'проведение презентаций',\n",
       " 'ориентация на результат',\n",
       " 'развитие продаж',\n",
       " 'работа с базами данных',\n",
       " 'электронная почта',\n",
       " 'навыки межличностного общения',\n",
       " 'проведение инвентаризаций',\n",
       " 'креативность',\n",
       " 'smm',\n",
       " 'управленческие навыки',\n",
       " 'клиентоориентированность',\n",
       " 'умение работать в коллективе',\n",
       " 'sql',\n",
       " 'инвентаризация',\n",
       " 'аналитическое мышление',\n",
       " 'управление командой',\n",
       " 'уверенный пользователь пк',\n",
       " '1с: документооборот',\n",
       " 'консультант плюс',\n",
       " 'организация мероприятий',\n",
       " 'точность и внимательность к деталям',\n",
       " 'crm',\n",
       " 'договорная работа',\n",
       " 'autocad',\n",
       " 'составление договоров',\n",
       " 'ведение отчетности',\n",
       " 'целеустремленность',\n",
       " 'внимательность',\n",
       " 'копирайтинг',\n",
       " 'планирование продаж',\n",
       " 'ведение групп в социальных сетях',\n",
       " 'многозадачность',\n",
       " 'работа с документами',\n",
       " 'холодные продажи',\n",
       " 'b2b продажи',\n",
       " '1с: торговля и склад',\n",
       " 'postman',\n",
       " 'первичная бухгалтерская документация',\n",
       " 'работа с возражениями',\n",
       " 'консультирование',\n",
       " 'html',\n",
       " 'git',\n",
       " 'кассовые операции',\n",
       " 'функциональное тестирование',\n",
       " 'наполнение контентом',\n",
       " 'написание текстов',\n",
       " 'консультирование клиентов',\n",
       " 'работа с кассой',\n",
       " 'контроль качества',\n",
       " 'работа с поставщиками',\n",
       " 'умение планировать',\n",
       " 'atlassian jira',\n",
       " 'общественное питание',\n",
       " 'претензионная работа',\n",
       " 'навыки переговоров',\n",
       " 'офисная техника',\n",
       " 'обслуживание покупателей',\n",
       " 'электронный документооборот',\n",
       " 'тестирование',\n",
       " 'закупка товаров и услуг',\n",
       " 'социальные сети',\n",
       " '1с: торговля',\n",
       " '1с: бухгалтерия',\n",
       " 'test case',\n",
       " 'первичная документация',\n",
       " 'работа с жалобами клиентов',\n",
       " 'навыки презентации',\n",
       " '1с-битрикс',\n",
       " 'api',\n",
       " 'способность обучать других',\n",
       " 'транспортная логистика',\n",
       " 'аналитика продаж',\n",
       " 'работа с дебиторской задолженностью',\n",
       " 'оформление заказов',\n",
       " 'работа с тмц',\n",
       " 'контроль сроков годности',\n",
       " 'закупки',\n",
       " 'консультирование клиентов по телефону',\n",
       " 'работа с текущей базой клиентов',\n",
       " 'управление производственным персоналом',\n",
       " 'складской учет',\n",
       " 'доброжелательность',\n",
       " 'работа с клиентами',\n",
       " 'ведение переписки',\n",
       " 'урегулирование конфликтов',\n",
       " 'планирование',\n",
       " 'тестирование пользовательского интерфейса',\n",
       " 'быстрая обучаемость',\n",
       " 'гражданское право',\n",
       " 'оформление документации',\n",
       " 'суды общей юрисдикции',\n",
       " 'арбитражные суды',\n",
       " 'python',\n",
       " 'продвижение в социальных группах',\n",
       " 'настройка пк',\n",
       " 'составление исков',\n",
       " 'бумажный документооборот',\n",
       " 'css',\n",
       " 'складская логистика',\n",
       " 'ручное тестирование']"
      ]
     },
     "execution_count": 28,
     "metadata": {},
     "output_type": "execute_result"
    }
   ],
   "source": [
    "skills = []\n",
    "for i in df.resume_skills_list:\n",
    "    for j in i:\n",
    "        if j:\n",
    "            skills.append(j.lower())\n",
    "skills = pd.Series(skills).value_counts()\n",
    "list(skills[skills>5000].index)"
   ]
  },
  {
   "cell_type": "code",
   "execution_count": 29,
   "id": "8d684815",
   "metadata": {
    "ExecuteTime": {
     "end_time": "2023-12-04T16:50:15.551165Z",
     "start_time": "2023-12-04T16:50:15.542339Z"
    }
   },
   "outputs": [],
   "source": [
    "soft_skills = ['ответственность', 'работа в команде', 'организаторские навыки', 'грамотная речь',\n",
    " 'деловая переписка', 'работа с большим объемом информации', 'деловое общение', 'обучаемость',\n",
    " 'исполнительность', 'работоспособность', 'ведение переговоров', 'телефонные переговоры',\n",
    " 'управление персоналом', 'коммуникабельность', 'стрессоустойчивость', 'умение работать в команде',\n",
    " 'деловая коммуникация', 'обучение и развитие', 'активные продажи', 'руководство коллективом',\n",
    " 'пунктуальность', 'управление проектами', 'грамотность', 'навыки межличностного общения',\n",
    " 'креативность', 'управленческие навыки', 'клиентоориентированность', 'умение работать в коллективе',\n",
    " 'аналитическое мышление', 'управление командой', 'точность и внимательность к деталям',\n",
    " 'целеустремленность', 'внимательность', 'копирайтинг', 'многозадачность', 'работа с возражениями',\n",
    " 'навыки переговоров', 'навыки презентации', 'способность обучать других',\n",
    " 'управление производственным персоналом', 'доброжелательность', 'урегулирование конфликтов',\n",
    " 'планирование', 'быстрая обучаемость']\n",
    "extra_skills=['пользователь пк', 'заключение договоров', 'ms excel', 'ms word', 'английский язык',\n",
    " 'ms outlook', 'ms powerpoint', 'водительское удостоверение категории b', 'работа с оргтехникой',\n",
    " 'проведение инвентаризаций', 'уверенный пользователь пк', 'договорная работа', 'составление договоров',\n",
    " 'ведение отчетности', 'ведение групп в социальных сетях', 'работа с документами', 'работа с возражениями',\n",
    " 'претензионная работа', 'навыки переговоров', 'офисная техника', 'обслуживание покупателей',\n",
    " 'электронный документооборот', 'социальные сети', 'первичная документация', 'работа с жалобами клиентов',\n",
    " 'навыки презентации', 'транспортная логистика', 'управление производственным персоналом',\n",
    " 'оформление документации', 'продвижение в социальных группах', 'бумажный документооборот',]\n",
    "# доп. скиллы - нельзя отнести ни к soft, ни к hard, но могут дать плюс в целом"
   ]
  },
  {
   "cell_type": "code",
   "execution_count": 30,
   "id": "752377ea",
   "metadata": {
    "ExecuteTime": {
     "end_time": "2023-12-04T16:50:16.234694Z",
     "start_time": "2023-12-04T16:50:15.551165Z"
    }
   },
   "outputs": [],
   "source": [
    "def soft_count(l):\n",
    "    res=0\n",
    "    for i in l:\n",
    "        if i and i in soft_skills:\n",
    "            res+=1\n",
    "    return res\n",
    "skills_df = df.copy()\n",
    "skills_df = skills_df[skills_df.vacancy_employment_type == 'full']\n",
    "skills_df = skills_df[skills_df.final_state != 'response']\n",
    "skills_df.final_state = skills_df.final_state.map(lambda x: 1 if x == 'invitation' else 0)"
   ]
  },
  {
   "cell_type": "code",
   "execution_count": 31,
   "id": "74e033a1",
   "metadata": {
    "ExecuteTime": {
     "end_time": "2023-12-04T16:50:17.809059Z",
     "start_time": "2023-12-04T16:50:16.234694Z"
    }
   },
   "outputs": [],
   "source": [
    "skills_df['soft_count'] = skills_df.resume_skills_list.map(soft_count)\n",
    "skills_df = skills_df[skills_df.soft_count <= 10]"
   ]
  },
  {
   "cell_type": "code",
   "execution_count": 32,
   "id": "f37eaa03",
   "metadata": {
    "ExecuteTime": {
     "end_time": "2023-12-04T16:50:18.070174Z",
     "start_time": "2023-12-04T16:50:17.812449Z"
    }
   },
   "outputs": [
    {
     "data": {
      "text/plain": [
       "<Axes: xlabel='soft_count'>"
      ]
     },
     "execution_count": 32,
     "metadata": {},
     "output_type": "execute_result"
    },
    {
     "data": {
      "image/png": "[encoded data removed]",
      "text/plain": [
       "<Figure size 640x480 with 1 Axes>"
      ]
     },
     "metadata": {},
     "output_type": "display_data"
    }
   ],
   "source": [
    "skills_df[['soft_count', 'final_state']].groupby('soft_count').mean().plot.bar()"
   ]
  },
  {
   "cell_type": "code",
   "execution_count": 33,
   "id": "0b2cba4d",
   "metadata": {
    "ExecuteTime": {
     "end_time": "2023-12-04T16:50:18.217087Z",
     "start_time": "2023-12-04T16:50:18.070174Z"
    }
   },
   "outputs": [],
   "source": [
    "# доля софтскиллов от всех\n",
    "skills_df['soft_part'] = skills_df.soft_count / skills_df.resume_skills_list.map(lambda x: max(1, len(x)))"
   ]
  },
  {
   "cell_type": "code",
   "execution_count": 34,
   "id": "2545c4cf",
   "metadata": {
    "ExecuteTime": {
     "end_time": "2023-12-04T16:50:18.307241Z",
     "start_time": "2023-12-04T16:50:18.217087Z"
    }
   },
   "outputs": [],
   "source": [
    "skills_df['soft_part'] = skills_df.soft_part.map(lambda x: round(x * 100) / 100)"
   ]
  },
  {
   "cell_type": "code",
   "execution_count": 35,
   "id": "44409c14",
   "metadata": {
    "ExecuteTime": {
     "end_time": "2023-12-04T16:51:00.250684Z",
     "start_time": "2023-12-04T16:50:59.448260Z"
    }
   },
   "outputs": [
    {
     "data": {
      "text/plain": [
       "<Axes: xlabel='soft_part'>"
      ]
     },
     "execution_count": 35,
     "metadata": {},
     "output_type": "execute_result"
    },
    {
     "data": {
      "image/png": "[encoded data removed]",
      "text/plain": [
       "<Figure size 640x480 with 1 Axes>"
      ]
     },
     "metadata": {},
     "output_type": "display_data"
    }
   ],
   "source": [
    "skills_df[['soft_part', 'final_state']].groupby('soft_part').mean().plot.bar()"
   ]
  },
  {
   "cell_type": "code",
   "execution_count": null,
   "id": "a178b83a",
   "metadata": {},
   "outputs": [],
   "source": []
  }
 ],
 "metadata": {
  "kernelspec": {
   "display_name": "Python 3 (ipykernel)",
   "language": "python",
   "name": "python3"
  },
  "language_info": {
   "codemirror_mode": {
    "name": "ipython",
    "version": 3
   },
   "file_extension": ".py",
   "mimetype": "text/x-python",
   "name": "python",
   "nbconvert_exporter": "python",
   "pygments_lexer": "ipython3",
   "version": "3.11.5"
  },
  "notify_time": "0",
  "toc": {
   "base_numbering": 1,
   "nav_menu": {},
   "number_sections": true,
   "sideBar": true,
   "skip_h1_title": false,
   "title_cell": "Table of Contents",
   "title_sidebar": "Contents",
   "toc_cell": false,
   "toc_position": {},
   "toc_section_display": true,
   "toc_window_display": false
  }
 },
 "nbformat": 4,
 "nbformat_minor": 5
}
