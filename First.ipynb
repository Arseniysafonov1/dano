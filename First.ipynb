{
 "cells": [
  {
   "cell_type": "code",
   "execution_count": 1,
   "id": "b846fd3d",
   "metadata": {
    "ExecuteTime": {
     "end_time": "2023-12-09T16:43:57.845380Z",
     "start_time": "2023-12-09T16:43:50.363149Z"
    }
   },
   "outputs": [],
   "source": [
    "import pandas as pd\n",
    "import numpy as np\n",
    "df = pd.read_csv('hh_ru_dataset.csv')"
   ]
  },
  {
   "cell_type": "markdown",
   "id": "86ceb33d",
   "metadata": {},
   "source": [
    "# Обработка пустых значений"
   ]
  },
  {
   "cell_type": "code",
   "execution_count": 2,
   "id": "8676e3db",
   "metadata": {
    "ExecuteTime": {
     "end_time": "2023-12-09T16:43:58.240297Z",
     "start_time": "2023-12-09T16:43:57.847381Z"
    }
   },
   "outputs": [
    {
     "name": "stdout",
     "output_type": "stream",
     "text": [
      "<class 'pandas.core.frame.DataFrame'>\n",
      "RangeIndex: 500000 entries, 0 to 499999\n",
      "Data columns (total 26 columns):\n",
      " #   Column                   Non-Null Count   Dtype  \n",
      "---  ------                   --------------   -----  \n",
      " 0   topic_id                 500000 non-null  object \n",
      " 1   topic_creation_date      500000 non-null  object \n",
      " 2   initial_state            499166 non-null  object \n",
      " 3   final_state              499166 non-null  object \n",
      " 4   resume_id                500000 non-null  object \n",
      " 5   resume_creation_date     500000 non-null  object \n",
      " 6   profession               500000 non-null  object \n",
      " 7   gender                   500000 non-null  object \n",
      " 8   year_of_birth            500000 non-null  int64  \n",
      " 9   resume_region            500000 non-null  object \n",
      " 10  education_level          499898 non-null  object \n",
      " 11  expected_salary          489214 non-null  float64\n",
      " 12  relocation_status        500000 non-null  object \n",
      " 13  business_trip_readiness  500000 non-null  object \n",
      " 14  work_schedule            493089 non-null  object \n",
      " 15  resume_employment_type   500000 non-null  object \n",
      " 16  work_experience_months   500000 non-null  int64  \n",
      " 17  resume_skills_list       462552 non-null  object \n",
      " 18  vacancy_id               500000 non-null  object \n",
      " 19  vacancy_creation_date    500000 non-null  object \n",
      " 20  vacancy_region           500000 non-null  object \n",
      " 21  work_schedule.1          500000 non-null  object \n",
      " 22  vacancy_employment_type  500000 non-null  object \n",
      " 23  compensation_from        470618 non-null  float64\n",
      " 24  compensation_to          361775 non-null  float64\n",
      " 25  vacancy_skills_list      500000 non-null  object \n",
      "dtypes: float64(3), int64(2), object(21)\n",
      "memory usage: 99.2+ MB\n"
     ]
    }
   ],
   "source": [
    "df.info()"
   ]
  },
  {
   "cell_type": "markdown",
   "id": "46628e06",
   "metadata": {},
   "source": [
    "Смело удалаяем строки с пустыми initial_state, final_state, education_level. По поводу остальных вопрос. Nan в resume_skills_list - это просто пустой список как я понял; предлагаемая зарплата вакансии отсутствует где-то, но это норм по идее."
   ]
  },
  {
   "cell_type": "code",
   "execution_count": 3,
   "id": "3fda694b",
   "metadata": {
    "ExecuteTime": {
     "end_time": "2023-12-09T16:44:31.805720Z",
     "start_time": "2023-12-09T16:43:58.242300Z"
    }
   },
   "outputs": [],
   "source": [
    "\"\"\"Остались Nan'ы в столбцах ожидаемой зарплаты, графика, границ предлагаемой зп вакансии. В случае \n",
    "гипотезы по этим параметрам не забыть удалить их.\n",
    "\"\"\"\n",
    "df = df[(~df.initial_state.isna()) & (~df.final_state.isna()) & (~df.education_level.isna())]\n",
    "# expected_salary пока нет смысла убирать Nan'ы\n",
    "df['work_schedule'] = df['work_schedule'].fillna('no data')\n",
    "df.resume_skills_list = df.resume_skills_list.map(lambda x: eval(x) if (x and type(x)) != float else [])\n",
    "df.vacancy_skills_list = df.vacancy_skills_list.map(lambda x: eval(x) if (x and type(x)) != float else [])\n",
    "df.topic_creation_date = pd.to_datetime(df.topic_creation_date)\n",
    "df.resume_creation_date = pd.to_datetime(df.resume_creation_date)\n",
    "df.vacancy_creation_date = pd.to_datetime(df.vacancy_creation_date)"
   ]
  },
  {
   "cell_type": "code",
   "execution_count": 4,
   "id": "a05e5e0b",
   "metadata": {
    "ExecuteTime": {
     "end_time": "2023-12-09T16:44:32.131641Z",
     "start_time": "2023-12-09T16:44:31.805720Z"
    }
   },
   "outputs": [
    {
     "name": "stdout",
     "output_type": "stream",
     "text": [
      "<class 'pandas.core.frame.DataFrame'>\n",
      "Index: 499064 entries, 0 to 499999\n",
      "Data columns (total 26 columns):\n",
      " #   Column                   Non-Null Count   Dtype         \n",
      "---  ------                   --------------   -----         \n",
      " 0   topic_id                 499064 non-null  object        \n",
      " 1   topic_creation_date      499064 non-null  datetime64[ns]\n",
      " 2   initial_state            499064 non-null  object        \n",
      " 3   final_state              499064 non-null  object        \n",
      " 4   resume_id                499064 non-null  object        \n",
      " 5   resume_creation_date     499064 non-null  datetime64[ns]\n",
      " 6   profession               499064 non-null  object        \n",
      " 7   gender                   499064 non-null  object        \n",
      " 8   year_of_birth            499064 non-null  int64         \n",
      " 9   resume_region            499064 non-null  object        \n",
      " 10  education_level          499064 non-null  object        \n",
      " 11  expected_salary          488311 non-null  float64       \n",
      " 12  relocation_status        499064 non-null  object        \n",
      " 13  business_trip_readiness  499064 non-null  object        \n",
      " 14  work_schedule            499064 non-null  object        \n",
      " 15  resume_employment_type   499064 non-null  object        \n",
      " 16  work_experience_months   499064 non-null  int64         \n",
      " 17  resume_skills_list       499064 non-null  object        \n",
      " 18  vacancy_id               499064 non-null  object        \n",
      " 19  vacancy_creation_date    499064 non-null  datetime64[ns]\n",
      " 20  vacancy_region           499064 non-null  object        \n",
      " 21  work_schedule.1          499064 non-null  object        \n",
      " 22  vacancy_employment_type  499064 non-null  object        \n",
      " 23  compensation_from        469726 non-null  float64       \n",
      " 24  compensation_to          361173 non-null  float64       \n",
      " 25  vacancy_skills_list      499064 non-null  object        \n",
      "dtypes: datetime64[ns](3), float64(3), int64(2), object(18)\n",
      "memory usage: 102.8+ MB\n"
     ]
    }
   ],
   "source": [
    "df.info()"
   ]
  },
  {
   "cell_type": "markdown",
   "id": "24598386",
   "metadata": {},
   "source": [
    "# Выбросы и дубликаты"
   ]
  },
  {
   "cell_type": "markdown",
   "id": "7c13eaed",
   "metadata": {},
   "source": [
    "Есть ~2000 наблюдей с повторяющимся id, но думаю не страшно, мб просто наложилось и т.д.\n",
    "Не совсем понятно, как работают статусы взаимодействия"
   ]
  },
  {
   "cell_type": "code",
   "execution_count": 5,
   "id": "d89c5333",
   "metadata": {
    "ExecuteTime": {
     "end_time": "2023-12-09T16:44:32.212958Z",
     "start_time": "2023-12-09T16:44:32.134181Z"
    }
   },
   "outputs": [
    {
     "data": {
      "text/plain": [
       "array(['Менеджер по продажам, менеджер по работе с клиентами',\n",
       "       'Дизайнер, художник', 'Программист, разработчик', 'Бухгалтер',\n",
       "       'Менеджер по маркетингу, интернет-маркетолог',\n",
       "       'Официант, бармен, бариста', 'Менеджер по персоналу',\n",
       "       'Менеджер по логистике, менеджер по ВЭД',\n",
       "       'Оператор ПК, оператор базы данных',\n",
       "       'Специалист по подбору персонала', 'Менеджер по закупкам',\n",
       "       'Директор магазина, директор сети магазинов',\n",
       "       'Делопроизводитель, архивариус', 'Юрисконсульт',\n",
       "       'Инженер-энергетик, инженер-электрик',\n",
       "       'Руководитель отдела продаж', 'Специалист технической поддержки',\n",
       "       'Водитель', 'Учитель, преподаватель, педагог', 'Офис-менеджер',\n",
       "       'Охранник', 'Воспитатель, няня', 'Сварщик', 'Экономист',\n",
       "       'Психолог', 'Системный администратор', 'Курьер',\n",
       "       'Секретарь, помощник руководителя, ассистент',\n",
       "       'SMM-менеджер, контент-менеджер', 'Тестировщик',\n",
       "       'Руководитель проектов',\n",
       "       'Инженер-конструктор, инженер-проектировщик', 'Супервайзер',\n",
       "       'Финансовый менеджер', 'Кассир-операционист', 'Слесарь, сантехник',\n",
       "       'Диспетчер', 'Торговый представитель', 'Упаковщик, комплектовщик',\n",
       "       'Врач', 'Повар, пекарь, кондитер', 'Администратор', 'Мерчандайзер',\n",
       "       'Аналитик', 'Кладовщик', 'Начальник производства', 'Юрист',\n",
       "       'Начальник смены, мастер участка',\n",
       "       'Продавец-консультант, продавец-кассир',\n",
       "       'Генеральный директор, исполнительный директор (CEO)',\n",
       "       'Менеджер по туризму', 'Координатор отдела продаж',\n",
       "       'Оператор производственной линии', 'Технолог', 'Машинист',\n",
       "       'Менеджер ресторана', 'Начальник склада',\n",
       "       'Фитнес-тренер, инструктор тренажерного зала', 'Товаровед',\n",
       "       'Оператор call-центра, специалист контактного центра', 'Механик',\n",
       "       'Сервисный инженер, инженер-механик', 'Уборщица, уборщик',\n",
       "       'Разнорабочий', 'Кредитный специалист',\n",
       "       'Инженер по охране труда и технике безопасности, инженер-эколог',\n",
       "       'Специалист по кадрам', 'Менеджер/руководитель АХО'], dtype=object)"
      ]
     },
     "execution_count": 5,
     "metadata": {},
     "output_type": "execute_result"
    }
   ],
   "source": [
    "df.profession.unique()"
   ]
  },
  {
   "cell_type": "markdown",
   "id": "f17fe593",
   "metadata": {},
   "source": [
    "Можно увидеть, что некотороые указывают в анкете несколько специализаций, можно посмотреть как кол-во специализаций влияет на успех в поиске работы. Также думаю, что можно разделить профессии по сферам деятельности.\n",
    "По поводу возраста, я думаю если его изучать, то лучше отсечь всех пенсионеров(есть выброс по типу год рождения 1900, тут конечно можно любой порог установить, но мне кажется что пенсионный возраст здесь подойдет)\n",
    "В графе \"ожидаемая зарплата\" есть выбросы, если ее смотреть то убирать. Есть и в большую сторону(1000000 и больше), и в меньшую(меньше МРОТ, но надо смотреть чтобы это была работа в полный день, иначе это оправдано)\n",
    "В желаемом графике нет некоторых данных.\n",
    "В месяцах опыта есть выбросы, по типу 30, 50, 70 лет опыта.\n",
    "Предлагаемая информация не везде указана.\n"
   ]
  },
  {
   "cell_type": "code",
   "execution_count": 6,
   "id": "a7614c7b",
   "metadata": {
    "ExecuteTime": {
     "end_time": "2023-12-09T16:44:32.226198Z",
     "start_time": "2023-12-09T16:44:32.214960Z"
    }
   },
   "outputs": [
    {
     "data": {
      "text/plain": [
       "53022"
      ]
     },
     "execution_count": 6,
     "metadata": {},
     "output_type": "execute_result"
    }
   ],
   "source": [
    "\"\"\"можно попытаться проследить насколько успешна будет заявка, исходя из времени существования резюме; \n",
    "кол-ва отправленных заявок и успешных заявок.\n",
    "Успех заявки можно отслеживать по тому, насколько соискатель соответствовал требованиям вакансии\n",
    "В профессию в анкете иногда добавляют несколько, можно рассмотреть успех сосискателя по кол-ву \n",
    "специализаций в анкете.\n",
    "\"\"\"\n",
    "(df.resume_creation_date < '2015').sum() # самое первое резюме - в 2002, более 50к пятилетних резюме;"
   ]
  },
  {
   "cell_type": "code",
   "execution_count": 7,
   "id": "1859df12",
   "metadata": {
    "ExecuteTime": {
     "end_time": "2023-12-09T16:44:32.272252Z",
     "start_time": "2023-12-09T16:44:32.228199Z"
    }
   },
   "outputs": [
    {
     "data": {
      "text/plain": [
       "4371"
      ]
     },
     "execution_count": 7,
     "metadata": {},
     "output_type": "execute_result"
    }
   ],
   "source": [
    "((df.expected_salary < 11000) & (df.vacancy_employment_type == 'full')).sum() # 4371 с зп меньше прожиточного"
   ]
  },
  {
   "cell_type": "markdown",
   "id": "1111f4bd",
   "metadata": {},
   "source": [
    "# Смотрим гипотезу о дате регистрации и кол-ве заявок"
   ]
  },
  {
   "cell_type": "markdown",
   "id": "4441fbaa",
   "metadata": {},
   "source": [
    "Нулевая гипотеза состоит в том, что средний процент успеха не отличается в группах с теми, кто подается первую-третью заявку, и с теми, кто подал уже больше трех заявок.\n",
    "Альтернативная гипотеза состоит в том, что средний процент успеха в этих группах отличается."
   ]
  },
  {
   "cell_type": "code",
   "execution_count": 8,
   "id": "e295b314",
   "metadata": {
    "ExecuteTime": {
     "end_time": "2023-12-09T16:44:32.508660Z",
     "start_time": "2023-12-09T16:44:32.272252Z"
    }
   },
   "outputs": [],
   "source": [
    "users = df.copy()"
   ]
  },
  {
   "cell_type": "code",
   "execution_count": 9,
   "id": "8c4e30c9",
   "metadata": {
    "ExecuteTime": {
     "end_time": "2023-12-09T16:44:33.963143Z",
     "start_time": "2023-12-09T16:44:32.508660Z"
    }
   },
   "outputs": [],
   "source": [
    "users['days']=(users.topic_creation_date-users.resume_creation_date).map(lambda x: x.days)\n",
    "users=users[users.final_state!='response']\n",
    "users['final_state'] = users['final_state'].map(lambda x:{'invitation':1.0, 'discard':0.0}[x])"
   ]
  },
  {
   "cell_type": "code",
   "execution_count": 10,
   "id": "863c7aa7",
   "metadata": {
    "ExecuteTime": {
     "end_time": "2023-12-09T16:45:21.503748Z",
     "start_time": "2023-12-09T16:44:33.966468Z"
    }
   },
   "outputs": [],
   "source": [
    "d = dict()\n",
    "for i in users.index:\n",
    "    note = users.loc[i]\n",
    "    d[note['resume_id']] = d.get(note['resume_id'], []) + [note['topic_creation_date']]"
   ]
  },
  {
   "cell_type": "code",
   "execution_count": 11,
   "id": "6bac6b51",
   "metadata": {
    "ExecuteTime": {
     "end_time": "2023-12-09T16:45:22.251936Z",
     "start_time": "2023-12-09T16:45:21.503748Z"
    }
   },
   "outputs": [],
   "source": [
    "for i, j in d.items():\n",
    "    d[i]=np.array(j)\n",
    "def f(resume_id, dt):\n",
    "    if resume_id not in d.keys():\n",
    "        return 0\n",
    "    return sum(d[resume_id] < dt)"
   ]
  },
  {
   "cell_type": "code",
   "execution_count": 12,
   "id": "61b06d28",
   "metadata": {
    "ExecuteTime": {
     "end_time": "2023-12-09T16:45:37.024934Z",
     "start_time": "2023-12-09T16:45:22.251936Z"
    }
   },
   "outputs": [],
   "source": [
    "users['exp'] = users.apply(lambda x: f(x.resume_id, x.topic_creation_date), 1)"
   ]
  },
  {
   "cell_type": "markdown",
   "id": "1e23f978",
   "metadata": {},
   "source": [
    "Назовем пользователя опытным, если он сделал уже три заявки. Разделим наблюдения на группы."
   ]
  },
  {
   "cell_type": "code",
   "execution_count": 13,
   "id": "acf1f194",
   "metadata": {
    "ExecuteTime": {
     "end_time": "2023-12-09T16:45:37.100992Z",
     "start_time": "2023-12-09T16:45:37.025201Z"
    }
   },
   "outputs": [],
   "source": [
    "old = users[users.exp >= 4]\n",
    "new = users[users.exp < 4]"
   ]
  },
  {
   "cell_type": "code",
   "execution_count": 14,
   "id": "43acbc43",
   "metadata": {
    "ExecuteTime": {
     "end_time": "2023-12-09T16:45:37.228234Z",
     "start_time": "2023-12-09T16:45:37.100992Z"
    }
   },
   "outputs": [
    {
     "data": {
      "text/plain": [
       "(0.7378370102239955,\n",
       " 0.5860820488246413,\n",
       " 0.43981182412641795,\n",
       " 0.49254069807050227)"
      ]
     },
     "execution_count": 14,
     "metadata": {},
     "output_type": "execute_result"
    }
   ],
   "source": [
    "mean_a = new.final_state.mean()\n",
    "mean_b = old.final_state.mean()\n",
    "sd_a = (new.final_state.map(lambda x: (x - mean_a) ** 2).sum() / (len(new) - 1)) ** 0.5\n",
    "sd_b = (old.final_state.map(lambda x: (x - mean_b) ** 2).sum() / (len(old) - 1)) ** 0.5\n",
    "mean_a, mean_b, sd_a, sd_b"
   ]
  },
  {
   "cell_type": "code",
   "execution_count": 15,
   "id": "8bf43fb7",
   "metadata": {
    "ExecuteTime": {
     "end_time": "2023-12-09T16:45:37.235504Z",
     "start_time": "2023-12-09T16:45:37.228234Z"
    }
   },
   "outputs": [
    {
     "data": {
      "text/plain": [
       "0.002709697274932171"
      ]
     },
     "execution_count": 15,
     "metadata": {},
     "output_type": "execute_result"
    }
   ],
   "source": [
    "se = (sd_a ** 2 / len(new) + sd_b ** 2 / len(old)) ** 0.5\n",
    "se"
   ]
  },
  {
   "cell_type": "code",
   "execution_count": 16,
   "id": "c02ec88c",
   "metadata": {
    "ExecuteTime": {
     "end_time": "2023-12-09T16:45:37.246898Z",
     "start_time": "2023-12-09T16:45:37.235504Z"
    }
   },
   "outputs": [
    {
     "data": {
      "text/plain": [
       "(56.004396802278556, 256360)"
      ]
     },
     "execution_count": 16,
     "metadata": {},
     "output_type": "execute_result"
    }
   ],
   "source": [
    "t_cr = (mean_a - mean_b) / se\n",
    "deg_f = len(old) + len(new) - 2\n",
    "t_cr, deg_f"
   ]
  },
  {
   "cell_type": "markdown",
   "id": "d6022423",
   "metadata": {},
   "source": [
    "При данном значении t, p-уровень значимости меньше 0,01. т.е. различия можно назвать статистически значимыми, но тут можно заметить, что процент успеха больше у неопытных пользователей, из этого легко сделать вывод о том, что скорее всего востребованный соискатель найдет работу за один-два отклика, в то время как его коллеги, которые менее квалифицированы или чересчур требоовательны, вынуждены подавать большое количество заявок. Однако такая гипотеза и такой вывод будут слишком тривиальными на мой взгляд."
   ]
  },
  {
   "cell_type": "markdown",
   "id": "1cf9bead",
   "metadata": {
    "ExecuteTime": {
     "end_time": "2023-12-03T10:59:16.101507Z",
     "start_time": "2023-12-03T10:59:16.098133Z"
    }
   },
   "source": [
    "# Гипотеза о знании англ языка"
   ]
  },
  {
   "cell_type": "markdown",
   "id": "a06492b5",
   "metadata": {},
   "source": [
    "Допустим, что знание аглийского языка в некоторых сферах более востребовано чем в других."
   ]
  },
  {
   "cell_type": "code",
   "execution_count": 17,
   "id": "a829b4e9",
   "metadata": {
    "ExecuteTime": {
     "end_time": "2023-12-09T16:45:37.697340Z",
     "start_time": "2023-12-09T16:45:37.248900Z"
    }
   },
   "outputs": [
    {
     "data": {
      "text/plain": [
       "array(['Менеджер по продажам, менеджер по работе с клиентами',\n",
       "       'Дизайнер, художник', 'Программист, разработчик', 'Бухгалтер',\n",
       "       'Менеджер по маркетингу, интернет-маркетолог',\n",
       "       'Официант, бармен, бариста', 'Менеджер по персоналу',\n",
       "       'Менеджер по логистике, менеджер по ВЭД',\n",
       "       'Оператор ПК, оператор базы данных',\n",
       "       'Специалист по подбору персонала', 'Менеджер по закупкам',\n",
       "       'Директор магазина, директор сети магазинов',\n",
       "       'Делопроизводитель, архивариус', 'Юрисконсульт',\n",
       "       'Инженер-энергетик, инженер-электрик',\n",
       "       'Руководитель отдела продаж', 'Специалист технической поддержки',\n",
       "       'Водитель', 'Учитель, преподаватель, педагог', 'Офис-менеджер',\n",
       "       'Охранник', 'Воспитатель, няня', 'Сварщик', 'Экономист',\n",
       "       'Психолог', 'Системный администратор', 'Курьер',\n",
       "       'Секретарь, помощник руководителя, ассистент',\n",
       "       'SMM-менеджер, контент-менеджер', 'Тестировщик',\n",
       "       'Руководитель проектов',\n",
       "       'Инженер-конструктор, инженер-проектировщик', 'Супервайзер',\n",
       "       'Финансовый менеджер', 'Кассир-операционист', 'Слесарь, сантехник',\n",
       "       'Диспетчер', 'Торговый представитель', 'Упаковщик, комплектовщик',\n",
       "       'Врач', 'Повар, пекарь, кондитер', 'Администратор', 'Мерчандайзер',\n",
       "       'Аналитик', 'Кладовщик', 'Начальник производства', 'Юрист',\n",
       "       'Начальник смены, мастер участка',\n",
       "       'Продавец-консультант, продавец-кассир',\n",
       "       'Генеральный директор, исполнительный директор (CEO)',\n",
       "       'Менеджер по туризму', 'Координатор отдела продаж',\n",
       "       'Оператор производственной линии', 'Технолог', 'Машинист',\n",
       "       'Менеджер ресторана', 'Начальник склада',\n",
       "       'Фитнес-тренер, инструктор тренажерного зала', 'Товаровед',\n",
       "       'Оператор call-центра, специалист контактного центра', 'Механик',\n",
       "       'Сервисный инженер, инженер-механик', 'Уборщица, уборщик',\n",
       "       'Разнорабочий', 'Кредитный специалист',\n",
       "       'Инженер по охране труда и технике безопасности, инженер-эколог',\n",
       "       'Специалист по кадрам', 'Менеджер/руководитель АХО'], dtype=object)"
      ]
     },
     "execution_count": 17,
     "metadata": {},
     "output_type": "execute_result"
    }
   ],
   "source": [
    "# проведем анализ профессий и сгруппируем по сфере деятельности\n",
    "# сразу уберем не интересующие на наблюдения по типу подработок\n",
    "eng = df.copy()\n",
    "eng = eng[eng.vacancy_employment_type == 'full']\n",
    "eng.profession.unique()"
   ]
  },
  {
   "cell_type": "markdown",
   "id": "b2f5c935",
   "metadata": {},
   "source": [
    "Разделим профессии на следующие категории: менеджмент, дизайн, IT, сфера услуг, правовое поле, инженерия, образование, медицина."
   ]
  },
  {
   "cell_type": "code",
   "execution_count": 18,
   "id": "42919769",
   "metadata": {
    "ExecuteTime": {
     "end_time": "2023-12-09T16:45:37.707638Z",
     "start_time": "2023-12-09T16:45:37.697340Z"
    }
   },
   "outputs": [],
   "source": [
    "management = ['Менеджер по продажам, менеджер по работе с клиентами', 'Бухгалтер', 'Менеджер по маркетингу, интернет-маркетолог',\n",
    "             'Менеджер по персоналу', 'Менеджер по логистике, менеджер по ВЭД', 'Специалист по подбору персонала',\n",
    "             'Менеджер по закупкам', 'Директор магазина, директор сети магазинов', 'Руководитель отдела продаж',\n",
    "             'Офис-менеджер', 'Секретарь, помощник руководителя, ассистент', 'Руководитель проектов',\n",
    "             'Финансовый менеджер', 'Администратор', 'Продавец-консультант, продавец-кассир', \n",
    "             'Менеджер по туризму', 'Координатор отдела продаж', 'Менеджер ресторана', 'Специалист по кадрам',\n",
    "             'Менеджер/руководитель АХО']\n",
    "design = ['Дизайнер, художник', 'Мерчандайзер']\n",
    "it = ['Программист, разработчик', 'Оператор ПК, оператор базы данных', 'Системный администратор',\n",
    "     'SMM-менеджер, контент-менеджер', 'Тестировщик', 'Аналитик']\n",
    "service = ['Официант, бармен, бариста', 'Специалист технической поддержки', 'Водитель', 'Охранник',\n",
    "          'Курьер', 'Супервайзер', 'Кассир-операционист', 'Диспетчер', 'Торговый представитель', \n",
    "          'Упаковщик, комплектовщик', 'Повар, пекарь, кондитер', 'Кладовщик', \n",
    "          'Продавец-консультант, продавец-кассир', 'Начальник склада', 'Фитнес-тренер, инструктор тренажерного зала',\n",
    "          'Товаровед', 'Оператор call-центра, специалист контактного центра', 'Уборщица, уборщик',\n",
    "          'Разнорабочий']\n",
    "law = ['Делопроизводитель, архивариус', 'Юрисконсульт', 'Экономист', 'Юрист', 'Кредитный специалист']\n",
    "engineering = ['Инженер-энергетик, инженер-электрик', 'Сварщик', 'Инженер-конструктор, инженер-проектировщик',\n",
    "              'Слесарь, сантехник', 'Начальник производства', 'Начальник смены, мастер участка', \n",
    "              'Оператор производственной линии', 'Технолог', 'Машинист', 'Механик', 'Сервисный инженер, инженер-механик',\n",
    "              'Инженер по охране труда и технике безопасности, инженер-эколог']\n",
    "teacher = ['Учитель, преподаватель, педагог', 'Воспитатель, няня']\n",
    "med = ['Психолог', 'Врач']"
   ]
  },
  {
   "cell_type": "code",
   "execution_count": 19,
   "id": "a3c50ec9",
   "metadata": {
    "ExecuteTime": {
     "end_time": "2023-12-09T16:45:38.153424Z",
     "start_time": "2023-12-09T16:45:37.710576Z"
    }
   },
   "outputs": [],
   "source": [
    "def f(x):\n",
    "    if x in management:\n",
    "        return \"Менеджмент\"\n",
    "    if x in design:\n",
    "        return \"Дизайн\"\n",
    "    if x in it:\n",
    "        return \"IT\"\n",
    "    if x in service:\n",
    "        return \"Сфера услуг\"\n",
    "    if x in law:\n",
    "        return \"Право/Экономика\"\n",
    "    if x in engineering:\n",
    "        return \"Инженерия/Промышленность\"\n",
    "    if x in teacher:\n",
    "        return \"Образование\"\n",
    "    return \"Медицина\"\n",
    "eng = eng[~eng.profession.isna()]\n",
    "eng['occupation'] = eng.profession.map(f)"
   ]
  },
  {
   "cell_type": "code",
   "execution_count": 20,
   "id": "a840664a",
   "metadata": {
    "ExecuteTime": {
     "end_time": "2023-12-09T16:45:38.180634Z",
     "start_time": "2023-12-09T16:45:38.153424Z"
    }
   },
   "outputs": [
    {
     "data": {
      "text/plain": [
       "occupation\n",
       "Менеджмент                  139773\n",
       "Сфера услуг                 125271\n",
       "Инженерия/Промышленность     61756\n",
       "IT                           49051\n",
       "Право/Экономика              43501\n",
       "Медицина                      6291\n",
       "Дизайн                        5290\n",
       "Образование                   3005\n",
       "Name: count, dtype: int64"
      ]
     },
     "execution_count": 20,
     "metadata": {},
     "output_type": "execute_result"
    }
   ],
   "source": [
    "eng.occupation.value_counts()"
   ]
  },
  {
   "cell_type": "code",
   "execution_count": 21,
   "id": "bf89d306",
   "metadata": {
    "ExecuteTime": {
     "end_time": "2023-12-09T16:45:39.328266Z",
     "start_time": "2023-12-09T16:45:38.182183Z"
    }
   },
   "outputs": [],
   "source": [
    "def is_en(skills):\n",
    "    for i in skills:\n",
    "        if i and (\"английск\" in i or \"english\" in i):\n",
    "            return True\n",
    "    return False\n",
    "eng['en'] = eng.resume_skills_list.map(is_en)\n",
    "eng['need_en'] = eng.vacancy_skills_list.map(is_en)"
   ]
  },
  {
   "cell_type": "code",
   "execution_count": 22,
   "id": "45b96892",
   "metadata": {
    "ExecuteTime": {
     "end_time": "2023-12-09T16:45:39.337586Z",
     "start_time": "2023-12-09T16:45:39.329714Z"
    }
   },
   "outputs": [
    {
     "data": {
      "text/plain": [
       "(0.055314353663426574, 0.015433080301794265)"
      ]
     },
     "execution_count": 22,
     "metadata": {},
     "output_type": "execute_result"
    }
   ],
   "source": [
    "eng['en'].mean(), eng['need_en'].mean()"
   ]
  },
  {
   "cell_type": "markdown",
   "id": "6db1458a",
   "metadata": {},
   "source": [
    "В 5,5% случаев соискатель говорит на английском языке, в 1,5% случаев он требуется."
   ]
  },
  {
   "cell_type": "code",
   "execution_count": 23,
   "id": "11483899",
   "metadata": {
    "ExecuteTime": {
     "end_time": "2023-12-09T16:45:40.581827Z",
     "start_time": "2023-12-09T16:45:39.337586Z"
    }
   },
   "outputs": [
    {
     "data": {
      "text/plain": [
       "<Axes: xlabel='occupation'>"
      ]
     },
     "execution_count": 23,
     "metadata": {},
     "output_type": "execute_result"
    },
    {
     "data": {
      "image/png": "[encoded data removed]",
      "text/plain": [
       "<Figure size 640x480 with 1 Axes>"
      ]
     },
     "metadata": {},
     "output_type": "display_data"
    }
   ],
   "source": [
    "vacancy_inf = eng[['vacancy_id', 'occupation', 'need_en']].drop_duplicates()\n",
    "(vacancy_inf[['occupation', 'need_en']].groupby('occupation').mean() * 100).plot.bar()"
   ]
  },
  {
   "cell_type": "code",
   "execution_count": 24,
   "id": "e185dff9",
   "metadata": {
    "ExecuteTime": {
     "end_time": "2023-12-09T16:45:41.273122Z",
     "start_time": "2023-12-09T16:45:40.584827Z"
    }
   },
   "outputs": [
    {
     "data": {
      "text/plain": [
       "<Axes: xlabel='occupation'>"
      ]
     },
     "execution_count": 24,
     "metadata": {},
     "output_type": "execute_result"
    },
    {
     "data": {
      "image/png": "[encoded data removed]",
      "text/plain": [
       "<Figure size 640x480 with 1 Axes>"
      ]
     },
     "metadata": {},
     "output_type": "display_data"
    }
   ],
   "source": [
    "user_inf = eng[['resume_id', 'occupation', 'en']].drop_duplicates()\n",
    "(user_inf[['occupation', 'en']].groupby('occupation').mean() * 100).plot.bar()"
   ]
  },
  {
   "cell_type": "markdown",
   "id": "4b55178c",
   "metadata": {},
   "source": [
    "Теперь рассмотрим четыре сценария(NN - соискатель не знает англ и он не требуется, NY - соиск не знает, англ требуется, YN - соиск знает, не требуется, YY - соиск знает и требуется) в срезе каждой из сфер деятельности"
   ]
  },
  {
   "cell_type": "code",
   "execution_count": 25,
   "id": "2027c1dc",
   "metadata": {
    "ExecuteTime": {
     "end_time": "2023-12-09T16:45:45.002887Z",
     "start_time": "2023-12-09T16:45:41.275124Z"
    }
   },
   "outputs": [],
   "source": [
    "eng = eng[eng.final_state != 'response']\n",
    "eng.final_state = eng.final_state.map(lambda x: 1 if x == 'invitation' else 0)\n",
    "eng['scenary'] = eng.apply((lambda x: ('Y' if x['en'] else 'N') + ('Y' if x['need_en'] else 'N')), 1)"
   ]
  },
  {
   "cell_type": "code",
   "execution_count": 26,
   "id": "065baebd",
   "metadata": {
    "ExecuteTime": {
     "end_time": "2023-12-09T16:45:45.070717Z",
     "start_time": "2023-12-09T16:45:45.002887Z"
    }
   },
   "outputs": [
    {
     "data": {
      "text/html": [
       "<div>\n",
       "<style scoped>\n",
       "    .dataframe tbody tr th:only-of-type {\n",
       "        vertical-align: middle;\n",
       "    }\n",
       "\n",
       "    .dataframe tbody tr th {\n",
       "        vertical-align: top;\n",
       "    }\n",
       "\n",
       "    .dataframe thead th {\n",
       "        text-align: right;\n",
       "    }\n",
       "</style>\n",
       "<table border=\"1\" class=\"dataframe\">\n",
       "  <thead>\n",
       "    <tr style=\"text-align: right;\">\n",
       "      <th></th>\n",
       "      <th></th>\n",
       "      <th>final_state</th>\n",
       "    </tr>\n",
       "    <tr>\n",
       "      <th>occupation</th>\n",
       "      <th>scenary</th>\n",
       "      <th></th>\n",
       "    </tr>\n",
       "  </thead>\n",
       "  <tbody>\n",
       "    <tr>\n",
       "      <th rowspan=\"4\" valign=\"top\">IT</th>\n",
       "      <th>NN</th>\n",
       "      <td>0.569047</td>\n",
       "    </tr>\n",
       "    <tr>\n",
       "      <th>NY</th>\n",
       "      <td>0.332268</td>\n",
       "    </tr>\n",
       "    <tr>\n",
       "      <th>YN</th>\n",
       "      <td>0.483267</td>\n",
       "    </tr>\n",
       "    <tr>\n",
       "      <th>YY</th>\n",
       "      <td>0.374302</td>\n",
       "    </tr>\n",
       "    <tr>\n",
       "      <th rowspan=\"4\" valign=\"top\">Дизайн</th>\n",
       "      <th>NN</th>\n",
       "      <td>0.701027</td>\n",
       "    </tr>\n",
       "    <tr>\n",
       "      <th>NY</th>\n",
       "      <td>0.406250</td>\n",
       "    </tr>\n",
       "    <tr>\n",
       "      <th>YN</th>\n",
       "      <td>0.516129</td>\n",
       "    </tr>\n",
       "    <tr>\n",
       "      <th>YY</th>\n",
       "      <td>0.000000</td>\n",
       "    </tr>\n",
       "    <tr>\n",
       "      <th rowspan=\"4\" valign=\"top\">Инженерия/Промышленность</th>\n",
       "      <th>NN</th>\n",
       "      <td>0.744266</td>\n",
       "    </tr>\n",
       "    <tr>\n",
       "      <th>NY</th>\n",
       "      <td>0.453333</td>\n",
       "    </tr>\n",
       "    <tr>\n",
       "      <th>YN</th>\n",
       "      <td>0.703297</td>\n",
       "    </tr>\n",
       "    <tr>\n",
       "      <th>YY</th>\n",
       "      <td>0.458333</td>\n",
       "    </tr>\n",
       "    <tr>\n",
       "      <th rowspan=\"4\" valign=\"top\">Медицина</th>\n",
       "      <th>NN</th>\n",
       "      <td>0.545495</td>\n",
       "    </tr>\n",
       "    <tr>\n",
       "      <th>NY</th>\n",
       "      <td>0.263158</td>\n",
       "    </tr>\n",
       "    <tr>\n",
       "      <th>YN</th>\n",
       "      <td>0.491525</td>\n",
       "    </tr>\n",
       "    <tr>\n",
       "      <th>YY</th>\n",
       "      <td>0.333333</td>\n",
       "    </tr>\n",
       "    <tr>\n",
       "      <th rowspan=\"4\" valign=\"top\">Менеджмент</th>\n",
       "      <th>NN</th>\n",
       "      <td>0.672083</td>\n",
       "    </tr>\n",
       "    <tr>\n",
       "      <th>NY</th>\n",
       "      <td>0.466030</td>\n",
       "    </tr>\n",
       "    <tr>\n",
       "      <th>YN</th>\n",
       "      <td>0.633223</td>\n",
       "    </tr>\n",
       "    <tr>\n",
       "      <th>YY</th>\n",
       "      <td>0.528902</td>\n",
       "    </tr>\n",
       "    <tr>\n",
       "      <th rowspan=\"4\" valign=\"top\">Образование</th>\n",
       "      <th>NN</th>\n",
       "      <td>0.675313</td>\n",
       "    </tr>\n",
       "    <tr>\n",
       "      <th>NY</th>\n",
       "      <td>0.500000</td>\n",
       "    </tr>\n",
       "    <tr>\n",
       "      <th>YN</th>\n",
       "      <td>0.644860</td>\n",
       "    </tr>\n",
       "    <tr>\n",
       "      <th>YY</th>\n",
       "      <td>0.516129</td>\n",
       "    </tr>\n",
       "    <tr>\n",
       "      <th rowspan=\"4\" valign=\"top\">Право/Экономика</th>\n",
       "      <th>NN</th>\n",
       "      <td>0.553686</td>\n",
       "    </tr>\n",
       "    <tr>\n",
       "      <th>NY</th>\n",
       "      <td>0.357143</td>\n",
       "    </tr>\n",
       "    <tr>\n",
       "      <th>YN</th>\n",
       "      <td>0.497768</td>\n",
       "    </tr>\n",
       "    <tr>\n",
       "      <th>YY</th>\n",
       "      <td>0.348837</td>\n",
       "    </tr>\n",
       "    <tr>\n",
       "      <th rowspan=\"4\" valign=\"top\">Сфера услуг</th>\n",
       "      <th>NN</th>\n",
       "      <td>0.775847</td>\n",
       "    </tr>\n",
       "    <tr>\n",
       "      <th>NY</th>\n",
       "      <td>0.613354</td>\n",
       "    </tr>\n",
       "    <tr>\n",
       "      <th>YN</th>\n",
       "      <td>0.697654</td>\n",
       "    </tr>\n",
       "    <tr>\n",
       "      <th>YY</th>\n",
       "      <td>0.611570</td>\n",
       "    </tr>\n",
       "  </tbody>\n",
       "</table>\n",
       "</div>"
      ],
      "text/plain": [
       "                                  final_state\n",
       "occupation               scenary             \n",
       "IT                       NN          0.569047\n",
       "                         NY          0.332268\n",
       "                         YN          0.483267\n",
       "                         YY          0.374302\n",
       "Дизайн                   NN          0.701027\n",
       "                         NY          0.406250\n",
       "                         YN          0.516129\n",
       "                         YY          0.000000\n",
       "Инженерия/Промышленность NN          0.744266\n",
       "                         NY          0.453333\n",
       "                         YN          0.703297\n",
       "                         YY          0.458333\n",
       "Медицина                 NN          0.545495\n",
       "                         NY          0.263158\n",
       "                         YN          0.491525\n",
       "                         YY          0.333333\n",
       "Менеджмент               NN          0.672083\n",
       "                         NY          0.466030\n",
       "                         YN          0.633223\n",
       "                         YY          0.528902\n",
       "Образование              NN          0.675313\n",
       "                         NY          0.500000\n",
       "                         YN          0.644860\n",
       "                         YY          0.516129\n",
       "Право/Экономика          NN          0.553686\n",
       "                         NY          0.357143\n",
       "                         YN          0.497768\n",
       "                         YY          0.348837\n",
       "Сфера услуг              NN          0.775847\n",
       "                         NY          0.613354\n",
       "                         YN          0.697654\n",
       "                         YY          0.611570"
      ]
     },
     "execution_count": 26,
     "metadata": {},
     "output_type": "execute_result"
    }
   ],
   "source": [
    "gb = eng[['occupation', 'scenary', 'final_state']].groupby(['occupation', 'scenary']).mean()\n",
    "gb"
   ]
  },
  {
   "cell_type": "code",
   "execution_count": 27,
   "id": "106e2017",
   "metadata": {
    "ExecuteTime": {
     "end_time": "2023-12-09T16:45:50.680837Z",
     "start_time": "2023-12-09T16:45:45.072718Z"
    }
   },
   "outputs": [
    {
     "data": {
      "text/plain": [
       "<Axes: xlabel='final_state', ylabel='occupation'>"
      ]
     },
     "execution_count": 27,
     "metadata": {},
     "output_type": "execute_result"
    },
    {
     "data": {
      "image/png": "[encoded data removed]",
      "text/plain": [
       "<Figure size 640x480 with 1 Axes>"
      ]
     },
     "metadata": {},
     "output_type": "display_data"
    }
   ],
   "source": [
    "import seaborn as sns\n",
    "sns.barplot(x='final_state', y='occupation', hue='scenary', data=eng, orient='h')"
   ]
  },
  {
   "cell_type": "markdown",
   "id": "af71bcaa",
   "metadata": {},
   "source": [
    "Заметим, что в сценариях NN, YN наибольший показатель приема в каждой из сфер. Незначительная разница между YY и NY во многих сферах может быть обусловлена тем, что у соискателя недостаточно высокий уровень английского языка, а также тем, что соискатель может не указывать английский в своих скиллах, но при подаче заявления а вакансию по умолчанию подразумевать то, что английский он знает."
   ]
  },
  {
   "cell_type": "markdown",
   "id": "4a617afb",
   "metadata": {},
   "source": [
    "В целом можно сделать предположение о том, что английский язык наиболее востребован в сферах образования, IT и менеджмента, что вполне ожидаемо, так как к последних двух сферах часто приходится работать с иностранцами, а в образовании очень популярна профессия именно учителя английского языка. Также можно предположить, что скорее всего на вакансию, где требуется английский будет сложнее устроиться, даже если вы его знаете. "
   ]
  },
  {
   "cell_type": "markdown",
   "id": "95cceae1",
   "metadata": {},
   "source": [
    "# Посмотрим на скиллы чуть подробнее"
   ]
  },
  {
   "cell_type": "code",
   "execution_count": 28,
   "id": "892985a0",
   "metadata": {
    "ExecuteTime": {
     "end_time": "2023-12-09T16:45:53.542043Z",
     "start_time": "2023-12-09T16:45:50.688544Z"
    }
   },
   "outputs": [
    {
     "data": {
      "text/plain": [
       "['ответственность',\n",
       " 'пользователь пк',\n",
       " 'работа в команде',\n",
       " 'организаторские навыки',\n",
       " 'грамотная речь',\n",
       " 'деловая переписка',\n",
       " 'работа с большим объемом информации',\n",
       " 'деловое общение',\n",
       " 'обучаемость',\n",
       " 'исполнительность',\n",
       " 'работоспособность',\n",
       " 'ведение переговоров',\n",
       " 'телефонные переговоры',\n",
       " 'управление персоналом',\n",
       " 'коммуникабельность',\n",
       " 'обучение персонала',\n",
       " 'заключение договоров',\n",
       " 'ms excel',\n",
       " 'стрессоустойчивость',\n",
       " 'умение работать в команде',\n",
       " 'деловая коммуникация',\n",
       " 'обучение и развитие',\n",
       " 'ms word',\n",
       " 'активные продажи',\n",
       " 'английский язык',\n",
       " '1с: предприятие 8',\n",
       " 'ms outlook',\n",
       " 'навыки продаж',\n",
       " 'руководство коллективом',\n",
       " 'ms powerpoint',\n",
       " 'водительское удостоверение категории b',\n",
       " 'работа с оргтехникой',\n",
       " 'поиск информации в интернет',\n",
       " 'поиск и привлечение клиентов',\n",
       " 'пунктуальность',\n",
       " 'подбор персонала',\n",
       " 'adobe photoshop',\n",
       " 'управление продажами',\n",
       " 'делопроизводство',\n",
       " 'документооборот',\n",
       " 'прямые продажи',\n",
       " 'документальное сопровождение',\n",
       " 'мотивация персонала',\n",
       " 'управление проектами',\n",
       " 'грамотность',\n",
       " 'internet',\n",
       " 'ms office',\n",
       " 'проведение презентаций',\n",
       " 'ориентация на результат',\n",
       " 'развитие продаж',\n",
       " 'работа с базами данных',\n",
       " 'электронная почта',\n",
       " 'навыки межличностного общения',\n",
       " 'проведение инвентаризаций',\n",
       " 'креативность',\n",
       " 'smm',\n",
       " 'управленческие навыки',\n",
       " 'клиентоориентированность',\n",
       " 'умение работать в коллективе',\n",
       " 'sql',\n",
       " 'инвентаризация',\n",
       " 'аналитическое мышление',\n",
       " 'управление командой',\n",
       " 'уверенный пользователь пк',\n",
       " '1с: документооборот',\n",
       " 'консультант плюс',\n",
       " 'организация мероприятий',\n",
       " 'точность и внимательность к деталям',\n",
       " 'crm',\n",
       " 'договорная работа',\n",
       " 'autocad',\n",
       " 'составление договоров',\n",
       " 'ведение отчетности',\n",
       " 'целеустремленность',\n",
       " 'внимательность',\n",
       " 'копирайтинг',\n",
       " 'планирование продаж',\n",
       " 'ведение групп в социальных сетях',\n",
       " 'многозадачность',\n",
       " 'работа с документами',\n",
       " 'холодные продажи',\n",
       " 'b2b продажи',\n",
       " '1с: торговля и склад',\n",
       " 'postman',\n",
       " 'первичная бухгалтерская документация',\n",
       " 'работа с возражениями',\n",
       " 'консультирование',\n",
       " 'html',\n",
       " 'git',\n",
       " 'кассовые операции',\n",
       " 'функциональное тестирование',\n",
       " 'наполнение контентом',\n",
       " 'написание текстов',\n",
       " 'консультирование клиентов',\n",
       " 'работа с кассой',\n",
       " 'контроль качества',\n",
       " 'работа с поставщиками',\n",
       " 'умение планировать',\n",
       " 'atlassian jira',\n",
       " 'общественное питание',\n",
       " 'претензионная работа',\n",
       " 'навыки переговоров',\n",
       " 'офисная техника',\n",
       " 'обслуживание покупателей',\n",
       " 'электронный документооборот',\n",
       " 'тестирование',\n",
       " 'закупка товаров и услуг',\n",
       " 'социальные сети',\n",
       " '1с: торговля',\n",
       " '1с: бухгалтерия',\n",
       " 'test case',\n",
       " 'первичная документация',\n",
       " 'работа с жалобами клиентов',\n",
       " 'навыки презентации',\n",
       " '1с-битрикс',\n",
       " 'api',\n",
       " 'способность обучать других',\n",
       " 'транспортная логистика',\n",
       " 'аналитика продаж',\n",
       " 'работа с дебиторской задолженностью',\n",
       " 'оформление заказов',\n",
       " 'работа с тмц',\n",
       " 'контроль сроков годности',\n",
       " 'закупки',\n",
       " 'консультирование клиентов по телефону',\n",
       " 'работа с текущей базой клиентов',\n",
       " 'управление производственным персоналом',\n",
       " 'складской учет',\n",
       " 'доброжелательность',\n",
       " 'работа с клиентами',\n",
       " 'ведение переписки',\n",
       " 'урегулирование конфликтов',\n",
       " 'планирование',\n",
       " 'тестирование пользовательского интерфейса',\n",
       " 'быстрая обучаемость',\n",
       " 'гражданское право',\n",
       " 'оформление документации',\n",
       " 'суды общей юрисдикции',\n",
       " 'арбитражные суды',\n",
       " 'python',\n",
       " 'продвижение в социальных группах',\n",
       " 'настройка пк',\n",
       " 'составление исков',\n",
       " 'бумажный документооборот',\n",
       " 'css',\n",
       " 'складская логистика',\n",
       " 'ручное тестирование']"
      ]
     },
     "execution_count": 28,
     "metadata": {},
     "output_type": "execute_result"
    }
   ],
   "source": [
    "skills = []\n",
    "for i in df.resume_skills_list:\n",
    "    for j in i:\n",
    "        if j:\n",
    "            skills.append(j.lower())\n",
    "skills = pd.Series(skills).value_counts()\n",
    "list(skills[skills>5000].index)"
   ]
  },
  {
   "cell_type": "code",
   "execution_count": 29,
   "id": "8d684815",
   "metadata": {
    "ExecuteTime": {
     "end_time": "2023-12-09T16:45:53.551169Z",
     "start_time": "2023-12-09T16:45:53.542043Z"
    }
   },
   "outputs": [],
   "source": [
    "soft_skills = ['ответственность', 'работа в команде', 'организаторские навыки', 'грамотная речь',\n",
    " 'деловая переписка', 'работа с большим объемом информации', 'деловое общение', 'обучаемость',\n",
    " 'исполнительность', 'работоспособность', 'ведение переговоров', 'телефонные переговоры',\n",
    " 'управление персоналом', 'коммуникабельность', 'стрессоустойчивость', 'умение работать в команде',\n",
    " 'деловая коммуникация', 'обучение и развитие', 'активные продажи', 'руководство коллективом',\n",
    " 'пунктуальность', 'управление проектами', 'грамотность', 'навыки межличностного общения',\n",
    " 'креативность', 'управленческие навыки', 'клиентоориентированность', 'умение работать в коллективе',\n",
    " 'аналитическое мышление', 'управление командой', 'точность и внимательность к деталям',\n",
    " 'целеустремленность', 'внимательность', 'копирайтинг', 'многозадачность', 'работа с возражениями',\n",
    " 'навыки переговоров', 'навыки презентации', 'способность обучать других',\n",
    " 'управление производственным персоналом', 'доброжелательность', 'урегулирование конфликтов',\n",
    " 'планирование', 'быстрая обучаемость']\n",
    "extra_skills=['пользователь пк', 'заключение договоров', 'ms excel', 'ms word', 'английский язык',\n",
    " 'ms outlook', 'ms powerpoint', 'водительское удостоверение категории b', 'работа с оргтехникой',\n",
    " 'проведение инвентаризаций', 'уверенный пользователь пк', 'договорная работа', 'составление договоров',\n",
    " 'ведение отчетности', 'ведение групп в социальных сетях', 'работа с документами', 'работа с возражениями',\n",
    " 'претензионная работа', 'навыки переговоров', 'офисная техника', 'обслуживание покупателей',\n",
    " 'электронный документооборот', 'социальные сети', 'первичная документация', 'работа с жалобами клиентов',\n",
    " 'навыки презентации', 'транспортная логистика', 'управление производственным персоналом',\n",
    " 'оформление документации', 'продвижение в социальных группах', 'бумажный документооборот',]\n",
    "# доп. скиллы - нельзя отнести ни к soft, ни к hard, но могут дать плюс в целом"
   ]
  },
  {
   "cell_type": "code",
   "execution_count": 30,
   "id": "752377ea",
   "metadata": {
    "ExecuteTime": {
     "end_time": "2023-12-09T16:45:54.142432Z",
     "start_time": "2023-12-09T16:45:53.551169Z"
    }
   },
   "outputs": [],
   "source": [
    "def soft_count(l):\n",
    "    res=0\n",
    "    for i in l:\n",
    "        if i and i in soft_skills:\n",
    "            res+=1\n",
    "    return res\n",
    "skills_df = df.copy()\n",
    "skills_df = skills_df[skills_df.vacancy_employment_type == 'full']\n",
    "skills_df = skills_df[skills_df.final_state != 'response']\n",
    "skills_df.final_state = skills_df.final_state.map(lambda x: 1 if x == 'invitation' else 0)"
   ]
  },
  {
   "cell_type": "code",
   "execution_count": 31,
   "id": "74e033a1",
   "metadata": {
    "ExecuteTime": {
     "end_time": "2023-12-09T16:45:55.642205Z",
     "start_time": "2023-12-09T16:45:54.142432Z"
    }
   },
   "outputs": [],
   "source": [
    "skills_df['soft_count'] = skills_df.resume_skills_list.map(soft_count)\n",
    "skills_df = skills_df[skills_df.soft_count <= 10]"
   ]
  },
  {
   "cell_type": "code",
   "execution_count": 32,
   "id": "f37eaa03",
   "metadata": {
    "ExecuteTime": {
     "end_time": "2023-12-09T16:45:55.901088Z",
     "start_time": "2023-12-09T16:45:55.644975Z"
    }
   },
   "outputs": [
    {
     "data": {
      "text/plain": [
       "<Axes: xlabel='soft_count'>"
      ]
     },
     "execution_count": 32,
     "metadata": {},
     "output_type": "execute_result"
    },
    {
     "data": {
      "image/png": "[encoded data removed]",
      "text/plain": [
       "<Figure size 640x480 with 1 Axes>"
      ]
     },
     "metadata": {},
     "output_type": "display_data"
    }
   ],
   "source": [
    "skills_df[['soft_count', 'final_state']].groupby('soft_count').mean().plot.bar()"
   ]
  },
  {
   "cell_type": "code",
   "execution_count": 33,
   "id": "0b2cba4d",
   "metadata": {
    "ExecuteTime": {
     "end_time": "2023-12-09T16:45:56.041822Z",
     "start_time": "2023-12-09T16:45:55.901088Z"
    }
   },
   "outputs": [],
   "source": [
    "# доля софтскиллов от всех\n",
    "skills_df['soft_part'] = skills_df.soft_count / skills_df.resume_skills_list.map(lambda x: max(1, len(x)))"
   ]
  },
  {
   "cell_type": "code",
   "execution_count": 34,
   "id": "2545c4cf",
   "metadata": {
    "ExecuteTime": {
     "end_time": "2023-12-09T16:45:56.125723Z",
     "start_time": "2023-12-09T16:45:56.041822Z"
    }
   },
   "outputs": [],
   "source": [
    "skills_df['soft_part'] = skills_df.soft_part.map(lambda x: round(x * 50) / 50)"
   ]
  },
  {
   "cell_type": "code",
   "execution_count": 35,
   "id": "44409c14",
   "metadata": {
    "ExecuteTime": {
     "end_time": "2023-12-09T16:45:56.666492Z",
     "start_time": "2023-12-09T16:45:56.125723Z"
    }
   },
   "outputs": [
    {
     "data": {
      "text/plain": [
       "<Axes: xlabel='soft_part'>"
      ]
     },
     "execution_count": 35,
     "metadata": {},
     "output_type": "execute_result"
    },
    {
     "data": {
      "image/png": "[encoded data removed]",
      "text/plain": [
       "<Figure size 640x480 with 1 Axes>"
      ]
     },
     "metadata": {},
     "output_type": "display_data"
    }
   ],
   "source": [
    "skills_df[['soft_part', 'final_state']].groupby('soft_part').mean().plot.bar()"
   ]
  },
  {
   "cell_type": "markdown",
   "id": "d472824c",
   "metadata": {},
   "source": [
    "# Посмотрим на гипотезу о наилучшем возрасте вхождения"
   ]
  },
  {
   "cell_type": "code",
   "execution_count": 36,
   "id": "585db0ff",
   "metadata": {
    "ExecuteTime": {
     "end_time": "2023-12-09T16:45:57.086341Z",
     "start_time": "2023-12-09T16:45:56.666492Z"
    }
   },
   "outputs": [],
   "source": [
    "ages = df.copy()\n",
    "ages['age'] = ages.year_of_birth.apply(lambda x: 2023 - x)"
   ]
  },
  {
   "cell_type": "code",
   "execution_count": 37,
   "id": "9bf990ac",
   "metadata": {
    "ExecuteTime": {
     "end_time": "2023-12-09T16:45:57.100312Z",
     "start_time": "2023-12-09T16:45:57.086341Z"
    }
   },
   "outputs": [
    {
     "data": {
      "text/plain": [
       "age\n",
       "25     18498\n",
       "23     17027\n",
       "26     16837\n",
       "36     16818\n",
       "24     16775\n",
       "       ...  \n",
       "106        2\n",
       "85         1\n",
       "93         1\n",
       "121        1\n",
       "103        1\n",
       "Name: count, Length: 75, dtype: int64"
      ]
     },
     "execution_count": 37,
     "metadata": {},
     "output_type": "execute_result"
    }
   ],
   "source": [
    "ages.age.value_counts()"
   ]
  },
  {
   "cell_type": "code",
   "execution_count": 38,
   "id": "77e7d258",
   "metadata": {
    "ExecuteTime": {
     "end_time": "2023-12-09T16:45:57.535787Z",
     "start_time": "2023-12-09T16:45:57.101561Z"
    }
   },
   "outputs": [],
   "source": [
    "ages = ages[((ages.age <= 58) & (ages.gender == 'female')) \n",
    "            | ((ages.age <= 63) & (ages.gender == 'male'))]\n",
    "ages = ages[ages.final_state != 'response']\n",
    "ages.final_state = ages.final_state.map(lambda x: 1 if x == 'invitation' else 0)"
   ]
  },
  {
   "cell_type": "code",
   "execution_count": 39,
   "id": "719f614e",
   "metadata": {
    "ExecuteTime": {
     "end_time": "2023-12-09T16:45:57.873056Z",
     "start_time": "2023-12-09T16:45:57.535787Z"
    }
   },
   "outputs": [],
   "source": [
    "ages = ages[~ages.profession.isna()]\n",
    "ages['occupation'] = ages.profession.map(f)"
   ]
  },
  {
   "cell_type": "code",
   "execution_count": 40,
   "id": "711b1802",
   "metadata": {
    "ExecuteTime": {
     "end_time": "2023-12-09T16:45:57.962073Z",
     "start_time": "2023-12-09T16:45:57.873056Z"
    }
   },
   "outputs": [
    {
     "data": {
      "text/plain": [
       "ages_group\n",
       "36-45    60899\n",
       "29-35    60752\n",
       "23-28    57881\n",
       "18-22    35003\n",
       "46-55    27766\n",
       "56-63     5905\n",
       "14-17     5434\n",
       "Name: count, dtype: int64"
      ]
     },
     "execution_count": 40,
     "metadata": {},
     "output_type": "execute_result"
    }
   ],
   "source": [
    "def f_age(age):\n",
    "    if age >= 14 and age < 18:\n",
    "        return \"14-17\"\n",
    "    if age >= 18 and age < 23:\n",
    "        return \"18-22\"\n",
    "    if age >= 23 and age < 29:\n",
    "        return \"23-28\"\n",
    "    if age >= 29 and age < 36:\n",
    "        return \"29-35\"\n",
    "    if age >= 36 and age < 46:\n",
    "        return \"36-45\"\n",
    "    if age >= 46 and age < 56:\n",
    "        return \"46-55\"\n",
    "    return \"56-63\"\n",
    "ag = ['14-17', '18-22', '23-28', '29-35', '36-45', '46-55', '56-63']\n",
    "ages['ages_group'] = ages.age.map(f_age)\n",
    "ages.ages_group.value_counts()"
   ]
  },
  {
   "cell_type": "code",
   "execution_count": 41,
   "id": "3918db40",
   "metadata": {
    "ExecuteTime": {
     "end_time": "2023-12-09T16:45:57.968415Z",
     "start_time": "2023-12-09T16:45:57.964091Z"
    }
   },
   "outputs": [],
   "source": [
    "import matplotlib.pyplot as plt"
   ]
  },
  {
   "cell_type": "code",
   "execution_count": 42,
   "id": "40185be8",
   "metadata": {
    "ExecuteTime": {
     "end_time": "2023-12-09T16:45:57.981695Z",
     "start_time": "2023-12-09T16:45:57.970417Z"
    }
   },
   "outputs": [],
   "source": [
    "def plot(cat, min_age=14, max_age=63):\n",
    "    print(\"Успешность при попытке попасть на собеседование.\")\n",
    "    print(f\"Сфера: {cat}\")\n",
    "    curr = ages[(ages.occupation == cat) & (ages.age >= min_age) & (ages.age <= max_age)]\n",
    "    gb = curr[['age', 'final_state']].groupby('age').mean()\n",
    "    # gb.plot.bar()\n",
    "    sns.barplot(x='age', y='final_state', hue='gender', data=curr)\n",
    "def info(cat, min_age, max_age):\n",
    "    curr = ages[ages.occupation == cat]\n",
    "    print(f'Отличается ли успех группы {min_age}-{max_age} от среднего?')\n",
    "    a = curr[(curr.age >= min_age) & (curr.age <= max_age)].final_state\n",
    "    b = curr[(curr.age < min_age) | (curr.age > max_age)].final_state\n",
    "    mean_a = a.mean()\n",
    "    mean_b = b.mean()\n",
    "    print(f\"Показатели лучшей группы: {mean_a};\\nПоказатели остальных: {mean_b}\")\n",
    "    alpha = mean_a - mean_b\n",
    "    se = ((a.std() ** 2) / len(a) + (b.std() ** 2) / len(b)) ** 0.5\n",
    "    print(f\"Стандартная ошибка среднего: {se}\")\n",
    "    t = alpha / se\n",
    "    print(f\"t-критерий: {t}\")\n",
    "    print(f\"Степени свободы: {len(a) + len(b) - 2}\")\n",
    "    if t < 1.6449:\n",
    "        print(\"p-уровень значимость больше 0.1\")\n",
    "        print(f\"Между успешностью группы {min_age}-{max_age} и ген. совокупности статистически значимых раличий нет\")\n",
    "    else:\n",
    "        if t < 1.96:\n",
    "            print(\"p-уровень значимость между 0.5 и 0.1\")\n",
    "        elif t < 2.5758:\n",
    "            print(\"p-уровень значимость между 0.01 и 0.5\")\n",
    "        else:\n",
    "            print(\"p-уровень значимости меньше 0.01\")\n",
    "        print(f\"Различия между успешностью группы {min_age}-{max_age} и ген. совокупностью статистически значимые\")"
   ]
  },
  {
   "cell_type": "code",
   "execution_count": 43,
   "id": "c4187744",
   "metadata": {
    "ExecuteTime": {
     "end_time": "2023-12-09T16:46:00.349011Z",
     "start_time": "2023-12-09T16:45:57.984269Z"
    }
   },
   "outputs": [
    {
     "name": "stdout",
     "output_type": "stream",
     "text": [
      "Успешность при попытке попасть на собеседование.\n",
      "Сфера: Менеджмент\n"
     ]
    },
    {
     "data": {
      "image/png": "[encoded data removed]",
      "text/plain": [
       "<Figure size 640x480 with 1 Axes>"
      ]
     },
     "metadata": {},
     "output_type": "display_data"
    }
   ],
   "source": [
    "plot('Менеджмент', 18, 32)"
   ]
  },
  {
   "cell_type": "code",
   "execution_count": 44,
   "id": "e3ac07ef",
   "metadata": {
    "ExecuteTime": {
     "end_time": "2023-12-09T16:46:00.435215Z",
     "start_time": "2023-12-09T16:46:00.349011Z"
    }
   },
   "outputs": [
    {
     "name": "stdout",
     "output_type": "stream",
     "text": [
      "Отличается ли успех группы 18-30 от среднего?\n",
      "Показатели лучшей группы: 0.7695178238240205;\n",
      "Показатели остальных: 0.6553093222055666\n",
      "Стандартная ошибка среднего: 0.0032220553973812353\n",
      "t-критерий: 35.445852889828714\n",
      "Степени свободы: 79913\n",
      "p-уровень значимости меньше 0.01\n",
      "Различия между успешностью группы 18-30 и ген. совокупностью статистически значимые\n"
     ]
    }
   ],
   "source": [
    "info('Менеджмент', 18, 30)"
   ]
  },
  {
   "cell_type": "markdown",
   "id": "1328c712",
   "metadata": {},
   "source": [
    "Вполне ожидаемый результат, ищут молодых и креативных специалистов"
   ]
  },
  {
   "cell_type": "code",
   "execution_count": 45,
   "id": "6bf60e46",
   "metadata": {
    "ExecuteTime": {
     "end_time": "2023-12-09T16:46:04.431842Z",
     "start_time": "2023-12-09T16:46:00.437634Z"
    }
   },
   "outputs": [
    {
     "name": "stdout",
     "output_type": "stream",
     "text": [
      "Успешность при попытке попасть на собеседование.\n",
      "Сфера: Сфера услуг\n"
     ]
    },
    {
     "data": {
      "image/png": "[encoded data removed]",
      "text/plain": [
       "<Figure size 640x480 with 1 Axes>"
      ]
     },
     "metadata": {},
     "output_type": "display_data"
    }
   ],
   "source": [
    "plot('Сфера услуг', 18, 41)"
   ]
  },
  {
   "cell_type": "code",
   "execution_count": 46,
   "id": "8bd1314c",
   "metadata": {
    "ExecuteTime": {
     "end_time": "2023-12-09T16:46:04.531858Z",
     "start_time": "2023-12-09T16:46:04.431842Z"
    }
   },
   "outputs": [
    {
     "name": "stdout",
     "output_type": "stream",
     "text": [
      "Отличается ли успех группы 19-40 от среднего?\n",
      "Показатели лучшей группы: 0.8397328881469115;\n",
      "Показатели остальных: 0.6853343184336904\n",
      "Стандартная ошибка среднего: 0.0032104748198094127\n",
      "t-критерий: 48.09212916436667\n",
      "Степени свободы: 84572\n",
      "p-уровень значимости меньше 0.01\n",
      "Различия между успешностью группы 19-40 и ген. совокупностью статистически значимые\n"
     ]
    }
   ],
   "source": [
    "info('Сфера услуг', 19, 40)"
   ]
  },
  {
   "cell_type": "markdown",
   "id": "396a4bd4",
   "metadata": {},
   "source": [
    "Поскольку образование для данных специальностей не очень нужно, то ожидаемо, что возраст не будет иметь сильного значение. Единственное ограничение состоит в том, что люди старше 40 не такие быстрые и выносливые для работы в сфере обслуживания или на специальностях, в которых требуется физ.сила."
   ]
  },
  {
   "cell_type": "code",
   "execution_count": 47,
   "id": "c224461b",
   "metadata": {
    "ExecuteTime": {
     "end_time": "2023-12-09T16:47:24.814514Z",
     "start_time": "2023-12-09T16:47:20.257001Z"
    }
   },
   "outputs": [
    {
     "name": "stdout",
     "output_type": "stream",
     "text": [
      "Успешность при попытке попасть на собеседование.\n",
      "Сфера: IT\n"
     ]
    },
    {
     "data": {
      "image/png": "[encoded data removed]",
      "text/plain": [
       "<Figure size 640x480 with 1 Axes>"
      ]
     },
     "metadata": {},
     "output_type": "display_data"
    }
   ],
   "source": [
    "plot('IT', 18, 55)"
   ]
  },
  {
   "cell_type": "markdown",
   "id": "be567b24",
   "metadata": {},
   "source": [
    "Очень крутые показатели для группы 40-50. Возможно это обусловлено тем, что молодые специалисты менее квалифицированы(мы видим, что очень мало заявок исходит от людей старше 40, мы можем сделать предположение о том, что это люди, которые очень хорошо разбираются в теме, как минимум потому что люди, которые не умеют работать с компьютером, врятли бы смогли оставить заявку). Молодые же специалисты могут быть выпускниками средних учебных заведений, что нравится далеко не всем работодателям. Можно попытаться рассмотреть данную ситуация в срезе образования и отдельных специальностей. Очень крутые показатели у женского пола возрастов 20-40, при том, что кол-во заявок от мужчин и женщин примерно одинаково. Эту ситуацию также можно рассмотреть поподробнее."
   ]
  },
  {
   "cell_type": "code",
   "execution_count": 54,
   "id": "113b1cf2",
   "metadata": {
    "ExecuteTime": {
     "end_time": "2023-12-09T16:53:42.405764Z",
     "start_time": "2023-12-09T16:53:42.350553Z"
    }
   },
   "outputs": [
    {
     "data": {
      "text/html": [
       "<div>\n",
       "<style scoped>\n",
       "    .dataframe tbody tr th:only-of-type {\n",
       "        vertical-align: middle;\n",
       "    }\n",
       "\n",
       "    .dataframe tbody tr th {\n",
       "        vertical-align: top;\n",
       "    }\n",
       "\n",
       "    .dataframe thead th {\n",
       "        text-align: right;\n",
       "    }\n",
       "</style>\n",
       "<table border=\"1\" class=\"dataframe\">\n",
       "  <thead>\n",
       "    <tr style=\"text-align: right;\">\n",
       "      <th></th>\n",
       "      <th>topic_id</th>\n",
       "      <th>topic_creation_date</th>\n",
       "      <th>initial_state</th>\n",
       "      <th>final_state</th>\n",
       "      <th>resume_id</th>\n",
       "      <th>resume_creation_date</th>\n",
       "      <th>profession</th>\n",
       "      <th>gender</th>\n",
       "      <th>year_of_birth</th>\n",
       "      <th>resume_region</th>\n",
       "      <th>...</th>\n",
       "      <th>vacancy_creation_date</th>\n",
       "      <th>vacancy_region</th>\n",
       "      <th>work_schedule.1</th>\n",
       "      <th>vacancy_employment_type</th>\n",
       "      <th>compensation_from</th>\n",
       "      <th>compensation_to</th>\n",
       "      <th>vacancy_skills_list</th>\n",
       "      <th>age</th>\n",
       "      <th>occupation</th>\n",
       "      <th>ages_group</th>\n",
       "    </tr>\n",
       "  </thead>\n",
       "  <tbody>\n",
       "    <tr>\n",
       "      <th>31985</th>\n",
       "      <td>33969c69941</td>\n",
       "      <td>2023-08-11</td>\n",
       "      <td>response</td>\n",
       "      <td>1</td>\n",
       "      <td>2058240kt</td>\n",
       "      <td>2023-08-11</td>\n",
       "      <td>Программист, разработчик</td>\n",
       "      <td>male</td>\n",
       "      <td>1976</td>\n",
       "      <td>Красноярский край</td>\n",
       "      <td>...</td>\n",
       "      <td>2023-08-07</td>\n",
       "      <td>Красноярский край</td>\n",
       "      <td>remote</td>\n",
       "      <td>part</td>\n",
       "      <td>35000.0</td>\n",
       "      <td>65000.0</td>\n",
       "      <td>[деловая переписка, работа с большим объемом и...</td>\n",
       "      <td>47</td>\n",
       "      <td>IT</td>\n",
       "      <td>46-55</td>\n",
       "    </tr>\n",
       "    <tr>\n",
       "      <th>31989</th>\n",
       "      <td>33412747741263</td>\n",
       "      <td>2023-07-02</td>\n",
       "      <td>response</td>\n",
       "      <td>0</td>\n",
       "      <td>8bk0t814</td>\n",
       "      <td>2018-01-26</td>\n",
       "      <td>Программист, разработчик</td>\n",
       "      <td>male</td>\n",
       "      <td>1972</td>\n",
       "      <td>Челябинская область</td>\n",
       "      <td>...</td>\n",
       "      <td>2023-06-14</td>\n",
       "      <td>Челябинская область</td>\n",
       "      <td>flexible</td>\n",
       "      <td>full</td>\n",
       "      <td>50000.0</td>\n",
       "      <td>NaN</td>\n",
       "      <td>[svn, ios, intellij idea, git, java, android, ...</td>\n",
       "      <td>51</td>\n",
       "      <td>IT</td>\n",
       "      <td>46-55</td>\n",
       "    </tr>\n",
       "    <tr>\n",
       "      <th>32046</th>\n",
       "      <td>333044cc996</td>\n",
       "      <td>2023-07-04</td>\n",
       "      <td>response</td>\n",
       "      <td>1</td>\n",
       "      <td>260k64kk</td>\n",
       "      <td>2013-07-21</td>\n",
       "      <td>Программист, разработчик</td>\n",
       "      <td>male</td>\n",
       "      <td>1971</td>\n",
       "      <td>Краснодарский край</td>\n",
       "      <td>...</td>\n",
       "      <td>2022-07-12</td>\n",
       "      <td>Нижегородская область</td>\n",
       "      <td>remote</td>\n",
       "      <td>full</td>\n",
       "      <td>160000.0</td>\n",
       "      <td>190000.0</td>\n",
       "      <td>[1с: предприятие, 1с программирование, удаленн...</td>\n",
       "      <td>52</td>\n",
       "      <td>IT</td>\n",
       "      <td>46-55</td>\n",
       "    </tr>\n",
       "    <tr>\n",
       "      <th>32061</th>\n",
       "      <td>33341230616c</td>\n",
       "      <td>2023-07-05</td>\n",
       "      <td>response</td>\n",
       "      <td>1</td>\n",
       "      <td>260k64kk</td>\n",
       "      <td>2013-07-21</td>\n",
       "      <td>Программист, разработчик</td>\n",
       "      <td>male</td>\n",
       "      <td>1971</td>\n",
       "      <td>Краснодарский край</td>\n",
       "      <td>...</td>\n",
       "      <td>2023-05-11</td>\n",
       "      <td>Москва</td>\n",
       "      <td>remote</td>\n",
       "      <td>full</td>\n",
       "      <td>180000.0</td>\n",
       "      <td>200000.0</td>\n",
       "      <td>[умение работать в условиях многозадачности, 1...</td>\n",
       "      <td>52</td>\n",
       "      <td>IT</td>\n",
       "      <td>46-55</td>\n",
       "    </tr>\n",
       "    <tr>\n",
       "      <th>32084</th>\n",
       "      <td>3364129604779</td>\n",
       "      <td>2023-07-25</td>\n",
       "      <td>invitation</td>\n",
       "      <td>1</td>\n",
       "      <td>24b0kt68</td>\n",
       "      <td>2013-04-02</td>\n",
       "      <td>Программист, разработчик</td>\n",
       "      <td>male</td>\n",
       "      <td>1978</td>\n",
       "      <td>Москва</td>\n",
       "      <td>...</td>\n",
       "      <td>2023-07-21</td>\n",
       "      <td>Москва</td>\n",
       "      <td>remote</td>\n",
       "      <td>full</td>\n",
       "      <td>150000.0</td>\n",
       "      <td>200000.0</td>\n",
       "      <td>[docker, jquery, css, git, php, html5]</td>\n",
       "      <td>45</td>\n",
       "      <td>IT</td>\n",
       "      <td>36-45</td>\n",
       "    </tr>\n",
       "    <tr>\n",
       "      <th>...</th>\n",
       "      <td>...</td>\n",
       "      <td>...</td>\n",
       "      <td>...</td>\n",
       "      <td>...</td>\n",
       "      <td>...</td>\n",
       "      <td>...</td>\n",
       "      <td>...</td>\n",
       "      <td>...</td>\n",
       "      <td>...</td>\n",
       "      <td>...</td>\n",
       "      <td>...</td>\n",
       "      <td>...</td>\n",
       "      <td>...</td>\n",
       "      <td>...</td>\n",
       "      <td>...</td>\n",
       "      <td>...</td>\n",
       "      <td>...</td>\n",
       "      <td>...</td>\n",
       "      <td>...</td>\n",
       "      <td>...</td>\n",
       "      <td>...</td>\n",
       "    </tr>\n",
       "    <tr>\n",
       "      <th>495438</th>\n",
       "      <td>33699699614412</td>\n",
       "      <td>2023-07-30</td>\n",
       "      <td>response</td>\n",
       "      <td>1</td>\n",
       "      <td>14614248</td>\n",
       "      <td>2011-07-22</td>\n",
       "      <td>Оператор ПК, оператор базы данных</td>\n",
       "      <td>male</td>\n",
       "      <td>1971</td>\n",
       "      <td>Самарская область</td>\n",
       "      <td>...</td>\n",
       "      <td>2023-07-28</td>\n",
       "      <td>Красноярский край</td>\n",
       "      <td>remote</td>\n",
       "      <td>full</td>\n",
       "      <td>35000.0</td>\n",
       "      <td>NaN</td>\n",
       "      <td>[деловая переписка, пользователь пк]</td>\n",
       "      <td>52</td>\n",
       "      <td>IT</td>\n",
       "      <td>46-55</td>\n",
       "    </tr>\n",
       "    <tr>\n",
       "      <th>495461</th>\n",
       "      <td>3412904309967</td>\n",
       "      <td>2023-06-06</td>\n",
       "      <td>response</td>\n",
       "      <td>1</td>\n",
       "      <td>160tb04tk</td>\n",
       "      <td>2022-01-17</td>\n",
       "      <td>Оператор ПК, оператор базы данных</td>\n",
       "      <td>female</td>\n",
       "      <td>1974</td>\n",
       "      <td>Новосибирская область</td>\n",
       "      <td>...</td>\n",
       "      <td>2023-05-24</td>\n",
       "      <td>Новосибирская область</td>\n",
       "      <td>flexible</td>\n",
       "      <td>part</td>\n",
       "      <td>NaN</td>\n",
       "      <td>70000.0</td>\n",
       "      <td>[работа в команде, грамотная речь]</td>\n",
       "      <td>49</td>\n",
       "      <td>IT</td>\n",
       "      <td>46-55</td>\n",
       "    </tr>\n",
       "    <tr>\n",
       "      <th>495472</th>\n",
       "      <td>33763412061412</td>\n",
       "      <td>2023-08-03</td>\n",
       "      <td>response</td>\n",
       "      <td>1</td>\n",
       "      <td>18t50k8b</td>\n",
       "      <td>2012-05-15</td>\n",
       "      <td>Оператор ПК, оператор базы данных</td>\n",
       "      <td>female</td>\n",
       "      <td>1979</td>\n",
       "      <td>Ленинградская область</td>\n",
       "      <td>...</td>\n",
       "      <td>2023-08-03</td>\n",
       "      <td>Санкт-Петербург</td>\n",
       "      <td>remote</td>\n",
       "      <td>part</td>\n",
       "      <td>NaN</td>\n",
       "      <td>370000.0</td>\n",
       "      <td>[консультирование клиентов по телефону, работа...</td>\n",
       "      <td>44</td>\n",
       "      <td>IT</td>\n",
       "      <td>36-45</td>\n",
       "    </tr>\n",
       "    <tr>\n",
       "      <th>495473</th>\n",
       "      <td>3412933969c97</td>\n",
       "      <td>2023-06-08</td>\n",
       "      <td>invitation</td>\n",
       "      <td>1</td>\n",
       "      <td>201850065</td>\n",
       "      <td>2023-06-04</td>\n",
       "      <td>Оператор ПК, оператор базы данных</td>\n",
       "      <td>female</td>\n",
       "      <td>1970</td>\n",
       "      <td>Санкт-Петербург</td>\n",
       "      <td>...</td>\n",
       "      <td>2023-05-26</td>\n",
       "      <td>Санкт-Петербург</td>\n",
       "      <td>full_day</td>\n",
       "      <td>full</td>\n",
       "      <td>30000.0</td>\n",
       "      <td>NaN</td>\n",
       "      <td>[ведение архива, проектная деятельность, бумаж...</td>\n",
       "      <td>53</td>\n",
       "      <td>IT</td>\n",
       "      <td>46-55</td>\n",
       "    </tr>\n",
       "    <tr>\n",
       "      <th>495475</th>\n",
       "      <td>b177967606</td>\n",
       "      <td>2023-08-30</td>\n",
       "      <td>response</td>\n",
       "      <td>1</td>\n",
       "      <td>18t50k8b</td>\n",
       "      <td>2012-05-15</td>\n",
       "      <td>Оператор ПК, оператор базы данных</td>\n",
       "      <td>female</td>\n",
       "      <td>1979</td>\n",
       "      <td>Ленинградская область</td>\n",
       "      <td>...</td>\n",
       "      <td>2023-02-19</td>\n",
       "      <td>Санкт-Петербург</td>\n",
       "      <td>remote</td>\n",
       "      <td>part</td>\n",
       "      <td>NaN</td>\n",
       "      <td>75000.0</td>\n",
       "      <td>[удаленная работа, пользователь пк, грамотная ...</td>\n",
       "      <td>44</td>\n",
       "      <td>IT</td>\n",
       "      <td>36-45</td>\n",
       "    </tr>\n",
       "  </tbody>\n",
       "</table>\n",
       "<p>2203 rows × 29 columns</p>\n",
       "</div>"
      ],
      "text/plain": [
       "              topic_id topic_creation_date initial_state  final_state  \\\n",
       "31985      33969c69941          2023-08-11      response            1   \n",
       "31989   33412747741263          2023-07-02      response            0   \n",
       "32046      333044cc996          2023-07-04      response            1   \n",
       "32061     33341230616c          2023-07-05      response            1   \n",
       "32084    3364129604779          2023-07-25    invitation            1   \n",
       "...                ...                 ...           ...          ...   \n",
       "495438  33699699614412          2023-07-30      response            1   \n",
       "495461   3412904309967          2023-06-06      response            1   \n",
       "495472  33763412061412          2023-08-03      response            1   \n",
       "495473   3412933969c97          2023-06-08    invitation            1   \n",
       "495475      b177967606          2023-08-30      response            1   \n",
       "\n",
       "        resume_id resume_creation_date                         profession  \\\n",
       "31985   2058240kt           2023-08-11           Программист, разработчик   \n",
       "31989    8bk0t814           2018-01-26           Программист, разработчик   \n",
       "32046    260k64kk           2013-07-21           Программист, разработчик   \n",
       "32061    260k64kk           2013-07-21           Программист, разработчик   \n",
       "32084    24b0kt68           2013-04-02           Программист, разработчик   \n",
       "...           ...                  ...                                ...   \n",
       "495438   14614248           2011-07-22  Оператор ПК, оператор базы данных   \n",
       "495461  160tb04tk           2022-01-17  Оператор ПК, оператор базы данных   \n",
       "495472   18t50k8b           2012-05-15  Оператор ПК, оператор базы данных   \n",
       "495473  201850065           2023-06-04  Оператор ПК, оператор базы данных   \n",
       "495475   18t50k8b           2012-05-15  Оператор ПК, оператор базы данных   \n",
       "\n",
       "        gender  year_of_birth          resume_region  ...  \\\n",
       "31985     male           1976      Красноярский край  ...   \n",
       "31989     male           1972    Челябинская область  ...   \n",
       "32046     male           1971     Краснодарский край  ...   \n",
       "32061     male           1971     Краснодарский край  ...   \n",
       "32084     male           1978                 Москва  ...   \n",
       "...        ...            ...                    ...  ...   \n",
       "495438    male           1971      Самарская область  ...   \n",
       "495461  female           1974  Новосибирская область  ...   \n",
       "495472  female           1979  Ленинградская область  ...   \n",
       "495473  female           1970        Санкт-Петербург  ...   \n",
       "495475  female           1979  Ленинградская область  ...   \n",
       "\n",
       "       vacancy_creation_date         vacancy_region work_schedule.1  \\\n",
       "31985             2023-08-07      Красноярский край          remote   \n",
       "31989             2023-06-14    Челябинская область        flexible   \n",
       "32046             2022-07-12  Нижегородская область          remote   \n",
       "32061             2023-05-11                 Москва          remote   \n",
       "32084             2023-07-21                 Москва          remote   \n",
       "...                      ...                    ...             ...   \n",
       "495438            2023-07-28      Красноярский край          remote   \n",
       "495461            2023-05-24  Новосибирская область        flexible   \n",
       "495472            2023-08-03        Санкт-Петербург          remote   \n",
       "495473            2023-05-26        Санкт-Петербург        full_day   \n",
       "495475            2023-02-19        Санкт-Петербург          remote   \n",
       "\n",
       "       vacancy_employment_type compensation_from compensation_to  \\\n",
       "31985                     part           35000.0         65000.0   \n",
       "31989                     full           50000.0             NaN   \n",
       "32046                     full          160000.0        190000.0   \n",
       "32061                     full          180000.0        200000.0   \n",
       "32084                     full          150000.0        200000.0   \n",
       "...                        ...               ...             ...   \n",
       "495438                    full           35000.0             NaN   \n",
       "495461                    part               NaN         70000.0   \n",
       "495472                    part               NaN        370000.0   \n",
       "495473                    full           30000.0             NaN   \n",
       "495475                    part               NaN         75000.0   \n",
       "\n",
       "                                      vacancy_skills_list age occupation  \\\n",
       "31985   [деловая переписка, работа с большим объемом и...  47         IT   \n",
       "31989   [svn, ios, intellij idea, git, java, android, ...  51         IT   \n",
       "32046   [1с: предприятие, 1с программирование, удаленн...  52         IT   \n",
       "32061   [умение работать в условиях многозадачности, 1...  52         IT   \n",
       "32084              [docker, jquery, css, git, php, html5]  45         IT   \n",
       "...                                                   ...  ..        ...   \n",
       "495438               [деловая переписка, пользователь пк]  52         IT   \n",
       "495461                 [работа в команде, грамотная речь]  49         IT   \n",
       "495472  [консультирование клиентов по телефону, работа...  44         IT   \n",
       "495473  [ведение архива, проектная деятельность, бумаж...  53         IT   \n",
       "495475  [удаленная работа, пользователь пк, грамотная ...  44         IT   \n",
       "\n",
       "       ages_group  \n",
       "31985       46-55  \n",
       "31989       46-55  \n",
       "32046       46-55  \n",
       "32061       46-55  \n",
       "32084       36-45  \n",
       "...           ...  \n",
       "495438      46-55  \n",
       "495461      46-55  \n",
       "495472      36-45  \n",
       "495473      46-55  \n",
       "495475      36-45  \n",
       "\n",
       "[2203 rows x 29 columns]"
      ]
     },
     "execution_count": 54,
     "metadata": {},
     "output_type": "execute_result"
    }
   ],
   "source": [
    "ages[(ages.age > 43) & (ages.occupation == 'IT')]"
   ]
  },
  {
   "cell_type": "code",
   "execution_count": 56,
   "id": "140d409b",
   "metadata": {
    "ExecuteTime": {
     "end_time": "2023-12-09T16:53:53.422771Z",
     "start_time": "2023-12-09T16:53:47.750308Z"
    }
   },
   "outputs": [
    {
     "name": "stdout",
     "output_type": "stream",
     "text": [
      "Успешность при попытке попасть на собеседование.\n",
      "Сфера: Инженерия/Промышленность\n"
     ]
    },
    {
     "data": {
      "image/png": "[encoded data removed]",
      "text/plain": [
       "<Figure size 640x480 with 1 Axes>"
      ]
     },
     "metadata": {},
     "output_type": "display_data"
    }
   ],
   "source": [
    "plot('Инженерия/Промышленность')"
   ]
  },
  {
   "cell_type": "markdown",
   "id": "7336d0a2",
   "metadata": {},
   "source": [
    "видим явную склонность к возрасту 20-40. Высокие показатели для несовершеннолетних мб из-за маленького числа заявок."
   ]
  },
  {
   "cell_type": "code",
   "execution_count": 61,
   "id": "24a17956",
   "metadata": {
    "ExecuteTime": {
     "end_time": "2023-12-09T16:56:07.084017Z",
     "start_time": "2023-12-09T16:56:07.023560Z"
    }
   },
   "outputs": [
    {
     "data": {
      "text/html": [
       "<div>\n",
       "<style scoped>\n",
       "    .dataframe tbody tr th:only-of-type {\n",
       "        vertical-align: middle;\n",
       "    }\n",
       "\n",
       "    .dataframe tbody tr th {\n",
       "        vertical-align: top;\n",
       "    }\n",
       "\n",
       "    .dataframe thead th {\n",
       "        text-align: right;\n",
       "    }\n",
       "</style>\n",
       "<table border=\"1\" class=\"dataframe\">\n",
       "  <thead>\n",
       "    <tr style=\"text-align: right;\">\n",
       "      <th></th>\n",
       "      <th>topic_id</th>\n",
       "      <th>topic_creation_date</th>\n",
       "      <th>initial_state</th>\n",
       "      <th>final_state</th>\n",
       "      <th>resume_id</th>\n",
       "      <th>resume_creation_date</th>\n",
       "      <th>profession</th>\n",
       "      <th>gender</th>\n",
       "      <th>year_of_birth</th>\n",
       "      <th>resume_region</th>\n",
       "      <th>...</th>\n",
       "      <th>vacancy_creation_date</th>\n",
       "      <th>vacancy_region</th>\n",
       "      <th>work_schedule.1</th>\n",
       "      <th>vacancy_employment_type</th>\n",
       "      <th>compensation_from</th>\n",
       "      <th>compensation_to</th>\n",
       "      <th>vacancy_skills_list</th>\n",
       "      <th>age</th>\n",
       "      <th>occupation</th>\n",
       "      <th>ages_group</th>\n",
       "    </tr>\n",
       "  </thead>\n",
       "  <tbody>\n",
       "    <tr>\n",
       "      <th>76854</th>\n",
       "      <td>33cc96c73412c</td>\n",
       "      <td>2023-07-20</td>\n",
       "      <td>invitation</td>\n",
       "      <td>1</td>\n",
       "      <td>202l8241</td>\n",
       "      <td>2023-06-16</td>\n",
       "      <td>Сварщик</td>\n",
       "      <td>male</td>\n",
       "      <td>2005</td>\n",
       "      <td>Томская область</td>\n",
       "      <td>...</td>\n",
       "      <td>2023-07-05</td>\n",
       "      <td>Томская область</td>\n",
       "      <td>full_day</td>\n",
       "      <td>full</td>\n",
       "      <td>50000.0</td>\n",
       "      <td>50000.0</td>\n",
       "      <td>[способность обучать других, сварочные работы,...</td>\n",
       "      <td>18</td>\n",
       "      <td>Инженерия/Промышленность</td>\n",
       "      <td>18-22</td>\n",
       "    </tr>\n",
       "    <tr>\n",
       "      <th>93583</th>\n",
       "      <td>3379397041</td>\n",
       "      <td>2023-08-05</td>\n",
       "      <td>response</td>\n",
       "      <td>0</td>\n",
       "      <td>20l55tf</td>\n",
       "      <td>2023-08-05</td>\n",
       "      <td>Сварщик</td>\n",
       "      <td>male</td>\n",
       "      <td>2009</td>\n",
       "      <td>Тверская область</td>\n",
       "      <td>...</td>\n",
       "      <td>2023-07-28</td>\n",
       "      <td>Тверская область</td>\n",
       "      <td>shift</td>\n",
       "      <td>full</td>\n",
       "      <td>70000.0</td>\n",
       "      <td>NaN</td>\n",
       "      <td>[чтение чертежей, владение полуавтоматической ...</td>\n",
       "      <td>14</td>\n",
       "      <td>Инженерия/Промышленность</td>\n",
       "      <td>14-17</td>\n",
       "    </tr>\n",
       "    <tr>\n",
       "      <th>93595</th>\n",
       "      <td>3379396977</td>\n",
       "      <td>2023-08-05</td>\n",
       "      <td>response</td>\n",
       "      <td>1</td>\n",
       "      <td>20l55tf</td>\n",
       "      <td>2023-08-05</td>\n",
       "      <td>Сварщик</td>\n",
       "      <td>male</td>\n",
       "      <td>2009</td>\n",
       "      <td>Тверская область</td>\n",
       "      <td>...</td>\n",
       "      <td>2023-07-17</td>\n",
       "      <td>Тверская область</td>\n",
       "      <td>full_day</td>\n",
       "      <td>full</td>\n",
       "      <td>70000.0</td>\n",
       "      <td>NaN</td>\n",
       "      <td>[None]</td>\n",
       "      <td>14</td>\n",
       "      <td>Инженерия/Промышленность</td>\n",
       "      <td>14-17</td>\n",
       "    </tr>\n",
       "    <tr>\n",
       "      <th>93648</th>\n",
       "      <td>339630c96697</td>\n",
       "      <td>2023-08-08</td>\n",
       "      <td>invitation</td>\n",
       "      <td>1</td>\n",
       "      <td>2055tk45k</td>\n",
       "      <td>2023-08-07</td>\n",
       "      <td>Сварщик</td>\n",
       "      <td>male</td>\n",
       "      <td>2005</td>\n",
       "      <td>Ростовская область</td>\n",
       "      <td>...</td>\n",
       "      <td>2023-07-20</td>\n",
       "      <td>Ростовская область</td>\n",
       "      <td>full_day</td>\n",
       "      <td>full</td>\n",
       "      <td>45000.0</td>\n",
       "      <td>NaN</td>\n",
       "      <td>[None]</td>\n",
       "      <td>18</td>\n",
       "      <td>Инженерия/Промышленность</td>\n",
       "      <td>18-22</td>\n",
       "    </tr>\n",
       "    <tr>\n",
       "      <th>93861</th>\n",
       "      <td>33696496711</td>\n",
       "      <td>2023-07-29</td>\n",
       "      <td>response</td>\n",
       "      <td>1</td>\n",
       "      <td>20bk4tt82</td>\n",
       "      <td>2023-07-06</td>\n",
       "      <td>Сварщик</td>\n",
       "      <td>male</td>\n",
       "      <td>2005</td>\n",
       "      <td>Астраханская область</td>\n",
       "      <td>...</td>\n",
       "      <td>2023-07-27</td>\n",
       "      <td>Астраханская область</td>\n",
       "      <td>shift</td>\n",
       "      <td>full</td>\n",
       "      <td>30800.0</td>\n",
       "      <td>0.0</td>\n",
       "      <td>[деловое общение, активные продажи, навыки про...</td>\n",
       "      <td>18</td>\n",
       "      <td>Инженерия/Промышленность</td>\n",
       "      <td>18-22</td>\n",
       "    </tr>\n",
       "    <tr>\n",
       "      <th>94039</th>\n",
       "      <td>33412c4c96613</td>\n",
       "      <td>2023-06-30</td>\n",
       "      <td>invitation</td>\n",
       "      <td>1</td>\n",
       "      <td>20b2b804k</td>\n",
       "      <td>2023-06-28</td>\n",
       "      <td>Сварщик</td>\n",
       "      <td>male</td>\n",
       "      <td>2005</td>\n",
       "      <td>Воронежская область</td>\n",
       "      <td>...</td>\n",
       "      <td>2023-06-15</td>\n",
       "      <td>Воронежская область</td>\n",
       "      <td>full_day</td>\n",
       "      <td>full</td>\n",
       "      <td>45000.0</td>\n",
       "      <td>0.0</td>\n",
       "      <td>[умение работать с клиентами, уверенный пользо...</td>\n",
       "      <td>18</td>\n",
       "      <td>Инженерия/Промышленность</td>\n",
       "      <td>18-22</td>\n",
       "    </tr>\n",
       "    <tr>\n",
       "      <th>94256</th>\n",
       "      <td>33903669669</td>\n",
       "      <td>2023-08-12</td>\n",
       "      <td>response</td>\n",
       "      <td>0</td>\n",
       "      <td>1tk2t4525</td>\n",
       "      <td>2023-02-28</td>\n",
       "      <td>Сварщик</td>\n",
       "      <td>male</td>\n",
       "      <td>2005</td>\n",
       "      <td>Московская область</td>\n",
       "      <td>...</td>\n",
       "      <td>2023-08-08</td>\n",
       "      <td>Московская область</td>\n",
       "      <td>full_day</td>\n",
       "      <td>full</td>\n",
       "      <td>80000.0</td>\n",
       "      <td>150000.0</td>\n",
       "      <td>[монтаж оборудования, сварочные работы, монтаж...</td>\n",
       "      <td>18</td>\n",
       "      <td>Инженерия/Промышленность</td>\n",
       "      <td>18-22</td>\n",
       "    </tr>\n",
       "    <tr>\n",
       "      <th>99875</th>\n",
       "      <td>3396b412c317</td>\n",
       "      <td>2023-08-08</td>\n",
       "      <td>invitation</td>\n",
       "      <td>1</td>\n",
       "      <td>1tt58k6l</td>\n",
       "      <td>2023-04-15</td>\n",
       "      <td>Сварщик</td>\n",
       "      <td>male</td>\n",
       "      <td>2005</td>\n",
       "      <td>Тверская область</td>\n",
       "      <td>...</td>\n",
       "      <td>2023-07-13</td>\n",
       "      <td>Тверская область</td>\n",
       "      <td>shift</td>\n",
       "      <td>full</td>\n",
       "      <td>55000.0</td>\n",
       "      <td>NaN</td>\n",
       "      <td>[усердность, опрятный внешний вид, сварка, раб...</td>\n",
       "      <td>18</td>\n",
       "      <td>Инженерия/Промышленность</td>\n",
       "      <td>18-22</td>\n",
       "    </tr>\n",
       "    <tr>\n",
       "      <th>174541</th>\n",
       "      <td>b14129641269641296</td>\n",
       "      <td>2023-08-27</td>\n",
       "      <td>response</td>\n",
       "      <td>1</td>\n",
       "      <td>1t856188k</td>\n",
       "      <td>2023-03-26</td>\n",
       "      <td>Оператор производственной линии</td>\n",
       "      <td>female</td>\n",
       "      <td>2007</td>\n",
       "      <td>Санкт-Петербург</td>\n",
       "      <td>...</td>\n",
       "      <td>2023-08-27</td>\n",
       "      <td>Санкт-Петербург</td>\n",
       "      <td>shift</td>\n",
       "      <td>part</td>\n",
       "      <td>94000.0</td>\n",
       "      <td>229000.0</td>\n",
       "      <td>[None]</td>\n",
       "      <td>16</td>\n",
       "      <td>Инженерия/Промышленность</td>\n",
       "      <td>14-17</td>\n",
       "    </tr>\n",
       "    <tr>\n",
       "      <th>174551</th>\n",
       "      <td>3301c970412c</td>\n",
       "      <td>2023-06-14</td>\n",
       "      <td>response</td>\n",
       "      <td>1</td>\n",
       "      <td>1t856188k</td>\n",
       "      <td>2023-03-26</td>\n",
       "      <td>Оператор производственной линии</td>\n",
       "      <td>female</td>\n",
       "      <td>2007</td>\n",
       "      <td>Санкт-Петербург</td>\n",
       "      <td>...</td>\n",
       "      <td>2023-05-03</td>\n",
       "      <td>Санкт-Петербург</td>\n",
       "      <td>flexible</td>\n",
       "      <td>full</td>\n",
       "      <td>34000.0</td>\n",
       "      <td>50000.0</td>\n",
       "      <td>[None]</td>\n",
       "      <td>16</td>\n",
       "      <td>Инженерия/Промышленность</td>\n",
       "      <td>14-17</td>\n",
       "    </tr>\n",
       "    <tr>\n",
       "      <th>193550</th>\n",
       "      <td>33c39c79614</td>\n",
       "      <td>2023-07-19</td>\n",
       "      <td>response</td>\n",
       "      <td>1</td>\n",
       "      <td>20fk0b26</td>\n",
       "      <td>2023-05-23</td>\n",
       "      <td>Инженер-конструктор, инженер-проектировщик</td>\n",
       "      <td>male</td>\n",
       "      <td>2005</td>\n",
       "      <td>Москва</td>\n",
       "      <td>...</td>\n",
       "      <td>2023-07-17</td>\n",
       "      <td>Москва</td>\n",
       "      <td>flexible</td>\n",
       "      <td>part</td>\n",
       "      <td>NaN</td>\n",
       "      <td>115000.0</td>\n",
       "      <td>[телефонные переговоры, деловое общение, умени...</td>\n",
       "      <td>18</td>\n",
       "      <td>Инженерия/Промышленность</td>\n",
       "      <td>18-22</td>\n",
       "    </tr>\n",
       "    <tr>\n",
       "      <th>194198</th>\n",
       "      <td>b01131104</td>\n",
       "      <td>2023-08-19</td>\n",
       "      <td>response</td>\n",
       "      <td>1</td>\n",
       "      <td>2046856b4</td>\n",
       "      <td>2023-07-22</td>\n",
       "      <td>Оператор производственной линии</td>\n",
       "      <td>female</td>\n",
       "      <td>2005</td>\n",
       "      <td>Ростовская область</td>\n",
       "      <td>...</td>\n",
       "      <td>2023-08-17</td>\n",
       "      <td>Ростовская область</td>\n",
       "      <td>remote</td>\n",
       "      <td>part</td>\n",
       "      <td>60000.0</td>\n",
       "      <td>80000.0</td>\n",
       "      <td>[None]</td>\n",
       "      <td>18</td>\n",
       "      <td>Инженерия/Промышленность</td>\n",
       "      <td>18-22</td>\n",
       "    </tr>\n",
       "    <tr>\n",
       "      <th>194202</th>\n",
       "      <td>b011304120c</td>\n",
       "      <td>2023-08-19</td>\n",
       "      <td>response</td>\n",
       "      <td>1</td>\n",
       "      <td>2046856b4</td>\n",
       "      <td>2023-07-22</td>\n",
       "      <td>Оператор производственной линии</td>\n",
       "      <td>female</td>\n",
       "      <td>2005</td>\n",
       "      <td>Ростовская область</td>\n",
       "      <td>...</td>\n",
       "      <td>2023-08-18</td>\n",
       "      <td>Ростовская область</td>\n",
       "      <td>remote</td>\n",
       "      <td>part</td>\n",
       "      <td>15000.0</td>\n",
       "      <td>33000.0</td>\n",
       "      <td>[четкая дикция, проведение опросов общественно...</td>\n",
       "      <td>18</td>\n",
       "      <td>Инженерия/Промышленность</td>\n",
       "      <td>18-22</td>\n",
       "    </tr>\n",
       "    <tr>\n",
       "      <th>208198</th>\n",
       "      <td>336341244369</td>\n",
       "      <td>2023-07-25</td>\n",
       "      <td>invitation</td>\n",
       "      <td>1</td>\n",
       "      <td>2046682tk</td>\n",
       "      <td>2023-07-21</td>\n",
       "      <td>Сварщик</td>\n",
       "      <td>male</td>\n",
       "      <td>2005</td>\n",
       "      <td>Республика Крым</td>\n",
       "      <td>...</td>\n",
       "      <td>2023-07-03</td>\n",
       "      <td>Краснодарский край</td>\n",
       "      <td>full_day</td>\n",
       "      <td>full</td>\n",
       "      <td>80000.0</td>\n",
       "      <td>130000.0</td>\n",
       "      <td>[None]</td>\n",
       "      <td>18</td>\n",
       "      <td>Инженерия/Промышленность</td>\n",
       "      <td>18-22</td>\n",
       "    </tr>\n",
       "    <tr>\n",
       "      <th>208239</th>\n",
       "      <td>3b96690796</td>\n",
       "      <td>2023-07-17</td>\n",
       "      <td>response</td>\n",
       "      <td>1</td>\n",
       "      <td>14kkb056k</td>\n",
       "      <td>2021-03-20</td>\n",
       "      <td>Сварщик</td>\n",
       "      <td>male</td>\n",
       "      <td>2005</td>\n",
       "      <td>Оренбургская область</td>\n",
       "      <td>...</td>\n",
       "      <td>2023-07-12</td>\n",
       "      <td>Оренбургская область</td>\n",
       "      <td>flexible</td>\n",
       "      <td>part</td>\n",
       "      <td>78000.0</td>\n",
       "      <td>138200.0</td>\n",
       "      <td>[None]</td>\n",
       "      <td>18</td>\n",
       "      <td>Инженерия/Промышленность</td>\n",
       "      <td>18-22</td>\n",
       "    </tr>\n",
       "    <tr>\n",
       "      <th>208244</th>\n",
       "      <td>33c1469641209</td>\n",
       "      <td>2023-07-18</td>\n",
       "      <td>response</td>\n",
       "      <td>0</td>\n",
       "      <td>14kkb056k</td>\n",
       "      <td>2021-03-20</td>\n",
       "      <td>Сварщик</td>\n",
       "      <td>male</td>\n",
       "      <td>2005</td>\n",
       "      <td>Оренбургская область</td>\n",
       "      <td>...</td>\n",
       "      <td>2023-07-17</td>\n",
       "      <td>Оренбургская область</td>\n",
       "      <td>flexible</td>\n",
       "      <td>full</td>\n",
       "      <td>25000.0</td>\n",
       "      <td>NaN</td>\n",
       "      <td>[интернет-реклама, управление отношениями с кл...</td>\n",
       "      <td>18</td>\n",
       "      <td>Инженерия/Промышленность</td>\n",
       "      <td>18-22</td>\n",
       "    </tr>\n",
       "    <tr>\n",
       "      <th>219169</th>\n",
       "      <td>3369396c9966</td>\n",
       "      <td>2023-07-29</td>\n",
       "      <td>response</td>\n",
       "      <td>1</td>\n",
       "      <td>2024lkb8</td>\n",
       "      <td>2023-06-15</td>\n",
       "      <td>Инженер-конструктор, инженер-проектировщик</td>\n",
       "      <td>female</td>\n",
       "      <td>2006</td>\n",
       "      <td>Москва</td>\n",
       "      <td>...</td>\n",
       "      <td>2023-07-24</td>\n",
       "      <td>Москва</td>\n",
       "      <td>remote</td>\n",
       "      <td>probation</td>\n",
       "      <td>25000.0</td>\n",
       "      <td>0.0</td>\n",
       "      <td>[power bi, аналитический склад ума, работа в к...</td>\n",
       "      <td>17</td>\n",
       "      <td>Инженерия/Промышленность</td>\n",
       "      <td>14-17</td>\n",
       "    </tr>\n",
       "    <tr>\n",
       "      <th>227764</th>\n",
       "      <td>3341213c9c77</td>\n",
       "      <td>2023-06-28</td>\n",
       "      <td>response</td>\n",
       "      <td>1</td>\n",
       "      <td>186225840</td>\n",
       "      <td>2022-07-22</td>\n",
       "      <td>Технолог</td>\n",
       "      <td>female</td>\n",
       "      <td>2005</td>\n",
       "      <td>Новосибирская область</td>\n",
       "      <td>...</td>\n",
       "      <td>2022-10-17</td>\n",
       "      <td>Новосибирская область</td>\n",
       "      <td>shift</td>\n",
       "      <td>full</td>\n",
       "      <td>37000.0</td>\n",
       "      <td>45000.0</td>\n",
       "      <td>[None]</td>\n",
       "      <td>18</td>\n",
       "      <td>Инженерия/Промышленность</td>\n",
       "      <td>18-22</td>\n",
       "    </tr>\n",
       "    <tr>\n",
       "      <th>227765</th>\n",
       "      <td>33412341260141296</td>\n",
       "      <td>2023-06-29</td>\n",
       "      <td>response</td>\n",
       "      <td>1</td>\n",
       "      <td>186225840</td>\n",
       "      <td>2022-07-22</td>\n",
       "      <td>Технолог</td>\n",
       "      <td>female</td>\n",
       "      <td>2005</td>\n",
       "      <td>Новосибирская область</td>\n",
       "      <td>...</td>\n",
       "      <td>2023-06-28</td>\n",
       "      <td>Новосибирская область</td>\n",
       "      <td>full_day</td>\n",
       "      <td>full</td>\n",
       "      <td>40000.0</td>\n",
       "      <td>80000.0</td>\n",
       "      <td>[быстрое обучение, внимательность к мелочам, д...</td>\n",
       "      <td>18</td>\n",
       "      <td>Инженерия/Промышленность</td>\n",
       "      <td>18-22</td>\n",
       "    </tr>\n",
       "    <tr>\n",
       "      <th>249673</th>\n",
       "      <td>334124470c412c</td>\n",
       "      <td>2023-06-29</td>\n",
       "      <td>response</td>\n",
       "      <td>1</td>\n",
       "      <td>1b1f1tt5</td>\n",
       "      <td>2020-03-01</td>\n",
       "      <td>Сварщик</td>\n",
       "      <td>male</td>\n",
       "      <td>2005</td>\n",
       "      <td>Тверская область</td>\n",
       "      <td>...</td>\n",
       "      <td>2023-06-15</td>\n",
       "      <td>Тверская область</td>\n",
       "      <td>remote</td>\n",
       "      <td>full</td>\n",
       "      <td>38000.0</td>\n",
       "      <td>NaN</td>\n",
       "      <td>[None]</td>\n",
       "      <td>18</td>\n",
       "      <td>Инженерия/Промышленность</td>\n",
       "      <td>18-22</td>\n",
       "    </tr>\n",
       "    <tr>\n",
       "      <th>257835</th>\n",
       "      <td>330c011146</td>\n",
       "      <td>2023-06-16</td>\n",
       "      <td>response</td>\n",
       "      <td>1</td>\n",
       "      <td>201ttktk5</td>\n",
       "      <td>2023-06-06</td>\n",
       "      <td>Инженер-конструктор, инженер-проектировщик</td>\n",
       "      <td>male</td>\n",
       "      <td>2005</td>\n",
       "      <td>Москва</td>\n",
       "      <td>...</td>\n",
       "      <td>2023-06-12</td>\n",
       "      <td>Москва</td>\n",
       "      <td>flexible</td>\n",
       "      <td>part</td>\n",
       "      <td>NaN</td>\n",
       "      <td>115000.0</td>\n",
       "      <td>[умение общаться с людьми, терпение, доставка ...</td>\n",
       "      <td>18</td>\n",
       "      <td>Инженерия/Промышленность</td>\n",
       "      <td>18-22</td>\n",
       "    </tr>\n",
       "    <tr>\n",
       "      <th>344702</th>\n",
       "      <td>b096310994</td>\n",
       "      <td>2023-08-24</td>\n",
       "      <td>invitation</td>\n",
       "      <td>1</td>\n",
       "      <td>205640tk1</td>\n",
       "      <td>2023-08-08</td>\n",
       "      <td>Оператор производственной линии</td>\n",
       "      <td>male</td>\n",
       "      <td>2005</td>\n",
       "      <td>Новосибирская область</td>\n",
       "      <td>...</td>\n",
       "      <td>2023-05-15</td>\n",
       "      <td>Новосибирская область</td>\n",
       "      <td>shift</td>\n",
       "      <td>full</td>\n",
       "      <td>36000.0</td>\n",
       "      <td>NaN</td>\n",
       "      <td>[None]</td>\n",
       "      <td>18</td>\n",
       "      <td>Инженерия/Промышленность</td>\n",
       "      <td>18-22</td>\n",
       "    </tr>\n",
       "    <tr>\n",
       "      <th>345958</th>\n",
       "      <td>b079969963</td>\n",
       "      <td>2023-08-24</td>\n",
       "      <td>response</td>\n",
       "      <td>1</td>\n",
       "      <td>2064tbb08</td>\n",
       "      <td>2023-08-24</td>\n",
       "      <td>Оператор производственной линии</td>\n",
       "      <td>female</td>\n",
       "      <td>2005</td>\n",
       "      <td>Республика Татарстан</td>\n",
       "      <td>...</td>\n",
       "      <td>2023-08-04</td>\n",
       "      <td>Республика Башкортостан</td>\n",
       "      <td>remote</td>\n",
       "      <td>full</td>\n",
       "      <td>30000.0</td>\n",
       "      <td>45000.0</td>\n",
       "      <td>[деловая переписка, деловое общение, работа в ...</td>\n",
       "      <td>18</td>\n",
       "      <td>Инженерия/Промышленность</td>\n",
       "      <td>18-22</td>\n",
       "    </tr>\n",
       "    <tr>\n",
       "      <th>345992</th>\n",
       "      <td>33c966c49c1</td>\n",
       "      <td>2023-07-22</td>\n",
       "      <td>response</td>\n",
       "      <td>1</td>\n",
       "      <td>2046856b4</td>\n",
       "      <td>2023-07-22</td>\n",
       "      <td>Оператор производственной линии</td>\n",
       "      <td>female</td>\n",
       "      <td>2005</td>\n",
       "      <td>Ростовская область</td>\n",
       "      <td>...</td>\n",
       "      <td>2023-06-27</td>\n",
       "      <td>Краснодарский край</td>\n",
       "      <td>remote</td>\n",
       "      <td>part</td>\n",
       "      <td>25000.0</td>\n",
       "      <td>35000.0</td>\n",
       "      <td>[проведение опросов общественного мнения, поль...</td>\n",
       "      <td>18</td>\n",
       "      <td>Инженерия/Промышленность</td>\n",
       "      <td>18-22</td>\n",
       "    </tr>\n",
       "    <tr>\n",
       "      <th>367155</th>\n",
       "      <td>3b743967412412</td>\n",
       "      <td>2023-07-14</td>\n",
       "      <td>invitation</td>\n",
       "      <td>1</td>\n",
       "      <td>20b6250k5</td>\n",
       "      <td>2023-07-04</td>\n",
       "      <td>Машинист</td>\n",
       "      <td>male</td>\n",
       "      <td>2005</td>\n",
       "      <td>Липецкая область</td>\n",
       "      <td>...</td>\n",
       "      <td>2023-04-10</td>\n",
       "      <td>Липецкая область</td>\n",
       "      <td>full_day</td>\n",
       "      <td>full</td>\n",
       "      <td>80000.0</td>\n",
       "      <td>80000.0</td>\n",
       "      <td>[перевозки опасных грузов, водительское удосто...</td>\n",
       "      <td>18</td>\n",
       "      <td>Инженерия/Промышленность</td>\n",
       "      <td>18-22</td>\n",
       "    </tr>\n",
       "    <tr>\n",
       "      <th>490292</th>\n",
       "      <td>330c63711c</td>\n",
       "      <td>2023-06-17</td>\n",
       "      <td>response</td>\n",
       "      <td>0</td>\n",
       "      <td>1tb5b86t5</td>\n",
       "      <td>2022-12-15</td>\n",
       "      <td>Сервисный инженер, инженер-механик</td>\n",
       "      <td>male</td>\n",
       "      <td>2006</td>\n",
       "      <td>Санкт-Петербург</td>\n",
       "      <td>...</td>\n",
       "      <td>2023-06-15</td>\n",
       "      <td>Санкт-Петербург</td>\n",
       "      <td>full_day</td>\n",
       "      <td>full</td>\n",
       "      <td>25000.0</td>\n",
       "      <td>35000.0</td>\n",
       "      <td>[None]</td>\n",
       "      <td>17</td>\n",
       "      <td>Инженерия/Промышленность</td>\n",
       "      <td>14-17</td>\n",
       "    </tr>\n",
       "    <tr>\n",
       "      <th>490488</th>\n",
       "      <td>341296794412709</td>\n",
       "      <td>2023-06-05</td>\n",
       "      <td>response</td>\n",
       "      <td>1</td>\n",
       "      <td>201t20865</td>\n",
       "      <td>2023-06-05</td>\n",
       "      <td>Сервисный инженер, инженер-механик</td>\n",
       "      <td>female</td>\n",
       "      <td>2006</td>\n",
       "      <td>Москва</td>\n",
       "      <td>...</td>\n",
       "      <td>2023-06-03</td>\n",
       "      <td>Московская область</td>\n",
       "      <td>remote</td>\n",
       "      <td>full</td>\n",
       "      <td>26000.0</td>\n",
       "      <td>40000.0</td>\n",
       "      <td>[деловая переписка, деловое общение, работа в ...</td>\n",
       "      <td>17</td>\n",
       "      <td>Инженерия/Промышленность</td>\n",
       "      <td>14-17</td>\n",
       "    </tr>\n",
       "  </tbody>\n",
       "</table>\n",
       "<p>27 rows × 29 columns</p>\n",
       "</div>"
      ],
      "text/plain": [
       "                  topic_id topic_creation_date initial_state  final_state  \\\n",
       "76854        33cc96c73412c          2023-07-20    invitation            1   \n",
       "93583           3379397041          2023-08-05      response            0   \n",
       "93595           3379396977          2023-08-05      response            1   \n",
       "93648         339630c96697          2023-08-08    invitation            1   \n",
       "93861          33696496711          2023-07-29      response            1   \n",
       "94039        33412c4c96613          2023-06-30    invitation            1   \n",
       "94256          33903669669          2023-08-12      response            0   \n",
       "99875         3396b412c317          2023-08-08    invitation            1   \n",
       "174541  b14129641269641296          2023-08-27      response            1   \n",
       "174551        3301c970412c          2023-06-14      response            1   \n",
       "193550         33c39c79614          2023-07-19      response            1   \n",
       "194198           b01131104          2023-08-19      response            1   \n",
       "194202         b011304120c          2023-08-19      response            1   \n",
       "208198        336341244369          2023-07-25    invitation            1   \n",
       "208239          3b96690796          2023-07-17      response            1   \n",
       "208244       33c1469641209          2023-07-18      response            0   \n",
       "219169        3369396c9966          2023-07-29      response            1   \n",
       "227764        3341213c9c77          2023-06-28      response            1   \n",
       "227765   33412341260141296          2023-06-29      response            1   \n",
       "249673      334124470c412c          2023-06-29      response            1   \n",
       "257835          330c011146          2023-06-16      response            1   \n",
       "344702          b096310994          2023-08-24    invitation            1   \n",
       "345958          b079969963          2023-08-24      response            1   \n",
       "345992         33c966c49c1          2023-07-22      response            1   \n",
       "367155      3b743967412412          2023-07-14    invitation            1   \n",
       "490292          330c63711c          2023-06-17      response            0   \n",
       "490488     341296794412709          2023-06-05      response            1   \n",
       "\n",
       "        resume_id resume_creation_date  \\\n",
       "76854    202l8241           2023-06-16   \n",
       "93583     20l55tf           2023-08-05   \n",
       "93595     20l55tf           2023-08-05   \n",
       "93648   2055tk45k           2023-08-07   \n",
       "93861   20bk4tt82           2023-07-06   \n",
       "94039   20b2b804k           2023-06-28   \n",
       "94256   1tk2t4525           2023-02-28   \n",
       "99875    1tt58k6l           2023-04-15   \n",
       "174541  1t856188k           2023-03-26   \n",
       "174551  1t856188k           2023-03-26   \n",
       "193550   20fk0b26           2023-05-23   \n",
       "194198  2046856b4           2023-07-22   \n",
       "194202  2046856b4           2023-07-22   \n",
       "208198  2046682tk           2023-07-21   \n",
       "208239  14kkb056k           2021-03-20   \n",
       "208244  14kkb056k           2021-03-20   \n",
       "219169   2024lkb8           2023-06-15   \n",
       "227764  186225840           2022-07-22   \n",
       "227765  186225840           2022-07-22   \n",
       "249673   1b1f1tt5           2020-03-01   \n",
       "257835  201ttktk5           2023-06-06   \n",
       "344702  205640tk1           2023-08-08   \n",
       "345958  2064tbb08           2023-08-24   \n",
       "345992  2046856b4           2023-07-22   \n",
       "367155  20b6250k5           2023-07-04   \n",
       "490292  1tb5b86t5           2022-12-15   \n",
       "490488  201t20865           2023-06-05   \n",
       "\n",
       "                                        profession  gender  year_of_birth  \\\n",
       "76854                                      Сварщик    male           2005   \n",
       "93583                                      Сварщик    male           2009   \n",
       "93595                                      Сварщик    male           2009   \n",
       "93648                                      Сварщик    male           2005   \n",
       "93861                                      Сварщик    male           2005   \n",
       "94039                                      Сварщик    male           2005   \n",
       "94256                                      Сварщик    male           2005   \n",
       "99875                                      Сварщик    male           2005   \n",
       "174541             Оператор производственной линии  female           2007   \n",
       "174551             Оператор производственной линии  female           2007   \n",
       "193550  Инженер-конструктор, инженер-проектировщик    male           2005   \n",
       "194198             Оператор производственной линии  female           2005   \n",
       "194202             Оператор производственной линии  female           2005   \n",
       "208198                                     Сварщик    male           2005   \n",
       "208239                                     Сварщик    male           2005   \n",
       "208244                                     Сварщик    male           2005   \n",
       "219169  Инженер-конструктор, инженер-проектировщик  female           2006   \n",
       "227764                                    Технолог  female           2005   \n",
       "227765                                    Технолог  female           2005   \n",
       "249673                                     Сварщик    male           2005   \n",
       "257835  Инженер-конструктор, инженер-проектировщик    male           2005   \n",
       "344702             Оператор производственной линии    male           2005   \n",
       "345958             Оператор производственной линии  female           2005   \n",
       "345992             Оператор производственной линии  female           2005   \n",
       "367155                                    Машинист    male           2005   \n",
       "490292          Сервисный инженер, инженер-механик    male           2006   \n",
       "490488          Сервисный инженер, инженер-механик  female           2006   \n",
       "\n",
       "                resume_region  ... vacancy_creation_date  \\\n",
       "76854         Томская область  ...            2023-07-05   \n",
       "93583        Тверская область  ...            2023-07-28   \n",
       "93595        Тверская область  ...            2023-07-17   \n",
       "93648      Ростовская область  ...            2023-07-20   \n",
       "93861    Астраханская область  ...            2023-07-27   \n",
       "94039     Воронежская область  ...            2023-06-15   \n",
       "94256      Московская область  ...            2023-08-08   \n",
       "99875        Тверская область  ...            2023-07-13   \n",
       "174541        Санкт-Петербург  ...            2023-08-27   \n",
       "174551        Санкт-Петербург  ...            2023-05-03   \n",
       "193550                 Москва  ...            2023-07-17   \n",
       "194198     Ростовская область  ...            2023-08-17   \n",
       "194202     Ростовская область  ...            2023-08-18   \n",
       "208198        Республика Крым  ...            2023-07-03   \n",
       "208239   Оренбургская область  ...            2023-07-12   \n",
       "208244   Оренбургская область  ...            2023-07-17   \n",
       "219169                 Москва  ...            2023-07-24   \n",
       "227764  Новосибирская область  ...            2022-10-17   \n",
       "227765  Новосибирская область  ...            2023-06-28   \n",
       "249673       Тверская область  ...            2023-06-15   \n",
       "257835                 Москва  ...            2023-06-12   \n",
       "344702  Новосибирская область  ...            2023-05-15   \n",
       "345958   Республика Татарстан  ...            2023-08-04   \n",
       "345992     Ростовская область  ...            2023-06-27   \n",
       "367155       Липецкая область  ...            2023-04-10   \n",
       "490292        Санкт-Петербург  ...            2023-06-15   \n",
       "490488                 Москва  ...            2023-06-03   \n",
       "\n",
       "                 vacancy_region work_schedule.1 vacancy_employment_type  \\\n",
       "76854           Томская область        full_day                    full   \n",
       "93583          Тверская область           shift                    full   \n",
       "93595          Тверская область        full_day                    full   \n",
       "93648        Ростовская область        full_day                    full   \n",
       "93861      Астраханская область           shift                    full   \n",
       "94039       Воронежская область        full_day                    full   \n",
       "94256        Московская область        full_day                    full   \n",
       "99875          Тверская область           shift                    full   \n",
       "174541          Санкт-Петербург           shift                    part   \n",
       "174551          Санкт-Петербург        flexible                    full   \n",
       "193550                   Москва        flexible                    part   \n",
       "194198       Ростовская область          remote                    part   \n",
       "194202       Ростовская область          remote                    part   \n",
       "208198       Краснодарский край        full_day                    full   \n",
       "208239     Оренбургская область        flexible                    part   \n",
       "208244     Оренбургская область        flexible                    full   \n",
       "219169                   Москва          remote               probation   \n",
       "227764    Новосибирская область           shift                    full   \n",
       "227765    Новосибирская область        full_day                    full   \n",
       "249673         Тверская область          remote                    full   \n",
       "257835                   Москва        flexible                    part   \n",
       "344702    Новосибирская область           shift                    full   \n",
       "345958  Республика Башкортостан          remote                    full   \n",
       "345992       Краснодарский край          remote                    part   \n",
       "367155         Липецкая область        full_day                    full   \n",
       "490292          Санкт-Петербург        full_day                    full   \n",
       "490488       Московская область          remote                    full   \n",
       "\n",
       "       compensation_from compensation_to  \\\n",
       "76854            50000.0         50000.0   \n",
       "93583            70000.0             NaN   \n",
       "93595            70000.0             NaN   \n",
       "93648            45000.0             NaN   \n",
       "93861            30800.0             0.0   \n",
       "94039            45000.0             0.0   \n",
       "94256            80000.0        150000.0   \n",
       "99875            55000.0             NaN   \n",
       "174541           94000.0        229000.0   \n",
       "174551           34000.0         50000.0   \n",
       "193550               NaN        115000.0   \n",
       "194198           60000.0         80000.0   \n",
       "194202           15000.0         33000.0   \n",
       "208198           80000.0        130000.0   \n",
       "208239           78000.0        138200.0   \n",
       "208244           25000.0             NaN   \n",
       "219169           25000.0             0.0   \n",
       "227764           37000.0         45000.0   \n",
       "227765           40000.0         80000.0   \n",
       "249673           38000.0             NaN   \n",
       "257835               NaN        115000.0   \n",
       "344702           36000.0             NaN   \n",
       "345958           30000.0         45000.0   \n",
       "345992           25000.0         35000.0   \n",
       "367155           80000.0         80000.0   \n",
       "490292           25000.0         35000.0   \n",
       "490488           26000.0         40000.0   \n",
       "\n",
       "                                      vacancy_skills_list age  \\\n",
       "76854   [способность обучать других, сварочные работы,...  18   \n",
       "93583   [чтение чертежей, владение полуавтоматической ...  14   \n",
       "93595                                              [None]  14   \n",
       "93648                                              [None]  18   \n",
       "93861   [деловое общение, активные продажи, навыки про...  18   \n",
       "94039   [умение работать с клиентами, уверенный пользо...  18   \n",
       "94256   [монтаж оборудования, сварочные работы, монтаж...  18   \n",
       "99875   [усердность, опрятный внешний вид, сварка, раб...  18   \n",
       "174541                                             [None]  16   \n",
       "174551                                             [None]  16   \n",
       "193550  [телефонные переговоры, деловое общение, умени...  18   \n",
       "194198                                             [None]  18   \n",
       "194202  [четкая дикция, проведение опросов общественно...  18   \n",
       "208198                                             [None]  18   \n",
       "208239                                             [None]  18   \n",
       "208244  [интернет-реклама, управление отношениями с кл...  18   \n",
       "219169  [power bi, аналитический склад ума, работа в к...  17   \n",
       "227764                                             [None]  18   \n",
       "227765  [быстрое обучение, внимательность к мелочам, д...  18   \n",
       "249673                                             [None]  18   \n",
       "257835  [умение общаться с людьми, терпение, доставка ...  18   \n",
       "344702                                             [None]  18   \n",
       "345958  [деловая переписка, деловое общение, работа в ...  18   \n",
       "345992  [проведение опросов общественного мнения, поль...  18   \n",
       "367155  [перевозки опасных грузов, водительское удосто...  18   \n",
       "490292                                             [None]  17   \n",
       "490488  [деловая переписка, деловое общение, работа в ...  17   \n",
       "\n",
       "                      occupation ages_group  \n",
       "76854   Инженерия/Промышленность      18-22  \n",
       "93583   Инженерия/Промышленность      14-17  \n",
       "93595   Инженерия/Промышленность      14-17  \n",
       "93648   Инженерия/Промышленность      18-22  \n",
       "93861   Инженерия/Промышленность      18-22  \n",
       "94039   Инженерия/Промышленность      18-22  \n",
       "94256   Инженерия/Промышленность      18-22  \n",
       "99875   Инженерия/Промышленность      18-22  \n",
       "174541  Инженерия/Промышленность      14-17  \n",
       "174551  Инженерия/Промышленность      14-17  \n",
       "193550  Инженерия/Промышленность      18-22  \n",
       "194198  Инженерия/Промышленность      18-22  \n",
       "194202  Инженерия/Промышленность      18-22  \n",
       "208198  Инженерия/Промышленность      18-22  \n",
       "208239  Инженерия/Промышленность      18-22  \n",
       "208244  Инженерия/Промышленность      18-22  \n",
       "219169  Инженерия/Промышленность      14-17  \n",
       "227764  Инженерия/Промышленность      18-22  \n",
       "227765  Инженерия/Промышленность      18-22  \n",
       "249673  Инженерия/Промышленность      18-22  \n",
       "257835  Инженерия/Промышленность      18-22  \n",
       "344702  Инженерия/Промышленность      18-22  \n",
       "345958  Инженерия/Промышленность      18-22  \n",
       "345992  Инженерия/Промышленность      18-22  \n",
       "367155  Инженерия/Промышленность      18-22  \n",
       "490292  Инженерия/Промышленность      14-17  \n",
       "490488  Инженерия/Промышленность      14-17  \n",
       "\n",
       "[27 rows x 29 columns]"
      ]
     },
     "execution_count": 61,
     "metadata": {},
     "output_type": "execute_result"
    }
   ],
   "source": [
    "ages[(ages.occupation=='Инженерия/Промышленность') & (ages.age <= 18)]"
   ]
  },
  {
   "cell_type": "code",
   "execution_count": 62,
   "id": "21de2f17",
   "metadata": {
    "ExecuteTime": {
     "end_time": "2023-12-09T16:56:17.277968Z",
     "start_time": "2023-12-09T16:56:13.805770Z"
    }
   },
   "outputs": [
    {
     "name": "stdout",
     "output_type": "stream",
     "text": [
      "Успешность при попытке попасть на собеседование.\n",
      "Сфера: Инженерия/Промышленность\n"
     ]
    },
    {
     "data": {
      "image/png": "[encoded data removed]",
      "text/plain": [
       "<Figure size 640x480 with 1 Axes>"
      ]
     },
     "metadata": {},
     "output_type": "display_data"
    }
   ],
   "source": [
    "plot('Инженерия/Промышленность', 19, 45)"
   ]
  },
  {
   "cell_type": "code",
   "execution_count": 63,
   "id": "5e3ab8bc",
   "metadata": {
    "ExecuteTime": {
     "end_time": "2023-12-09T16:57:28.191497Z",
     "start_time": "2023-12-09T16:57:28.141609Z"
    }
   },
   "outputs": [
    {
     "name": "stdout",
     "output_type": "stream",
     "text": [
      "Отличается ли успех группы 26-37 от среднего?\n",
      "Показатели лучшей группы: 0.8129566488066244;\n",
      "Показатели остальных: 0.726220257141195\n",
      "Стандартная ошибка среднего: 0.004890093623892967\n",
      "t-критерий: 17.73716381249553\n",
      "Степени свободы: 29505\n",
      "p-уровень значимости меньше 0.01\n",
      "Различия между успешностью группы 26-37 и ген. совокупностью статистически значимые\n"
     ]
    }
   ],
   "source": [
    "info('Инженерия/Промышленность', 26, 37)"
   ]
  },
  {
   "cell_type": "markdown",
   "id": "f83dd246",
   "metadata": {},
   "source": [
    "Ожидаемые результаты для сферы, где часто требуется физ.сила, а также для опасных и вредных для здоровья профессий."
   ]
  },
  {
   "cell_type": "code",
   "execution_count": 67,
   "id": "41457d5b",
   "metadata": {
    "ExecuteTime": {
     "end_time": "2023-12-09T16:59:35.269615Z",
     "start_time": "2023-12-09T16:59:29.780293Z"
    }
   },
   "outputs": [
    {
     "name": "stdout",
     "output_type": "stream",
     "text": [
      "Успешность при попытке попасть на собеседование.\n",
      "Сфера: Право/Экономика\n"
     ]
    },
    {
     "data": {
      "image/png": "[encoded data removed]",
      "text/plain": [
       "<Figure size 640x480 with 1 Axes>"
      ]
     },
     "metadata": {},
     "output_type": "display_data"
    }
   ],
   "source": [
    "plot('Право/Экономика')"
   ]
  },
  {
   "cell_type": "code",
   "execution_count": 65,
   "id": "f86c8a8f",
   "metadata": {
    "ExecuteTime": {
     "end_time": "2023-12-09T16:58:38.887009Z",
     "start_time": "2023-12-09T16:58:37.148732Z"
    }
   },
   "outputs": [
    {
     "name": "stdout",
     "output_type": "stream",
     "text": [
      "Успешность при попытке попасть на собеседование.\n",
      "Сфера: Право/Экономика\n"
     ]
    },
    {
     "data": {
      "image/png": "[encoded data removed]",
      "text/plain": [
       "<Figure size 640x480 with 1 Axes>"
      ]
     },
     "metadata": {},
     "output_type": "display_data"
    }
   ],
   "source": [
    "plot('Право/Экономика', 18, 30)"
   ]
  },
  {
   "cell_type": "code",
   "execution_count": 66,
   "id": "eb2249cc",
   "metadata": {
    "ExecuteTime": {
     "end_time": "2023-12-09T16:59:08.940594Z",
     "start_time": "2023-12-09T16:59:07.933246Z"
    }
   },
   "outputs": [
    {
     "name": "stdout",
     "output_type": "stream",
     "text": [
      "Успешность при попытке попасть на собеседование.\n",
      "Сфера: Право/Экономика\n"
     ]
    },
    {
     "data": {
      "image/png": "[encoded data removed]",
      "text/plain": [
       "<Figure size 640x480 with 1 Axes>"
      ]
     },
     "metadata": {},
     "output_type": "display_data"
    }
   ],
   "source": [
    "plot('Право/Экономика', 19, 25)"
   ]
  },
  {
   "cell_type": "code",
   "execution_count": 69,
   "id": "c8cd03fc",
   "metadata": {
    "ExecuteTime": {
     "end_time": "2023-12-09T17:00:51.016567Z",
     "start_time": "2023-12-09T17:00:50.941107Z"
    }
   },
   "outputs": [
    {
     "data": {
      "text/html": [
       "<div>\n",
       "<style scoped>\n",
       "    .dataframe tbody tr th:only-of-type {\n",
       "        vertical-align: middle;\n",
       "    }\n",
       "\n",
       "    .dataframe tbody tr th {\n",
       "        vertical-align: top;\n",
       "    }\n",
       "\n",
       "    .dataframe thead th {\n",
       "        text-align: right;\n",
       "    }\n",
       "</style>\n",
       "<table border=\"1\" class=\"dataframe\">\n",
       "  <thead>\n",
       "    <tr style=\"text-align: right;\">\n",
       "      <th></th>\n",
       "      <th>topic_id</th>\n",
       "      <th>topic_creation_date</th>\n",
       "      <th>initial_state</th>\n",
       "      <th>final_state</th>\n",
       "      <th>resume_id</th>\n",
       "      <th>resume_creation_date</th>\n",
       "      <th>profession</th>\n",
       "      <th>gender</th>\n",
       "      <th>year_of_birth</th>\n",
       "      <th>resume_region</th>\n",
       "      <th>...</th>\n",
       "      <th>vacancy_creation_date</th>\n",
       "      <th>vacancy_region</th>\n",
       "      <th>work_schedule.1</th>\n",
       "      <th>vacancy_employment_type</th>\n",
       "      <th>compensation_from</th>\n",
       "      <th>compensation_to</th>\n",
       "      <th>vacancy_skills_list</th>\n",
       "      <th>age</th>\n",
       "      <th>occupation</th>\n",
       "      <th>ages_group</th>\n",
       "    </tr>\n",
       "  </thead>\n",
       "  <tbody>\n",
       "    <tr>\n",
       "      <th>46313</th>\n",
       "      <td>3364796c740</td>\n",
       "      <td>2023-07-26</td>\n",
       "      <td>response</td>\n",
       "      <td>0</td>\n",
       "      <td>15585185b</td>\n",
       "      <td>2021-09-23</td>\n",
       "      <td>Делопроизводитель, архивариус</td>\n",
       "      <td>male</td>\n",
       "      <td>1995</td>\n",
       "      <td>Москва</td>\n",
       "      <td>...</td>\n",
       "      <td>2023-07-26</td>\n",
       "      <td>Москва</td>\n",
       "      <td>full_day</td>\n",
       "      <td>full</td>\n",
       "      <td>NaN</td>\n",
       "      <td>60000.0</td>\n",
       "      <td>[None]</td>\n",
       "      <td>28</td>\n",
       "      <td>Право/Экономика</td>\n",
       "      <td>23-28</td>\n",
       "    </tr>\n",
       "    <tr>\n",
       "      <th>46330</th>\n",
       "      <td>33412c9412741233</td>\n",
       "      <td>2023-06-30</td>\n",
       "      <td>response</td>\n",
       "      <td>1</td>\n",
       "      <td>1611tb8b6</td>\n",
       "      <td>2022-01-21</td>\n",
       "      <td>Делопроизводитель, архивариус</td>\n",
       "      <td>male</td>\n",
       "      <td>1991</td>\n",
       "      <td>Московская область</td>\n",
       "      <td>...</td>\n",
       "      <td>2023-06-28</td>\n",
       "      <td>Московская область</td>\n",
       "      <td>full_day</td>\n",
       "      <td>full</td>\n",
       "      <td>25000.0</td>\n",
       "      <td>0.0</td>\n",
       "      <td>[электронный архив, уверенный пользователь пк,...</td>\n",
       "      <td>32</td>\n",
       "      <td>Право/Экономика</td>\n",
       "      <td>29-35</td>\n",
       "    </tr>\n",
       "    <tr>\n",
       "      <th>46402</th>\n",
       "      <td>33964120412412303</td>\n",
       "      <td>2023-08-07</td>\n",
       "      <td>response</td>\n",
       "      <td>0</td>\n",
       "      <td>15585185b</td>\n",
       "      <td>2021-09-23</td>\n",
       "      <td>Делопроизводитель, архивариус</td>\n",
       "      <td>male</td>\n",
       "      <td>1995</td>\n",
       "      <td>Москва</td>\n",
       "      <td>...</td>\n",
       "      <td>2023-07-21</td>\n",
       "      <td>Москва</td>\n",
       "      <td>full_day</td>\n",
       "      <td>full</td>\n",
       "      <td>55000.0</td>\n",
       "      <td>55000.0</td>\n",
       "      <td>[внутренняя документация, регистрация документ...</td>\n",
       "      <td>28</td>\n",
       "      <td>Право/Экономика</td>\n",
       "      <td>23-28</td>\n",
       "    </tr>\n",
       "    <tr>\n",
       "      <th>46522</th>\n",
       "      <td>33960314129c412</td>\n",
       "      <td>2023-08-06</td>\n",
       "      <td>response</td>\n",
       "      <td>0</td>\n",
       "      <td>188486110</td>\n",
       "      <td>2022-09-05</td>\n",
       "      <td>Делопроизводитель, архивариус</td>\n",
       "      <td>male</td>\n",
       "      <td>1992</td>\n",
       "      <td>Санкт-Петербург</td>\n",
       "      <td>...</td>\n",
       "      <td>2023-08-03</td>\n",
       "      <td>Санкт-Петербург</td>\n",
       "      <td>full_day</td>\n",
       "      <td>full</td>\n",
       "      <td>45000.0</td>\n",
       "      <td>0.0</td>\n",
       "      <td>[аналитический склад ума, уверенный пользовате...</td>\n",
       "      <td>31</td>\n",
       "      <td>Право/Экономика</td>\n",
       "      <td>29-35</td>\n",
       "    </tr>\n",
       "    <tr>\n",
       "      <th>46525</th>\n",
       "      <td>336964696930</td>\n",
       "      <td>2023-07-28</td>\n",
       "      <td>response</td>\n",
       "      <td>0</td>\n",
       "      <td>188486110</td>\n",
       "      <td>2022-09-05</td>\n",
       "      <td>Делопроизводитель, архивариус</td>\n",
       "      <td>male</td>\n",
       "      <td>1992</td>\n",
       "      <td>Санкт-Петербург</td>\n",
       "      <td>...</td>\n",
       "      <td>2023-05-31</td>\n",
       "      <td>Санкт-Петербург</td>\n",
       "      <td>full_day</td>\n",
       "      <td>full</td>\n",
       "      <td>45000.0</td>\n",
       "      <td>NaN</td>\n",
       "      <td>[None]</td>\n",
       "      <td>31</td>\n",
       "      <td>Право/Экономика</td>\n",
       "      <td>29-35</td>\n",
       "    </tr>\n",
       "    <tr>\n",
       "      <th>...</th>\n",
       "      <td>...</td>\n",
       "      <td>...</td>\n",
       "      <td>...</td>\n",
       "      <td>...</td>\n",
       "      <td>...</td>\n",
       "      <td>...</td>\n",
       "      <td>...</td>\n",
       "      <td>...</td>\n",
       "      <td>...</td>\n",
       "      <td>...</td>\n",
       "      <td>...</td>\n",
       "      <td>...</td>\n",
       "      <td>...</td>\n",
       "      <td>...</td>\n",
       "      <td>...</td>\n",
       "      <td>...</td>\n",
       "      <td>...</td>\n",
       "      <td>...</td>\n",
       "      <td>...</td>\n",
       "      <td>...</td>\n",
       "      <td>...</td>\n",
       "    </tr>\n",
       "    <tr>\n",
       "      <th>484714</th>\n",
       "      <td>341296319cc6412</td>\n",
       "      <td>2023-06-01</td>\n",
       "      <td>response</td>\n",
       "      <td>0</td>\n",
       "      <td>fg506b8</td>\n",
       "      <td>2019-08-22</td>\n",
       "      <td>Юрисконсульт</td>\n",
       "      <td>male</td>\n",
       "      <td>1961</td>\n",
       "      <td>Санкт-Петербург</td>\n",
       "      <td>...</td>\n",
       "      <td>2023-05-31</td>\n",
       "      <td>Санкт-Петербург</td>\n",
       "      <td>full_day</td>\n",
       "      <td>full</td>\n",
       "      <td>80000.0</td>\n",
       "      <td>NaN</td>\n",
       "      <td>[взаимодействие с контрольными органами, юрист...</td>\n",
       "      <td>62</td>\n",
       "      <td>Право/Экономика</td>\n",
       "      <td>56-63</td>\n",
       "    </tr>\n",
       "    <tr>\n",
       "      <th>484720</th>\n",
       "      <td>341296649641211</td>\n",
       "      <td>2023-06-04</td>\n",
       "      <td>response</td>\n",
       "      <td>0</td>\n",
       "      <td>445081k0</td>\n",
       "      <td>2015-08-27</td>\n",
       "      <td>Юрисконсульт</td>\n",
       "      <td>male</td>\n",
       "      <td>1982</td>\n",
       "      <td>Московская область</td>\n",
       "      <td>...</td>\n",
       "      <td>2023-06-02</td>\n",
       "      <td>Московская область</td>\n",
       "      <td>full_day</td>\n",
       "      <td>full</td>\n",
       "      <td>120000.0</td>\n",
       "      <td>120000.0</td>\n",
       "      <td>[офисная техника, согласование договоров, доку...</td>\n",
       "      <td>41</td>\n",
       "      <td>Право/Экономика</td>\n",
       "      <td>36-45</td>\n",
       "    </tr>\n",
       "    <tr>\n",
       "      <th>484725</th>\n",
       "      <td>33963b4126696</td>\n",
       "      <td>2023-08-08</td>\n",
       "      <td>response</td>\n",
       "      <td>1</td>\n",
       "      <td>20201b8tk</td>\n",
       "      <td>2023-06-06</td>\n",
       "      <td>Юрисконсульт</td>\n",
       "      <td>male</td>\n",
       "      <td>1986</td>\n",
       "      <td>Москва</td>\n",
       "      <td>...</td>\n",
       "      <td>2023-08-07</td>\n",
       "      <td>Москва</td>\n",
       "      <td>remote</td>\n",
       "      <td>part</td>\n",
       "      <td>50000.0</td>\n",
       "      <td>90000.0</td>\n",
       "      <td>[консультирование клиентов по телефону, поиск ...</td>\n",
       "      <td>37</td>\n",
       "      <td>Право/Экономика</td>\n",
       "      <td>36-45</td>\n",
       "    </tr>\n",
       "    <tr>\n",
       "      <th>484737</th>\n",
       "      <td>3341200cc166</td>\n",
       "      <td>2023-06-27</td>\n",
       "      <td>response</td>\n",
       "      <td>0</td>\n",
       "      <td>20201b8tk</td>\n",
       "      <td>2023-06-06</td>\n",
       "      <td>Юрисконсульт</td>\n",
       "      <td>male</td>\n",
       "      <td>1986</td>\n",
       "      <td>Москва</td>\n",
       "      <td>...</td>\n",
       "      <td>2023-06-06</td>\n",
       "      <td>Москва</td>\n",
       "      <td>full_day</td>\n",
       "      <td>full</td>\n",
       "      <td>85000.0</td>\n",
       "      <td>NaN</td>\n",
       "      <td>[отчетность, желание расти и развиваться, жела...</td>\n",
       "      <td>37</td>\n",
       "      <td>Право/Экономика</td>\n",
       "      <td>36-45</td>\n",
       "    </tr>\n",
       "    <tr>\n",
       "      <th>484739</th>\n",
       "      <td>339c6c194412</td>\n",
       "      <td>2023-08-16</td>\n",
       "      <td>response</td>\n",
       "      <td>0</td>\n",
       "      <td>1b4182t2</td>\n",
       "      <td>2011-03-28</td>\n",
       "      <td>Юрисконсульт</td>\n",
       "      <td>male</td>\n",
       "      <td>1979</td>\n",
       "      <td>Томская область</td>\n",
       "      <td>...</td>\n",
       "      <td>2023-08-08</td>\n",
       "      <td>Краснодарский край</td>\n",
       "      <td>remote</td>\n",
       "      <td>full</td>\n",
       "      <td>180000.0</td>\n",
       "      <td>NaN</td>\n",
       "      <td>[None]</td>\n",
       "      <td>44</td>\n",
       "      <td>Право/Экономика</td>\n",
       "      <td>36-45</td>\n",
       "    </tr>\n",
       "  </tbody>\n",
       "</table>\n",
       "<p>4846 rows × 29 columns</p>\n",
       "</div>"
      ],
      "text/plain": [
       "                 topic_id topic_creation_date initial_state  final_state  \\\n",
       "46313         3364796c740          2023-07-26      response            0   \n",
       "46330    33412c9412741233          2023-06-30      response            1   \n",
       "46402   33964120412412303          2023-08-07      response            0   \n",
       "46522     33960314129c412          2023-08-06      response            0   \n",
       "46525        336964696930          2023-07-28      response            0   \n",
       "...                   ...                 ...           ...          ...   \n",
       "484714    341296319cc6412          2023-06-01      response            0   \n",
       "484720    341296649641211          2023-06-04      response            0   \n",
       "484725      33963b4126696          2023-08-08      response            1   \n",
       "484737       3341200cc166          2023-06-27      response            0   \n",
       "484739       339c6c194412          2023-08-16      response            0   \n",
       "\n",
       "        resume_id resume_creation_date                     profession gender  \\\n",
       "46313   15585185b           2021-09-23  Делопроизводитель, архивариус   male   \n",
       "46330   1611tb8b6           2022-01-21  Делопроизводитель, архивариус   male   \n",
       "46402   15585185b           2021-09-23  Делопроизводитель, архивариус   male   \n",
       "46522   188486110           2022-09-05  Делопроизводитель, архивариус   male   \n",
       "46525   188486110           2022-09-05  Делопроизводитель, архивариус   male   \n",
       "...           ...                  ...                            ...    ...   \n",
       "484714    fg506b8           2019-08-22                   Юрисконсульт   male   \n",
       "484720   445081k0           2015-08-27                   Юрисконсульт   male   \n",
       "484725  20201b8tk           2023-06-06                   Юрисконсульт   male   \n",
       "484737  20201b8tk           2023-06-06                   Юрисконсульт   male   \n",
       "484739   1b4182t2           2011-03-28                   Юрисконсульт   male   \n",
       "\n",
       "        year_of_birth       resume_region  ... vacancy_creation_date  \\\n",
       "46313            1995              Москва  ...            2023-07-26   \n",
       "46330            1991  Московская область  ...            2023-06-28   \n",
       "46402            1995              Москва  ...            2023-07-21   \n",
       "46522            1992     Санкт-Петербург  ...            2023-08-03   \n",
       "46525            1992     Санкт-Петербург  ...            2023-05-31   \n",
       "...               ...                 ...  ...                   ...   \n",
       "484714           1961     Санкт-Петербург  ...            2023-05-31   \n",
       "484720           1982  Московская область  ...            2023-06-02   \n",
       "484725           1986              Москва  ...            2023-08-07   \n",
       "484737           1986              Москва  ...            2023-06-06   \n",
       "484739           1979     Томская область  ...            2023-08-08   \n",
       "\n",
       "            vacancy_region work_schedule.1 vacancy_employment_type  \\\n",
       "46313               Москва        full_day                    full   \n",
       "46330   Московская область        full_day                    full   \n",
       "46402               Москва        full_day                    full   \n",
       "46522      Санкт-Петербург        full_day                    full   \n",
       "46525      Санкт-Петербург        full_day                    full   \n",
       "...                    ...             ...                     ...   \n",
       "484714     Санкт-Петербург        full_day                    full   \n",
       "484720  Московская область        full_day                    full   \n",
       "484725              Москва          remote                    part   \n",
       "484737              Москва        full_day                    full   \n",
       "484739  Краснодарский край          remote                    full   \n",
       "\n",
       "       compensation_from compensation_to  \\\n",
       "46313                NaN         60000.0   \n",
       "46330            25000.0             0.0   \n",
       "46402            55000.0         55000.0   \n",
       "46522            45000.0             0.0   \n",
       "46525            45000.0             NaN   \n",
       "...                  ...             ...   \n",
       "484714           80000.0             NaN   \n",
       "484720          120000.0        120000.0   \n",
       "484725           50000.0         90000.0   \n",
       "484737           85000.0             NaN   \n",
       "484739          180000.0             NaN   \n",
       "\n",
       "                                      vacancy_skills_list age  \\\n",
       "46313                                              [None]  28   \n",
       "46330   [электронный архив, уверенный пользователь пк,...  32   \n",
       "46402   [внутренняя документация, регистрация документ...  28   \n",
       "46522   [аналитический склад ума, уверенный пользовате...  31   \n",
       "46525                                              [None]  31   \n",
       "...                                                   ...  ..   \n",
       "484714  [взаимодействие с контрольными органами, юрист...  62   \n",
       "484720  [офисная техника, согласование договоров, доку...  41   \n",
       "484725  [консультирование клиентов по телефону, поиск ...  37   \n",
       "484737  [отчетность, желание расти и развиваться, жела...  37   \n",
       "484739                                             [None]  44   \n",
       "\n",
       "             occupation ages_group  \n",
       "46313   Право/Экономика      23-28  \n",
       "46330   Право/Экономика      29-35  \n",
       "46402   Право/Экономика      23-28  \n",
       "46522   Право/Экономика      29-35  \n",
       "46525   Право/Экономика      29-35  \n",
       "...                 ...        ...  \n",
       "484714  Право/Экономика      56-63  \n",
       "484720  Право/Экономика      36-45  \n",
       "484725  Право/Экономика      36-45  \n",
       "484737  Право/Экономика      36-45  \n",
       "484739  Право/Экономика      36-45  \n",
       "\n",
       "[4846 rows x 29 columns]"
      ]
     },
     "execution_count": 69,
     "metadata": {},
     "output_type": "execute_result"
    }
   ],
   "source": [
    "ages[(ages.occupation=='Право/Экономика') & (ages.gender=='male')]"
   ]
  },
  {
   "cell_type": "markdown",
   "id": "2c44f817",
   "metadata": {},
   "source": [
    "Слишком большой разброс между женщинами и мужчинами, однако женщин подающих заявки в ~3.5 раза больше, чем мужчин. Также не совсем понятно почему молодых спецов приглашают намного чаще, чем более старших."
   ]
  },
  {
   "cell_type": "code",
   "execution_count": 70,
   "id": "90077d41",
   "metadata": {
    "ExecuteTime": {
     "end_time": "2023-12-09T17:02:23.541833Z",
     "start_time": "2023-12-09T17:02:18.619236Z"
    }
   },
   "outputs": [
    {
     "name": "stdout",
     "output_type": "stream",
     "text": [
      "Успешность при попытке попасть на собеседование.\n",
      "Сфера: Дизайн\n"
     ]
    },
    {
     "data": {
      "image/png": "[encoded data removed]",
      "text/plain": [
       "<Figure size 640x480 with 1 Axes>"
      ]
     },
     "metadata": {},
     "output_type": "display_data"
    }
   ],
   "source": [
    "plot('Дизайн')"
   ]
  },
  {
   "cell_type": "markdown",
   "id": "d1aef276",
   "metadata": {},
   "source": [
    "Поскольку записей о сфере оч мало, то нежелательно по ним выводы делать, а так можно заметить, что в творческих профессиях не очень важен возраст, а также что женщин приглашают на собеседование чаще."
   ]
  },
  {
   "cell_type": "code",
   "execution_count": 75,
   "id": "446925f1",
   "metadata": {
    "ExecuteTime": {
     "end_time": "2023-12-09T17:04:36.670727Z",
     "start_time": "2023-12-09T17:04:34.178989Z"
    }
   },
   "outputs": [
    {
     "name": "stdout",
     "output_type": "stream",
     "text": [
      "Успешность при попытке попасть на собеседование.\n",
      "Сфера: Медицина\n"
     ]
    },
    {
     "data": {
      "image/png": "[encoded data removed]",
      "text/plain": [
       "<Figure size 640x480 with 1 Axes>"
      ]
     },
     "metadata": {},
     "output_type": "display_data"
    }
   ],
   "source": [
    "plot('Медицина', 20, 40)"
   ]
  },
  {
   "cell_type": "code",
   "execution_count": 76,
   "id": "e1725a4d",
   "metadata": {
    "ExecuteTime": {
     "end_time": "2023-12-09T17:04:47.980443Z",
     "start_time": "2023-12-09T17:04:47.954599Z"
    }
   },
   "outputs": [
    {
     "name": "stdout",
     "output_type": "stream",
     "text": [
      "Отличается ли успех группы 25-34 от среднего?\n",
      "Показатели лучшей группы: 0.6808675445391169;\n",
      "Показатели остальных: 0.5261282660332541\n",
      "Стандартная ошибка среднего: 0.017792642055378605\n",
      "t-критерий: 8.696812874908932\n",
      "Степени свободы: 2973\n",
      "p-уровень значимости меньше 0.01\n",
      "Различия между успешностью группы 25-34 и ген. совокупностью статистически значимые\n"
     ]
    }
   ],
   "source": [
    "info('Медицина', 25, 34)"
   ]
  },
  {
   "cell_type": "markdown",
   "id": "f2543f6c",
   "metadata": {},
   "source": [
    "Вполне ожидаемо, наиболее востребованными специалистами являются не очень старые, но опытные специалисты"
   ]
  },
  {
   "cell_type": "code",
   "execution_count": 77,
   "id": "24a44546",
   "metadata": {
    "ExecuteTime": {
     "end_time": "2023-12-09T17:05:36.779334Z",
     "start_time": "2023-12-09T17:05:32.386255Z"
    }
   },
   "outputs": [
    {
     "name": "stdout",
     "output_type": "stream",
     "text": [
      "Успешность при попытке попасть на собеседование.\n",
      "Сфера: Образование\n"
     ]
    },
    {
     "data": {
      "image/png": "[encoded data removed]",
      "text/plain": [
       "<Figure size 640x480 with 1 Axes>"
      ]
     },
     "metadata": {},
     "output_type": "display_data"
    }
   ],
   "source": [
    "plot('Образование')"
   ]
  },
  {
   "cell_type": "markdown",
   "id": "2c4085ed",
   "metadata": {},
   "source": [
    "Мало инфы, чтобы что-то говорить, на первый взгляд можно сказать, что особых различий нет"
   ]
  },
  {
   "cell_type": "code",
   "execution_count": 63,
   "id": "f5d1d9c4",
   "metadata": {
    "ExecuteTime": {
     "end_time": "2023-12-09T12:57:00.480116Z",
     "start_time": "2023-12-09T12:57:00.254562Z"
    }
   },
   "outputs": [
    {
     "data": {
      "text/plain": [
       "occupation\n",
       "Сфера услуг                 84574\n",
       "Менеджмент                  79915\n",
       "IT                          32036\n",
       "Инженерия/Промышленность    29507\n",
       "Право/Экономика             19249\n",
       "Дизайн                       3523\n",
       "Медицина                     2975\n",
       "Образование                  1861\n",
       "Name: count, dtype: int64"
      ]
     },
     "execution_count": 63,
     "metadata": {},
     "output_type": "execute_result"
    }
   ],
   "source": [
    "ages.occupation.value_counts()"
   ]
  },
  {
   "cell_type": "markdown",
   "id": "3f171a6a",
   "metadata": {
    "ExecuteTime": {
     "end_time": "2023-12-09T17:12:30.224615Z",
     "start_time": "2023-12-09T17:12:30.198971Z"
    }
   },
   "source": [
    "# Смотрим гипотезу о совместимости регионов"
   ]
  },
  {
   "cell_type": "code",
   "execution_count": 90,
   "id": "fd086d7e",
   "metadata": {
    "ExecuteTime": {
     "end_time": "2023-12-09T17:21:49.258464Z",
     "start_time": "2023-12-09T17:21:48.971284Z"
    }
   },
   "outputs": [
    {
     "data": {
      "text/plain": [
       "resume_region\n",
       "Москва                  149223\n",
       "Санкт-Петербург          60572\n",
       "Московская область       33711\n",
       "Краснодарский край       20212\n",
       "Республика Татарстан     15365\n",
       "                         ...  \n",
       "Еврейская АО                40\n",
       "Запорожская область         33\n",
       "Ненецкий АО                  8\n",
       "Херсонская область           5\n",
       "Чукотский АО                 4\n",
       "Name: count, Length: 88, dtype: int64"
      ]
     },
     "execution_count": 90,
     "metadata": {},
     "output_type": "execute_result"
    }
   ],
   "source": [
    "regs = df.copy()\n",
    "regs.resume_region.value_counts()"
   ]
  },
  {
   "cell_type": "markdown",
   "id": "01150267",
   "metadata": {
    "ExecuteTime": {
     "end_time": "2023-12-09T17:17:06.138211Z",
     "start_time": "2023-12-09T17:17:06.133296Z"
    }
   },
   "source": [
    "Идеи две: любо записывать регионы соседи, либо смотреть расстояния между региональными центрами. Пока рассмотрим только случаи совпадения"
   ]
  },
  {
   "cell_type": "code",
   "execution_count": 91,
   "id": "892bc2c5",
   "metadata": {
    "ExecuteTime": {
     "end_time": "2023-12-09T17:21:57.895326Z",
     "start_time": "2023-12-09T17:21:49.336009Z"
    }
   },
   "outputs": [],
   "source": [
    "regs['match'] = regs.apply(lambda x: x['resume_region'] == x['vacancy_region'], 1)\n",
    "regs = regs[regs.final_state != 'response']\n",
    "regs['final_state'] = regs.final_state.map(lambda x: 1 if x == 'invitation' else 0)"
   ]
  },
  {
   "cell_type": "code",
   "execution_count": 103,
   "id": "e7ab736d",
   "metadata": {
    "ExecuteTime": {
     "end_time": "2023-12-09T17:29:37.033801Z",
     "start_time": "2023-12-09T17:29:36.744742Z"
    }
   },
   "outputs": [
    {
     "data": {
      "text/plain": [
       "<Axes: xlabel='match'>"
      ]
     },
     "execution_count": 103,
     "metadata": {},
     "output_type": "execute_result"
    },
    {
     "data": {
      "image/png": "[encoded data removed]",
      "text/plain": [
       "<Figure size 640x480 with 1 Axes>"
      ]
     },
     "metadata": {},
     "output_type": "display_data"
    }
   ],
   "source": [
    "regs_offline = regs[regs['work_schedule.1']!='remote']\n",
    "offline_inf = regs_offline[['match', 'final_state']]\n",
    "offline_inf.groupby('match').mean().plot.bar()"
   ]
  },
  {
   "cell_type": "code",
   "execution_count": 108,
   "id": "dc9e0a3e",
   "metadata": {
    "ExecuteTime": {
     "end_time": "2023-12-09T17:31:44.805062Z",
     "start_time": "2023-12-09T17:31:44.791379Z"
    }
   },
   "outputs": [
    {
     "data": {
      "text/plain": [
       "(0.7239030119976508, 0.597870064642143)"
      ]
     },
     "execution_count": 108,
     "metadata": {},
     "output_type": "execute_result"
    }
   ],
   "source": [
    "a = offline_inf[offline_inf.match].final_state\n",
    "b = offline_inf[~offline_inf.match].final_state\n",
    "mean_a = a.mean()\n",
    "mean_b = b.mean()\n",
    "alpha = mean_a - mean_b\n",
    "mean_a, mean_b"
   ]
  },
  {
   "cell_type": "code",
   "execution_count": 109,
   "id": "fe02a964",
   "metadata": {
    "ExecuteTime": {
     "end_time": "2023-12-09T17:32:02.795580Z",
     "start_time": "2023-12-09T17:32:02.791728Z"
    }
   },
   "outputs": [],
   "source": [
    "se = ((a.std() ** 2) / len(a) + (b.std() ** 2) / len(b)) ** 0.5"
   ]
  },
  {
   "cell_type": "code",
   "execution_count": 110,
   "id": "99b056e0",
   "metadata": {
    "ExecuteTime": {
     "end_time": "2023-12-09T17:33:05.954792Z",
     "start_time": "2023-12-09T17:33:05.950971Z"
    }
   },
   "outputs": [
    {
     "name": "stdout",
     "output_type": "stream",
     "text": [
      "t-критерий: 35.93720124891725; степени свободы: 200286\n"
     ]
    }
   ],
   "source": [
    "t = alpha / se\n",
    "print(f\"t-критерий: {t}; степени свободы: {len(a) + len(b) - 2}\")"
   ]
  },
  {
   "cell_type": "code",
   "execution_count": 111,
   "id": "a302c2de",
   "metadata": {
    "ExecuteTime": {
     "end_time": "2023-12-09T17:35:22.728396Z",
     "start_time": "2023-12-09T17:35:22.462457Z"
    }
   },
   "outputs": [
    {
     "data": {
      "text/plain": [
       "<Axes: xlabel='match'>"
      ]
     },
     "execution_count": 111,
     "metadata": {},
     "output_type": "execute_result"
    },
    {
     "data": {
      "image/png": "[encoded data removed]",
      "text/plain": [
       "<Figure size 640x480 with 1 Axes>"
      ]
     },
     "metadata": {},
     "output_type": "display_data"
    }
   ],
   "source": [
    "regs_online = regs[regs['work_schedule.1']=='remote']\n",
    "online_inf = regs_online[['match', 'final_state']]\n",
    "online_inf.groupby('match').mean().plot.bar()"
   ]
  },
  {
   "cell_type": "code",
   "execution_count": 116,
   "id": "82d0b22e",
   "metadata": {
    "ExecuteTime": {
     "end_time": "2023-12-09T17:36:34.486398Z",
     "start_time": "2023-12-09T17:36:34.477689Z"
    }
   },
   "outputs": [
    {
     "data": {
      "text/plain": [
       "(0.7868037258321892, 0.685686819789199)"
      ]
     },
     "execution_count": 116,
     "metadata": {},
     "output_type": "execute_result"
    }
   ],
   "source": [
    "a = online_inf[online_inf.match].final_state\n",
    "b = online_inf[~online_inf.match].final_state\n",
    "mean_a = a.mean()\n",
    "mean_b = b.mean()\n",
    "alpha = mean_a - mean_b\n",
    "mean_a, mean_b"
   ]
  },
  {
   "cell_type": "code",
   "execution_count": 117,
   "id": "fdddcfc5",
   "metadata": {
    "ExecuteTime": {
     "end_time": "2023-12-09T17:36:35.155154Z",
     "start_time": "2023-12-09T17:36:35.149389Z"
    }
   },
   "outputs": [
    {
     "data": {
      "text/plain": [
       "0.0036911739722726915"
      ]
     },
     "execution_count": 117,
     "metadata": {},
     "output_type": "execute_result"
    }
   ],
   "source": [
    "se = ((a.std() ** 2) / len(a) + (b.std() ** 2) / len(b)) ** 0.5\n",
    "se"
   ]
  },
  {
   "cell_type": "code",
   "execution_count": 118,
   "id": "39be3821",
   "metadata": {
    "ExecuteTime": {
     "end_time": "2023-12-09T17:36:35.825106Z",
     "start_time": "2023-12-09T17:36:35.821425Z"
    }
   },
   "outputs": [
    {
     "name": "stdout",
     "output_type": "stream",
     "text": [
      "t-критерий: 27.39424009883; степени свободы: 56072\n"
     ]
    }
   ],
   "source": [
    "t = alpha / se\n",
    "print(f\"t-критерий: {t}; степени свободы: {len(a) + len(b) - 2}\")"
   ]
  },
  {
   "cell_type": "markdown",
   "id": "5a3901e0",
   "metadata": {},
   "source": [
    "Даже на удаленке чаще зовут тех, кто в одном и том же регионе с ними, мб связываться удобнее и все такое"
   ]
  },
  {
   "cell_type": "code",
   "execution_count": null,
   "id": "88a5c360",
   "metadata": {},
   "outputs": [],
   "source": []
  }
 ],
 "metadata": {
  "kernelspec": {
   "display_name": "Python 3 (ipykernel)",
   "language": "python",
   "name": "python3"
  },
  "language_info": {
   "codemirror_mode": {
    "name": "ipython",
    "version": 3
   },
   "file_extension": ".py",
   "mimetype": "text/x-python",
   "name": "python",
   "nbconvert_exporter": "python",
   "pygments_lexer": "ipython3",
   "version": "3.11.5"
  },
  "notify_time": "0",
  "toc": {
   "base_numbering": 1,
   "nav_menu": {},
   "number_sections": true,
   "sideBar": true,
   "skip_h1_title": false,
   "title_cell": "Table of Contents",
   "title_sidebar": "Contents",
   "toc_cell": false,
   "toc_position": {},
   "toc_section_display": true,
   "toc_window_display": false
  }
 },
 "nbformat": 4,
 "nbformat_minor": 5
}
