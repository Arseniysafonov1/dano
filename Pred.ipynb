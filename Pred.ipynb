{
 "cells": [
  {
   "cell_type": "code",
   "execution_count": null,
   "id": "26b6cf07",
   "metadata": {},
   "outputs": [],
   "source": [
    "import pandas as pd\n",
    "import matplotlib.pyplot as plt\n",
    "import seaborn as sns\n",
    "df = pd.read_csv('hh_ru_dataset.csv')"
   ]
  },
  {
   "cell_type": "markdown",
   "id": "1bd4c992",
   "metadata": {},
   "source": [
    "В целом смотрим только на следующие столбцы: final_state, work_experience_months, education_level, expected_salary, compensation_from, compensation_to в срезе profession"
   ]
  },
  {
   "cell_type": "code",
   "execution_count": null,
   "id": "6da0baaf",
   "metadata": {},
   "outputs": [],
   "source": [
    "# отбрасываем дубликаты\n",
    "# df = df[['profession', 'final_state', 'expected_salary', 'compensation_from', 'compensation_to'\n",
    "#          , 'work_experience_months', 'education_level']]\n",
    "df = df.drop_duplicates()\n",
    "df = df[(~df.profession.isna())&(~df.expected_salary.isna())&(~df.education_level.isna())&(~df.final_state.isna())&(~df.compensation_from.isna()) & (~df.compensation_to.isna()) & (~df.work_experience_months.isna())]\n",
    "df = df[(df.compensation_to != 0)&(df.expected_salary!=0)]"
   ]
  },
  {
   "cell_type": "code",
   "execution_count": null,
   "id": "e3e8cd1d",
   "metadata": {},
   "outputs": [],
   "source": [
    "# compensation_from - убирать нули и выбросы?\n",
    "df = df[df.work_experience_months <= (df.year_of_birth + 1 - 14)*12]"
   ]
  },
  {
   "cell_type": "code",
   "execution_count": null,
   "id": "a587995c",
   "metadata": {},
   "outputs": [],
   "source": [
    "# отбрасывание статусов response-response, т.к. не знаем что с ними делать\n",
    "df = df[df.final_state!='response']"
   ]
  },
  {
   "cell_type": "markdown",
   "id": "455da8bf",
   "metadata": {},
   "source": [
    "Новые столбцы"
   ]
  },
  {
   "cell_type": "code",
   "execution_count": null,
   "id": "3f192bb2",
   "metadata": {},
   "outputs": [],
   "source": [
    "df['final_state'] = df['final_state'].map(lambda x: int(x=='invitation'))"
   ]
  },
  {
   "cell_type": "code",
   "execution_count": null,
   "id": "009d9277",
   "metadata": {},
   "outputs": [],
   "source": [
    "edu_dict = {\n",
    "    'secondary' : 0,\n",
    "    'special_secondary': 1,\n",
    "    'unfinished_higher':2,\n",
    "    'bachelor':3,\n",
    "    'higher':3,\n",
    "    'master':4,\n",
    "    'candidate':4,\n",
    "    'doctor':4\n",
    "}\n",
    "df['education_level'] = df['education_level'].map(lambda x: edu_dict[x])"
   ]
  },
  {
   "cell_type": "code",
   "execution_count": null,
   "id": "21f1edcd",
   "metadata": {},
   "outputs": [],
   "source": [
    "management = ['Менеджер по продажам, менеджер по работе с клиентами', 'Бухгалтер', 'Менеджер по маркетингу, интернет-маркетолог',\n",
    "             'Менеджер по персоналу', 'Менеджер по логистике, менеджер по ВЭД', 'Специалист по подбору персонала',\n",
    "             'Менеджер по закупкам', 'Директор магазина, директор сети магазинов', 'Руководитель отдела продаж',\n",
    "             'Офис-менеджер', 'Секретарь, помощник руководителя, ассистент', 'Руководитель проектов',\n",
    "             'Финансовый менеджер', 'Администратор', 'Продавец-консультант, продавец-кассир', \n",
    "             'Менеджер по туризму', 'Координатор отдела продаж', 'Менеджер ресторана', 'Специалист по кадрам',\n",
    "             'Менеджер/руководитель АХО']\n",
    "design = ['Дизайнер, художник']\n",
    "it = ['Программист, разработчик', 'Оператор ПК, оператор базы данных', 'Системный администратор',\n",
    "     'SMM-менеджер, контент-менеджер', 'Тестировщик', 'Аналитик']\n",
    "service = ['Официант, бармен, бариста', 'Специалист технической поддержки', 'Водитель', 'Охранник',\n",
    "          'Курьер', 'Супервайзер', 'Кассир-операционист', 'Диспетчер', 'Торговый представитель', \n",
    "          'Упаковщик, комплектовщик', 'Повар, пекарь, кондитер', 'Кладовщик', \n",
    "          'Продавец-консультант, продавец-кассир', 'Начальник склада', 'Фитнес-тренер, инструктор тренажерного зала',\n",
    "          'Товаровед', 'Оператор call-центра, специалист контактного центра', 'Уборщица, уборщик',\n",
    "          'Разнорабочий', 'Мерчандайзер']\n",
    "law = ['Делопроизводитель, архивариус', 'Юрисконсульт', 'Экономист', 'Юрист', 'Кредитный специалист']\n",
    "engineering = ['Инженер-энергетик, инженер-электрик', 'Сварщик', 'Инженер-конструктор, инженер-проектировщик',\n",
    "              'Слесарь, сантехник', 'Начальник производства', 'Начальник смены, мастер участка', \n",
    "              'Оператор производственной линии', 'Технолог', 'Машинист', 'Механик', 'Сервисный инженер, инженер-механик',\n",
    "              'Инженер по охране труда и технике безопасности, инженер-эколог']\n",
    "teacher = ['Учитель, преподаватель, педагог', 'Воспитатель, няня']\n",
    "med = ['Психолог', 'Врач']\n",
    "def f(x):\n",
    "    if x in management:\n",
    "        return \"Менеджмент\"\n",
    "    if x in design:\n",
    "        return \"Дизайн\"\n",
    "    if x in it:\n",
    "        return \"IT\"\n",
    "    if x in service:\n",
    "        return \"Сфера услуг\"\n",
    "    if x in law:\n",
    "        return \"Право/Экономика\"\n",
    "    if x in engineering:\n",
    "        return \"Инженерия/Промышленность\"\n",
    "    if x in teacher:\n",
    "        return \"Образование\"\n",
    "    return \"Медицина\"\n",
    "df['occupation'] = df.profession.map(f)"
   ]
  },
  {
   "cell_type": "code",
   "execution_count": null,
   "id": "6c7054c4",
   "metadata": {},
   "outputs": [],
   "source": [
    "d = dict()\n",
    "qs = dict()\n",
    "compensation_qs = dict()\n",
    "for i in df.profession.unique():\n",
    "    temp = df[df.profession==i]\n",
    "    t1 = temp.groupby('resume_id').expected_salary.mean()\n",
    "    q1, q2 = t1.quantile(0.05), t1.quantile(0.95)\n",
    "    if q1 < 1000:\n",
    "        print(i)\n",
    "    if q2 > 1000000:\n",
    "        print(i, q2)\n",
    "    qs[i] = (q1, q2)\n",
    "    t2 = temp.groupby('vacancy_id').compensation_to.mean()\n",
    "    q1, q2 = t2.quantile(0.05), t2.quantile(0.95)\n",
    "    if q1 < 1000:\n",
    "        print(i)\n",
    "    if q2 > 1000000:\n",
    "        print(i, q2)\n",
    "    compensation_qs[i] = (q1, q2)\n",
    "    \n",
    "def app(x):\n",
    "    q = qs[x['profession']]\n",
    "    q1 = compensation_qs[x['profession']]\n",
    "    a = (q[0] <= x['expected_salary']) and (x['expected_salary'] <= q[1])\n",
    "    b = (q1[0] <= x['compensation_to']) and (x['compensation_to'] <= q1[1])\n",
    "    return  a and b\n",
    "df = df[df.apply(app, 1)]\n",
    "    \n",
    "    \n",
    "for i in df.profession.unique():\n",
    "    d[i] = ((temp.groupby('vacancy_id').compensation_to.mean() + temp.groupby('vacancy_id').compensation_from.mean())/2).median() #медиана средних зп\n",
    "def temp(x):\n",
    "    t = d[x['profession']]\n",
    "    return (x['expected_salary'] - t) / t\n",
    "df['delta_salary'] = df.apply(temp, 1)"
   ]
  },
  {
   "cell_type": "code",
   "execution_count": null,
   "id": "13ba03af",
   "metadata": {},
   "outputs": [],
   "source": [
    "df.to_csv('new_normal.csv')"
   ]
  },
  {
   "cell_type": "code",
   "execution_count": null,
   "id": "18b3c3e5",
   "metadata": {},
   "outputs": [],
   "source": [
    "# делаем модель\n",
    "import statsmodels.api as sm\n",
    "from statsmodels.genmod.generalized_linear_model import GLM\n",
    "from statsmodels.genmod import families\n",
    "import statsmodels.stats.tests.test_influence\n",
    "import numpy as np"
   ]
  },
  {
   "cell_type": "code",
   "execution_count": null,
   "id": "82211129",
   "metadata": {},
   "outputs": [],
   "source": [
    "def show_cat(cat, print_sum=False):\n",
    "    temp = df[df.profession.map(lambda x: x in cat)]\n",
    "    x = temp[['delta_salary', 'education_level', 'work_experience_months']]\n",
    "    x1 = sm.add_constant(x)\n",
    "    y = temp['final_state']\n",
    "    model_1 = sm.GLM(\n",
    "        y,\n",
    "        x1,\n",
    "        family=families.Binomial(),\n",
    "    ).fit()\n",
    "    if print_sum:\n",
    "        print(model_1.summary())\n",
    "    ans = str(model_1.summary()).splitlines()[15][61:66]\n",
    "    return float(ans)\n",
    "    # print(model_1.normalized_cov_params)\n",
    "    # return model_1.pvalues['delta_salary'], model_1.normalized_cov_params['delta_salary']"
   ]
  },
  {
   "cell_type": "code",
   "execution_count": null,
   "id": "df323f40",
   "metadata": {},
   "outputs": [],
   "source": [
    "res = pd.DataFrame({}, columns=['profession', 'p-value', 'mean_salary', 'df_counts', 'ok'])\n",
    "for i in df.profession.unique():\n",
    "    t = show_cat([i])\n",
    "    if t > 0.05:\n",
    "        res=res.append({'profession':i, 'p-value':t,\n",
    "                   'mean_salary':d[i], 'df_counts':(df.profession==i).sum(),\n",
    "                       'ok':(t>0.05)}, ignore_index=True)\n",
    "        # print(i, t, d[i], len(df[df.profession==i]), sep='|\\t')\n",
    "res.columns = ['Специадбность', 'p-значение', 'Средняя зп для специальности', 'Количество наблюдений', 'Значимость']\n",
    "res"
   ]
  },
  {
   "cell_type": "code",
   "execution_count": null,
   "id": "3da59ef4",
   "metadata": {},
   "outputs": [],
   "source": []
  }
 ],
 "metadata": {
  "kernelspec": {
   "display_name": "Python 3 (ipykernel)",
   "language": "python",
   "name": "python3"
  },
  "language_info": {
   "codemirror_mode": {
    "name": "ipython",
    "version": 3
   },
   "file_extension": ".py",
   "mimetype": "text/x-python",
   "name": "python",
   "nbconvert_exporter": "python",
   "pygments_lexer": "ipython3",
   "version": "3.11.6"
  }
 },
 "nbformat": 4,
 "nbformat_minor": 5
}
