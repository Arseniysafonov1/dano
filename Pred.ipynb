{
 "cells": [
  {
   "cell_type": "code",
   "execution_count": 1,
   "id": "c6151db6",
   "metadata": {},
   "outputs": [],
   "source": [
    "import pandas as pd\n",
    "import matplotlib.pyplot as plt\n",
    "import seaborn as sns\n",
    "df = pd.read_csv('hh_ru_dataset.csv')"
   ]
  },
  {
   "cell_type": "markdown",
   "id": "30dccfa9",
   "metadata": {},
   "source": [
    "В целом смотрим только на следующие столбцы: final_state, work_experience_months, education_level, expected_salary, compensation_from, compensation_to в срезе profession"
   ]
  },
  {
   "cell_type": "code",
   "execution_count": 2,
   "id": "ad79cf45",
   "metadata": {},
   "outputs": [],
   "source": [
    "# отбрасываем дубликаты\n",
    "df = df[['profession', 'final_state', 'expected_salary', 'compensation_from', 'compensation_to'\n",
    "         , 'work_experience_months', 'education_level']]\n",
    "df = df[(~df.profession.isna())&(~df.expected_salary.isna())&(~df.education_level.isna())&(~df.final_state.isna())&(~df.compensation_from.isna()) & (~df.compensation_to.isna()) & (~df.work_experience_months.isna())]\n"
   ]
  },
  {
   "cell_type": "code",
   "execution_count": 3,
   "id": "d9f639c1",
   "metadata": {},
   "outputs": [],
   "source": [
    "# отбрасывание статусов response-response, т.к. не знаем что с ними делать\n",
    "df = df[df.final_state!='response']"
   ]
  },
  {
   "cell_type": "code",
   "execution_count": 4,
   "id": "8fc85bad",
   "metadata": {},
   "outputs": [],
   "source": [
    "# мб убрать зп неадекватную из ожидаемой и потолочной\n",
    "df = df[df.work_experience_months <= 56*12] # отсекаем месяца работы выбросы"
   ]
  },
  {
   "cell_type": "code",
   "execution_count": 5,
   "id": "27a17fac",
   "metadata": {},
   "outputs": [
    {
     "data": {
      "text/plain": [
       "162648"
      ]
     },
     "execution_count": 5,
     "metadata": {},
     "output_type": "execute_result"
    }
   ],
   "source": [
    "# total:\n",
    "len(df)"
   ]
  },
  {
   "cell_type": "markdown",
   "id": "e40642cf",
   "metadata": {},
   "source": [
    "Новые столбцы"
   ]
  },
  {
   "cell_type": "code",
   "execution_count": 6,
   "id": "34378a7a",
   "metadata": {},
   "outputs": [],
   "source": [
    "df['final_state'] = df['final_state'].map(lambda x: int(x=='invitation'))"
   ]
  },
  {
   "cell_type": "code",
   "execution_count": 7,
   "id": "c82b791f",
   "metadata": {},
   "outputs": [],
   "source": [
    "edu_dict = {\n",
    "    'secondary' : 0,\n",
    "    'special_secondary': 1,\n",
    "    'unfinished_higher':1,\n",
    "    'bachelor':3,\n",
    "    'higher':3,\n",
    "    'master':4,\n",
    "    'candidate':4,\n",
    "    'doctor':4\n",
    "}\n",
    "df['education_level'] = df['education_level'].map(lambda x: edu_dict[x]+1)"
   ]
  },
  {
   "cell_type": "code",
   "execution_count": 8,
   "id": "5f3464e1",
   "metadata": {},
   "outputs": [],
   "source": [
    "management = ['Менеджер по продажам, менеджер по работе с клиентами', 'Бухгалтер', 'Менеджер по маркетингу, интернет-маркетолог',\n",
    "             'Менеджер по персоналу', 'Менеджер по логистике, менеджер по ВЭД', 'Специалист по подбору персонала',\n",
    "             'Менеджер по закупкам', 'Директор магазина, директор сети магазинов', 'Руководитель отдела продаж',\n",
    "             'Офис-менеджер', 'Секретарь, помощник руководителя, ассистент', 'Руководитель проектов',\n",
    "             'Финансовый менеджер', 'Администратор', 'Продавец-консультант, продавец-кассир', \n",
    "             'Менеджер по туризму', 'Координатор отдела продаж', 'Менеджер ресторана', 'Специалист по кадрам',\n",
    "             'Менеджер/руководитель АХО']\n",
    "design = ['Дизайнер, художник']\n",
    "it = ['Программист, разработчик', 'Оператор ПК, оператор базы данных', 'Системный администратор',\n",
    "     'SMM-менеджер, контент-менеджер', 'Тестировщик', 'Аналитик']\n",
    "service = ['Официант, бармен, бариста', 'Специалист технической поддержки', 'Водитель', 'Охранник',\n",
    "          'Курьер', 'Супервайзер', 'Кассир-операционист', 'Диспетчер', 'Торговый представитель', \n",
    "          'Упаковщик, комплектовщик', 'Повар, пекарь, кондитер', 'Кладовщик', \n",
    "          'Продавец-консультант, продавец-кассир', 'Начальник склада', 'Фитнес-тренер, инструктор тренажерного зала',\n",
    "          'Товаровед', 'Оператор call-центра, специалист контактного центра', 'Уборщица, уборщик',\n",
    "          'Разнорабочий', 'Мерчандайзер']\n",
    "law = ['Делопроизводитель, архивариус', 'Юрисконсульт', 'Экономист', 'Юрист', 'Кредитный специалист']\n",
    "engineering = ['Инженер-энергетик, инженер-электрик', 'Сварщик', 'Инженер-конструктор, инженер-проектировщик',\n",
    "              'Слесарь, сантехник', 'Начальник производства', 'Начальник смены, мастер участка', \n",
    "              'Оператор производственной линии', 'Технолог', 'Машинист', 'Механик', 'Сервисный инженер, инженер-механик',\n",
    "              'Инженер по охране труда и технике безопасности, инженер-эколог']\n",
    "teacher = ['Учитель, преподаватель, педагог', 'Воспитатель, няня']\n",
    "med = ['Психолог', 'Врач']\n",
    "def f(x):\n",
    "    if x in management:\n",
    "        return \"Менеджмент\"\n",
    "    if x in design:\n",
    "        return \"Дизайн\"\n",
    "    if x in it:\n",
    "        return \"IT\"\n",
    "    if x in service:\n",
    "        return \"Сфера услуг\"\n",
    "    if x in law:\n",
    "        return \"Право/Экономика\"\n",
    "    if x in engineering:\n",
    "        return \"Инженерия/Промышленность\"\n",
    "    if x in teacher:\n",
    "        return \"Образование\"\n",
    "    return \"Медицина\"\n",
    "df['occupation'] = df.profession.map(f)"
   ]
  },
  {
   "cell_type": "code",
   "execution_count": 9,
   "id": "2b3c1598",
   "metadata": {},
   "outputs": [],
   "source": [
    "d = dict()\n",
    "for i in df.profession.unique():\n",
    "    temp = df[df.profession==i]\n",
    "    d[i] = ((temp.compensation_to + temp.compensation_from)/2).median() #медиана средних зп\n",
    "def temp(x):\n",
    "    t = d[x['profession']]\n",
    "    return (x['expected_salary'] - t) / t\n",
    "df['delta_salary'] = df.apply(temp, 1)"
   ]
  },
  {
   "cell_type": "code",
   "execution_count": 10,
   "id": "19ebe3d8",
   "metadata": {},
   "outputs": [],
   "source": [
    "# делаем модель\n",
    "import statsmodels.api as sm\n",
    "from statsmodels.genmod.generalized_linear_model import GLM\n",
    "from statsmodels.genmod import families\n",
    "import statsmodels.stats.tests.test_influence\n",
    "import numpy as np"
   ]
  },
  {
   "cell_type": "code",
   "execution_count": 12,
   "id": "26ebfece",
   "metadata": {},
   "outputs": [],
   "source": [
    "def show_cat(cat):\n",
    "    temp = df[df.profession.map(lambda x: x in cat)]\n",
    "    x = np.array(temp[['delta_salary', 'education_level', 'work_experience_months']])\n",
    "    y = np.array(temp['final_state'])\n",
    "    model_1 = sm.GLM(\n",
    "        temp['final_state'],\n",
    "        temp[['delta_salary', 'education_level', 'work_experience_months']],\n",
    "        family=families.Binomial(),\n",
    "    ).fit()\n",
    "    print(model_1.summary())"
   ]
  },
  {
   "cell_type": "code",
   "execution_count": 19,
   "id": "38019b70",
   "metadata": {},
   "outputs": [
    {
     "name": "stdout",
     "output_type": "stream",
     "text": [
      "                 Generalized Linear Model Regression Results                  \n",
      "==============================================================================\n",
      "Dep. Variable:            final_state   No. Observations:                50980\n",
      "Model:                            GLM   Df Residuals:                    50977\n",
      "Model Family:                Binomial   Df Model:                            2\n",
      "Link Function:                  Logit   Scale:                          1.0000\n",
      "Method:                          IRLS   Log-Likelihood:                    nan\n",
      "Date:                Sat, 16 Dec 2023   Deviance:                       62971.\n",
      "Time:                        00:39:31   Pearson chi2:                 1.03e+05\n",
      "No. Iterations:                     6   Pseudo R-squ. (CS):                nan\n",
      "Covariance Type:            nonrobust                                         \n",
      "==========================================================================================\n",
      "                             coef    std err          z      P>|z|      [0.025      0.975]\n",
      "------------------------------------------------------------------------------------------\n",
      "delta_salary              -0.7645      0.020    -38.969      0.000      -0.803      -0.726\n",
      "education_level            0.3046      0.005     60.169      0.000       0.295       0.315\n",
      "work_experience_months    -0.0029      0.000    -24.396      0.000      -0.003      -0.003\n",
      "==========================================================================================\n"
     ]
    },
    {
     "name": "stderr",
     "output_type": "stream",
     "text": [
      "/usr/lib/python3/dist-packages/statsmodels/genmod/families/links.py:198: RuntimeWarning: overflow encountered in exp\n",
      "  t = np.exp(-z)\n",
      "/usr/lib/python3/dist-packages/statsmodels/genmod/families/family.py:1056: RuntimeWarning: divide by zero encountered in log\n",
      "  special.gammaln(n - y + 1) + y * np.log(mu / (1 - mu + 1e-20)) +\n",
      "/usr/lib/python3/dist-packages/statsmodels/genmod/families/family.py:1056: RuntimeWarning: invalid value encountered in multiply\n",
      "  special.gammaln(n - y + 1) + y * np.log(mu / (1 - mu + 1e-20)) +\n"
     ]
    }
   ],
   "source": [
    "show_cat(management)"
   ]
  },
  {
   "cell_type": "code",
   "execution_count": 15,
   "id": "944c339b",
   "metadata": {},
   "outputs": [
    {
     "data": {
      "text/html": [
       "<div>\n",
       "<style scoped>\n",
       "    .dataframe tbody tr th:only-of-type {\n",
       "        vertical-align: middle;\n",
       "    }\n",
       "\n",
       "    .dataframe tbody tr th {\n",
       "        vertical-align: top;\n",
       "    }\n",
       "\n",
       "    .dataframe thead th {\n",
       "        text-align: right;\n",
       "    }\n",
       "</style>\n",
       "<table border=\"1\" class=\"dataframe\">\n",
       "  <thead>\n",
       "    <tr style=\"text-align: right;\">\n",
       "      <th></th>\n",
       "      <th>profession</th>\n",
       "      <th>final_state</th>\n",
       "      <th>expected_salary</th>\n",
       "      <th>compensation_from</th>\n",
       "      <th>compensation_to</th>\n",
       "      <th>work_experience_months</th>\n",
       "      <th>education_level</th>\n",
       "      <th>occupation</th>\n",
       "      <th>delta_salary</th>\n",
       "    </tr>\n",
       "  </thead>\n",
       "  <tbody>\n",
       "    <tr>\n",
       "      <th>1</th>\n",
       "      <td>Менеджер по продажам, менеджер по работе с кли...</td>\n",
       "      <td>1</td>\n",
       "      <td>80000.0</td>\n",
       "      <td>60000.0</td>\n",
       "      <td>110000.0</td>\n",
       "      <td>115</td>\n",
       "      <td>2</td>\n",
       "      <td>Менеджмент</td>\n",
       "      <td>-0.058824</td>\n",
       "    </tr>\n",
       "    <tr>\n",
       "      <th>2</th>\n",
       "      <td>Менеджер по продажам, менеджер по работе с кли...</td>\n",
       "      <td>1</td>\n",
       "      <td>60000.0</td>\n",
       "      <td>45000.0</td>\n",
       "      <td>50000.0</td>\n",
       "      <td>52</td>\n",
       "      <td>2</td>\n",
       "      <td>Менеджмент</td>\n",
       "      <td>-0.294118</td>\n",
       "    </tr>\n",
       "    <tr>\n",
       "      <th>4</th>\n",
       "      <td>Менеджер по продажам, менеджер по работе с кли...</td>\n",
       "      <td>1</td>\n",
       "      <td>70000.0</td>\n",
       "      <td>0.0</td>\n",
       "      <td>275000.0</td>\n",
       "      <td>42</td>\n",
       "      <td>2</td>\n",
       "      <td>Менеджмент</td>\n",
       "      <td>-0.176471</td>\n",
       "    </tr>\n",
       "    <tr>\n",
       "      <th>5</th>\n",
       "      <td>Менеджер по продажам, менеджер по работе с кли...</td>\n",
       "      <td>1</td>\n",
       "      <td>25000.0</td>\n",
       "      <td>25000.0</td>\n",
       "      <td>50000.0</td>\n",
       "      <td>0</td>\n",
       "      <td>4</td>\n",
       "      <td>Менеджмент</td>\n",
       "      <td>-0.705882</td>\n",
       "    </tr>\n",
       "    <tr>\n",
       "      <th>11</th>\n",
       "      <td>Менеджер по продажам, менеджер по работе с кли...</td>\n",
       "      <td>0</td>\n",
       "      <td>150000.0</td>\n",
       "      <td>181400.0</td>\n",
       "      <td>249800.0</td>\n",
       "      <td>73</td>\n",
       "      <td>1</td>\n",
       "      <td>Менеджмент</td>\n",
       "      <td>0.764706</td>\n",
       "    </tr>\n",
       "    <tr>\n",
       "      <th>16</th>\n",
       "      <td>Менеджер по продажам, менеджер по работе с кли...</td>\n",
       "      <td>1</td>\n",
       "      <td>50000.0</td>\n",
       "      <td>80000.0</td>\n",
       "      <td>100000.0</td>\n",
       "      <td>28</td>\n",
       "      <td>4</td>\n",
       "      <td>Менеджмент</td>\n",
       "      <td>-0.411765</td>\n",
       "    </tr>\n",
       "  </tbody>\n",
       "</table>\n",
       "</div>"
      ],
      "text/plain": [
       "                                           profession  final_state  \\\n",
       "1   Менеджер по продажам, менеджер по работе с кли...            1   \n",
       "2   Менеджер по продажам, менеджер по работе с кли...            1   \n",
       "4   Менеджер по продажам, менеджер по работе с кли...            1   \n",
       "5   Менеджер по продажам, менеджер по работе с кли...            1   \n",
       "11  Менеджер по продажам, менеджер по работе с кли...            0   \n",
       "16  Менеджер по продажам, менеджер по работе с кли...            1   \n",
       "\n",
       "    expected_salary  compensation_from  compensation_to  \\\n",
       "1           80000.0            60000.0         110000.0   \n",
       "2           60000.0            45000.0          50000.0   \n",
       "4           70000.0                0.0         275000.0   \n",
       "5           25000.0            25000.0          50000.0   \n",
       "11         150000.0           181400.0         249800.0   \n",
       "16          50000.0            80000.0         100000.0   \n",
       "\n",
       "    work_experience_months  education_level  occupation  delta_salary  \n",
       "1                      115                2  Менеджмент     -0.058824  \n",
       "2                       52                2  Менеджмент     -0.294118  \n",
       "4                       42                2  Менеджмент     -0.176471  \n",
       "5                        0                4  Менеджмент     -0.705882  \n",
       "11                      73                1  Менеджмент      0.764706  \n",
       "16                      28                4  Менеджмент     -0.411765  "
      ]
     },
     "execution_count": 15,
     "metadata": {},
     "output_type": "execute_result"
    }
   ],
   "source": [
    "df.head(6)"
   ]
  },
  {
   "cell_type": "code",
   "execution_count": null,
   "id": "044c6940",
   "metadata": {},
   "outputs": [],
   "source": []
  }
 ],
 "metadata": {
  "kernelspec": {
   "display_name": "Python 3 (ipykernel)",
   "language": "python",
   "name": "python3"
  },
  "language_info": {
   "codemirror_mode": {
    "name": "ipython",
    "version": 3
   },
   "file_extension": ".py",
   "mimetype": "text/x-python",
   "name": "python",
   "nbconvert_exporter": "python",
   "pygments_lexer": "ipython3",
   "version": "3.11.6"
  }
 },
 "nbformat": 4,
 "nbformat_minor": 5
}
