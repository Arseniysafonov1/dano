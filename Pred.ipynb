{
 "cells": [
  {
   "cell_type": "code",
   "execution_count": 54,
   "id": "26b6cf07",
   "metadata": {},
   "outputs": [],
   "source": [
    "import pandas as pd\n",
    "import matplotlib.pyplot as plt\n",
    "import seaborn as sns\n",
    "df = pd.read_csv('hh_ru_dataset.csv')"
   ]
  },
  {
   "cell_type": "code",
   "execution_count": 55,
   "id": "7f53f0f4",
   "metadata": {},
   "outputs": [
    {
     "data": {
      "text/plain": [
       "initial_state  final_state\n",
       "response       response       242739\n",
       "               invitation     102976\n",
       "invitation     invitation      80523\n",
       "response       discard         72006\n",
       "invitation     discard           846\n",
       "discard        discard            76\n",
       "dtype: int64"
      ]
     },
     "execution_count": 55,
     "metadata": {},
     "output_type": "execute_result"
    }
   ],
   "source": [
    "df[['initial_state', 'final_state']].value_counts()"
   ]
  },
  {
   "cell_type": "markdown",
   "id": "1bd4c992",
   "metadata": {},
   "source": [
    "В целом смотрим только на следующие столбцы: final_state, work_experience_months, education_level, expected_salary, compensation_from, compensation_to в срезе profession"
   ]
  },
  {
   "cell_type": "code",
   "execution_count": 56,
   "id": "6da0baaf",
   "metadata": {},
   "outputs": [],
   "source": [
    "\n",
    "# отбрасываем дубликаты\n",
    "# df = df[['profession', 'final_state', 'expected_salary', 'compensation_from', 'compensation_to'\n",
    "#          , 'work_experience_months', 'education_level']]\n",
    "df = df.drop_duplicates()\n",
    "df = df[(~df.profession.isna())&(~df.expected_salary.isna())&(~df.education_level.isna())&(~df.final_state.isna())&(~df.compensation_from.isna()) & (~df.compensation_to.isna()) & (~df.work_experience_months.isna())]\n",
    "df = df[(df.compensation_to != 0)&(df.expected_salary!=0)]"
   ]
  },
  {
   "cell_type": "code",
   "execution_count": 57,
   "id": "e3e8cd1d",
   "metadata": {},
   "outputs": [],
   "source": [
    "# compensation_from - убирать нули и выбросы?\n",
    "df = df[df.work_experience_months <= (df.year_of_birth + 1 - 14)*12]"
   ]
  },
  {
   "cell_type": "code",
   "execution_count": 58,
   "id": "a587995c",
   "metadata": {},
   "outputs": [],
   "source": [
    "# отбрасывание статусов response-response, т.к. не знаем что с ними делать\n",
    "df = df[df.final_state!='response']"
   ]
  },
  {
   "cell_type": "markdown",
   "id": "455da8bf",
   "metadata": {},
   "source": [
    "Новые столбцы"
   ]
  },
  {
   "cell_type": "code",
   "execution_count": 59,
   "id": "3f192bb2",
   "metadata": {},
   "outputs": [],
   "source": [
    "df['final_state'] = df['final_state'].map(lambda x: int(x=='invitation'))"
   ]
  },
  {
   "cell_type": "code",
   "execution_count": 60,
   "id": "009d9277",
   "metadata": {},
   "outputs": [],
   "source": [
    "\n",
    "edu_dict = {\n",
    "    'secondary' : 0,\n",
    "    'special_secondary': 1,\n",
    "    'unfinished_higher':2,\n",
    "    'bachelor':3,\n",
    "    'higher':3,\n",
    "    'master':4,\n",
    "    'candidate':4,\n",
    "    'doctor':4\n",
    "}\n",
    "df['education_level'] = df['education_level'].map(lambda x: edu_dict[x])"
   ]
  },
  {
   "cell_type": "code",
   "execution_count": 61,
   "id": "21f1edcd",
   "metadata": {},
   "outputs": [],
   "source": [
    "management = ['Менеджер по продажам, менеджер по работе с клиентами', 'Бухгалтер', 'Менеджер по маркетингу, интернет-маркетолог',\n",
    "             'Менеджер по персоналу', 'Менеджер по логистике, менеджер по ВЭД', 'Специалист по подбору персонала',\n",
    "             'Менеджер по закупкам', 'Директор магазина, директор сети магазинов', 'Руководитель отдела продаж',\n",
    "             'Офис-менеджер', 'Секретарь, помощник руководителя, ассистент', 'Руководитель проектов',\n",
    "             'Финансовый менеджер', 'Администратор', 'Продавец-консультант, продавец-кассир', \n",
    "             'Менеджер по туризму', 'Координатор отдела продаж', 'Менеджер ресторана', 'Специалист по кадрам',\n",
    "             'Менеджер/руководитель АХО']\n",
    "design = ['Дизайнер, художник']\n",
    "it = ['Программист, разработчик', 'Оператор ПК, оператор базы данных', 'Системный администратор',\n",
    "     'SMM-менеджер, контент-менеджер', 'Тестировщик', 'Аналитик']\n",
    "service = ['Официант, бармен, бариста', 'Специалист технической поддержки', 'Водитель', 'Охранник',\n",
    "          'Курьер', 'Супервайзер', 'Кассир-операционист', 'Диспетчер', 'Торговый представитель', \n",
    "          'Упаковщик, комплектовщик', 'Повар, пекарь, кондитер', 'Кладовщик', \n",
    "          'Продавец-консультант, продавец-кассир', 'Начальник склада', 'Фитнес-тренер, инструктор тренажерного зала',\n",
    "          'Товаровед', 'Оператор call-центра, специалист контактного центра', 'Уборщица, уборщик',\n",
    "          'Разнорабочий', 'Мерчандайзер']\n",
    "law = ['Делопроизводитель, архивариус', 'Юрисконсульт', 'Экономист', 'Юрист', 'Кредитный специалист']\n",
    "engineering = ['Инженер-энергетик, инженер-электрик', 'Сварщик', 'Инженер-конструктор, инженер-проектировщик',\n",
    "              'Слесарь, сантехник', 'Начальник производства', 'Начальник смены, мастер участка', \n",
    "              'Оператор производственной линии', 'Технолог', 'Машинист', 'Механик', 'Сервисный инженер, инженер-механик',\n",
    "              'Инженер по охране труда и технике безопасности, инженер-эколог']\n",
    "teacher = ['Учитель, преподаватель, педагог', 'Воспитатель, няня']\n",
    "med = ['Психолог', 'Врач']\n",
    "def f(x):\n",
    "    if x in management:\n",
    "        return \"Менеджмент\"\n",
    "    if x in design:\n",
    "        return \"Дизайн\"\n",
    "    if x in it:\n",
    "        return \"IT\"\n",
    "    if x in service:\n",
    "        return \"Сфера услуг\"\n",
    "    if x in law:\n",
    "        return \"Право/Экономика\"\n",
    "    if x in engineering:\n",
    "        return \"Инженерия/Промышленность\"\n",
    "    if x in teacher:\n",
    "        return \"Образование\"\n",
    "    return \"Медицина\"\n",
    "df['occupation'] = df.profession.map(f)"
   ]
  },
  {
   "cell_type": "code",
   "execution_count": 62,
   "id": "6c7054c4",
   "metadata": {},
   "outputs": [],
   "source": [
    "d = dict()\n",
    "qs = dict()\n",
    "compensation_qs = dict()\n",
    "for i in df.profession.unique():\n",
    "    temp = df[df.profession==i]\n",
    "    t1 = temp.groupby('resume_id').expected_salary.mean()\n",
    "    q1, q2 = t1.quantile(0.05), t1.quantile(0.95)\n",
    "    if q1 < 1000:\n",
    "        print(i)\n",
    "    if q2 > 1000000:\n",
    "        print(i, q2)\n",
    "    qs[i] = (q1, q2)\n",
    "    t2 = temp.groupby('vacancy_id').compensation_to.mean()\n",
    "    q1, q2 = t2.quantile(0.05), t2.quantile(0.95)\n",
    "    if q1 < 1000:\n",
    "        print(i)\n",
    "    if q2 > 1000000:\n",
    "        print(i, q2)\n",
    "    compensation_qs[i] = (q1, q2)\n",
    "    \n",
    "def app(x):\n",
    "    q = qs[x['profession']]\n",
    "    q1 = compensation_qs[x['profession']]\n",
    "    a = (q[0] <= x['expected_salary']) and (x['expected_salary'] <= q[1])\n",
    "    b = (q1[0] <= x['compensation_to']) and (x['compensation_to'] <= q1[1])\n",
    "    return  a and b\n",
    "df = df[df.apply(app, 1)]\n",
    "    \n",
    "    \n",
    "for i in df.profession.unique():\n",
    "    t = df[df.profession==i].groupby('vacancy_id')\n",
    "    d[i] = ((t.compensation_to.mean() + t.compensation_from.mean())/2).median() #медиана средних зп\n",
    "def temp(x):\n",
    "    t = d[x['profession']]\n",
    "    return (x['expected_salary'] - t) / t\n",
    "df['delta_salary'] = df.apply(temp, 1)"
   ]
  },
  {
   "cell_type": "code",
   "execution_count": 63,
   "id": "13ba03af",
   "metadata": {},
   "outputs": [],
   "source": [
    "df.to_csv('new_normal.csv')"
   ]
  },
  {
   "cell_type": "code",
   "execution_count": null,
   "id": "b385f166",
   "metadata": {},
   "outputs": [],
   "source": []
  },
  {
   "cell_type": "code",
   "execution_count": 64,
   "id": "18b3c3e5",
   "metadata": {},
   "outputs": [],
   "source": [
    "import statsmodels.api as sm\n",
    "from statsmodels.genmod.generalized_linear_model import GLM\n",
    "from statsmodels.genmod import families\n",
    "import statsmodels.stats.tests.test_influence\n",
    "import numpy as np"
   ]
  },
  {
   "cell_type": "code",
   "execution_count": 65,
   "id": "82211129",
   "metadata": {},
   "outputs": [],
   "source": [
    "def show_cat(cat, print_sum=False):\n",
    "    temp = df[df.profession.map(lambda x: x in cat)]\n",
    "    x = temp[['delta_salary', 'education_level', 'work_experience_months']]\n",
    "    x1 = sm.add_constant(x)\n",
    "    y = temp['final_state']\n",
    "    model_1 = sm.GLM(\n",
    "        y,\n",
    "        x1,\n",
    "        family=families.Binomial(),\n",
    "    ).fit()\n",
    "    if print_sum:\n",
    "        print(model_1.summary())\n",
    "    ans = str(model_1.summary()).splitlines()[15][61:66]\n",
    "    return float(ans)\n",
    "    # print(model_1.normalized_cov_params)\n",
    "    # return model_1.pvalues['delta_salary'], model_1.normalized_cov_params['delta_salary']"
   ]
  },
  {
   "cell_type": "code",
   "execution_count": 66,
   "id": "5fcf6c37",
   "metadata": {},
   "outputs": [
    {
     "name": "stdout",
     "output_type": "stream",
     "text": [
      "                 Generalized Linear Model Regression Results                  \n",
      "==============================================================================\n",
      "Dep. Variable:            final_state   No. Observations:                  572\n",
      "Model:                            GLM   Df Residuals:                      568\n",
      "Model Family:                Binomial   Df Model:                            3\n",
      "Link Function:                  Logit   Scale:                          1.0000\n",
      "Method:                          IRLS   Log-Likelihood:                -323.81\n",
      "Date:                Wed, 20 Dec 2023   Deviance:                       647.62\n",
      "Time:                        07:35:26   Pearson chi2:                     571.\n",
      "No. Iterations:                     4   Pseudo R-squ. (CS):           0.007547\n",
      "Covariance Type:            nonrobust                                         \n",
      "==========================================================================================\n",
      "                             coef    std err          z      P>|z|      [0.025      0.975]\n",
      "------------------------------------------------------------------------------------------\n",
      "const                      0.7471      0.710      1.052      0.293      -0.645       2.140\n",
      "delta_salary              -0.3698      0.255     -1.449      0.147      -0.870       0.130\n",
      "education_level            0.1447      0.237      0.611      0.541      -0.320       0.609\n",
      "work_experience_months    -0.0011      0.001     -1.257      0.209      -0.003       0.001\n",
      "==========================================================================================\n"
     ]
    },
    {
     "data": {
      "text/plain": [
       "0.147"
      ]
     },
     "execution_count": 66,
     "metadata": {},
     "output_type": "execute_result"
    }
   ],
   "source": [
    "show_cat(['Врач'], True)"
   ]
  },
  {
   "cell_type": "code",
   "execution_count": 67,
   "id": "b0f2ec29",
   "metadata": {},
   "outputs": [],
   "source": [
    "def show_cat_1(temp, print_sum=False):\n",
    "    x = temp[['delta_salary', 'education_level', 'work_experience_months']]\n",
    "    x1 = sm.add_constant(x)\n",
    "    y = temp['final_state']\n",
    "    model_1 = sm.GLM(\n",
    "        y,\n",
    "        x1,\n",
    "        family=families.Binomial(),\n",
    "    ).fit()\n",
    "    if print_sum:\n",
    "        print(model_1.summary())\n",
    "    ans = str(model_1.summary()).splitlines()[15][61:66]\n",
    "    return float(ans)\n",
    "    # print(model_1.normalized_cov_params)\n",
    "    # return model_1.pvalues['delta_salary'], model_1.normalized_cov_params['delta_salary']\n",
    "def show_cat_diff(row, print_sum=False):\n",
    "    a = df[df[row] <= df[row].median()]\n",
    "    b = df[df[row] > df[row].median()]\n",
    "    return (show_cat_1(a, print_sum), show_cat_1(b, print_sum))"
   ]
  },
  {
   "cell_type": "code",
   "execution_count": 68,
   "id": "d1e12d4b",
   "metadata": {},
   "outputs": [
    {
     "name": "stderr",
     "output_type": "stream",
     "text": [
      "/tmp/ipykernel_20677/1135646397.py:5: FutureWarning: The frame.append method is deprecated and will be removed from pandas in a future version. Use pandas.concat instead.\n",
      "  res=res.append({'profession':i, 'p-value':t, 'df_counts':(df.occupation==i).sum(),\n",
      "/tmp/ipykernel_20677/1135646397.py:5: FutureWarning: The frame.append method is deprecated and will be removed from pandas in a future version. Use pandas.concat instead.\n",
      "  res=res.append({'profession':i, 'p-value':t, 'df_counts':(df.occupation==i).sum(),\n",
      "/tmp/ipykernel_20677/1135646397.py:5: FutureWarning: The frame.append method is deprecated and will be removed from pandas in a future version. Use pandas.concat instead.\n",
      "  res=res.append({'profession':i, 'p-value':t, 'df_counts':(df.occupation==i).sum(),\n",
      "/tmp/ipykernel_20677/1135646397.py:5: FutureWarning: The frame.append method is deprecated and will be removed from pandas in a future version. Use pandas.concat instead.\n",
      "  res=res.append({'profession':i, 'p-value':t, 'df_counts':(df.occupation==i).sum(),\n",
      "/tmp/ipykernel_20677/1135646397.py:5: FutureWarning: The frame.append method is deprecated and will be removed from pandas in a future version. Use pandas.concat instead.\n",
      "  res=res.append({'profession':i, 'p-value':t, 'df_counts':(df.occupation==i).sum(),\n",
      "/tmp/ipykernel_20677/1135646397.py:5: FutureWarning: The frame.append method is deprecated and will be removed from pandas in a future version. Use pandas.concat instead.\n",
      "  res=res.append({'profession':i, 'p-value':t, 'df_counts':(df.occupation==i).sum(),\n",
      "/tmp/ipykernel_20677/1135646397.py:5: FutureWarning: The frame.append method is deprecated and will be removed from pandas in a future version. Use pandas.concat instead.\n",
      "  res=res.append({'profession':i, 'p-value':t, 'df_counts':(df.occupation==i).sum(),\n",
      "/tmp/ipykernel_20677/1135646397.py:5: FutureWarning: The frame.append method is deprecated and will be removed from pandas in a future version. Use pandas.concat instead.\n",
      "  res=res.append({'profession':i, 'p-value':t, 'df_counts':(df.occupation==i).sum(),\n"
     ]
    },
    {
     "data": {
      "text/html": [
       "<div>\n",
       "<style scoped>\n",
       "    .dataframe tbody tr th:only-of-type {\n",
       "        vertical-align: middle;\n",
       "    }\n",
       "\n",
       "    .dataframe tbody tr th {\n",
       "        vertical-align: top;\n",
       "    }\n",
       "\n",
       "    .dataframe thead th {\n",
       "        text-align: right;\n",
       "    }\n",
       "</style>\n",
       "<table border=\"1\" class=\"dataframe\">\n",
       "  <thead>\n",
       "    <tr style=\"text-align: right;\">\n",
       "      <th></th>\n",
       "      <th>Сфера деятельности</th>\n",
       "      <th>p-значение</th>\n",
       "      <th>Количество наблюдений</th>\n",
       "      <th>Значимость отклонения</th>\n",
       "    </tr>\n",
       "  </thead>\n",
       "  <tbody>\n",
       "    <tr>\n",
       "      <th>0</th>\n",
       "      <td>Менеджмент</td>\n",
       "      <td>0.0</td>\n",
       "      <td>35750</td>\n",
       "      <td>YES</td>\n",
       "    </tr>\n",
       "    <tr>\n",
       "      <th>1</th>\n",
       "      <td>Дизайн</td>\n",
       "      <td>0.0</td>\n",
       "      <td>858</td>\n",
       "      <td>YES</td>\n",
       "    </tr>\n",
       "    <tr>\n",
       "      <th>2</th>\n",
       "      <td>IT</td>\n",
       "      <td>0.0</td>\n",
       "      <td>14708</td>\n",
       "      <td>YES</td>\n",
       "    </tr>\n",
       "    <tr>\n",
       "      <th>3</th>\n",
       "      <td>Сфера услуг</td>\n",
       "      <td>0.0</td>\n",
       "      <td>39321</td>\n",
       "      <td>YES</td>\n",
       "    </tr>\n",
       "    <tr>\n",
       "      <th>4</th>\n",
       "      <td>Право/Экономика</td>\n",
       "      <td>0.0</td>\n",
       "      <td>8291</td>\n",
       "      <td>YES</td>\n",
       "    </tr>\n",
       "    <tr>\n",
       "      <th>5</th>\n",
       "      <td>Инженерия/Промышленность</td>\n",
       "      <td>0.0</td>\n",
       "      <td>12226</td>\n",
       "      <td>YES</td>\n",
       "    </tr>\n",
       "    <tr>\n",
       "      <th>6</th>\n",
       "      <td>Образование</td>\n",
       "      <td>0.0</td>\n",
       "      <td>981</td>\n",
       "      <td>YES</td>\n",
       "    </tr>\n",
       "    <tr>\n",
       "      <th>7</th>\n",
       "      <td>Медицина</td>\n",
       "      <td>0.0</td>\n",
       "      <td>1141</td>\n",
       "      <td>YES</td>\n",
       "    </tr>\n",
       "  </tbody>\n",
       "</table>\n",
       "</div>"
      ],
      "text/plain": [
       "         Сфера деятельности  p-значение Количество наблюдений  \\\n",
       "0                Менеджмент         0.0                 35750   \n",
       "1                    Дизайн         0.0                   858   \n",
       "2                        IT         0.0                 14708   \n",
       "3               Сфера услуг         0.0                 39321   \n",
       "4           Право/Экономика         0.0                  8291   \n",
       "5  Инженерия/Промышленность         0.0                 12226   \n",
       "6               Образование         0.0                   981   \n",
       "7                  Медицина         0.0                  1141   \n",
       "\n",
       "  Значимость отклонения  \n",
       "0                   YES  \n",
       "1                   YES  \n",
       "2                   YES  \n",
       "3                   YES  \n",
       "4                   YES  \n",
       "5                   YES  \n",
       "6                   YES  \n",
       "7                   YES  "
      ]
     },
     "execution_count": 68,
     "metadata": {},
     "output_type": "execute_result"
    }
   ],
   "source": [
    "res = pd.DataFrame({}, columns=['profession', 'p-value', 'df_counts', 'ok'])\n",
    "for i in df.occupation.unique():\n",
    "    t = show_cat_1(df[df.occupation==i])\n",
    "    if True:\n",
    "        res=res.append({'profession':i, 'p-value':t, 'df_counts':(df.occupation==i).sum(),\n",
    "                       'ok':\"YES\" if t<0.05 else \"No\"}, ignore_index=True)\n",
    "res.columns = ['Сфера деятельности', 'p-значение', 'Количество наблюдений', 'Значимость отклонения']\n",
    "res"
   ]
  },
  {
   "cell_type": "code",
   "execution_count": 69,
   "id": "860f3241",
   "metadata": {},
   "outputs": [
    {
     "name": "stderr",
     "output_type": "stream",
     "text": [
      "/tmp/ipykernel_20677/185143353.py:5: FutureWarning: The frame.append method is deprecated and will be removed from pandas in a future version. Use pandas.concat instead.\n",
      "  res=res.append({'profession':i, 'p-value':t,\n",
      "/tmp/ipykernel_20677/185143353.py:5: FutureWarning: The frame.append method is deprecated and will be removed from pandas in a future version. Use pandas.concat instead.\n",
      "  res=res.append({'profession':i, 'p-value':t,\n",
      "/tmp/ipykernel_20677/185143353.py:5: FutureWarning: The frame.append method is deprecated and will be removed from pandas in a future version. Use pandas.concat instead.\n",
      "  res=res.append({'profession':i, 'p-value':t,\n",
      "/tmp/ipykernel_20677/185143353.py:5: FutureWarning: The frame.append method is deprecated and will be removed from pandas in a future version. Use pandas.concat instead.\n",
      "  res=res.append({'profession':i, 'p-value':t,\n",
      "/tmp/ipykernel_20677/185143353.py:5: FutureWarning: The frame.append method is deprecated and will be removed from pandas in a future version. Use pandas.concat instead.\n",
      "  res=res.append({'profession':i, 'p-value':t,\n",
      "/tmp/ipykernel_20677/185143353.py:5: FutureWarning: The frame.append method is deprecated and will be removed from pandas in a future version. Use pandas.concat instead.\n",
      "  res=res.append({'profession':i, 'p-value':t,\n",
      "/tmp/ipykernel_20677/185143353.py:5: FutureWarning: The frame.append method is deprecated and will be removed from pandas in a future version. Use pandas.concat instead.\n",
      "  res=res.append({'profession':i, 'p-value':t,\n",
      "/tmp/ipykernel_20677/185143353.py:5: FutureWarning: The frame.append method is deprecated and will be removed from pandas in a future version. Use pandas.concat instead.\n",
      "  res=res.append({'profession':i, 'p-value':t,\n",
      "/tmp/ipykernel_20677/185143353.py:5: FutureWarning: The frame.append method is deprecated and will be removed from pandas in a future version. Use pandas.concat instead.\n",
      "  res=res.append({'profession':i, 'p-value':t,\n",
      "/tmp/ipykernel_20677/185143353.py:5: FutureWarning: The frame.append method is deprecated and will be removed from pandas in a future version. Use pandas.concat instead.\n",
      "  res=res.append({'profession':i, 'p-value':t,\n",
      "/tmp/ipykernel_20677/185143353.py:5: FutureWarning: The frame.append method is deprecated and will be removed from pandas in a future version. Use pandas.concat instead.\n",
      "  res=res.append({'profession':i, 'p-value':t,\n",
      "/tmp/ipykernel_20677/185143353.py:5: FutureWarning: The frame.append method is deprecated and will be removed from pandas in a future version. Use pandas.concat instead.\n",
      "  res=res.append({'profession':i, 'p-value':t,\n",
      "/tmp/ipykernel_20677/185143353.py:5: FutureWarning: The frame.append method is deprecated and will be removed from pandas in a future version. Use pandas.concat instead.\n",
      "  res=res.append({'profession':i, 'p-value':t,\n",
      "/tmp/ipykernel_20677/185143353.py:5: FutureWarning: The frame.append method is deprecated and will be removed from pandas in a future version. Use pandas.concat instead.\n",
      "  res=res.append({'profession':i, 'p-value':t,\n",
      "/tmp/ipykernel_20677/185143353.py:5: FutureWarning: The frame.append method is deprecated and will be removed from pandas in a future version. Use pandas.concat instead.\n",
      "  res=res.append({'profession':i, 'p-value':t,\n",
      "/tmp/ipykernel_20677/185143353.py:5: FutureWarning: The frame.append method is deprecated and will be removed from pandas in a future version. Use pandas.concat instead.\n",
      "  res=res.append({'profession':i, 'p-value':t,\n",
      "/tmp/ipykernel_20677/185143353.py:5: FutureWarning: The frame.append method is deprecated and will be removed from pandas in a future version. Use pandas.concat instead.\n",
      "  res=res.append({'profession':i, 'p-value':t,\n",
      "/tmp/ipykernel_20677/185143353.py:5: FutureWarning: The frame.append method is deprecated and will be removed from pandas in a future version. Use pandas.concat instead.\n",
      "  res=res.append({'profession':i, 'p-value':t,\n",
      "/tmp/ipykernel_20677/185143353.py:5: FutureWarning: The frame.append method is deprecated and will be removed from pandas in a future version. Use pandas.concat instead.\n",
      "  res=res.append({'profession':i, 'p-value':t,\n",
      "/tmp/ipykernel_20677/185143353.py:5: FutureWarning: The frame.append method is deprecated and will be removed from pandas in a future version. Use pandas.concat instead.\n",
      "  res=res.append({'profession':i, 'p-value':t,\n",
      "/tmp/ipykernel_20677/185143353.py:5: FutureWarning: The frame.append method is deprecated and will be removed from pandas in a future version. Use pandas.concat instead.\n",
      "  res=res.append({'profession':i, 'p-value':t,\n",
      "/tmp/ipykernel_20677/185143353.py:5: FutureWarning: The frame.append method is deprecated and will be removed from pandas in a future version. Use pandas.concat instead.\n",
      "  res=res.append({'profession':i, 'p-value':t,\n",
      "/tmp/ipykernel_20677/185143353.py:5: FutureWarning: The frame.append method is deprecated and will be removed from pandas in a future version. Use pandas.concat instead.\n",
      "  res=res.append({'profession':i, 'p-value':t,\n",
      "/tmp/ipykernel_20677/185143353.py:5: FutureWarning: The frame.append method is deprecated and will be removed from pandas in a future version. Use pandas.concat instead.\n",
      "  res=res.append({'profession':i, 'p-value':t,\n",
      "/tmp/ipykernel_20677/185143353.py:5: FutureWarning: The frame.append method is deprecated and will be removed from pandas in a future version. Use pandas.concat instead.\n",
      "  res=res.append({'profession':i, 'p-value':t,\n",
      "/tmp/ipykernel_20677/185143353.py:5: FutureWarning: The frame.append method is deprecated and will be removed from pandas in a future version. Use pandas.concat instead.\n",
      "  res=res.append({'profession':i, 'p-value':t,\n",
      "/tmp/ipykernel_20677/185143353.py:5: FutureWarning: The frame.append method is deprecated and will be removed from pandas in a future version. Use pandas.concat instead.\n",
      "  res=res.append({'profession':i, 'p-value':t,\n",
      "/tmp/ipykernel_20677/185143353.py:5: FutureWarning: The frame.append method is deprecated and will be removed from pandas in a future version. Use pandas.concat instead.\n",
      "  res=res.append({'profession':i, 'p-value':t,\n",
      "/tmp/ipykernel_20677/185143353.py:5: FutureWarning: The frame.append method is deprecated and will be removed from pandas in a future version. Use pandas.concat instead.\n",
      "  res=res.append({'profession':i, 'p-value':t,\n",
      "/tmp/ipykernel_20677/185143353.py:5: FutureWarning: The frame.append method is deprecated and will be removed from pandas in a future version. Use pandas.concat instead.\n",
      "  res=res.append({'profession':i, 'p-value':t,\n",
      "/tmp/ipykernel_20677/185143353.py:5: FutureWarning: The frame.append method is deprecated and will be removed from pandas in a future version. Use pandas.concat instead.\n",
      "  res=res.append({'profession':i, 'p-value':t,\n",
      "/tmp/ipykernel_20677/185143353.py:5: FutureWarning: The frame.append method is deprecated and will be removed from pandas in a future version. Use pandas.concat instead.\n",
      "  res=res.append({'profession':i, 'p-value':t,\n",
      "/tmp/ipykernel_20677/185143353.py:5: FutureWarning: The frame.append method is deprecated and will be removed from pandas in a future version. Use pandas.concat instead.\n",
      "  res=res.append({'profession':i, 'p-value':t,\n",
      "/tmp/ipykernel_20677/185143353.py:5: FutureWarning: The frame.append method is deprecated and will be removed from pandas in a future version. Use pandas.concat instead.\n",
      "  res=res.append({'profession':i, 'p-value':t,\n",
      "/tmp/ipykernel_20677/185143353.py:5: FutureWarning: The frame.append method is deprecated and will be removed from pandas in a future version. Use pandas.concat instead.\n",
      "  res=res.append({'profession':i, 'p-value':t,\n",
      "/tmp/ipykernel_20677/185143353.py:5: FutureWarning: The frame.append method is deprecated and will be removed from pandas in a future version. Use pandas.concat instead.\n",
      "  res=res.append({'profession':i, 'p-value':t,\n",
      "/tmp/ipykernel_20677/185143353.py:5: FutureWarning: The frame.append method is deprecated and will be removed from pandas in a future version. Use pandas.concat instead.\n",
      "  res=res.append({'profession':i, 'p-value':t,\n",
      "/tmp/ipykernel_20677/185143353.py:5: FutureWarning: The frame.append method is deprecated and will be removed from pandas in a future version. Use pandas.concat instead.\n",
      "  res=res.append({'profession':i, 'p-value':t,\n",
      "/tmp/ipykernel_20677/185143353.py:5: FutureWarning: The frame.append method is deprecated and will be removed from pandas in a future version. Use pandas.concat instead.\n",
      "  res=res.append({'profession':i, 'p-value':t,\n"
     ]
    },
    {
     "name": "stderr",
     "output_type": "stream",
     "text": [
      "/tmp/ipykernel_20677/185143353.py:5: FutureWarning: The frame.append method is deprecated and will be removed from pandas in a future version. Use pandas.concat instead.\n",
      "  res=res.append({'profession':i, 'p-value':t,\n",
      "/tmp/ipykernel_20677/185143353.py:5: FutureWarning: The frame.append method is deprecated and will be removed from pandas in a future version. Use pandas.concat instead.\n",
      "  res=res.append({'profession':i, 'p-value':t,\n",
      "/tmp/ipykernel_20677/185143353.py:5: FutureWarning: The frame.append method is deprecated and will be removed from pandas in a future version. Use pandas.concat instead.\n",
      "  res=res.append({'profession':i, 'p-value':t,\n",
      "/tmp/ipykernel_20677/185143353.py:5: FutureWarning: The frame.append method is deprecated and will be removed from pandas in a future version. Use pandas.concat instead.\n",
      "  res=res.append({'profession':i, 'p-value':t,\n",
      "/tmp/ipykernel_20677/185143353.py:5: FutureWarning: The frame.append method is deprecated and will be removed from pandas in a future version. Use pandas.concat instead.\n",
      "  res=res.append({'profession':i, 'p-value':t,\n",
      "/tmp/ipykernel_20677/185143353.py:5: FutureWarning: The frame.append method is deprecated and will be removed from pandas in a future version. Use pandas.concat instead.\n",
      "  res=res.append({'profession':i, 'p-value':t,\n",
      "/tmp/ipykernel_20677/185143353.py:5: FutureWarning: The frame.append method is deprecated and will be removed from pandas in a future version. Use pandas.concat instead.\n",
      "  res=res.append({'profession':i, 'p-value':t,\n",
      "/tmp/ipykernel_20677/185143353.py:5: FutureWarning: The frame.append method is deprecated and will be removed from pandas in a future version. Use pandas.concat instead.\n",
      "  res=res.append({'profession':i, 'p-value':t,\n",
      "/tmp/ipykernel_20677/185143353.py:5: FutureWarning: The frame.append method is deprecated and will be removed from pandas in a future version. Use pandas.concat instead.\n",
      "  res=res.append({'profession':i, 'p-value':t,\n",
      "/tmp/ipykernel_20677/185143353.py:5: FutureWarning: The frame.append method is deprecated and will be removed from pandas in a future version. Use pandas.concat instead.\n",
      "  res=res.append({'profession':i, 'p-value':t,\n",
      "/tmp/ipykernel_20677/185143353.py:5: FutureWarning: The frame.append method is deprecated and will be removed from pandas in a future version. Use pandas.concat instead.\n",
      "  res=res.append({'profession':i, 'p-value':t,\n",
      "/tmp/ipykernel_20677/185143353.py:5: FutureWarning: The frame.append method is deprecated and will be removed from pandas in a future version. Use pandas.concat instead.\n",
      "  res=res.append({'profession':i, 'p-value':t,\n",
      "/tmp/ipykernel_20677/185143353.py:5: FutureWarning: The frame.append method is deprecated and will be removed from pandas in a future version. Use pandas.concat instead.\n",
      "  res=res.append({'profession':i, 'p-value':t,\n",
      "/tmp/ipykernel_20677/185143353.py:5: FutureWarning: The frame.append method is deprecated and will be removed from pandas in a future version. Use pandas.concat instead.\n",
      "  res=res.append({'profession':i, 'p-value':t,\n",
      "/tmp/ipykernel_20677/185143353.py:5: FutureWarning: The frame.append method is deprecated and will be removed from pandas in a future version. Use pandas.concat instead.\n",
      "  res=res.append({'profession':i, 'p-value':t,\n",
      "/tmp/ipykernel_20677/185143353.py:5: FutureWarning: The frame.append method is deprecated and will be removed from pandas in a future version. Use pandas.concat instead.\n",
      "  res=res.append({'profession':i, 'p-value':t,\n",
      "/tmp/ipykernel_20677/185143353.py:5: FutureWarning: The frame.append method is deprecated and will be removed from pandas in a future version. Use pandas.concat instead.\n",
      "  res=res.append({'profession':i, 'p-value':t,\n",
      "/tmp/ipykernel_20677/185143353.py:5: FutureWarning: The frame.append method is deprecated and will be removed from pandas in a future version. Use pandas.concat instead.\n",
      "  res=res.append({'profession':i, 'p-value':t,\n",
      "/tmp/ipykernel_20677/185143353.py:5: FutureWarning: The frame.append method is deprecated and will be removed from pandas in a future version. Use pandas.concat instead.\n",
      "  res=res.append({'profession':i, 'p-value':t,\n",
      "/tmp/ipykernel_20677/185143353.py:5: FutureWarning: The frame.append method is deprecated and will be removed from pandas in a future version. Use pandas.concat instead.\n",
      "  res=res.append({'profession':i, 'p-value':t,\n",
      "/tmp/ipykernel_20677/185143353.py:5: FutureWarning: The frame.append method is deprecated and will be removed from pandas in a future version. Use pandas.concat instead.\n",
      "  res=res.append({'profession':i, 'p-value':t,\n",
      "/tmp/ipykernel_20677/185143353.py:5: FutureWarning: The frame.append method is deprecated and will be removed from pandas in a future version. Use pandas.concat instead.\n",
      "  res=res.append({'profession':i, 'p-value':t,\n",
      "/tmp/ipykernel_20677/185143353.py:5: FutureWarning: The frame.append method is deprecated and will be removed from pandas in a future version. Use pandas.concat instead.\n",
      "  res=res.append({'profession':i, 'p-value':t,\n",
      "/tmp/ipykernel_20677/185143353.py:5: FutureWarning: The frame.append method is deprecated and will be removed from pandas in a future version. Use pandas.concat instead.\n",
      "  res=res.append({'profession':i, 'p-value':t,\n",
      "/tmp/ipykernel_20677/185143353.py:5: FutureWarning: The frame.append method is deprecated and will be removed from pandas in a future version. Use pandas.concat instead.\n",
      "  res=res.append({'profession':i, 'p-value':t,\n",
      "/tmp/ipykernel_20677/185143353.py:5: FutureWarning: The frame.append method is deprecated and will be removed from pandas in a future version. Use pandas.concat instead.\n",
      "  res=res.append({'profession':i, 'p-value':t,\n",
      "/tmp/ipykernel_20677/185143353.py:5: FutureWarning: The frame.append method is deprecated and will be removed from pandas in a future version. Use pandas.concat instead.\n",
      "  res=res.append({'profession':i, 'p-value':t,\n",
      "/tmp/ipykernel_20677/185143353.py:5: FutureWarning: The frame.append method is deprecated and will be removed from pandas in a future version. Use pandas.concat instead.\n",
      "  res=res.append({'profession':i, 'p-value':t,\n",
      "/tmp/ipykernel_20677/185143353.py:5: FutureWarning: The frame.append method is deprecated and will be removed from pandas in a future version. Use pandas.concat instead.\n",
      "  res=res.append({'profession':i, 'p-value':t,\n"
     ]
    },
    {
     "data": {
      "text/html": [
       "<div>\n",
       "<style scoped>\n",
       "    .dataframe tbody tr th:only-of-type {\n",
       "        vertical-align: middle;\n",
       "    }\n",
       "\n",
       "    .dataframe tbody tr th {\n",
       "        vertical-align: top;\n",
       "    }\n",
       "\n",
       "    .dataframe thead th {\n",
       "        text-align: right;\n",
       "    }\n",
       "</style>\n",
       "<table border=\"1\" class=\"dataframe\">\n",
       "  <thead>\n",
       "    <tr style=\"text-align: right;\">\n",
       "      <th></th>\n",
       "      <th>Специальность</th>\n",
       "      <th>p-значение</th>\n",
       "      <th>Средняя зп для специальности</th>\n",
       "      <th>Количество наблюдений</th>\n",
       "      <th>Значимость отклонения</th>\n",
       "    </tr>\n",
       "  </thead>\n",
       "  <tbody>\n",
       "    <tr>\n",
       "      <th>0</th>\n",
       "      <td>Менеджер по продажам, менеджер по работе с кли...</td>\n",
       "      <td>0.000</td>\n",
       "      <td>90000.0</td>\n",
       "      <td>9924</td>\n",
       "      <td>YES</td>\n",
       "    </tr>\n",
       "    <tr>\n",
       "      <th>1</th>\n",
       "      <td>Дизайнер, художник</td>\n",
       "      <td>0.000</td>\n",
       "      <td>60000.0</td>\n",
       "      <td>858</td>\n",
       "      <td>YES</td>\n",
       "    </tr>\n",
       "    <tr>\n",
       "      <th>2</th>\n",
       "      <td>Программист, разработчик</td>\n",
       "      <td>0.040</td>\n",
       "      <td>90000.0</td>\n",
       "      <td>1089</td>\n",
       "      <td>YES</td>\n",
       "    </tr>\n",
       "    <tr>\n",
       "      <th>3</th>\n",
       "      <td>Бухгалтер</td>\n",
       "      <td>0.000</td>\n",
       "      <td>58875.0</td>\n",
       "      <td>2183</td>\n",
       "      <td>YES</td>\n",
       "    </tr>\n",
       "    <tr>\n",
       "      <th>4</th>\n",
       "      <td>Менеджер по маркетингу, интернет-маркетолог</td>\n",
       "      <td>0.253</td>\n",
       "      <td>72500.0</td>\n",
       "      <td>1232</td>\n",
       "      <td>No</td>\n",
       "    </tr>\n",
       "    <tr>\n",
       "      <th>...</th>\n",
       "      <td>...</td>\n",
       "      <td>...</td>\n",
       "      <td>...</td>\n",
       "      <td>...</td>\n",
       "      <td>...</td>\n",
       "    </tr>\n",
       "    <tr>\n",
       "      <th>63</th>\n",
       "      <td>Разнорабочий</td>\n",
       "      <td>0.473</td>\n",
       "      <td>64712.5</td>\n",
       "      <td>755</td>\n",
       "      <td>No</td>\n",
       "    </tr>\n",
       "    <tr>\n",
       "      <th>64</th>\n",
       "      <td>Кредитный специалист</td>\n",
       "      <td>0.000</td>\n",
       "      <td>60000.0</td>\n",
       "      <td>648</td>\n",
       "      <td>YES</td>\n",
       "    </tr>\n",
       "    <tr>\n",
       "      <th>65</th>\n",
       "      <td>Инженер по охране труда и технике безопасности...</td>\n",
       "      <td>0.025</td>\n",
       "      <td>72500.0</td>\n",
       "      <td>190</td>\n",
       "      <td>YES</td>\n",
       "    </tr>\n",
       "    <tr>\n",
       "      <th>66</th>\n",
       "      <td>Специалист по кадрам</td>\n",
       "      <td>0.000</td>\n",
       "      <td>57500.0</td>\n",
       "      <td>270</td>\n",
       "      <td>YES</td>\n",
       "    </tr>\n",
       "    <tr>\n",
       "      <th>67</th>\n",
       "      <td>Менеджер/руководитель АХО</td>\n",
       "      <td>0.011</td>\n",
       "      <td>75000.0</td>\n",
       "      <td>204</td>\n",
       "      <td>YES</td>\n",
       "    </tr>\n",
       "  </tbody>\n",
       "</table>\n",
       "<p>68 rows × 5 columns</p>\n",
       "</div>"
      ],
      "text/plain": [
       "                                        Специальность  p-значение  \\\n",
       "0   Менеджер по продажам, менеджер по работе с кли...       0.000   \n",
       "1                                  Дизайнер, художник       0.000   \n",
       "2                            Программист, разработчик       0.040   \n",
       "3                                           Бухгалтер       0.000   \n",
       "4         Менеджер по маркетингу, интернет-маркетолог       0.253   \n",
       "..                                                ...         ...   \n",
       "63                                       Разнорабочий       0.473   \n",
       "64                               Кредитный специалист       0.000   \n",
       "65  Инженер по охране труда и технике безопасности...       0.025   \n",
       "66                               Специалист по кадрам       0.000   \n",
       "67                          Менеджер/руководитель АХО       0.011   \n",
       "\n",
       "    Средняя зп для специальности Количество наблюдений Значимость отклонения  \n",
       "0                        90000.0                  9924                   YES  \n",
       "1                        60000.0                   858                   YES  \n",
       "2                        90000.0                  1089                   YES  \n",
       "3                        58875.0                  2183                   YES  \n",
       "4                        72500.0                  1232                    No  \n",
       "..                           ...                   ...                   ...  \n",
       "63                       64712.5                   755                    No  \n",
       "64                       60000.0                   648                   YES  \n",
       "65                       72500.0                   190                   YES  \n",
       "66                       57500.0                   270                   YES  \n",
       "67                       75000.0                   204                   YES  \n",
       "\n",
       "[68 rows x 5 columns]"
      ]
     },
     "execution_count": 69,
     "metadata": {},
     "output_type": "execute_result"
    }
   ],
   "source": [
    "res = pd.DataFrame({}, columns=['profession', 'p-value', 'mean_salary', 'df_counts', 'ok'])\n",
    "for i in df.profession.unique():\n",
    "    t = show_cat([i])\n",
    "    if True:\n",
    "        res=res.append({'profession':i, 'p-value':t,\n",
    "                   'mean_salary':d[i], 'df_counts':(df.profession==i).sum(),\n",
    "                       'ok':\"No\" if (t>0.05) else \"YES\"}, ignore_index=True)\n",
    "res.columns = ['Специальность', 'p-значение', 'Средняя зп для специальности', 'Количество наблюдений', 'Значимость отклонения']\n",
    "res"
   ]
  },
  {
   "cell_type": "code",
   "execution_count": 70,
   "id": "fd84deba",
   "metadata": {},
   "outputs": [
    {
     "data": {
      "image/png": "[encoded data removed]",
      "text/plain": [
       "<Figure size 640x480 with 1 Axes>"
      ]
     },
     "metadata": {},
     "output_type": "display_data"
    }
   ],
   "source": [
    "t = res[res['p-значение']>0.04]\n",
    "t = t.sort_values('p-значение')\n",
    "ax=t[['Специальность', 'p-значение']].plot(kind='barh', x='Специальность',ylabel='Специальность',\n",
    "                                                                     xlabel = 'p-значение',color = 'orange')\n",
    "ax.axvline(0.05, color='red', linestyle='dashed', linewidth=2)\n",
    "\n",
    "plt.savefig('img/ochen_krutoi_graphik', bbox_inches='tight')"
   ]
  },
  {
   "cell_type": "code",
   "execution_count": 71,
   "id": "f364da29",
   "metadata": {},
   "outputs": [
    {
     "data": {
      "image/png": "[encoded data removed]",
      "text/plain": [
       "<Figure size 640x480 with 1 Axes>"
      ]
     },
     "metadata": {},
     "output_type": "display_data"
    }
   ],
   "source": [
    "ax = res['p-значение'].plot.hist(bins=res['p-значение'].nunique(), color='orange')\n",
    "plt.xlabel('p-значение')\n",
    "plt.ylabel('Количество наблюдений')\n",
    "plt.title('Распределение p-значений')\n",
    "ax.axvline(0.05, color='red', linestyle='dashed', linewidth=2)\n",
    "plt.savefig('img/p-value_rasp.png')"
   ]
  },
  {
   "cell_type": "code",
   "execution_count": 72,
   "id": "9daaa850",
   "metadata": {},
   "outputs": [
    {
     "data": {
      "text/plain": [
       "(113276, 70638, 73913)"
      ]
     },
     "execution_count": 72,
     "metadata": {},
     "output_type": "execute_result"
    }
   ],
   "source": [
    "len(df), df.resume_id.nunique(), df.vacancy_id.nunique()"
   ]
  },
  {
   "cell_type": "code",
   "execution_count": 73,
   "id": "b2741f2a",
   "metadata": {},
   "outputs": [
    {
     "name": "stdout",
     "output_type": "stream",
     "text": [
      "                 Generalized Linear Model Regression Results                  \n",
      "==============================================================================\n",
      "Dep. Variable:            final_state   No. Observations:               113276\n",
      "Model:                            GLM   Df Residuals:                   113272\n",
      "Model Family:                Binomial   Df Model:                            3\n",
      "Link Function:                  Logit   Scale:                          1.0000\n",
      "Method:                          IRLS   Log-Likelihood:                -64937.\n",
      "Date:                Wed, 20 Dec 2023   Deviance:                   1.2987e+05\n",
      "Time:                        07:36:49   Pearson chi2:                 1.15e+05\n",
      "No. Iterations:                     5   Pseudo R-squ. (CS):            0.04075\n",
      "Covariance Type:            nonrobust                                         \n",
      "==========================================================================================\n",
      "                             coef    std err          z      P>|z|      [0.025      0.975]\n",
      "------------------------------------------------------------------------------------------\n",
      "const                      1.3531      0.015     87.841      0.000       1.323       1.383\n",
      "delta_salary              -0.7975      0.019    -42.072      0.000      -0.835      -0.760\n",
      "education_level           -0.1433      0.006    -23.597      0.000      -0.155      -0.131\n",
      "work_experience_months    -0.0021   7.74e-05    -27.446      0.000      -0.002      -0.002\n",
      "==========================================================================================\n"
     ]
    },
    {
     "data": {
      "text/plain": [
       "0.0"
      ]
     },
     "execution_count": 73,
     "metadata": {},
     "output_type": "execute_result"
    }
   ],
   "source": [
    "show_cat(df.profession.unique(), True)"
   ]
  },
  {
   "cell_type": "code",
   "execution_count": 74,
   "id": "85039769",
   "metadata": {},
   "outputs": [],
   "source": [
    "df['gender_num'] = df.gender.map(lambda x: float(x=='male'))"
   ]
  },
  {
   "cell_type": "code",
   "execution_count": 75,
   "id": "d5af3978",
   "metadata": {},
   "outputs": [
    {
     "name": "stdout",
     "output_type": "stream",
     "text": [
      "                 Generalized Linear Model Regression Results                  \n",
      "==============================================================================\n",
      "Dep. Variable:            final_state   No. Observations:                62840\n",
      "Model:                            GLM   Df Residuals:                    62836\n",
      "Model Family:                Binomial   Df Model:                            3\n",
      "Link Function:                  Logit   Scale:                          1.0000\n",
      "Method:                          IRLS   Log-Likelihood:                -34371.\n",
      "Date:                Wed, 20 Dec 2023   Deviance:                       68741.\n",
      "Time:                        07:36:50   Pearson chi2:                 6.34e+04\n",
      "No. Iterations:                     4   Pseudo R-squ. (CS):            0.03218\n",
      "Covariance Type:            nonrobust                                         \n",
      "==========================================================================================\n",
      "                             coef    std err          z      P>|z|      [0.025      0.975]\n",
      "------------------------------------------------------------------------------------------\n",
      "const                      1.3794      0.023     61.228      0.000       1.335       1.424\n",
      "delta_salary              -0.8332      0.028    -29.681      0.000      -0.888      -0.778\n",
      "education_level           -0.0987      0.009    -11.552      0.000      -0.115      -0.082\n",
      "work_experience_months    -0.0021      0.000    -18.613      0.000      -0.002      -0.002\n",
      "==========================================================================================\n",
      "                 Generalized Linear Model Regression Results                  \n",
      "==============================================================================\n",
      "Dep. Variable:            final_state   No. Observations:                50436\n",
      "Model:                            GLM   Df Residuals:                    50432\n",
      "Model Family:                Binomial   Df Model:                            3\n",
      "Link Function:                  Logit   Scale:                          1.0000\n",
      "Method:                          IRLS   Log-Likelihood:                -30294.\n",
      "Date:                Wed, 20 Dec 2023   Deviance:                       60589.\n",
      "Time:                        07:36:51   Pearson chi2:                 5.12e+04\n",
      "No. Iterations:                     4   Pseudo R-squ. (CS):            0.04953\n",
      "Covariance Type:            nonrobust                                         \n",
      "==========================================================================================\n",
      "                             coef    std err          z      P>|z|      [0.025      0.975]\n",
      "------------------------------------------------------------------------------------------\n",
      "const                      1.3460      0.021     63.233      0.000       1.304       1.388\n",
      "delta_salary              -0.6592      0.026    -25.110      0.000      -0.711      -0.608\n",
      "education_level           -0.2138      0.009    -24.493      0.000      -0.231      -0.197\n",
      "work_experience_months    -0.0021      0.000    -19.447      0.000      -0.002      -0.002\n",
      "==========================================================================================\n"
     ]
    },
    {
     "data": {
      "text/plain": [
       "(0.0, 0.0)"
      ]
     },
     "execution_count": 75,
     "metadata": {},
     "output_type": "execute_result"
    }
   ],
   "source": [
    "show_cat_diff('gender_num', True)"
   ]
  },
  {
   "cell_type": "code",
   "execution_count": 76,
   "id": "6e1d579e",
   "metadata": {},
   "outputs": [
    {
     "name": "stdout",
     "output_type": "stream",
     "text": [
      "                 Generalized Linear Model Regression Results                  \n",
      "==============================================================================\n",
      "Dep. Variable:            final_state   No. Observations:                56679\n",
      "Model:                            GLM   Df Residuals:                    56675\n",
      "Model Family:                Binomial   Df Model:                            3\n",
      "Link Function:                  Logit   Scale:                          1.0000\n",
      "Method:                          IRLS   Log-Likelihood:                -33112.\n",
      "Date:                Wed, 20 Dec 2023   Deviance:                       66225.\n",
      "Time:                        07:37:03   Pearson chi2:                 5.71e+04\n",
      "No. Iterations:                     4   Pseudo R-squ. (CS):            0.06684\n",
      "Covariance Type:            nonrobust                                         \n",
      "==========================================================================================\n",
      "                             coef    std err          z      P>|z|      [0.025      0.975]\n",
      "------------------------------------------------------------------------------------------\n",
      "const                      1.7903      0.028     64.862      0.000       1.736       1.844\n",
      "delta_salary              -0.8941      0.027    -33.525      0.000      -0.946      -0.842\n",
      "education_level           -0.2512      0.009    -26.967      0.000      -0.269      -0.233\n",
      "work_experience_months    -0.0031      0.000    -30.097      0.000      -0.003      -0.003\n",
      "==========================================================================================\n",
      "                 Generalized Linear Model Regression Results                  \n",
      "==============================================================================\n",
      "Dep. Variable:            final_state   No. Observations:                56597\n",
      "Model:                            GLM   Df Residuals:                    56593\n",
      "Model Family:                Binomial   Df Model:                            3\n",
      "Link Function:                  Logit   Scale:                          1.0000\n",
      "Method:                          IRLS   Log-Likelihood:                -31408.\n",
      "Date:                Wed, 20 Dec 2023   Deviance:                       62816.\n",
      "Time:                        07:37:03   Pearson chi2:                 5.69e+04\n",
      "No. Iterations:                     5   Pseudo R-squ. (CS):            0.02047\n",
      "Covariance Type:            nonrobust                                         \n",
      "==========================================================================================\n",
      "                             coef    std err          z      P>|z|      [0.025      0.975]\n",
      "------------------------------------------------------------------------------------------\n",
      "const                      0.9900      0.021     47.458      0.000       0.949       1.031\n",
      "delta_salary              -0.8224      0.028    -29.601      0.000      -0.877      -0.768\n",
      "education_level           -0.1020      0.008    -12.161      0.000      -0.118      -0.086\n",
      "work_experience_months     0.0037      0.000     11.749      0.000       0.003       0.004\n",
      "==========================================================================================\n"
     ]
    },
    {
     "data": {
      "text/plain": [
       "(0.0, 0.0)"
      ]
     },
     "execution_count": 76,
     "metadata": {},
     "output_type": "execute_result"
    }
   ],
   "source": [
    "show_cat_diff('year_of_birth', True)"
   ]
  },
  {
   "cell_type": "code",
   "execution_count": 77,
   "id": "0337fecb",
   "metadata": {},
   "outputs": [],
   "source": [
    "df['tc_date'] = pd.to_datetime(df.topic_creation_date)"
   ]
  },
  {
   "cell_type": "code",
   "execution_count": 78,
   "id": "dafec5ae",
   "metadata": {},
   "outputs": [
    {
     "name": "stdout",
     "output_type": "stream",
     "text": [
      "                 Generalized Linear Model Regression Results                  \n",
      "==============================================================================\n",
      "Dep. Variable:            final_state   No. Observations:                57911\n",
      "Model:                            GLM   Df Residuals:                    57907\n",
      "Model Family:                Binomial   Df Model:                            3\n",
      "Link Function:                  Logit   Scale:                          1.0000\n",
      "Method:                          IRLS   Log-Likelihood:                -33535.\n",
      "Date:                Wed, 20 Dec 2023   Deviance:                       67071.\n",
      "Time:                        07:37:10   Pearson chi2:                 5.86e+04\n",
      "No. Iterations:                     5   Pseudo R-squ. (CS):            0.03436\n",
      "Covariance Type:            nonrobust                                         \n",
      "==========================================================================================\n",
      "                             coef    std err          z      P>|z|      [0.025      0.975]\n",
      "------------------------------------------------------------------------------------------\n",
      "const                      1.2774      0.021     60.818      0.000       1.236       1.319\n",
      "delta_salary              -0.7178      0.026    -27.209      0.000      -0.769      -0.666\n",
      "education_level           -0.1209      0.008    -14.431      0.000      -0.137      -0.104\n",
      "work_experience_months    -0.0020      0.000    -18.524      0.000      -0.002      -0.002\n",
      "==========================================================================================\n",
      "                 Generalized Linear Model Regression Results                  \n",
      "==============================================================================\n",
      "Dep. Variable:            final_state   No. Observations:                55365\n",
      "Model:                            GLM   Df Residuals:                    55361\n",
      "Model Family:                Binomial   Df Model:                            3\n",
      "Link Function:                  Logit   Scale:                          1.0000\n",
      "Method:                          IRLS   Log-Likelihood:                -31367.\n",
      "Date:                Wed, 20 Dec 2023   Deviance:                       62733.\n",
      "Time:                        07:37:10   Pearson chi2:                 5.59e+04\n",
      "No. Iterations:                     4   Pseudo R-squ. (CS):            0.04852\n",
      "Covariance Type:            nonrobust                                         \n",
      "==========================================================================================\n",
      "                             coef    std err          z      P>|z|      [0.025      0.975]\n",
      "------------------------------------------------------------------------------------------\n",
      "const                      1.4451      0.023     63.642      0.000       1.401       1.490\n",
      "delta_salary              -0.8877      0.027    -32.522      0.000      -0.941      -0.834\n",
      "education_level           -0.1704      0.009    -19.282      0.000      -0.188      -0.153\n",
      "work_experience_months    -0.0023      0.000    -20.460      0.000      -0.002      -0.002\n",
      "==========================================================================================\n"
     ]
    },
    {
     "data": {
      "text/plain": [
       "(0.0, 0.0)"
      ]
     },
     "execution_count": 78,
     "metadata": {},
     "output_type": "execute_result"
    }
   ],
   "source": [
    "show_cat_diff('tc_date', True)"
   ]
  },
  {
   "cell_type": "code",
   "execution_count": 79,
   "id": "f41d9a20",
   "metadata": {},
   "outputs": [
    {
     "data": {
      "text/plain": [
       "array(['Москва', 'Архангельская область', 'Ямало-Ненецкий АО',\n",
       "       'Московская область', 'Псковская область', 'Костромская область',\n",
       "       'Республика Карелия', 'Нижегородская область', 'Тюменская область',\n",
       "       'Ивановская область', 'Краснодарский край', 'Красноярский край',\n",
       "       'Санкт-Петербург', 'Новосибирская область', 'Приморский край',\n",
       "       'Республика Башкортостан', 'Калужская область',\n",
       "       'Челябинская область', 'Ярославская область', 'Орловская область',\n",
       "       'Свердловская область', 'Республика Татарстан', 'Пермский край',\n",
       "       'Ростовская область', 'Ханты-Мансийский АО - Югра',\n",
       "       'Саратовская область', 'Владимирская область', 'Донецкая область',\n",
       "       'Пензенская область', 'Ставропольский край', 'Самарская область',\n",
       "       'Белгородская область', 'Воронежская область', 'Хабаровский край',\n",
       "       'Астраханская область', 'Липецкая область', 'Иркутская область',\n",
       "       'Республика Крым', 'Республика Марий Эл', 'Ленинградская область',\n",
       "       'Республика Саха (Якутия)', 'Чувашская Республика',\n",
       "       'Волгоградская область', 'Ульяновская область',\n",
       "       'Кировская область', 'Республика Хакасия', 'Алтайский край',\n",
       "       'Тамбовская область', 'Рязанская область', 'Кемеровская область',\n",
       "       'Оренбургская область', 'Луганская область', 'Курская область',\n",
       "       'Томская область', 'Омская область', 'Амурская область',\n",
       "       'Магаданская область', 'Мурманская область', 'Республика Мордовия',\n",
       "       'Брянская область', 'Тульская область', 'Смоленская область',\n",
       "       'Вологодская область', 'Калининградская область',\n",
       "       'Тверская область', 'Сахалинская область', 'Республика Бурятия',\n",
       "       'Чеченская республика', 'Удмуртская Республика',\n",
       "       'Курганская область', 'Республика Дагестан', 'Камчатский край',\n",
       "       'Республика Северная Осетия-Алания', 'Новгородская область',\n",
       "       'Республика Адыгея', 'Забайкальский край', 'Республика Коми',\n",
       "       'Херсонская область', 'Кабардино-Балкарская республика',\n",
       "       'Карачаево-Черкесская Республика', 'Еврейская АО',\n",
       "       'Республика Тыва', 'Республика Ингушетия', 'Ненецкий АО',\n",
       "       'Республика Алтай', 'Республика Калмыкия', 'Запорожская область',\n",
       "       'Чукотский АО'], dtype=object)"
      ]
     },
     "execution_count": 79,
     "metadata": {},
     "output_type": "execute_result"
    }
   ],
   "source": [
    "df.resume_region.unique() # luchshe po okrugam, no eto poposzhe"
   ]
  },
  {
   "cell_type": "code",
   "execution_count": 80,
   "id": "347a48ea",
   "metadata": {},
   "outputs": [
    {
     "data": {
      "text/plain": [
       "0"
      ]
     },
     "execution_count": 80,
     "metadata": {},
     "output_type": "execute_result"
    }
   ],
   "source": [
    "df.relocation_status.isna().sum()"
   ]
  },
  {
   "cell_type": "code",
   "execution_count": 81,
   "id": "7b58f5f0",
   "metadata": {},
   "outputs": [],
   "source": [
    "rs_cat = {\n",
    "    'not_ready':0.0,\n",
    "    'desirable':0.5,\n",
    "    'possible':1.0\n",
    "}\n",
    "df['rs_cat'] = df.relocation_status.map(lambda x: rs_cat[x])"
   ]
  },
  {
   "cell_type": "code",
   "execution_count": 82,
   "id": "720f047d",
   "metadata": {},
   "outputs": [
    {
     "name": "stdout",
     "output_type": "stream",
     "text": [
      "                 Generalized Linear Model Regression Results                  \n",
      "==============================================================================\n",
      "Dep. Variable:            final_state   No. Observations:                86805\n",
      "Model:                            GLM   Df Residuals:                    86801\n",
      "Model Family:                Binomial   Df Model:                            3\n",
      "Link Function:                  Logit   Scale:                          1.0000\n",
      "Method:                          IRLS   Log-Likelihood:                -48368.\n",
      "Date:                Wed, 20 Dec 2023   Deviance:                       96735.\n",
      "Time:                        07:37:19   Pearson chi2:                 8.80e+04\n",
      "No. Iterations:                     5   Pseudo R-squ. (CS):            0.03326\n",
      "Covariance Type:            nonrobust                                         \n",
      "==========================================================================================\n",
      "                             coef    std err          z      P>|z|      [0.025      0.975]\n",
      "------------------------------------------------------------------------------------------\n",
      "const                      1.3522      0.017     77.974      0.000       1.318       1.386\n",
      "delta_salary              -0.7714      0.023    -33.648      0.000      -0.816      -0.727\n",
      "education_level           -0.1176      0.007    -16.878      0.000      -0.131      -0.104\n",
      "work_experience_months    -0.0020   8.98e-05    -22.322      0.000      -0.002      -0.002\n",
      "==========================================================================================\n",
      "                 Generalized Linear Model Regression Results                  \n",
      "==============================================================================\n",
      "Dep. Variable:            final_state   No. Observations:                26471\n",
      "Model:                            GLM   Df Residuals:                    26467\n",
      "Model Family:                Binomial   Df Model:                            3\n",
      "Link Function:                  Logit   Scale:                          1.0000\n",
      "Method:                          IRLS   Log-Likelihood:                -16432.\n",
      "Date:                Wed, 20 Dec 2023   Deviance:                       32864.\n",
      "Time:                        07:37:19   Pearson chi2:                 2.65e+04\n",
      "No. Iterations:                     5   Pseudo R-squ. (CS):            0.04881\n",
      "Covariance Type:            nonrobust                                         \n",
      "==========================================================================================\n",
      "                             coef    std err          z      P>|z|      [0.025      0.975]\n",
      "------------------------------------------------------------------------------------------\n",
      "const                      1.3369      0.035     38.214      0.000       1.268       1.406\n",
      "delta_salary              -0.7546      0.035    -21.803      0.000      -0.822      -0.687\n",
      "education_level           -0.1933      0.013    -15.002      0.000      -0.218      -0.168\n",
      "work_experience_months    -0.0025      0.000    -16.053      0.000      -0.003      -0.002\n",
      "==========================================================================================\n"
     ]
    },
    {
     "data": {
      "text/plain": [
       "(0.0, 0.0)"
      ]
     },
     "execution_count": 82,
     "metadata": {},
     "output_type": "execute_result"
    }
   ],
   "source": [
    "show_cat_diff('rs_cat', True)"
   ]
  },
  {
   "cell_type": "code",
   "execution_count": 83,
   "id": "cab03e83",
   "metadata": {},
   "outputs": [
    {
     "data": {
      "text/plain": [
       "array(['ready', 'never', 'sometimes'], dtype=object)"
      ]
     },
     "execution_count": 83,
     "metadata": {},
     "output_type": "execute_result"
    }
   ],
   "source": [
    "df.business_trip_readiness.unique()"
   ]
  },
  {
   "cell_type": "code",
   "execution_count": 84,
   "id": "13fbb0b0",
   "metadata": {},
   "outputs": [],
   "source": [
    "btr_cat = {\n",
    "    'never':0.0,\n",
    "    'sometimes':0.5,\n",
    "    'ready':1.0\n",
    "}\n",
    "df['btr_cat'] = df.business_trip_readiness.map(lambda x: btr_cat[x])"
   ]
  },
  {
   "cell_type": "code",
   "execution_count": 85,
   "id": "4095016a",
   "metadata": {},
   "outputs": [
    {
     "name": "stdout",
     "output_type": "stream",
     "text": [
      "                 Generalized Linear Model Regression Results                  \n",
      "==============================================================================\n",
      "Dep. Variable:            final_state   No. Observations:                59267\n",
      "Model:                            GLM   Df Residuals:                    59263\n",
      "Model Family:                Binomial   Df Model:                            3\n",
      "Link Function:                  Logit   Scale:                          1.0000\n",
      "Method:                          IRLS   Log-Likelihood:                -31926.\n",
      "Date:                Wed, 20 Dec 2023   Deviance:                       63851.\n",
      "Time:                        07:37:21   Pearson chi2:                 5.99e+04\n",
      "No. Iterations:                     5   Pseudo R-squ. (CS):            0.01830\n",
      "Covariance Type:            nonrobust                                         \n",
      "==========================================================================================\n",
      "                             coef    std err          z      P>|z|      [0.025      0.975]\n",
      "------------------------------------------------------------------------------------------\n",
      "const                      1.3024      0.020     65.896      0.000       1.264       1.341\n",
      "delta_salary              -0.6713      0.029    -22.994      0.000      -0.728      -0.614\n",
      "education_level           -0.1012      0.008    -12.185      0.000      -0.117      -0.085\n",
      "work_experience_months    -0.0012      0.000    -10.307      0.000      -0.001      -0.001\n",
      "==========================================================================================\n",
      "                 Generalized Linear Model Regression Results                  \n",
      "==============================================================================\n",
      "Dep. Variable:            final_state   No. Observations:                54009\n",
      "Model:                            GLM   Df Residuals:                    54005\n",
      "Model Family:                Binomial   Df Model:                            3\n",
      "Link Function:                  Logit   Scale:                          1.0000\n",
      "Method:                          IRLS   Log-Likelihood:                -32840.\n",
      "Date:                Wed, 20 Dec 2023   Deviance:                       65679.\n",
      "Time:                        07:37:22   Pearson chi2:                 5.43e+04\n",
      "No. Iterations:                     5   Pseudo R-squ. (CS):            0.05009\n",
      "Covariance Type:            nonrobust                                         \n",
      "==========================================================================================\n",
      "                             coef    std err          z      P>|z|      [0.025      0.975]\n",
      "------------------------------------------------------------------------------------------\n",
      "const                      1.4294      0.026     54.945      0.000       1.378       1.480\n",
      "delta_salary              -0.8262      0.026    -32.092      0.000      -0.877      -0.776\n",
      "education_level           -0.1759      0.009    -18.656      0.000      -0.194      -0.157\n",
      "work_experience_months    -0.0027      0.000    -25.464      0.000      -0.003      -0.003\n",
      "==========================================================================================\n"
     ]
    },
    {
     "data": {
      "text/plain": [
       "(0.0, 0.0)"
      ]
     },
     "execution_count": 85,
     "metadata": {},
     "output_type": "execute_result"
    }
   ],
   "source": [
    "show_cat_diff('btr_cat', True)"
   ]
  },
  {
   "cell_type": "code",
   "execution_count": 67,
   "id": "683c1a0f",
   "metadata": {},
   "outputs": [],
   "source": [
    "# graphik raboti nado smotret' esche i tam i tam y employment_type"
   ]
  },
  {
   "cell_type": "code",
   "execution_count": 86,
   "id": "548ccad1",
   "metadata": {},
   "outputs": [
    {
     "data": {
      "text/plain": [
       "full_day       59750\n",
       "remote         25766\n",
       "shift          16301\n",
       "flexible        9567\n",
       "flyInFlyOut     1892\n",
       "Name: work_schedule.1, dtype: int64"
      ]
     },
     "execution_count": 86,
     "metadata": {},
     "output_type": "execute_result"
    }
   ],
   "source": [
    "df['work_schedule.1'].value_counts()"
   ]
  },
  {
   "cell_type": "code",
   "execution_count": 87,
   "id": "c21886e9",
   "metadata": {},
   "outputs": [],
   "source": [
    "schedule_cats = {\n",
    "    'full_day':0,\n",
    "    'remote':1,\n",
    "    'shift':0,\n",
    "    'flexible':1,\n",
    "    'flyInFlyOut': 0.5\n",
    "}\n",
    "df['ws_cat'] = df['work_schedule'].map(lambda x: schedule_cats.get(x, 0))\n",
    "df['ws1_cat'] = df['work_schedule.1'].map(lambda x: schedule_cats.get(x, 0))"
   ]
  },
  {
   "cell_type": "code",
   "execution_count": 88,
   "id": "51ae7db4",
   "metadata": {},
   "outputs": [
    {
     "data": {
      "text/plain": [
       "0.0"
      ]
     },
     "execution_count": 88,
     "metadata": {},
     "output_type": "execute_result"
    }
   ],
   "source": [
    "df.ws1_cat.median()"
   ]
  },
  {
   "cell_type": "code",
   "execution_count": 89,
   "id": "5e85dfb9",
   "metadata": {},
   "outputs": [
    {
     "name": "stdout",
     "output_type": "stream",
     "text": [
      "                 Generalized Linear Model Regression Results                  \n",
      "==============================================================================\n",
      "Dep. Variable:            final_state   No. Observations:                90361\n",
      "Model:                            GLM   Df Residuals:                    90357\n",
      "Model Family:                Binomial   Df Model:                            3\n",
      "Link Function:                  Logit   Scale:                          1.0000\n",
      "Method:                          IRLS   Log-Likelihood:                -51285.\n",
      "Date:                Wed, 20 Dec 2023   Deviance:                   1.0257e+05\n",
      "Time:                        07:37:34   Pearson chi2:                 9.17e+04\n",
      "No. Iterations:                     4   Pseudo R-squ. (CS):            0.04194\n",
      "Covariance Type:            nonrobust                                         \n",
      "==========================================================================================\n",
      "                             coef    std err          z      P>|z|      [0.025      0.975]\n",
      "------------------------------------------------------------------------------------------\n",
      "const                      1.4203      0.017     82.961      0.000       1.387       1.454\n",
      "delta_salary              -0.7755      0.022    -35.678      0.000      -0.818      -0.733\n",
      "education_level           -0.1558      0.007    -22.898      0.000      -0.169      -0.142\n",
      "work_experience_months    -0.0022   8.58e-05    -26.059      0.000      -0.002      -0.002\n",
      "==========================================================================================\n",
      "                 Generalized Linear Model Regression Results                  \n",
      "==============================================================================\n",
      "Dep. Variable:            final_state   No. Observations:                22915\n",
      "Model:                            GLM   Df Residuals:                    22911\n",
      "Model Family:                Binomial   Df Model:                            3\n",
      "Link Function:                  Logit   Scale:                          1.0000\n",
      "Method:                          IRLS   Log-Likelihood:                -13597.\n",
      "Date:                Wed, 20 Dec 2023   Deviance:                       27194.\n",
      "Time:                        07:37:34   Pearson chi2:                 2.30e+04\n",
      "No. Iterations:                     5   Pseudo R-squ. (CS):            0.03803\n",
      "Covariance Type:            nonrobust                                         \n",
      "==========================================================================================\n",
      "                             coef    std err          z      P>|z|      [0.025      0.975]\n",
      "------------------------------------------------------------------------------------------\n",
      "const                      1.0426      0.036     29.240      0.000       0.973       1.113\n",
      "delta_salary              -0.8887      0.039    -22.816      0.000      -0.965      -0.812\n",
      "education_level           -0.0678      0.014     -4.935      0.000      -0.095      -0.041\n",
      "work_experience_months    -0.0018      0.000    -10.061      0.000      -0.002      -0.001\n",
      "==========================================================================================\n"
     ]
    },
    {
     "data": {
      "text/plain": [
       "(0.0, 0.0)"
      ]
     },
     "execution_count": 89,
     "metadata": {},
     "output_type": "execute_result"
    }
   ],
   "source": [
    "show_cat_diff('ws_cat',True)"
   ]
  },
  {
   "cell_type": "code",
   "execution_count": 91,
   "id": "150f2b5a",
   "metadata": {},
   "outputs": [
    {
     "name": "stdout",
     "output_type": "stream",
     "text": [
      "                 Generalized Linear Model Regression Results                  \n",
      "==============================================================================\n",
      "Dep. Variable:            final_state   No. Observations:                76051\n",
      "Model:                            GLM   Df Residuals:                    76047\n",
      "Model Family:                Binomial   Df Model:                            3\n",
      "Link Function:                  Logit   Scale:                          1.0000\n",
      "Method:                          IRLS   Log-Likelihood:                -44142.\n",
      "Date:                Wed, 20 Dec 2023   Deviance:                       88284.\n",
      "Time:                        07:37:51   Pearson chi2:                 7.71e+04\n",
      "No. Iterations:                     4   Pseudo R-squ. (CS):            0.05520\n",
      "Covariance Type:            nonrobust                                         \n",
      "==========================================================================================\n",
      "                             coef    std err          z      P>|z|      [0.025      0.975]\n",
      "------------------------------------------------------------------------------------------\n",
      "const                      1.4155      0.019     74.296      0.000       1.378       1.453\n",
      "delta_salary              -0.8903      0.024    -37.218      0.000      -0.937      -0.843\n",
      "education_level           -0.1667      0.007    -22.457      0.000      -0.181      -0.152\n",
      "work_experience_months    -0.0027   9.21e-05    -29.834      0.000      -0.003      -0.003\n",
      "==========================================================================================\n",
      "                 Generalized Linear Model Regression Results                  \n",
      "==============================================================================\n",
      "Dep. Variable:            final_state   No. Observations:                37225\n",
      "Model:                            GLM   Df Residuals:                    37221\n",
      "Model Family:                Binomial   Df Model:                            3\n",
      "Link Function:                  Logit   Scale:                          1.0000\n",
      "Method:                          IRLS   Log-Likelihood:                -20532.\n",
      "Date:                Wed, 20 Dec 2023   Deviance:                       41064.\n",
      "Time:                        07:37:51   Pearson chi2:                 3.75e+04\n",
      "No. Iterations:                     5   Pseudo R-squ. (CS):            0.01618\n",
      "Covariance Type:            nonrobust                                         \n",
      "==========================================================================================\n",
      "                             coef    std err          z      P>|z|      [0.025      0.975]\n",
      "------------------------------------------------------------------------------------------\n",
      "const                      1.2407      0.026     47.055      0.000       1.189       1.292\n",
      "delta_salary              -0.6107      0.032    -19.249      0.000      -0.673      -0.548\n",
      "education_level           -0.1073      0.011    -10.071      0.000      -0.128      -0.086\n",
      "work_experience_months    -0.0001      0.000     -0.960      0.337      -0.000       0.000\n",
      "==========================================================================================\n"
     ]
    },
    {
     "data": {
      "text/plain": [
       "(0.0, 0.0)"
      ]
     },
     "execution_count": 91,
     "metadata": {},
     "output_type": "execute_result"
    }
   ],
   "source": [
    "show_cat_diff('ws1_cat', True)"
   ]
  },
  {
   "cell_type": "code",
   "execution_count": 92,
   "id": "9a6a7f07",
   "metadata": {},
   "outputs": [
    {
     "data": {
      "text/plain": [
       "full         93134\n",
       "part         19005\n",
       "probation      869\n",
       "project        268\n",
       "Name: vacancy_employment_type, dtype: int64"
      ]
     },
     "execution_count": 92,
     "metadata": {},
     "output_type": "execute_result"
    }
   ],
   "source": [
    "df.vacancy_employment_type.value_counts()"
   ]
  },
  {
   "cell_type": "code",
   "execution_count": 93,
   "id": "d64e750d",
   "metadata": {},
   "outputs": [
    {
     "data": {
      "text/plain": [
       "0.106"
      ]
     },
     "execution_count": 93,
     "metadata": {},
     "output_type": "execute_result"
    }
   ],
   "source": [
    "show_cat_1(df[df.vacancy_employment_type=='part'])"
   ]
  },
  {
   "cell_type": "code",
   "execution_count": 94,
   "id": "651650c1",
   "metadata": {},
   "outputs": [
    {
     "data": {
      "text/plain": [
       "0.0"
      ]
     },
     "execution_count": 94,
     "metadata": {},
     "output_type": "execute_result"
    }
   ],
   "source": [
    "show_cat_1(df[df.resume_employment_type=='part'])"
   ]
  },
  {
   "cell_type": "code",
   "execution_count": null,
   "id": "afe5de17",
   "metadata": {},
   "outputs": [],
   "source": []
  }
 ],
 "metadata": {
  "kernelspec": {
   "display_name": "Python 3 (ipykernel)",
   "language": "python",
   "name": "python3"
  },
  "language_info": {
   "codemirror_mode": {
    "name": "ipython",
    "version": 3
   },
   "file_extension": ".py",
   "mimetype": "text/x-python",
   "name": "python",
   "nbconvert_exporter": "python",
   "pygments_lexer": "ipython3",
   "version": "3.11.6"
  }
 },
 "nbformat": 4,
 "nbformat_minor": 5
}
