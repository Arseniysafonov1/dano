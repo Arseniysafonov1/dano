{
 "cells": [
  {
   "cell_type": "code",
   "execution_count": 1,
   "id": "9b0305ac",
   "metadata": {},
   "outputs": [],
   "source": [
    "import pandas as pd\n",
    "import matplotlib.pyplot as plt\n",
    "import seaborn as sns\n",
    "df = pd.read_csv('hh_ru_dataset.csv')"
   ]
  },
  {
   "cell_type": "code",
   "execution_count": 2,
   "id": "5d274a5d",
   "metadata": {},
   "outputs": [],
   "source": [
    "salary_df = df.copy()\n",
    "salary_df = salary_df[~salary_df.compensation_to.isna()]\n",
    "salary_df['final'] = salary_df['final_state'].map(lambda x: int(x == 'invitation'))"
   ]
  },
  {
   "cell_type": "code",
   "execution_count": 11,
   "id": "8590b0ae",
   "metadata": {},
   "outputs": [
    {
     "data": {
      "text/plain": [
       "(0.10682999997194546, 3.960351671475557e-06)"
      ]
     },
     "execution_count": 11,
     "metadata": {},
     "output_type": "execute_result"
    }
   ],
   "source": [
    "a = salary_df[salary_df.expected_salary > salary_df.compensation_to].final\n",
    "b = salary_df[salary_df.expected_salary <= salary_df.compensation_to].final\n",
    "# diff = b - a\n",
    "minuses = a.sum() * (len(b) - b.sum())\n",
    "zeros = a.sum() * b.sum() + (len(a) - a.sum()) * (len(b) - b.sum())\n",
    "pluses = (len(a) - a.sum()) * b.sum()\n",
    "mean = (pluses-minuses)/(pluses+zeros+minuses)\n",
    "se = (minuses * ((-1 - mean)**2) + zeros*(mean**2) + pluses*((1-mean) ** 2)) / (pluses+zeros+minuses)\n",
    "dispn = (se/(pluses+zeros+minuses))**0.5\n",
    "mean, dispn"
   ]
  },
  {
   "cell_type": "markdown",
   "id": "fa0896b1",
   "metadata": {},
   "source": [
    "по-хорошему определить какой-то интервал, когда ожидаемая зарплата не сильно отклоняется от отрезка зарплат закачика. при этом этот инетрвал может зависет от длины отрезка зп заказчика"
   ]
  },
  {
   "cell_type": "code",
   "execution_count": 9,
   "id": "d4b757dc",
   "metadata": {},
   "outputs": [],
   "source": [
    "def find_info(group):\n",
    "    a = group[group.expected_salary > group.compensation_to].final\n",
    "    b = group[group.expected_salary <= group.compensation_to].final\n",
    "    print(f\"Доля успехов в группе с завышенной зп: {a.mean()}\")\n",
    "    print(f\"Доля успехов в группе с нормальной зп: {b.mean()}\")\n",
    "    diff = b.mean() - a.mean()\n",
    "    print(f\"Разница между долями: {diff}\")\n",
    "    print(f\"Стандартное отклонение в датасете: {group.final.std()}\")\n",
    "    print(f\"Размер датасета: {len(group)}\")\n",
    "    t = (b.mean() - a.mean()) / (((a.std() ** 2) / len(a) + (b.std() ** 2) / len(b)) ** 0.5)\n",
    "    print(f\"t-критерий для групп: {t}\")\n",
    "    p = (mean - diff) / dispn\n",
    "    print(f\"p-value={p}\")\n",
    "    return (a.mean(), b.mean(), len(group), diff, group.final.std(), t)"
   ]
  },
  {
   "cell_type": "code",
   "execution_count": 10,
   "id": "d4974267",
   "metadata": {},
   "outputs": [
    {
     "name": "stdout",
     "output_type": "stream",
     "text": [
      "Доля успехов в группе с завышенной зп: 0.25659466359947924\n",
      "Доля успехов в группе с нормальной зп: 0.3543738521448222\n",
      "Разница между долями: 0.09777918854534295\n",
      "Стандартное отклонение в датасете: 0.4650593223378044\n",
      "Размер датасета: 215278\n",
      "t-критерий для групп: 47.97120851033458\n",
      "p-value=2285.355487945932\n"
     ]
    },
    {
     "data": {
      "text/plain": [
       "(0.25659466359947924,\n",
       " 0.3543738521448222,\n",
       " 215278,\n",
       " 0.09777918854534295,\n",
       " 0.4650593223378044,\n",
       " 47.97120851033458)"
      ]
     },
     "execution_count": 10,
     "metadata": {},
     "output_type": "execute_result"
    }
   ],
   "source": [
    "find_info(salary_df[salary_df.work_experience_months > 60])"
   ]
  },
  {
   "cell_type": "markdown",
   "id": "dac9a30c",
   "metadata": {},
   "source": [
    "Можно посмотреть эту diff'у относительно всей совокупности"
   ]
  },
  {
   "cell_type": "code",
   "execution_count": 15,
   "id": "9756e5e4",
   "metadata": {},
   "outputs": [
    {
     "data": {
      "text/plain": [
       "initial_state  final_state\n",
       "response       response       0.485478\n",
       "               invitation     0.205952\n",
       "invitation     invitation     0.161046\n",
       "response       discard        0.144012\n",
       "invitation     discard        0.001692\n",
       "discard        discard        0.000152\n",
       "dtype: float64"
      ]
     },
     "execution_count": 15,
     "metadata": {},
     "output_type": "execute_result"
    }
   ],
   "source": [
    "df[['initial_state', 'final_state']].value_counts() / len(df)"
   ]
  },
  {
   "cell_type": "code",
   "execution_count": 19,
   "id": "e81a9cce",
   "metadata": {},
   "outputs": [
    {
     "data": {
      "text/plain": [
       "higher               230113\n",
       "special_secondary    108860\n",
       "secondary             69761\n",
       "unfinished_higher     48194\n",
       "bachelor              28443\n",
       "master                12924\n",
       "candidate              1543\n",
       "doctor                   60\n",
       "Name: education_level, dtype: int64"
      ]
     },
     "execution_count": 19,
     "metadata": {},
     "output_type": "execute_result"
    }
   ],
   "source": [
    "df.education_level.value_counts()"
   ]
  },
  {
   "cell_type": "code",
   "execution_count": null,
   "id": "7880ba76",
   "metadata": {},
   "outputs": [],
   "source": []
  }
 ],
 "metadata": {
  "kernelspec": {
   "display_name": "Python 3 (ipykernel)",
   "language": "python",
   "name": "python3"
  },
  "language_info": {
   "codemirror_mode": {
    "name": "ipython",
    "version": 3
   },
   "file_extension": ".py",
   "mimetype": "text/x-python",
   "name": "python",
   "nbconvert_exporter": "python",
   "pygments_lexer": "ipython3",
   "version": "3.11.6"
  }
 },
 "nbformat": 4,
 "nbformat_minor": 5
}
