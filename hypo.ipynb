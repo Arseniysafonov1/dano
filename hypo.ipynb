{
 "cells": [
  {
   "cell_type": "code",
   "execution_count": 1,
   "id": "3714447c",
   "metadata": {},
   "outputs": [],
   "source": [
    "import pandas as pd\n",
    "import matplotlib.pyplot as plt\n",
    "import seaborn as sns\n",
    "import statsmodels.api as sm\n",
    "from sklearn.metrics import roc_auc_score\n",
    "df = pd.read_csv('normal.csv')"
   ]
  },
  {
   "cell_type": "code",
   "execution_count": null,
   "id": "ab319786",
   "metadata": {},
   "outputs": [],
   "source": [
    "(df.delta_salary>0).mean()"
   ]
  },
  {
   "cell_type": "code",
   "execution_count": null,
   "id": "ca4743ee",
   "metadata": {},
   "outputs": [],
   "source": [
    "df[['education_level', 'delta_salary']].corr()"
   ]
  },
  {
   "cell_type": "code",
   "execution_count": 65,
   "id": "ab605e7b",
   "metadata": {},
   "outputs": [
    {
     "data": {
      "text/html": [
       "<div>\n",
       "<style scoped>\n",
       "    .dataframe tbody tr th:only-of-type {\n",
       "        vertical-align: middle;\n",
       "    }\n",
       "\n",
       "    .dataframe tbody tr th {\n",
       "        vertical-align: top;\n",
       "    }\n",
       "\n",
       "    .dataframe thead th {\n",
       "        text-align: right;\n",
       "    }\n",
       "</style>\n",
       "<table border=\"1\" class=\"dataframe\">\n",
       "  <thead>\n",
       "    <tr style=\"text-align: right;\">\n",
       "      <th></th>\n",
       "      <th>education_level</th>\n",
       "      <th>delta_salary</th>\n",
       "      <th>work_experience_months</th>\n",
       "    </tr>\n",
       "    <tr>\n",
       "      <th>resume_id</th>\n",
       "      <th></th>\n",
       "      <th></th>\n",
       "      <th></th>\n",
       "    </tr>\n",
       "  </thead>\n",
       "  <tbody>\n",
       "    <tr>\n",
       "      <th>100000426</th>\n",
       "      <td>3.0</td>\n",
       "      <td>-0.230769</td>\n",
       "      <td>116.0</td>\n",
       "    </tr>\n",
       "    <tr>\n",
       "      <th>100000lt</th>\n",
       "      <td>3.0</td>\n",
       "      <td>-0.200000</td>\n",
       "      <td>331.0</td>\n",
       "    </tr>\n",
       "    <tr>\n",
       "      <th>100000t26</th>\n",
       "      <td>1.0</td>\n",
       "      <td>-0.478261</td>\n",
       "      <td>145.0</td>\n",
       "    </tr>\n",
       "    <tr>\n",
       "      <th>100000t56</th>\n",
       "      <td>2.0</td>\n",
       "      <td>-0.566075</td>\n",
       "      <td>104.0</td>\n",
       "    </tr>\n",
       "    <tr>\n",
       "      <th>10000145</th>\n",
       "      <td>3.0</td>\n",
       "      <td>-0.425320</td>\n",
       "      <td>370.0</td>\n",
       "    </tr>\n",
       "    <tr>\n",
       "      <th>...</th>\n",
       "      <td>...</td>\n",
       "      <td>...</td>\n",
       "      <td>...</td>\n",
       "    </tr>\n",
       "    <tr>\n",
       "      <th>tttk5005</th>\n",
       "      <td>3.0</td>\n",
       "      <td>0.863354</td>\n",
       "      <td>148.0</td>\n",
       "    </tr>\n",
       "    <tr>\n",
       "      <th>tttk5t4</th>\n",
       "      <td>3.0</td>\n",
       "      <td>-0.101124</td>\n",
       "      <td>226.0</td>\n",
       "    </tr>\n",
       "    <tr>\n",
       "      <th>tttkk8k1</th>\n",
       "      <td>3.0</td>\n",
       "      <td>-0.421053</td>\n",
       "      <td>173.0</td>\n",
       "    </tr>\n",
       "    <tr>\n",
       "      <th>tttkt85t</th>\n",
       "      <td>3.0</td>\n",
       "      <td>-0.166667</td>\n",
       "      <td>159.0</td>\n",
       "    </tr>\n",
       "    <tr>\n",
       "      <th>tttt482</th>\n",
       "      <td>3.0</td>\n",
       "      <td>1.000000</td>\n",
       "      <td>259.0</td>\n",
       "    </tr>\n",
       "  </tbody>\n",
       "</table>\n",
       "<p>78823 rows × 3 columns</p>\n",
       "</div>"
      ],
      "text/plain": [
       "           education_level  delta_salary  work_experience_months\n",
       "resume_id                                                       \n",
       "100000426              3.0     -0.230769                   116.0\n",
       "100000lt               3.0     -0.200000                   331.0\n",
       "100000t26              1.0     -0.478261                   145.0\n",
       "100000t56              2.0     -0.566075                   104.0\n",
       "10000145               3.0     -0.425320                   370.0\n",
       "...                    ...           ...                     ...\n",
       "tttk5005               3.0      0.863354                   148.0\n",
       "tttk5t4                3.0     -0.101124                   226.0\n",
       "tttkk8k1               3.0     -0.421053                   173.0\n",
       "tttkt85t               3.0     -0.166667                   159.0\n",
       "tttt482                3.0      1.000000                   259.0\n",
       "\n",
       "[78823 rows x 3 columns]"
      ]
     },
     "execution_count": 65,
     "metadata": {},
     "output_type": "execute_result"
    }
   ],
   "source": [
    "t = df.groupby('resume_id')[['education_level', 'delta_salary', 'work_experience_months']].mean()\n",
    "t"
   ]
  },
  {
   "cell_type": "code",
   "execution_count": 72,
   "id": "705d50be",
   "metadata": {},
   "outputs": [],
   "source": [
    "y = t['delta_salary']\n",
    "x = sm.add_constant(t[['education_level', 'work_experience_months']])\n",
    "model = sm.GLM(\n",
    "    y,\n",
    "    x\n",
    ").fit()"
   ]
  },
  {
   "cell_type": "code",
   "execution_count": 73,
   "id": "0332365b",
   "metadata": {},
   "outputs": [
    {
     "data": {
      "text/html": [
       "<table class=\"simpletable\">\n",
       "<caption>Generalized Linear Model Regression Results</caption>\n",
       "<tr>\n",
       "  <th>Dep. Variable:</th>     <td>delta_salary</td>   <th>  No. Observations:  </th>  <td> 78823</td> \n",
       "</tr>\n",
       "<tr>\n",
       "  <th>Model:</th>                  <td>GLM</td>       <th>  Df Residuals:      </th>  <td> 78820</td> \n",
       "</tr>\n",
       "<tr>\n",
       "  <th>Model Family:</th>        <td>Gaussian</td>     <th>  Df Model:          </th>  <td>     2</td> \n",
       "</tr>\n",
       "<tr>\n",
       "  <th>Link Function:</th>       <td>Identity</td>     <th>  Scale:             </th> <td> 0.16007</td>\n",
       "</tr>\n",
       "<tr>\n",
       "  <th>Method:</th>                <td>IRLS</td>       <th>  Log-Likelihood:    </th> <td> -39636.</td>\n",
       "</tr>\n",
       "<tr>\n",
       "  <th>Date:</th>            <td>Sun, 17 Dec 2023</td> <th>  Deviance:          </th> <td>  12617.</td>\n",
       "</tr>\n",
       "<tr>\n",
       "  <th>Time:</th>                <td>20:36:46</td>     <th>  Pearson chi2:      </th> <td>1.26e+04</td>\n",
       "</tr>\n",
       "<tr>\n",
       "  <th>No. Iterations:</th>          <td>3</td>        <th>  Pseudo R-squ. (CS):</th>  <td>0.07716</td>\n",
       "</tr>\n",
       "<tr>\n",
       "  <th>Covariance Type:</th>     <td>nonrobust</td>    <th>                     </th>     <td> </td>   \n",
       "</tr>\n",
       "</table>\n",
       "<table class=\"simpletable\">\n",
       "<tr>\n",
       "             <td></td>               <th>coef</th>     <th>std err</th>      <th>z</th>      <th>P>|z|</th>  <th>[0.025</th>    <th>0.975]</th>  \n",
       "</tr>\n",
       "<tr>\n",
       "  <th>const</th>                  <td>   -0.3339</td> <td>    0.003</td> <td> -117.839</td> <td> 0.000</td> <td>   -0.339</td> <td>   -0.328</td>\n",
       "</tr>\n",
       "<tr>\n",
       "  <th>education_level</th>        <td>    0.0588</td> <td>    0.001</td> <td>   47.827</td> <td> 0.000</td> <td>    0.056</td> <td>    0.061</td>\n",
       "</tr>\n",
       "<tr>\n",
       "  <th>work_experience_months</th> <td>    0.0008</td> <td> 1.67e-05</td> <td>   47.066</td> <td> 0.000</td> <td>    0.001</td> <td>    0.001</td>\n",
       "</tr>\n",
       "</table>"
      ],
      "text/latex": [
       "\\begin{center}\n",
       "\\begin{tabular}{lclc}\n",
       "\\toprule\n",
       "\\textbf{Dep. Variable:}           &  delta\\_salary   & \\textbf{  No. Observations:  } &    78823    \\\\\n",
       "\\textbf{Model:}                   &       GLM        & \\textbf{  Df Residuals:      } &    78820    \\\\\n",
       "\\textbf{Model Family:}            &     Gaussian     & \\textbf{  Df Model:          } &        2    \\\\\n",
       "\\textbf{Link Function:}           &     Identity     & \\textbf{  Scale:             } &   0.16007   \\\\\n",
       "\\textbf{Method:}                  &       IRLS       & \\textbf{  Log-Likelihood:    } &   -39636.   \\\\\n",
       "\\textbf{Date:}                    & Sun, 17 Dec 2023 & \\textbf{  Deviance:          } &    12617.   \\\\\n",
       "\\textbf{Time:}                    &     20:36:46     & \\textbf{  Pearson chi2:      } &  1.26e+04   \\\\\n",
       "\\textbf{No. Iterations:}          &        3         & \\textbf{  Pseudo R-squ. (CS):} &  0.07716    \\\\\n",
       "\\textbf{Covariance Type:}         &    nonrobust     & \\textbf{                     } &             \\\\\n",
       "\\bottomrule\n",
       "\\end{tabular}\n",
       "\\begin{tabular}{lcccccc}\n",
       "                                  & \\textbf{coef} & \\textbf{std err} & \\textbf{z} & \\textbf{P$> |$z$|$} & \\textbf{[0.025} & \\textbf{0.975]}  \\\\\n",
       "\\midrule\n",
       "\\textbf{const}                    &      -0.3339  &        0.003     &  -117.839  &         0.000        &       -0.339    &       -0.328     \\\\\n",
       "\\textbf{education\\_level}         &       0.0588  &        0.001     &    47.827  &         0.000        &        0.056    &        0.061     \\\\\n",
       "\\textbf{work\\_experience\\_months} &       0.0008  &     1.67e-05     &    47.066  &         0.000        &        0.001    &        0.001     \\\\\n",
       "\\bottomrule\n",
       "\\end{tabular}\n",
       "%\\caption{Generalized Linear Model Regression Results}\n",
       "\\end{center}"
      ],
      "text/plain": [
       "<class 'statsmodels.iolib.summary.Summary'>\n",
       "\"\"\"\n",
       "                 Generalized Linear Model Regression Results                  \n",
       "==============================================================================\n",
       "Dep. Variable:           delta_salary   No. Observations:                78823\n",
       "Model:                            GLM   Df Residuals:                    78820\n",
       "Model Family:                Gaussian   Df Model:                            2\n",
       "Link Function:               Identity   Scale:                         0.16007\n",
       "Method:                          IRLS   Log-Likelihood:                -39636.\n",
       "Date:                Sun, 17 Dec 2023   Deviance:                       12617.\n",
       "Time:                        20:36:46   Pearson chi2:                 1.26e+04\n",
       "No. Iterations:                     3   Pseudo R-squ. (CS):            0.07716\n",
       "Covariance Type:            nonrobust                                         \n",
       "==========================================================================================\n",
       "                             coef    std err          z      P>|z|      [0.025      0.975]\n",
       "------------------------------------------------------------------------------------------\n",
       "const                     -0.3339      0.003   -117.839      0.000      -0.339      -0.328\n",
       "education_level            0.0588      0.001     47.827      0.000       0.056       0.061\n",
       "work_experience_months     0.0008   1.67e-05     47.066      0.000       0.001       0.001\n",
       "==========================================================================================\n",
       "\"\"\""
      ]
     },
     "execution_count": 73,
     "metadata": {},
     "output_type": "execute_result"
    }
   ],
   "source": [
    "model.summary()"
   ]
  },
  {
   "cell_type": "code",
   "execution_count": 97,
   "id": "bfd50424",
   "metadata": {},
   "outputs": [
    {
     "ename": "ValueError",
     "evalue": "continuous format is not supported",
     "output_type": "error",
     "traceback": [
      "\u001b[0;31m---------------------------------------------------------------------------\u001b[0m",
      "\u001b[0;31mValueError\u001b[0m                                Traceback (most recent call last)",
      "Cell \u001b[0;32mIn[97], line 1\u001b[0m\n\u001b[0;32m----> 1\u001b[0m t \u001b[38;5;241m=\u001b[39m \u001b[43mroc_auc_score\u001b[49m\u001b[43m(\u001b[49m\u001b[43mmodel\u001b[49m\u001b[38;5;241;43m.\u001b[39;49m\u001b[43mpredict\u001b[49m\u001b[43m(\u001b[49m\u001b[43mx\u001b[49m\u001b[43m)\u001b[49m\u001b[38;5;241;43m.\u001b[39;49m\u001b[43mmap\u001b[49m\u001b[43m(\u001b[49m\u001b[38;5;28;43;01mlambda\u001b[39;49;00m\u001b[43m \u001b[49m\u001b[43mx\u001b[49m\u001b[43m:\u001b[49m\u001b[43mx\u001b[49m\u001b[43m)\u001b[49m\u001b[43m,\u001b[49m\u001b[43m \u001b[49m\u001b[43my\u001b[49m\u001b[43m)\u001b[49m\n\u001b[1;32m      2\u001b[0m t[t\u001b[38;5;241m>\u001b[39m\u001b[38;5;241m60\u001b[39m]\n",
      "File \u001b[0;32m/usr/lib/python3/dist-packages/sklearn/metrics/_ranking.py:580\u001b[0m, in \u001b[0;36mroc_auc_score\u001b[0;34m(y_true, y_score, average, sample_weight, max_fpr, multi_class, labels)\u001b[0m\n\u001b[1;32m    572\u001b[0m     \u001b[38;5;28;01mreturn\u001b[39;00m _average_binary_score(\n\u001b[1;32m    573\u001b[0m         partial(_binary_roc_auc_score, max_fpr\u001b[38;5;241m=\u001b[39mmax_fpr),\n\u001b[1;32m    574\u001b[0m         y_true,\n\u001b[0;32m   (...)\u001b[0m\n\u001b[1;32m    577\u001b[0m         sample_weight\u001b[38;5;241m=\u001b[39msample_weight,\n\u001b[1;32m    578\u001b[0m     )\n\u001b[1;32m    579\u001b[0m \u001b[38;5;28;01melse\u001b[39;00m:  \u001b[38;5;66;03m# multilabel-indicator\u001b[39;00m\n\u001b[0;32m--> 580\u001b[0m     \u001b[38;5;28;01mreturn\u001b[39;00m \u001b[43m_average_binary_score\u001b[49m\u001b[43m(\u001b[49m\n\u001b[1;32m    581\u001b[0m \u001b[43m        \u001b[49m\u001b[43mpartial\u001b[49m\u001b[43m(\u001b[49m\u001b[43m_binary_roc_auc_score\u001b[49m\u001b[43m,\u001b[49m\u001b[43m \u001b[49m\u001b[43mmax_fpr\u001b[49m\u001b[38;5;241;43m=\u001b[39;49m\u001b[43mmax_fpr\u001b[49m\u001b[43m)\u001b[49m\u001b[43m,\u001b[49m\n\u001b[1;32m    582\u001b[0m \u001b[43m        \u001b[49m\u001b[43my_true\u001b[49m\u001b[43m,\u001b[49m\n\u001b[1;32m    583\u001b[0m \u001b[43m        \u001b[49m\u001b[43my_score\u001b[49m\u001b[43m,\u001b[49m\n\u001b[1;32m    584\u001b[0m \u001b[43m        \u001b[49m\u001b[43maverage\u001b[49m\u001b[43m,\u001b[49m\n\u001b[1;32m    585\u001b[0m \u001b[43m        \u001b[49m\u001b[43msample_weight\u001b[49m\u001b[38;5;241;43m=\u001b[39;49m\u001b[43msample_weight\u001b[49m\u001b[43m,\u001b[49m\n\u001b[1;32m    586\u001b[0m \u001b[43m    \u001b[49m\u001b[43m)\u001b[49m\n",
      "File \u001b[0;32m/usr/lib/python3/dist-packages/sklearn/metrics/_base.py:72\u001b[0m, in \u001b[0;36m_average_binary_score\u001b[0;34m(binary_metric, y_true, y_score, average, sample_weight)\u001b[0m\n\u001b[1;32m     70\u001b[0m y_type \u001b[38;5;241m=\u001b[39m type_of_target(y_true)\n\u001b[1;32m     71\u001b[0m \u001b[38;5;28;01mif\u001b[39;00m y_type \u001b[38;5;129;01mnot\u001b[39;00m \u001b[38;5;129;01min\u001b[39;00m (\u001b[38;5;124m\"\u001b[39m\u001b[38;5;124mbinary\u001b[39m\u001b[38;5;124m\"\u001b[39m, \u001b[38;5;124m\"\u001b[39m\u001b[38;5;124mmultilabel-indicator\u001b[39m\u001b[38;5;124m\"\u001b[39m):\n\u001b[0;32m---> 72\u001b[0m     \u001b[38;5;28;01mraise\u001b[39;00m \u001b[38;5;167;01mValueError\u001b[39;00m(\u001b[38;5;124m\"\u001b[39m\u001b[38;5;132;01m{0}\u001b[39;00m\u001b[38;5;124m format is not supported\u001b[39m\u001b[38;5;124m\"\u001b[39m\u001b[38;5;241m.\u001b[39mformat(y_type))\n\u001b[1;32m     74\u001b[0m \u001b[38;5;28;01mif\u001b[39;00m y_type \u001b[38;5;241m==\u001b[39m \u001b[38;5;124m\"\u001b[39m\u001b[38;5;124mbinary\u001b[39m\u001b[38;5;124m\"\u001b[39m:\n\u001b[1;32m     75\u001b[0m     \u001b[38;5;28;01mreturn\u001b[39;00m binary_metric(y_true, y_score, sample_weight\u001b[38;5;241m=\u001b[39msample_weight)\n",
      "\u001b[0;31mValueError\u001b[0m: continuous format is not supported"
     ]
    }
   ],
   "source": [
    "t = roc_auc_score(model.predict(x).map(lambda x:x), y)"
   ]
  },
  {
   "cell_type": "code",
   "execution_count": null,
   "id": "0f119908",
   "metadata": {},
   "outputs": [],
   "source": []
  }
 ],
 "metadata": {
  "kernelspec": {
   "display_name": "Python 3 (ipykernel)",
   "language": "python",
   "name": "python3"
  },
  "language_info": {
   "codemirror_mode": {
    "name": "ipython",
    "version": 3
   },
   "file_extension": ".py",
   "mimetype": "text/x-python",
   "name": "python",
   "nbconvert_exporter": "python",
   "pygments_lexer": "ipython3",
   "version": "3.11.6"
  }
 },
 "nbformat": 4,
 "nbformat_minor": 5
}
