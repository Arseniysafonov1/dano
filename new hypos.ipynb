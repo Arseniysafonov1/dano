{
 "cells": [
  {
   "cell_type": "code",
   "execution_count": 1,
   "id": "ba698b8a",
   "metadata": {},
   "outputs": [],
   "source": [
    "import pandas as pddf.compensation_to.max()"
   ]
  },
  {
   "cell_type": "code",
   "execution_count": 2,
   "id": "16fe0e7d",
   "metadata": {},
   "outputs": [],
   "source": [
    "df = pd.read_csv('hh_ru_dataset.csv')"
   ]
  },
  {
   "cell_type": "code",
   "execution_count": 15,
   "id": "2b2bfab4",
   "metadata": {},
   "outputs": [
    {
     "data": {
      "text/plain": [
       "100000000.0"
      ]
     },
     "execution_count": 15,
     "metadata": {},
     "output_type": "execute_result"
    }
   ],
   "source": [
    "df = df[(~df['work_schedule'].isna())&(~df['work_schedule.1'].isna())&(~df)]"
   ]
  },
  {
   "cell_type": "code",
   "execution_count": null,
   "id": "45fd6234",
   "metadata": {},
   "outputs": [],
   "source": [
    "df = "
   ]
  },
  {
   "cell_type": "code",
   "execution_count": 4,
   "id": "a9f02b53",
   "metadata": {},
   "outputs": [],
   "source": [
    "df.compensation_to.max()df.compensation_to.max()df['age'] = 2023 - df['year_of_birth']"
   ]
  },
  {
   "cell_type": "code",
   "execution_count": 5,
   "id": "4283e2aa",
   "metadata": {},
   "outputs": [],
   "source": [
    "df['us_time'] = df['work_schedule'].map(lambda x: int(x in ['remote', 'flexible']))\n",
    "df['va_time'] = df['work_schedule.1'].map(lambda x: int(x in ['remote', 'flexible']))"
   ]
  },
  {
   "cell_type": "code",
   "execution_count": 23,
   "id": "c95b0973",
   "metadata": {},
   "outputs": [],
   "source": [
    "def show_cat(group):\n",
    "    a = group[group['work_schedule.1']]"
   ]
  },
  {
   "cell_type": "code",
   "execution_count": 25,
   "id": "c1de3c1c",
   "metadata": {},
   "outputs": [
    {
     "data": {
      "text/plain": [
       "full_day    353274\n",
       "remote       51398\n",
       "shift        45589\n",
       "flexible     42828\n",
       "Name: work_schedule, dtype: int64"
      ]
     },
     "execution_count": 25,
     "metadata": {},
     "output_type": "execute_result"
    }
   ],
   "source": [
    "df['work_schedule'].value_counts()"
   ]
  },
  {
   "cell_type": "code",
   "execution_count": 13,
   "id": "3b05a47f",
   "metadata": {},
   "outputs": [
    {
     "data": {
      "text/plain": [
       "0.17302402589845858"
      ]
     },
     "execution_count": 13,
     "metadata": {},
     "output_type": "execute_result"
    }
   ],
   "source": [
    "df[df.age > 25].us_time.mean()"
   ]
  },
  {
   "cell_type": "code",
   "execution_count": null,
   "id": "2df167be",
   "metadata": {},
   "outputs": [],
   "source": []
  }
 ],
 "metadata": {
  "kernelspec": {
   "display_name": "Python 3 (ipykernel)",
   "language": "python",
   "name": "python3"
  },
  "language_info": {
   "codemirror_mode": {
    "name": "ipython",
    "version": 3
   },
   "file_extension": ".py",
   "mimetype": "text/x-python",
   "name": "python",
   "nbconvert_exporter": "python",
   "pygments_lexer": "ipython3",
   "version": "3.11.6"
  }
 },
 "nbformat": 4,
 "nbformat_minor": 5
}
